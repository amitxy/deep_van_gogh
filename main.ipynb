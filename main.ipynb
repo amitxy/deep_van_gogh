{
 "cells": [
  {
   "cell_type": "code",
   "metadata": {
    "ExecuteTime": {
     "end_time": "2025-03-26T18:45:36.322593Z",
     "start_time": "2025-03-26T18:45:29.198265Z"
    }
   },
   "source": [
    "import os\n",
    "import random\n",
    "#from platform import architecture\n",
    "\n",
    "import numpy as np\n",
    "import pandas as pd\n",
    "from numpy.f2py.cfuncs import includes\n",
    "\n",
    "from sklearn.model_selection import train_test_split\n",
    "from sympy.codegen import Print\n",
    "from torchvision import transforms, models\n",
    "from torchvision.transforms.functional import to_pil_image\n",
    "from sklearn.model_selection import KFold, StratifiedKFold\n",
    "from collections import defaultdict\n",
    "from optuna import trial\n",
    "\n",
    "import torch\n",
    "import torch.nn as nn\n",
    "import torch.optim as optim\n",
    "from torch.utils.data import Dataset, DataLoader, Subset, ConcatDataset\n",
    "import optuna\n",
    "import wandb\n",
    "# Project utilities\n",
    "import utils\n",
    "from train import train_model_with_hyperparams\n",
    "\n",
    "VGG19 = 'VGG19'\n",
    "ALEXNET = 'AlexNet'\n",
    "\n",
    "# Set seed\n",
    "SEED = 42\n",
    "torch.manual_seed(SEED)\n",
    "torch.cuda.manual_seed(SEED)\n",
    "\n",
    "np.random.seed(SEED)\n",
    "random.seed(SEED)\n",
    "# torch.backends.cudnn.deterministic = True\n",
    "# torch.use_deterministic_algorithms = True"
   ],
   "outputs": [
    {
     "name": "stderr",
     "output_type": "stream",
     "text": [
      "C:\\Users\\kanatcohen\\.conda\\envs\\DeepLearning_env\\lib\\site-packages\\tqdm\\auto.py:21: TqdmWarning: IProgress not found. Please update jupyter and ipywidgets. See https://ipywidgets.readthedocs.io/en/stable/user_install.html\n",
      "  from .autonotebook import tqdm as notebook_tqdm\n"
     ]
    }
   ],
   "execution_count": 1
  },
  {
   "metadata": {
    "ExecuteTime": {
     "end_time": "2025-03-26T18:45:40.143783Z",
     "start_time": "2025-03-26T18:45:40.068732Z"
    }
   },
   "cell_type": "code",
   "source": [
    "device = torch.device(\"cuda\" if torch.cuda.is_available() else \"cpu\")\n",
    "print(device)\n",
    "# Check if you're working locally or not\n",
    "if not (os.path.exists(utils.CSV_PATH) and os.path.exists(utils.OPTIMIZED_DIR)):\n",
    "    print(f\"[!] You are NOT on the project's directory [!]\\n\"\n",
    "          f\"Please run the following command (in either CMD or anaconda prompt): \\n\"\n",
    "          f\"jupyter notebook --notebook-dir PROJECT_DIR\\n\"\n",
    "          r\"Where PROJECT_DIR is the project's directory in your computer e.g: C:\\Users\\amitr5\\PycharmProjects\\deep_van_gogh\")"
   ],
   "outputs": [
    {
     "name": "stdout",
     "output_type": "stream",
     "text": [
      "cuda\n"
     ]
    }
   ],
   "execution_count": 2
  },
  {
   "metadata": {},
   "cell_type": "markdown",
   "source": [
    "### Loading our data\n",
    "We will load the optimized datasets from our custom dataset object\n"
   ]
  },
  {
   "metadata": {
    "ExecuteTime": {
     "end_time": "2025-03-26T18:45:55.571507Z",
     "start_time": "2025-03-26T18:45:46.184901Z"
    }
   },
   "cell_type": "code",
   "source": [
    "class NumPyDataset(Dataset):\n",
    "    def __init__(self, file_path):\n",
    "        data = np.load(file_path)\n",
    "        self.images = data[\"images\"]\n",
    "        self.labels = data[\"labels\"]\n",
    "\n",
    "    def __len__(self):\n",
    "        return len(self.images)\n",
    "\n",
    "    def __getitem__(self, idx):\n",
    "        x = torch.tensor(self.images[idx], dtype=torch.float32)\n",
    "        y = torch.tensor(self.labels[idx], dtype=torch.long)\n",
    "        return x, y\n",
    "\n",
    "dataset = NumPyDataset(os.path.join(utils.OPTIMIZED_DIR, 'dataset.npz'))"
   ],
   "outputs": [],
   "execution_count": 3
  },
  {
   "metadata": {},
   "cell_type": "markdown",
   "source": [
    "You can find the optimized dataset files <a href=\"https://drive.google.com/drive/folders/1TBlNcRsRHJ7_rxh_h7_yn_-Ak66Uj_mp?usp=sharing\">HERE</a><br/>\n",
    "Loading the train and test datasets:"
   ]
  },
  {
   "metadata": {
    "ExecuteTime": {
     "end_time": "2025-03-26T18:45:58.482760Z",
     "start_time": "2025-03-26T18:45:58.440774Z"
    }
   },
   "cell_type": "code",
   "source": [
    "classes = pd.read_csv(utils.CSV_PATH)\n",
    "# train_indices, val_indices = train_test_split(classes[classes['subset'] == 'train'].index.tolist(), test_size=0.2, random_state=SEED)\n",
    "train_indices = classes[classes['subset'] != 'test'].index.tolist()\n",
    "train_dataset = Subset(dataset, train_indices)\n",
    "# val_dataset = Subset(dataset, val_indices)\n",
    "test_dataset = Subset(dataset, classes[classes['subset'] == 'test'].index.tolist())"
   ],
   "outputs": [],
   "execution_count": 4
  },
  {
   "metadata": {},
   "cell_type": "markdown",
   "source": "### Data Augmentation"
  },
  {
   "metadata": {
    "ExecuteTime": {
     "end_time": "2025-03-26T18:46:48.604658Z",
     "start_time": "2025-03-26T18:46:00.321137Z"
    }
   },
   "cell_type": "code",
   "source": [
    "def get_opt_dataset(dataset_name, indices=None):\n",
    "    ds = NumPyDataset(os.path.join(utils.OPTIMIZED_DIR, f'{dataset_name}.npz'))\n",
    "    if indices:\n",
    "        ds = Subset(ds, indices)\n",
    "    return ds\n",
    "\n",
    "flip_dataset = get_opt_dataset('flip', train_indices)\n",
    "dropout_dataset = get_opt_dataset('dropout',train_indices)\n",
    "affine_dataset = get_opt_dataset('affine', train_indices)\n",
    "blur_dataset = get_opt_dataset('blur')\n",
    "\n",
    "augmented_train_dataset = ConcatDataset([train_dataset, flip_dataset, dropout_dataset, affine_dataset])\n",
    "# augmented_train_dataset = train_dataset\n",
    "# train_loader = DataLoader(augmented_train_dataset, batch_size=128, shuffle=True, num_workers=4, pin_memory=True, prefetch_factor=8)\n",
    "# val_loader = DataLoader(val_dataset, batch_size=128, shuffle=False, num_workers=4)"
   ],
   "outputs": [],
   "execution_count": 5
  },
  {
   "cell_type": "markdown",
   "metadata": {
    "id": "jFD4XwIchub9"
   },
   "source": [
    "# Fine tuning VGG19"
   ]
  },
  {
   "metadata": {
    "ExecuteTime": {
     "end_time": "2025-03-26T18:46:51.469120Z",
     "start_time": "2025-03-26T18:46:51.431583Z"
    }
   },
   "cell_type": "code",
   "source": [
    "class FinedTunedModel(nn.Module):\n",
    "    def __init__(self, base_model, architecture:str):\n",
    "        super(FinedTunedModel, self).__init__()\n",
    "        self._architecture = architecture  # Save the base model architecture\n",
    "        base_children_list = list(base_model.children())\n",
    "        self.features_extractor = nn.Sequential(*base_children_list[:-1]).to(device)\n",
    "        for param in self.features_extractor.parameters():\n",
    "            param.requires_grad = False\n",
    "\n",
    "        # Modify the classifier to fit to our problem (2 classes)\n",
    "        self.classifier = nn.Sequential(*base_children_list[-1])\n",
    "        self.classifier[-1] = nn.Linear(4096, 2).to(device)  # Replaces the final layer of the base model's classifier with a new fully connected layer\n",
    "        #self.classifier = nn.Linear(4096, 2).to(device)  # Replaces the entire base model's classifier with a new fully connected layer - only if time permits\n",
    "\n",
    "    def forward(self, x):\n",
    "        base_model_output = self.features_extractor(x)\n",
    "        return self.classifier(torch.flatten(base_model_output, start_dim=1))\n",
    "    @property\n",
    "    def architecture(self):\n",
    "        return self._architecture\n",
    "\n"
   ],
   "outputs": [],
   "execution_count": 6
  },
  {
   "metadata": {
    "ExecuteTime": {
     "end_time": "2025-03-26T18:46:59.549620Z",
     "start_time": "2025-03-26T18:46:53.401278Z"
    }
   },
   "cell_type": "code",
   "source": [
    "vgg19 = models.vgg19(weights=models.VGG19_Weights.DEFAULT).to(device) # Load pre-trained VGG19 model\n",
    "alexnet = models.alexnet(weights=models.AlexNet_Weights.DEFAULT).to(device)\n",
    "vgg_model = FinedTunedModel(vgg19, VGG19).to(device)\n",
    "vgg_model"
   ],
   "outputs": [
    {
     "data": {
      "text/plain": [
       "FinedTunedModel(\n",
       "  (features_extractor): Sequential(\n",
       "    (0): Sequential(\n",
       "      (0): Conv2d(3, 64, kernel_size=(3, 3), stride=(1, 1), padding=(1, 1))\n",
       "      (1): ReLU(inplace=True)\n",
       "      (2): Conv2d(64, 64, kernel_size=(3, 3), stride=(1, 1), padding=(1, 1))\n",
       "      (3): ReLU(inplace=True)\n",
       "      (4): MaxPool2d(kernel_size=2, stride=2, padding=0, dilation=1, ceil_mode=False)\n",
       "      (5): Conv2d(64, 128, kernel_size=(3, 3), stride=(1, 1), padding=(1, 1))\n",
       "      (6): ReLU(inplace=True)\n",
       "      (7): Conv2d(128, 128, kernel_size=(3, 3), stride=(1, 1), padding=(1, 1))\n",
       "      (8): ReLU(inplace=True)\n",
       "      (9): MaxPool2d(kernel_size=2, stride=2, padding=0, dilation=1, ceil_mode=False)\n",
       "      (10): Conv2d(128, 256, kernel_size=(3, 3), stride=(1, 1), padding=(1, 1))\n",
       "      (11): ReLU(inplace=True)\n",
       "      (12): Conv2d(256, 256, kernel_size=(3, 3), stride=(1, 1), padding=(1, 1))\n",
       "      (13): ReLU(inplace=True)\n",
       "      (14): Conv2d(256, 256, kernel_size=(3, 3), stride=(1, 1), padding=(1, 1))\n",
       "      (15): ReLU(inplace=True)\n",
       "      (16): Conv2d(256, 256, kernel_size=(3, 3), stride=(1, 1), padding=(1, 1))\n",
       "      (17): ReLU(inplace=True)\n",
       "      (18): MaxPool2d(kernel_size=2, stride=2, padding=0, dilation=1, ceil_mode=False)\n",
       "      (19): Conv2d(256, 512, kernel_size=(3, 3), stride=(1, 1), padding=(1, 1))\n",
       "      (20): ReLU(inplace=True)\n",
       "      (21): Conv2d(512, 512, kernel_size=(3, 3), stride=(1, 1), padding=(1, 1))\n",
       "      (22): ReLU(inplace=True)\n",
       "      (23): Conv2d(512, 512, kernel_size=(3, 3), stride=(1, 1), padding=(1, 1))\n",
       "      (24): ReLU(inplace=True)\n",
       "      (25): Conv2d(512, 512, kernel_size=(3, 3), stride=(1, 1), padding=(1, 1))\n",
       "      (26): ReLU(inplace=True)\n",
       "      (27): MaxPool2d(kernel_size=2, stride=2, padding=0, dilation=1, ceil_mode=False)\n",
       "      (28): Conv2d(512, 512, kernel_size=(3, 3), stride=(1, 1), padding=(1, 1))\n",
       "      (29): ReLU(inplace=True)\n",
       "      (30): Conv2d(512, 512, kernel_size=(3, 3), stride=(1, 1), padding=(1, 1))\n",
       "      (31): ReLU(inplace=True)\n",
       "      (32): Conv2d(512, 512, kernel_size=(3, 3), stride=(1, 1), padding=(1, 1))\n",
       "      (33): ReLU(inplace=True)\n",
       "      (34): Conv2d(512, 512, kernel_size=(3, 3), stride=(1, 1), padding=(1, 1))\n",
       "      (35): ReLU(inplace=True)\n",
       "      (36): MaxPool2d(kernel_size=2, stride=2, padding=0, dilation=1, ceil_mode=False)\n",
       "    )\n",
       "    (1): AdaptiveAvgPool2d(output_size=(7, 7))\n",
       "  )\n",
       "  (classifier): Sequential(\n",
       "    (0): Linear(in_features=25088, out_features=4096, bias=True)\n",
       "    (1): ReLU(inplace=True)\n",
       "    (2): Dropout(p=0.5, inplace=False)\n",
       "    (3): Linear(in_features=4096, out_features=4096, bias=True)\n",
       "    (4): ReLU(inplace=True)\n",
       "    (5): Dropout(p=0.5, inplace=False)\n",
       "    (6): Linear(in_features=4096, out_features=2, bias=True)\n",
       "  )\n",
       ")"
      ]
     },
     "execution_count": 7,
     "metadata": {},
     "output_type": "execute_result"
    }
   ],
   "execution_count": 7
  },
  {
   "metadata": {
    "ExecuteTime": {
     "end_time": "2025-03-26T18:47:02.630742Z",
     "start_time": "2025-03-26T18:47:01.557735Z"
    }
   },
   "cell_type": "code",
   "source": [
    "import torch\n",
    "from torchvision import transforms\n",
    "from PIL import Image\n",
    "\n",
    "# Define the image preprocessing steps\n",
    "preprocess = transforms.Compose([\n",
    "    transforms.Resize(256),\n",
    "    transforms.CenterCrop(224),\n",
    "    transforms.ToTensor(),\n",
    "    transforms.Normalize(mean=[0.485, 0.456, 0.406], std=[0.229, 0.224, 0.225]),\n",
    "])\n",
    "\n",
    "# Function to load and preprocess the image\n",
    "def load_and_preprocess_image(img_path):\n",
    "    input_image = Image.open(img_path).convert('RGB')\n",
    "    input_tensor = preprocess(input_image)\n",
    "    input_batch = input_tensor.unsqueeze(0)  # Create a mini-batch as expected by the model\n",
    "    return input_batch\n",
    "\n",
    "# Function to activate the model on the image and print the result\n",
    "def activate_model_on_image(model, img_path, device):\n",
    "    model.eval()  # Set the model to evaluation mode\n",
    "    input_batch = load_and_preprocess_image(img_path).to(device)\n",
    "\n",
    "    with torch.no_grad():\n",
    "        output = model(input_batch)\n",
    "\n",
    "    # Print the raw output\n",
    "    print(\"Model output:\", output)\n",
    "    return output\n",
    "\n",
    "# Example usage\n",
    "device = torch.device(\"cuda\" if torch.cuda.is_available() else \"cpu\")\n",
    "img_path = r'D:\\Users\\kanatcohen\\PycharmProjects\\deep_van_gogh\\data\\dataset\\Post_Impressionism\\vincent-van-gogh_garden-with-flowers-1888-1(1).jpg'\n",
    "output=activate_model_on_image(vgg_model, img_path, device)\n",
    "print(output[0,0])\n",
    "print(torch.max(output,0))"
   ],
   "outputs": [
    {
     "name": "stdout",
     "output_type": "stream",
     "text": [
      "Model output: tensor([[-0.1543, -0.1023]], device='cuda:0')\n",
      "tensor(-0.1543, device='cuda:0')\n",
      "torch.return_types.max(\n",
      "values=tensor([-0.1543, -0.1023], device='cuda:0'),\n",
      "indices=tensor([0, 0], device='cuda:0'))\n"
     ]
    }
   ],
   "execution_count": 8
  },
  {
   "metadata": {
    "ExecuteTime": {
     "end_time": "2025-03-26T18:47:06.579402Z",
     "start_time": "2025-03-26T18:47:06.559112Z"
    }
   },
   "cell_type": "code",
   "source": [
    "def cross_validation(dataset, learning_rate, weight_decay, criterion, epochs, patience, device, architecture, trial, num_layers_finetune):\n",
    "    # Initialize KFold\n",
    "    k_folds = 4\n",
    "    kfold = StratifiedKFold(n_splits=k_folds, shuffle=True, random_state=42)\n",
    "\n",
    "    # Track performance for each model\n",
    "    results = defaultdict(list)\n",
    "    base_model = vgg19 if architecture == VGG19 else alexnet\n",
    "\n",
    "    best_values = []\n",
    "    # indices = dataset.indices\n",
    "    # labels = dataset.dataset.labels[indices]\n",
    "    indices = np.arange(len(dataset))\n",
    "    labels = np.tile(train_dataset.dataset.labels[train_dataset.indices],len(dataset.datasets))\n",
    "    for fold, (train_ids, val_ids) in enumerate(kfold.split(indices, labels)):\n",
    "        #########\n",
    "        wandb.init(project=f'{architecture} - deep_van_gogh - aug - HP Tuning - 27.3.2025',\n",
    "                       config={ \"learning_rate\": learning_rate,\n",
    "                                \"weight_decay\": weight_decay,\n",
    "                                \"patience\": patience,\n",
    "                                \"batch_size\": 128,\n",
    "                                \"epochs\": epochs,\n",
    "                                \"architecture\": architecture,\n",
    "                                \"num_layers_finetune\": num_layers_finetune,\n",
    "                                \"dataset\": \"Post_Impressionism\",\n",
    "                                }, name=f\"{architecture}_trial_{trial.number + 1}_fold_{fold}\")\n",
    "        ################\n",
    "\n",
    "\n",
    "        train_subset = Subset(dataset, train_ids)\n",
    "        val_subset = Subset(dataset, val_ids)\n",
    "\n",
    "        # Create data loaders\n",
    "        train_loader = DataLoader(train_subset, batch_size=128, pin_memory=True, shuffle=True)\n",
    "        val_loader = DataLoader(val_subset, batch_size=128, pin_memory=True, shuffle=False)\n",
    "        model = FinedTunedModel(base_model.to(device), architecture).to(device)\n",
    "        for param in model.features_extractor[-num_layers_finetune:].parameters():\n",
    "            param.requires_grad = True\n",
    "\n",
    "\n",
    "        optimizer = optim.Adam(model.parameters(), lr=learning_rate, weight_decay=weight_decay)\n",
    "        # Train the model\n",
    "        best_val = train_model_with_hyperparams(model,\n",
    "                                                train_loader,\n",
    "                                                val_loader,\n",
    "                                                optimizer,\n",
    "                                                criterion,\n",
    "                                                epochs=epochs,\n",
    "                                                patience=patience,\n",
    "                                                device=device,\n",
    "                                                trial=trial,\n",
    "                                                architecture=architecture, fold=fold)\n",
    "        wandb.log({'Fold': fold, 'AUC':best_val})\n",
    "        best_values.append(best_val)\n",
    "        # Finish the Weights & Biases run\n",
    "        wandb.finish()\n",
    "\n",
    "    return np.mean(best_values)"
   ],
   "outputs": [],
   "execution_count": 10
  },
  {
   "metadata": {
    "ExecuteTime": {
     "end_time": "2025-03-25T20:14:49.073277Z",
     "start_time": "2025-03-25T20:14:49.065740Z"
    }
   },
   "cell_type": "code",
   "source": "wandb.finish()",
   "outputs": [],
   "execution_count": 11
  },
  {
   "metadata": {
    "ExecuteTime": {
     "end_time": "2025-03-27T11:34:09.650130Z",
     "start_time": "2025-03-26T18:47:23.027525Z"
    }
   },
   "cell_type": "code",
   "source": [
    "# Optuna for our vgg model with the default config\n",
    "study = optuna.create_study(study_name=VGG19, direction='maximize')\n",
    "study.optimize(lambda trial: objective(trial, vgg_model, config={}), n_trials=15)"
   ],
   "outputs": [
    {
     "name": "stderr",
     "output_type": "stream",
     "text": [
      "[I 2025-03-26 20:47:23,039] A new study created in memory with name: VGG19\n",
      "wandb: Using wandb-core as the SDK backend.  Please refer to https://wandb.me/wandb-core for more information.\n",
      "wandb: Currently logged in as: kanatcohen (amitr5-tel-aviv-university). Use `wandb login --relogin` to force relogin\n"
     ]
    },
    {
     "data": {
      "text/plain": [
       "<IPython.core.display.HTML object>"
      ],
      "text/html": [
       "Tracking run with wandb version 0.19.1"
      ]
     },
     "metadata": {},
     "output_type": "display_data"
    },
    {
     "data": {
      "text/plain": [
       "<IPython.core.display.HTML object>"
      ],
      "text/html": [
       "Run data is saved locally in <code>D:\\Users\\kanatcohen\\PycharmProjects\\deep_van_gogh\\wandb\\run-20250326_204724-mj8nf4tp</code>"
      ]
     },
     "metadata": {},
     "output_type": "display_data"
    },
    {
     "data": {
      "text/plain": [
       "<IPython.core.display.HTML object>"
      ],
      "text/html": [
       "Syncing run <strong><a href='https://wandb.ai/amitr5-tel-aviv-university/VGG19%20-%20deep_van_gogh%20-%20aug%20-%20HP%20Tuning%20-%2026.3.2025/runs/mj8nf4tp' target=\"_blank\">VGG19_trial_1_fold_0</a></strong> to <a href='https://wandb.ai/amitr5-tel-aviv-university/VGG19%20-%20deep_van_gogh%20-%20aug%20-%20HP%20Tuning%20-%2026.3.2025' target=\"_blank\">Weights & Biases</a> (<a href='https://wandb.me/developer-guide' target=\"_blank\">docs</a>)<br>"
      ]
     },
     "metadata": {},
     "output_type": "display_data"
    },
    {
     "data": {
      "text/plain": [
       "<IPython.core.display.HTML object>"
      ],
      "text/html": [
       " View project at <a href='https://wandb.ai/amitr5-tel-aviv-university/VGG19%20-%20deep_van_gogh%20-%20aug%20-%20HP%20Tuning%20-%2026.3.2025' target=\"_blank\">https://wandb.ai/amitr5-tel-aviv-university/VGG19%20-%20deep_van_gogh%20-%20aug%20-%20HP%20Tuning%20-%2026.3.2025</a>"
      ]
     },
     "metadata": {},
     "output_type": "display_data"
    },
    {
     "data": {
      "text/plain": [
       "<IPython.core.display.HTML object>"
      ],
      "text/html": [
       " View run at <a href='https://wandb.ai/amitr5-tel-aviv-university/VGG19%20-%20deep_van_gogh%20-%20aug%20-%20HP%20Tuning%20-%2026.3.2025/runs/mj8nf4tp' target=\"_blank\">https://wandb.ai/amitr5-tel-aviv-university/VGG19%20-%20deep_van_gogh%20-%20aug%20-%20HP%20Tuning%20-%2026.3.2025/runs/mj8nf4tp</a>"
      ]
     },
     "metadata": {},
     "output_type": "display_data"
    },
    {
     "data": {
      "text/plain": [
       "<IPython.core.display.HTML object>"
      ],
      "text/html": []
     },
     "metadata": {},
     "output_type": "display_data"
    },
    {
     "data": {
      "text/plain": [
       "<IPython.core.display.HTML object>"
      ],
      "text/html": [
       "<br>    <style><br>        .wandb-row {<br>            display: flex;<br>            flex-direction: row;<br>            flex-wrap: wrap;<br>            justify-content: flex-start;<br>            width: 100%;<br>        }<br>        .wandb-col {<br>            display: flex;<br>            flex-direction: column;<br>            flex-basis: 100%;<br>            flex: 1;<br>            padding: 10px;<br>        }<br>    </style><br><div class=\"wandb-row\"><div class=\"wandb-col\"><h3>Run history:</h3><br/><table class=\"wandb\"><tr><td>AUC</td><td>▁</td></tr><tr><td>Epoch</td><td>▁▂▂▃▄▅▅▆▇▇█</td></tr><tr><td>Fold</td><td>▁</td></tr><tr><td>Train Accuracy</td><td>▁▄▆▇▇█▇████</td></tr><tr><td>Train Loss</td><td>█▅▃▂▂▁▂▁▁▁▁</td></tr><tr><td>Validation AUC</td><td>▃█▃▇▇▄▇▄▇▄▁</td></tr><tr><td>Validation Accuracy</td><td>▁▆▅▆▆▅▆▇▆▇█</td></tr><tr><td>Validation F1</td><td>▂█▇▅▆▁▃▅▅█▇</td></tr><tr><td>Validation Loss</td><td>▁▁▂▂▂▅▃▅▄▄█</td></tr><tr><td>Validation Precision</td><td>▁█▇▄▄▃▆▆▄▇█</td></tr><tr><td>Validation Recall</td><td>▁▆▅▆▆▅▆▇▆▇█</td></tr><tr><td>Validation Specificity</td><td>▁▂▂▆▅███▅▄▇</td></tr></table><br/></div><div class=\"wandb-col\"><h3>Run summary:</h3><br/><table class=\"wandb\"><tr><td>AUC</td><td>0.93167</td></tr><tr><td>Epoch</td><td>11</td></tr><tr><td>Fold</td><td>0</td></tr><tr><td>Train Accuracy</td><td>0.99745</td></tr><tr><td>Train Loss</td><td>0.00711</td></tr><tr><td>Validation AUC</td><td>0.91435</td></tr><tr><td>Validation Accuracy</td><td>0.95814</td></tr><tr><td>Validation F1</td><td>0.95279</td></tr><tr><td>Validation Loss</td><td>0.60508</td></tr><tr><td>Validation Precision</td><td>0.95321</td></tr><tr><td>Validation Recall</td><td>0.95814</td></tr><tr><td>Validation Specificity</td><td>0.99155</td></tr></table><br/></div></div>"
      ]
     },
     "metadata": {},
     "output_type": "display_data"
    },
    {
     "data": {
      "text/plain": [
       "<IPython.core.display.HTML object>"
      ],
      "text/html": [
       " View run <strong style=\"color:#cdcd00\">VGG19_trial_1_fold_0</strong> at: <a href='https://wandb.ai/amitr5-tel-aviv-university/VGG19%20-%20deep_van_gogh%20-%20aug%20-%20HP%20Tuning%20-%2026.3.2025/runs/mj8nf4tp' target=\"_blank\">https://wandb.ai/amitr5-tel-aviv-university/VGG19%20-%20deep_van_gogh%20-%20aug%20-%20HP%20Tuning%20-%2026.3.2025/runs/mj8nf4tp</a><br> View project at: <a href='https://wandb.ai/amitr5-tel-aviv-university/VGG19%20-%20deep_van_gogh%20-%20aug%20-%20HP%20Tuning%20-%2026.3.2025' target=\"_blank\">https://wandb.ai/amitr5-tel-aviv-university/VGG19%20-%20deep_van_gogh%20-%20aug%20-%20HP%20Tuning%20-%2026.3.2025</a><br>Synced 5 W&B file(s), 0 media file(s), 0 artifact file(s) and 0 other file(s)"
      ]
     },
     "metadata": {},
     "output_type": "display_data"
    },
    {
     "data": {
      "text/plain": [
       "<IPython.core.display.HTML object>"
      ],
      "text/html": [
       "Find logs at: <code>.\\wandb\\run-20250326_204724-mj8nf4tp\\logs</code>"
      ]
     },
     "metadata": {},
     "output_type": "display_data"
    },
    {
     "data": {
      "text/plain": [
       "<IPython.core.display.HTML object>"
      ],
      "text/html": [
       "Tracking run with wandb version 0.19.1"
      ]
     },
     "metadata": {},
     "output_type": "display_data"
    },
    {
     "data": {
      "text/plain": [
       "<IPython.core.display.HTML object>"
      ],
      "text/html": [
       "Run data is saved locally in <code>D:\\Users\\kanatcohen\\PycharmProjects\\deep_van_gogh\\wandb\\run-20250326_205340-85r6k3t5</code>"
      ]
     },
     "metadata": {},
     "output_type": "display_data"
    },
    {
     "data": {
      "text/plain": [
       "<IPython.core.display.HTML object>"
      ],
      "text/html": [
       "Syncing run <strong><a href='https://wandb.ai/amitr5-tel-aviv-university/VGG19%20-%20deep_van_gogh%20-%20aug%20-%20HP%20Tuning%20-%2026.3.2025/runs/85r6k3t5' target=\"_blank\">VGG19_trial_1_fold_1</a></strong> to <a href='https://wandb.ai/amitr5-tel-aviv-university/VGG19%20-%20deep_van_gogh%20-%20aug%20-%20HP%20Tuning%20-%2026.3.2025' target=\"_blank\">Weights & Biases</a> (<a href='https://wandb.me/developer-guide' target=\"_blank\">docs</a>)<br>"
      ]
     },
     "metadata": {},
     "output_type": "display_data"
    },
    {
     "data": {
      "text/plain": [
       "<IPython.core.display.HTML object>"
      ],
      "text/html": [
       " View project at <a href='https://wandb.ai/amitr5-tel-aviv-university/VGG19%20-%20deep_van_gogh%20-%20aug%20-%20HP%20Tuning%20-%2026.3.2025' target=\"_blank\">https://wandb.ai/amitr5-tel-aviv-university/VGG19%20-%20deep_van_gogh%20-%20aug%20-%20HP%20Tuning%20-%2026.3.2025</a>"
      ]
     },
     "metadata": {},
     "output_type": "display_data"
    },
    {
     "data": {
      "text/plain": [
       "<IPython.core.display.HTML object>"
      ],
      "text/html": [
       " View run at <a href='https://wandb.ai/amitr5-tel-aviv-university/VGG19%20-%20deep_van_gogh%20-%20aug%20-%20HP%20Tuning%20-%2026.3.2025/runs/85r6k3t5' target=\"_blank\">https://wandb.ai/amitr5-tel-aviv-university/VGG19%20-%20deep_van_gogh%20-%20aug%20-%20HP%20Tuning%20-%2026.3.2025/runs/85r6k3t5</a>"
      ]
     },
     "metadata": {},
     "output_type": "display_data"
    },
    {
     "data": {
      "text/plain": [
       "<IPython.core.display.HTML object>"
      ],
      "text/html": []
     },
     "metadata": {},
     "output_type": "display_data"
    },
    {
     "data": {
      "text/plain": [
       "<IPython.core.display.HTML object>"
      ],
      "text/html": [
       "<br>    <style><br>        .wandb-row {<br>            display: flex;<br>            flex-direction: row;<br>            flex-wrap: wrap;<br>            justify-content: flex-start;<br>            width: 100%;<br>        }<br>        .wandb-col {<br>            display: flex;<br>            flex-direction: column;<br>            flex-basis: 100%;<br>            flex: 1;<br>            padding: 10px;<br>        }<br>    </style><br><div class=\"wandb-row\"><div class=\"wandb-col\"><h3>Run history:</h3><br/><table class=\"wandb\"><tr><td>AUC</td><td>▁</td></tr><tr><td>Epoch</td><td>▁▂▂▃▄▄▅▅▆▇▇█</td></tr><tr><td>Fold</td><td>▁</td></tr><tr><td>Train Accuracy</td><td>▁▆▇█████████</td></tr><tr><td>Train Loss</td><td>█▂▂▁▁▁▁▁▁▁▁▁</td></tr><tr><td>Validation AUC</td><td>█████▆▇▃▇▆▄▁</td></tr><tr><td>Validation Accuracy</td><td>▃▇█▆▄▃▆▁▄▃▂▃</td></tr><tr><td>Validation F1</td><td>▃▇█▆▅▃▆▁▄▃▂▃</td></tr><tr><td>Validation Loss</td><td>▃▂▁▂▃▅▂█▄▅▇▆</td></tr><tr><td>Validation Precision</td><td>▃▇█▆▅▃▆▁▄▃▂▃</td></tr><tr><td>Validation Recall</td><td>▃▇█▆▄▃▆▁▄▃▂▃</td></tr><tr><td>Validation Specificity</td><td>█▅█▃▁▇▇█▆██▅</td></tr></table><br/></div><div class=\"wandb-col\"><h3>Run summary:</h3><br/><table class=\"wandb\"><tr><td>AUC</td><td>0.99999</td></tr><tr><td>Epoch</td><td>12</td></tr><tr><td>Fold</td><td>1</td></tr><tr><td>Train Accuracy</td><td>0.99781</td></tr><tr><td>Train Loss</td><td>0.00766</td></tr><tr><td>Validation AUC</td><td>0.99626</td></tr><tr><td>Validation Accuracy</td><td>0.99152</td></tr><tr><td>Validation F1</td><td>0.99138</td></tr><tr><td>Validation Loss</td><td>0.04744</td></tr><tr><td>Validation Precision</td><td>0.99139</td></tr><tr><td>Validation Recall</td><td>0.99152</td></tr><tr><td>Validation Specificity</td><td>0.99767</td></tr></table><br/></div></div>"
      ]
     },
     "metadata": {},
     "output_type": "display_data"
    },
    {
     "data": {
      "text/plain": [
       "<IPython.core.display.HTML object>"
      ],
      "text/html": [
       " View run <strong style=\"color:#cdcd00\">VGG19_trial_1_fold_1</strong> at: <a href='https://wandb.ai/amitr5-tel-aviv-university/VGG19%20-%20deep_van_gogh%20-%20aug%20-%20HP%20Tuning%20-%2026.3.2025/runs/85r6k3t5' target=\"_blank\">https://wandb.ai/amitr5-tel-aviv-university/VGG19%20-%20deep_van_gogh%20-%20aug%20-%20HP%20Tuning%20-%2026.3.2025/runs/85r6k3t5</a><br> View project at: <a href='https://wandb.ai/amitr5-tel-aviv-university/VGG19%20-%20deep_van_gogh%20-%20aug%20-%20HP%20Tuning%20-%2026.3.2025' target=\"_blank\">https://wandb.ai/amitr5-tel-aviv-university/VGG19%20-%20deep_van_gogh%20-%20aug%20-%20HP%20Tuning%20-%2026.3.2025</a><br>Synced 5 W&B file(s), 0 media file(s), 0 artifact file(s) and 0 other file(s)"
      ]
     },
     "metadata": {},
     "output_type": "display_data"
    },
    {
     "data": {
      "text/plain": [
       "<IPython.core.display.HTML object>"
      ],
      "text/html": [
       "Find logs at: <code>.\\wandb\\run-20250326_205340-85r6k3t5\\logs</code>"
      ]
     },
     "metadata": {},
     "output_type": "display_data"
    },
    {
     "data": {
      "text/plain": [
       "<IPython.core.display.HTML object>"
      ],
      "text/html": [
       "Tracking run with wandb version 0.19.1"
      ]
     },
     "metadata": {},
     "output_type": "display_data"
    },
    {
     "data": {
      "text/plain": [
       "<IPython.core.display.HTML object>"
      ],
      "text/html": [
       "Run data is saved locally in <code>D:\\Users\\kanatcohen\\PycharmProjects\\deep_van_gogh\\wandb\\run-20250326_205954-mxnd9s4v</code>"
      ]
     },
     "metadata": {},
     "output_type": "display_data"
    },
    {
     "data": {
      "text/plain": [
       "<IPython.core.display.HTML object>"
      ],
      "text/html": [
       "Syncing run <strong><a href='https://wandb.ai/amitr5-tel-aviv-university/VGG19%20-%20deep_van_gogh%20-%20aug%20-%20HP%20Tuning%20-%2026.3.2025/runs/mxnd9s4v' target=\"_blank\">VGG19_trial_1_fold_2</a></strong> to <a href='https://wandb.ai/amitr5-tel-aviv-university/VGG19%20-%20deep_van_gogh%20-%20aug%20-%20HP%20Tuning%20-%2026.3.2025' target=\"_blank\">Weights & Biases</a> (<a href='https://wandb.me/developer-guide' target=\"_blank\">docs</a>)<br>"
      ]
     },
     "metadata": {},
     "output_type": "display_data"
    },
    {
     "data": {
      "text/plain": [
       "<IPython.core.display.HTML object>"
      ],
      "text/html": [
       " View project at <a href='https://wandb.ai/amitr5-tel-aviv-university/VGG19%20-%20deep_van_gogh%20-%20aug%20-%20HP%20Tuning%20-%2026.3.2025' target=\"_blank\">https://wandb.ai/amitr5-tel-aviv-university/VGG19%20-%20deep_van_gogh%20-%20aug%20-%20HP%20Tuning%20-%2026.3.2025</a>"
      ]
     },
     "metadata": {},
     "output_type": "display_data"
    },
    {
     "data": {
      "text/plain": [
       "<IPython.core.display.HTML object>"
      ],
      "text/html": [
       " View run at <a href='https://wandb.ai/amitr5-tel-aviv-university/VGG19%20-%20deep_van_gogh%20-%20aug%20-%20HP%20Tuning%20-%2026.3.2025/runs/mxnd9s4v' target=\"_blank\">https://wandb.ai/amitr5-tel-aviv-university/VGG19%20-%20deep_van_gogh%20-%20aug%20-%20HP%20Tuning%20-%2026.3.2025/runs/mxnd9s4v</a>"
      ]
     },
     "metadata": {},
     "output_type": "display_data"
    },
    {
     "data": {
      "text/plain": [
       "<IPython.core.display.HTML object>"
      ],
      "text/html": []
     },
     "metadata": {},
     "output_type": "display_data"
    },
    {
     "data": {
      "text/plain": [
       "<IPython.core.display.HTML object>"
      ],
      "text/html": [
       "<br>    <style><br>        .wandb-row {<br>            display: flex;<br>            flex-direction: row;<br>            flex-wrap: wrap;<br>            justify-content: flex-start;<br>            width: 100%;<br>        }<br>        .wandb-col {<br>            display: flex;<br>            flex-direction: column;<br>            flex-basis: 100%;<br>            flex: 1;<br>            padding: 10px;<br>        }<br>    </style><br><div class=\"wandb-row\"><div class=\"wandb-col\"><h3>Run history:</h3><br/><table class=\"wandb\"><tr><td>AUC</td><td>▁</td></tr><tr><td>Epoch</td><td>▁▂▂▃▃▄▄▅▅▆▆▇▇█</td></tr><tr><td>Fold</td><td>▁</td></tr><tr><td>Train Accuracy</td><td>▁▆▆▇▇▇████▇▇▇█</td></tr><tr><td>Train Loss</td><td>█▃▄▂▂▃▁▁▂▁▂▂▂▂</td></tr><tr><td>Validation AUC</td><td>██▁▇█████▇█▅▅▆</td></tr><tr><td>Validation Accuracy</td><td>█▇▃▅▇▇▄▄▇▇▃▁▄▅</td></tr><tr><td>Validation F1</td><td>█▇▃▅▇▇▄▄▇▇▃▁▄▅</td></tr><tr><td>Validation Loss</td><td>▁▁▅▂▁▁▄▅▁▂▃█▄▂</td></tr><tr><td>Validation Precision</td><td>█▇▂▄▇▇▄▃▇▇▃▁▄▅</td></tr><tr><td>Validation Recall</td><td>█▇▃▅▇▇▄▄▇▇▃▁▄▅</td></tr><tr><td>Validation Specificity</td><td>█▇▅▅▇▇████▃▁▆▆</td></tr></table><br/></div><div class=\"wandb-col\"><h3>Run summary:</h3><br/><table class=\"wandb\"><tr><td>AUC</td><td>1.0</td></tr><tr><td>Epoch</td><td>14</td></tr><tr><td>Fold</td><td>2</td></tr><tr><td>Train Accuracy</td><td>0.99818</td></tr><tr><td>Train Loss</td><td>0.00993</td></tr><tr><td>Validation AUC</td><td>0.99984</td></tr><tr><td>Validation Accuracy</td><td>0.99726</td></tr><tr><td>Validation F1</td><td>0.99726</td></tr><tr><td>Validation Loss</td><td>0.00706</td></tr><tr><td>Validation Precision</td><td>0.99726</td></tr><tr><td>Validation Recall</td><td>0.99726</td></tr><tr><td>Validation Specificity</td><td>0.99854</td></tr></table><br/></div></div>"
      ]
     },
     "metadata": {},
     "output_type": "display_data"
    },
    {
     "data": {
      "text/plain": [
       "<IPython.core.display.HTML object>"
      ],
      "text/html": [
       " View run <strong style=\"color:#cdcd00\">VGG19_trial_1_fold_2</strong> at: <a href='https://wandb.ai/amitr5-tel-aviv-university/VGG19%20-%20deep_van_gogh%20-%20aug%20-%20HP%20Tuning%20-%2026.3.2025/runs/mxnd9s4v' target=\"_blank\">https://wandb.ai/amitr5-tel-aviv-university/VGG19%20-%20deep_van_gogh%20-%20aug%20-%20HP%20Tuning%20-%2026.3.2025/runs/mxnd9s4v</a><br> View project at: <a href='https://wandb.ai/amitr5-tel-aviv-university/VGG19%20-%20deep_van_gogh%20-%20aug%20-%20HP%20Tuning%20-%2026.3.2025' target=\"_blank\">https://wandb.ai/amitr5-tel-aviv-university/VGG19%20-%20deep_van_gogh%20-%20aug%20-%20HP%20Tuning%20-%2026.3.2025</a><br>Synced 5 W&B file(s), 0 media file(s), 0 artifact file(s) and 0 other file(s)"
      ]
     },
     "metadata": {},
     "output_type": "display_data"
    },
    {
     "data": {
      "text/plain": [
       "<IPython.core.display.HTML object>"
      ],
      "text/html": [
       "Find logs at: <code>.\\wandb\\run-20250326_205954-mxnd9s4v\\logs</code>"
      ]
     },
     "metadata": {},
     "output_type": "display_data"
    },
    {
     "data": {
      "text/plain": [
       "<IPython.core.display.HTML object>"
      ],
      "text/html": [
       "Tracking run with wandb version 0.19.1"
      ]
     },
     "metadata": {},
     "output_type": "display_data"
    },
    {
     "data": {
      "text/plain": [
       "<IPython.core.display.HTML object>"
      ],
      "text/html": [
       "Run data is saved locally in <code>D:\\Users\\kanatcohen\\PycharmProjects\\deep_van_gogh\\wandb\\run-20250326_210708-619r2j7l</code>"
      ]
     },
     "metadata": {},
     "output_type": "display_data"
    },
    {
     "data": {
      "text/plain": [
       "<IPython.core.display.HTML object>"
      ],
      "text/html": [
       "Syncing run <strong><a href='https://wandb.ai/amitr5-tel-aviv-university/VGG19%20-%20deep_van_gogh%20-%20aug%20-%20HP%20Tuning%20-%2026.3.2025/runs/619r2j7l' target=\"_blank\">VGG19_trial_1_fold_3</a></strong> to <a href='https://wandb.ai/amitr5-tel-aviv-university/VGG19%20-%20deep_van_gogh%20-%20aug%20-%20HP%20Tuning%20-%2026.3.2025' target=\"_blank\">Weights & Biases</a> (<a href='https://wandb.me/developer-guide' target=\"_blank\">docs</a>)<br>"
      ]
     },
     "metadata": {},
     "output_type": "display_data"
    },
    {
     "data": {
      "text/plain": [
       "<IPython.core.display.HTML object>"
      ],
      "text/html": [
       " View project at <a href='https://wandb.ai/amitr5-tel-aviv-university/VGG19%20-%20deep_van_gogh%20-%20aug%20-%20HP%20Tuning%20-%2026.3.2025' target=\"_blank\">https://wandb.ai/amitr5-tel-aviv-university/VGG19%20-%20deep_van_gogh%20-%20aug%20-%20HP%20Tuning%20-%2026.3.2025</a>"
      ]
     },
     "metadata": {},
     "output_type": "display_data"
    },
    {
     "data": {
      "text/plain": [
       "<IPython.core.display.HTML object>"
      ],
      "text/html": [
       " View run at <a href='https://wandb.ai/amitr5-tel-aviv-university/VGG19%20-%20deep_van_gogh%20-%20aug%20-%20HP%20Tuning%20-%2026.3.2025/runs/619r2j7l' target=\"_blank\">https://wandb.ai/amitr5-tel-aviv-university/VGG19%20-%20deep_van_gogh%20-%20aug%20-%20HP%20Tuning%20-%2026.3.2025/runs/619r2j7l</a>"
      ]
     },
     "metadata": {},
     "output_type": "display_data"
    },
    {
     "data": {
      "text/plain": [
       "<IPython.core.display.HTML object>"
      ],
      "text/html": []
     },
     "metadata": {},
     "output_type": "display_data"
    },
    {
     "data": {
      "text/plain": [
       "<IPython.core.display.HTML object>"
      ],
      "text/html": [
       "<br>    <style><br>        .wandb-row {<br>            display: flex;<br>            flex-direction: row;<br>            flex-wrap: wrap;<br>            justify-content: flex-start;<br>            width: 100%;<br>        }<br>        .wandb-col {<br>            display: flex;<br>            flex-direction: column;<br>            flex-basis: 100%;<br>            flex: 1;<br>            padding: 10px;<br>        }<br>    </style><br><div class=\"wandb-row\"><div class=\"wandb-col\"><h3>Run history:</h3><br/><table class=\"wandb\"><tr><td>AUC</td><td>▁</td></tr><tr><td>Epoch</td><td>▁▂▂▃▃▄▅▅▆▆▇▇█</td></tr><tr><td>Fold</td><td>▁</td></tr><tr><td>Train Accuracy</td><td>▁▅▆▆███▇███▇█</td></tr><tr><td>Train Loss</td><td>█▅▄▃▁▁▂▃▁▁▂▃▁</td></tr><tr><td>Validation AUC</td><td>██▁████▇█████</td></tr><tr><td>Validation Accuracy</td><td>▇▇▁███▇▇▇▇█▇▇</td></tr><tr><td>Validation F1</td><td>▇█▁███▇▇▇██▇▇</td></tr><tr><td>Validation Loss</td><td>▂▁█▁▁▁▁▂▁▁▁▁▁</td></tr><tr><td>Validation Precision</td><td>▇▇▁███▇▇▇▇█▇▇</td></tr><tr><td>Validation Recall</td><td>▇▇▁███▇▇▇▇█▇▇</td></tr><tr><td>Validation Specificity</td><td>███▇██▅▁▇█▇▄▇</td></tr></table><br/></div><div class=\"wandb-col\"><h3>Run summary:</h3><br/><table class=\"wandb\"><tr><td>AUC</td><td>1</td></tr><tr><td>Epoch</td><td>13</td></tr><tr><td>Fold</td><td>3</td></tr><tr><td>Train Accuracy</td><td>0.99818</td></tr><tr><td>Train Loss</td><td>0.00852</td></tr><tr><td>Validation AUC</td><td>0.99999</td></tr><tr><td>Validation Accuracy</td><td>0.99808</td></tr><tr><td>Validation F1</td><td>0.99807</td></tr><tr><td>Validation Loss</td><td>0.00437</td></tr><tr><td>Validation Precision</td><td>0.99808</td></tr><tr><td>Validation Recall</td><td>0.99808</td></tr><tr><td>Validation Specificity</td><td>0.99971</td></tr></table><br/></div></div>"
      ]
     },
     "metadata": {},
     "output_type": "display_data"
    },
    {
     "data": {
      "text/plain": [
       "<IPython.core.display.HTML object>"
      ],
      "text/html": [
       " View run <strong style=\"color:#cdcd00\">VGG19_trial_1_fold_3</strong> at: <a href='https://wandb.ai/amitr5-tel-aviv-university/VGG19%20-%20deep_van_gogh%20-%20aug%20-%20HP%20Tuning%20-%2026.3.2025/runs/619r2j7l' target=\"_blank\">https://wandb.ai/amitr5-tel-aviv-university/VGG19%20-%20deep_van_gogh%20-%20aug%20-%20HP%20Tuning%20-%2026.3.2025/runs/619r2j7l</a><br> View project at: <a href='https://wandb.ai/amitr5-tel-aviv-university/VGG19%20-%20deep_van_gogh%20-%20aug%20-%20HP%20Tuning%20-%2026.3.2025' target=\"_blank\">https://wandb.ai/amitr5-tel-aviv-university/VGG19%20-%20deep_van_gogh%20-%20aug%20-%20HP%20Tuning%20-%2026.3.2025</a><br>Synced 5 W&B file(s), 0 media file(s), 0 artifact file(s) and 0 other file(s)"
      ]
     },
     "metadata": {},
     "output_type": "display_data"
    },
    {
     "data": {
      "text/plain": [
       "<IPython.core.display.HTML object>"
      ],
      "text/html": [
       "Find logs at: <code>.\\wandb\\run-20250326_210708-619r2j7l\\logs</code>"
      ]
     },
     "metadata": {},
     "output_type": "display_data"
    },
    {
     "data": {
      "text/plain": [
       "<IPython.core.display.HTML object>"
      ],
      "text/html": [
       "Tracking run with wandb version 0.19.1"
      ]
     },
     "metadata": {},
     "output_type": "display_data"
    },
    {
     "data": {
      "text/plain": [
       "<IPython.core.display.HTML object>"
      ],
      "text/html": [
       "Run data is saved locally in <code>D:\\Users\\kanatcohen\\PycharmProjects\\deep_van_gogh\\wandb\\run-20250326_211353-sq4w3cs2</code>"
      ]
     },
     "metadata": {},
     "output_type": "display_data"
    },
    {
     "data": {
      "text/plain": [
       "<IPython.core.display.HTML object>"
      ],
      "text/html": [
       "Syncing run <strong><a href='https://wandb.ai/amitr5-tel-aviv-university/VGG19%20-%20deep_van_gogh%20-%20aug%20-%20HP%20Tuning%20-%2026.3.2025/runs/sq4w3cs2' target=\"_blank\">VGG19_trial_1</a></strong> to <a href='https://wandb.ai/amitr5-tel-aviv-university/VGG19%20-%20deep_van_gogh%20-%20aug%20-%20HP%20Tuning%20-%2026.3.2025' target=\"_blank\">Weights & Biases</a> (<a href='https://wandb.me/developer-guide' target=\"_blank\">docs</a>)<br>"
      ]
     },
     "metadata": {},
     "output_type": "display_data"
    },
    {
     "data": {
      "text/plain": [
       "<IPython.core.display.HTML object>"
      ],
      "text/html": [
       " View project at <a href='https://wandb.ai/amitr5-tel-aviv-university/VGG19%20-%20deep_van_gogh%20-%20aug%20-%20HP%20Tuning%20-%2026.3.2025' target=\"_blank\">https://wandb.ai/amitr5-tel-aviv-university/VGG19%20-%20deep_van_gogh%20-%20aug%20-%20HP%20Tuning%20-%2026.3.2025</a>"
      ]
     },
     "metadata": {},
     "output_type": "display_data"
    },
    {
     "data": {
      "text/plain": [
       "<IPython.core.display.HTML object>"
      ],
      "text/html": [
       " View run at <a href='https://wandb.ai/amitr5-tel-aviv-university/VGG19%20-%20deep_van_gogh%20-%20aug%20-%20HP%20Tuning%20-%2026.3.2025/runs/sq4w3cs2' target=\"_blank\">https://wandb.ai/amitr5-tel-aviv-university/VGG19%20-%20deep_van_gogh%20-%20aug%20-%20HP%20Tuning%20-%2026.3.2025/runs/sq4w3cs2</a>"
      ]
     },
     "metadata": {},
     "output_type": "display_data"
    },
    {
     "data": {
      "text/plain": [
       "<IPython.core.display.HTML object>"
      ],
      "text/html": []
     },
     "metadata": {},
     "output_type": "display_data"
    },
    {
     "data": {
      "text/plain": [
       "<IPython.core.display.HTML object>"
      ],
      "text/html": [
       "<br>    <style><br>        .wandb-row {<br>            display: flex;<br>            flex-direction: row;<br>            flex-wrap: wrap;<br>            justify-content: flex-start;<br>            width: 100%;<br>        }<br>        .wandb-col {<br>            display: flex;<br>            flex-direction: column;<br>            flex-basis: 100%;<br>            flex: 1;<br>            padding: 10px;<br>        }<br>    </style><br><div class=\"wandb-row\"><div class=\"wandb-col\"><h3>Run history:</h3><br/><table class=\"wandb\"><tr><td>Mean AUC</td><td>▁</td></tr><tr><td>Trial</td><td>▁</td></tr></table><br/></div><div class=\"wandb-col\"><h3>Run summary:</h3><br/><table class=\"wandb\"><tr><td>Mean AUC</td><td>0.98291</td></tr><tr><td>Trial</td><td>1</td></tr></table><br/></div></div>"
      ]
     },
     "metadata": {},
     "output_type": "display_data"
    },
    {
     "data": {
      "text/plain": [
       "<IPython.core.display.HTML object>"
      ],
      "text/html": [
       " View run <strong style=\"color:#cdcd00\">VGG19_trial_1</strong> at: <a href='https://wandb.ai/amitr5-tel-aviv-university/VGG19%20-%20deep_van_gogh%20-%20aug%20-%20HP%20Tuning%20-%2026.3.2025/runs/sq4w3cs2' target=\"_blank\">https://wandb.ai/amitr5-tel-aviv-university/VGG19%20-%20deep_van_gogh%20-%20aug%20-%20HP%20Tuning%20-%2026.3.2025/runs/sq4w3cs2</a><br> View project at: <a href='https://wandb.ai/amitr5-tel-aviv-university/VGG19%20-%20deep_van_gogh%20-%20aug%20-%20HP%20Tuning%20-%2026.3.2025' target=\"_blank\">https://wandb.ai/amitr5-tel-aviv-university/VGG19%20-%20deep_van_gogh%20-%20aug%20-%20HP%20Tuning%20-%2026.3.2025</a><br>Synced 5 W&B file(s), 0 media file(s), 0 artifact file(s) and 0 other file(s)"
      ]
     },
     "metadata": {},
     "output_type": "display_data"
    },
    {
     "data": {
      "text/plain": [
       "<IPython.core.display.HTML object>"
      ],
      "text/html": [
       "Find logs at: <code>.\\wandb\\run-20250326_211353-sq4w3cs2\\logs</code>"
      ]
     },
     "metadata": {},
     "output_type": "display_data"
    },
    {
     "name": "stderr",
     "output_type": "stream",
     "text": [
      "[I 2025-03-26 21:13:56,847] Trial 0 finished with value: 0.9829131448557272 and parameters: {'learning_rate': 0.00038965054601532693, 'weight_decay': 3.0724312934042866e-06, 'epochs': 18, 'num_layers_finetune': 1}. Best is trial 0 with value: 0.9829131448557272.\n"
     ]
    },
    {
     "data": {
      "text/plain": [
       "<IPython.core.display.HTML object>"
      ],
      "text/html": [
       "Tracking run with wandb version 0.19.1"
      ]
     },
     "metadata": {},
     "output_type": "display_data"
    },
    {
     "data": {
      "text/plain": [
       "<IPython.core.display.HTML object>"
      ],
      "text/html": [
       "Run data is saved locally in <code>D:\\Users\\kanatcohen\\PycharmProjects\\deep_van_gogh\\wandb\\run-20250326_211356-ihscy2jt</code>"
      ]
     },
     "metadata": {},
     "output_type": "display_data"
    },
    {
     "data": {
      "text/plain": [
       "<IPython.core.display.HTML object>"
      ],
      "text/html": [
       "Syncing run <strong><a href='https://wandb.ai/amitr5-tel-aviv-university/VGG19%20-%20deep_van_gogh%20-%20aug%20-%20HP%20Tuning%20-%2026.3.2025/runs/ihscy2jt' target=\"_blank\">VGG19_trial_2_fold_0</a></strong> to <a href='https://wandb.ai/amitr5-tel-aviv-university/VGG19%20-%20deep_van_gogh%20-%20aug%20-%20HP%20Tuning%20-%2026.3.2025' target=\"_blank\">Weights & Biases</a> (<a href='https://wandb.me/developer-guide' target=\"_blank\">docs</a>)<br>"
      ]
     },
     "metadata": {},
     "output_type": "display_data"
    },
    {
     "data": {
      "text/plain": [
       "<IPython.core.display.HTML object>"
      ],
      "text/html": [
       " View project at <a href='https://wandb.ai/amitr5-tel-aviv-university/VGG19%20-%20deep_van_gogh%20-%20aug%20-%20HP%20Tuning%20-%2026.3.2025' target=\"_blank\">https://wandb.ai/amitr5-tel-aviv-university/VGG19%20-%20deep_van_gogh%20-%20aug%20-%20HP%20Tuning%20-%2026.3.2025</a>"
      ]
     },
     "metadata": {},
     "output_type": "display_data"
    },
    {
     "data": {
      "text/plain": [
       "<IPython.core.display.HTML object>"
      ],
      "text/html": [
       " View run at <a href='https://wandb.ai/amitr5-tel-aviv-university/VGG19%20-%20deep_van_gogh%20-%20aug%20-%20HP%20Tuning%20-%2026.3.2025/runs/ihscy2jt' target=\"_blank\">https://wandb.ai/amitr5-tel-aviv-university/VGG19%20-%20deep_van_gogh%20-%20aug%20-%20HP%20Tuning%20-%2026.3.2025/runs/ihscy2jt</a>"
      ]
     },
     "metadata": {},
     "output_type": "display_data"
    },
    {
     "data": {
      "text/plain": [
       "<IPython.core.display.HTML object>"
      ],
      "text/html": []
     },
     "metadata": {},
     "output_type": "display_data"
    },
    {
     "data": {
      "text/plain": [
       "<IPython.core.display.HTML object>"
      ],
      "text/html": [
       "<br>    <style><br>        .wandb-row {<br>            display: flex;<br>            flex-direction: row;<br>            flex-wrap: wrap;<br>            justify-content: flex-start;<br>            width: 100%;<br>        }<br>        .wandb-col {<br>            display: flex;<br>            flex-direction: column;<br>            flex-basis: 100%;<br>            flex: 1;<br>            padding: 10px;<br>        }<br>    </style><br><div class=\"wandb-row\"><div class=\"wandb-col\"><h3>Run history:</h3><br/><table class=\"wandb\"><tr><td>AUC</td><td>▁</td></tr><tr><td>Epoch</td><td>▁▂▃▃▄▅▆▆▇█</td></tr><tr><td>Fold</td><td>▁</td></tr><tr><td>Train Accuracy</td><td>▁█████████</td></tr><tr><td>Train Loss</td><td>█▁▁▁▁▁▁▁▁▁</td></tr><tr><td>Validation AUC</td><td>▁▁▁▁▁▁▁▁▁▁</td></tr><tr><td>Validation Accuracy</td><td>▁▁▁▁▁█████</td></tr><tr><td>Validation F1</td><td>▁▁▁▁▁█████</td></tr><tr><td>Validation Loss</td><td>█▅▅▃▃▂▂▁▁▁</td></tr><tr><td>Validation Precision</td><td>▁▁▁▁▁█████</td></tr><tr><td>Validation Recall</td><td>▁▁▁▁▁█████</td></tr><tr><td>Validation Specificity</td><td>▁▁▁▁▁▁▁▁▁▁</td></tr></table><br/></div><div class=\"wandb-col\"><h3>Run summary:</h3><br/><table class=\"wandb\"><tr><td>AUC</td><td>1</td></tr><tr><td>Epoch</td><td>10</td></tr><tr><td>Fold</td><td>0</td></tr><tr><td>Train Accuracy</td><td>0.99945</td></tr><tr><td>Train Loss</td><td>0.00155</td></tr><tr><td>Validation AUC</td><td>1</td></tr><tr><td>Validation Accuracy</td><td>1</td></tr><tr><td>Validation F1</td><td>1</td></tr><tr><td>Validation Loss</td><td>1e-05</td></tr><tr><td>Validation Precision</td><td>1</td></tr><tr><td>Validation Recall</td><td>1</td></tr><tr><td>Validation Specificity</td><td>1</td></tr></table><br/></div></div>"
      ]
     },
     "metadata": {},
     "output_type": "display_data"
    },
    {
     "data": {
      "text/plain": [
       "<IPython.core.display.HTML object>"
      ],
      "text/html": [
       " View run <strong style=\"color:#cdcd00\">VGG19_trial_2_fold_0</strong> at: <a href='https://wandb.ai/amitr5-tel-aviv-university/VGG19%20-%20deep_van_gogh%20-%20aug%20-%20HP%20Tuning%20-%2026.3.2025/runs/ihscy2jt' target=\"_blank\">https://wandb.ai/amitr5-tel-aviv-university/VGG19%20-%20deep_van_gogh%20-%20aug%20-%20HP%20Tuning%20-%2026.3.2025/runs/ihscy2jt</a><br> View project at: <a href='https://wandb.ai/amitr5-tel-aviv-university/VGG19%20-%20deep_van_gogh%20-%20aug%20-%20HP%20Tuning%20-%2026.3.2025' target=\"_blank\">https://wandb.ai/amitr5-tel-aviv-university/VGG19%20-%20deep_van_gogh%20-%20aug%20-%20HP%20Tuning%20-%2026.3.2025</a><br>Synced 5 W&B file(s), 0 media file(s), 0 artifact file(s) and 0 other file(s)"
      ]
     },
     "metadata": {},
     "output_type": "display_data"
    },
    {
     "data": {
      "text/plain": [
       "<IPython.core.display.HTML object>"
      ],
      "text/html": [
       "Find logs at: <code>.\\wandb\\run-20250326_211356-ihscy2jt\\logs</code>"
      ]
     },
     "metadata": {},
     "output_type": "display_data"
    },
    {
     "data": {
      "text/plain": [
       "<IPython.core.display.HTML object>"
      ],
      "text/html": [
       "Tracking run with wandb version 0.19.1"
      ]
     },
     "metadata": {},
     "output_type": "display_data"
    },
    {
     "data": {
      "text/plain": [
       "<IPython.core.display.HTML object>"
      ],
      "text/html": [
       "Run data is saved locally in <code>D:\\Users\\kanatcohen\\PycharmProjects\\deep_van_gogh\\wandb\\run-20250326_211908-4i0818zp</code>"
      ]
     },
     "metadata": {},
     "output_type": "display_data"
    },
    {
     "data": {
      "text/plain": [
       "<IPython.core.display.HTML object>"
      ],
      "text/html": [
       "Syncing run <strong><a href='https://wandb.ai/amitr5-tel-aviv-university/VGG19%20-%20deep_van_gogh%20-%20aug%20-%20HP%20Tuning%20-%2026.3.2025/runs/4i0818zp' target=\"_blank\">VGG19_trial_2_fold_1</a></strong> to <a href='https://wandb.ai/amitr5-tel-aviv-university/VGG19%20-%20deep_van_gogh%20-%20aug%20-%20HP%20Tuning%20-%2026.3.2025' target=\"_blank\">Weights & Biases</a> (<a href='https://wandb.me/developer-guide' target=\"_blank\">docs</a>)<br>"
      ]
     },
     "metadata": {},
     "output_type": "display_data"
    },
    {
     "data": {
      "text/plain": [
       "<IPython.core.display.HTML object>"
      ],
      "text/html": [
       " View project at <a href='https://wandb.ai/amitr5-tel-aviv-university/VGG19%20-%20deep_van_gogh%20-%20aug%20-%20HP%20Tuning%20-%2026.3.2025' target=\"_blank\">https://wandb.ai/amitr5-tel-aviv-university/VGG19%20-%20deep_van_gogh%20-%20aug%20-%20HP%20Tuning%20-%2026.3.2025</a>"
      ]
     },
     "metadata": {},
     "output_type": "display_data"
    },
    {
     "data": {
      "text/plain": [
       "<IPython.core.display.HTML object>"
      ],
      "text/html": [
       " View run at <a href='https://wandb.ai/amitr5-tel-aviv-university/VGG19%20-%20deep_van_gogh%20-%20aug%20-%20HP%20Tuning%20-%2026.3.2025/runs/4i0818zp' target=\"_blank\">https://wandb.ai/amitr5-tel-aviv-university/VGG19%20-%20deep_van_gogh%20-%20aug%20-%20HP%20Tuning%20-%2026.3.2025/runs/4i0818zp</a>"
      ]
     },
     "metadata": {},
     "output_type": "display_data"
    },
    {
     "data": {
      "text/plain": [
       "<IPython.core.display.HTML object>"
      ],
      "text/html": []
     },
     "metadata": {},
     "output_type": "display_data"
    },
    {
     "data": {
      "text/plain": [
       "<IPython.core.display.HTML object>"
      ],
      "text/html": [
       "<br>    <style><br>        .wandb-row {<br>            display: flex;<br>            flex-direction: row;<br>            flex-wrap: wrap;<br>            justify-content: flex-start;<br>            width: 100%;<br>        }<br>        .wandb-col {<br>            display: flex;<br>            flex-direction: column;<br>            flex-basis: 100%;<br>            flex: 1;<br>            padding: 10px;<br>        }<br>    </style><br><div class=\"wandb-row\"><div class=\"wandb-col\"><h3>Run history:</h3><br/><table class=\"wandb\"><tr><td>AUC</td><td>▁</td></tr><tr><td>Epoch</td><td>▁▂▃▃▄▅▆▆▇█</td></tr><tr><td>Fold</td><td>▁</td></tr><tr><td>Train Accuracy</td><td>▁▇████████</td></tr><tr><td>Train Loss</td><td>█▂▁▁▁▁▁▁▁▁</td></tr><tr><td>Validation AUC</td><td>▁▁▁▁▁▁▁▁▁▁</td></tr><tr><td>Validation Accuracy</td><td>▁▁▁▁▁▁▁▁▁▁</td></tr><tr><td>Validation F1</td><td>▁▁▁▁▁▁▁▁▁▁</td></tr><tr><td>Validation Loss</td><td>█▃▂▁▁▁▁▁▁▁</td></tr><tr><td>Validation Precision</td><td>▁▁▁▁▁▁▁▁▁▁</td></tr><tr><td>Validation Recall</td><td>▁▁▁▁▁▁▁▁▁▁</td></tr><tr><td>Validation Specificity</td><td>▁▁▁▁▁▁▁▁▁▁</td></tr></table><br/></div><div class=\"wandb-col\"><h3>Run summary:</h3><br/><table class=\"wandb\"><tr><td>AUC</td><td>1</td></tr><tr><td>Epoch</td><td>10</td></tr><tr><td>Fold</td><td>1</td></tr><tr><td>Train Accuracy</td><td>0.99991</td></tr><tr><td>Train Loss</td><td>0.00061</td></tr><tr><td>Validation AUC</td><td>1</td></tr><tr><td>Validation Accuracy</td><td>1</td></tr><tr><td>Validation F1</td><td>1</td></tr><tr><td>Validation Loss</td><td>0.0</td></tr><tr><td>Validation Precision</td><td>1</td></tr><tr><td>Validation Recall</td><td>1</td></tr><tr><td>Validation Specificity</td><td>1</td></tr></table><br/></div></div>"
      ]
     },
     "metadata": {},
     "output_type": "display_data"
    },
    {
     "data": {
      "text/plain": [
       "<IPython.core.display.HTML object>"
      ],
      "text/html": [
       " View run <strong style=\"color:#cdcd00\">VGG19_trial_2_fold_1</strong> at: <a href='https://wandb.ai/amitr5-tel-aviv-university/VGG19%20-%20deep_van_gogh%20-%20aug%20-%20HP%20Tuning%20-%2026.3.2025/runs/4i0818zp' target=\"_blank\">https://wandb.ai/amitr5-tel-aviv-university/VGG19%20-%20deep_van_gogh%20-%20aug%20-%20HP%20Tuning%20-%2026.3.2025/runs/4i0818zp</a><br> View project at: <a href='https://wandb.ai/amitr5-tel-aviv-university/VGG19%20-%20deep_van_gogh%20-%20aug%20-%20HP%20Tuning%20-%2026.3.2025' target=\"_blank\">https://wandb.ai/amitr5-tel-aviv-university/VGG19%20-%20deep_van_gogh%20-%20aug%20-%20HP%20Tuning%20-%2026.3.2025</a><br>Synced 5 W&B file(s), 0 media file(s), 0 artifact file(s) and 0 other file(s)"
      ]
     },
     "metadata": {},
     "output_type": "display_data"
    },
    {
     "data": {
      "text/plain": [
       "<IPython.core.display.HTML object>"
      ],
      "text/html": [
       "Find logs at: <code>.\\wandb\\run-20250326_211908-4i0818zp\\logs</code>"
      ]
     },
     "metadata": {},
     "output_type": "display_data"
    },
    {
     "data": {
      "text/plain": [
       "<IPython.core.display.HTML object>"
      ],
      "text/html": [
       "Tracking run with wandb version 0.19.1"
      ]
     },
     "metadata": {},
     "output_type": "display_data"
    },
    {
     "data": {
      "text/plain": [
       "<IPython.core.display.HTML object>"
      ],
      "text/html": [
       "Run data is saved locally in <code>D:\\Users\\kanatcohen\\PycharmProjects\\deep_van_gogh\\wandb\\run-20250326_212420-jwqs0018</code>"
      ]
     },
     "metadata": {},
     "output_type": "display_data"
    },
    {
     "data": {
      "text/plain": [
       "<IPython.core.display.HTML object>"
      ],
      "text/html": [
       "Syncing run <strong><a href='https://wandb.ai/amitr5-tel-aviv-university/VGG19%20-%20deep_van_gogh%20-%20aug%20-%20HP%20Tuning%20-%2026.3.2025/runs/jwqs0018' target=\"_blank\">VGG19_trial_2_fold_2</a></strong> to <a href='https://wandb.ai/amitr5-tel-aviv-university/VGG19%20-%20deep_van_gogh%20-%20aug%20-%20HP%20Tuning%20-%2026.3.2025' target=\"_blank\">Weights & Biases</a> (<a href='https://wandb.me/developer-guide' target=\"_blank\">docs</a>)<br>"
      ]
     },
     "metadata": {},
     "output_type": "display_data"
    },
    {
     "data": {
      "text/plain": [
       "<IPython.core.display.HTML object>"
      ],
      "text/html": [
       " View project at <a href='https://wandb.ai/amitr5-tel-aviv-university/VGG19%20-%20deep_van_gogh%20-%20aug%20-%20HP%20Tuning%20-%2026.3.2025' target=\"_blank\">https://wandb.ai/amitr5-tel-aviv-university/VGG19%20-%20deep_van_gogh%20-%20aug%20-%20HP%20Tuning%20-%2026.3.2025</a>"
      ]
     },
     "metadata": {},
     "output_type": "display_data"
    },
    {
     "data": {
      "text/plain": [
       "<IPython.core.display.HTML object>"
      ],
      "text/html": [
       " View run at <a href='https://wandb.ai/amitr5-tel-aviv-university/VGG19%20-%20deep_van_gogh%20-%20aug%20-%20HP%20Tuning%20-%2026.3.2025/runs/jwqs0018' target=\"_blank\">https://wandb.ai/amitr5-tel-aviv-university/VGG19%20-%20deep_van_gogh%20-%20aug%20-%20HP%20Tuning%20-%2026.3.2025/runs/jwqs0018</a>"
      ]
     },
     "metadata": {},
     "output_type": "display_data"
    },
    {
     "data": {
      "text/plain": [
       "<IPython.core.display.HTML object>"
      ],
      "text/html": []
     },
     "metadata": {},
     "output_type": "display_data"
    },
    {
     "data": {
      "text/plain": [
       "<IPython.core.display.HTML object>"
      ],
      "text/html": [
       "<br>    <style><br>        .wandb-row {<br>            display: flex;<br>            flex-direction: row;<br>            flex-wrap: wrap;<br>            justify-content: flex-start;<br>            width: 100%;<br>        }<br>        .wandb-col {<br>            display: flex;<br>            flex-direction: column;<br>            flex-basis: 100%;<br>            flex: 1;<br>            padding: 10px;<br>        }<br>    </style><br><div class=\"wandb-row\"><div class=\"wandb-col\"><h3>Run history:</h3><br/><table class=\"wandb\"><tr><td>AUC</td><td>▁</td></tr><tr><td>Epoch</td><td>▁▂▃▃▄▅▆▆▇█</td></tr><tr><td>Fold</td><td>▁</td></tr><tr><td>Train Accuracy</td><td>▁█████████</td></tr><tr><td>Train Loss</td><td>█▁▁▁▁▁▁▁▁▁</td></tr><tr><td>Validation AUC</td><td>▁▁▁▁▁▁▁▁▁▁</td></tr><tr><td>Validation Accuracy</td><td>▁▁▁▁▁▁▁▁▁▁</td></tr><tr><td>Validation F1</td><td>▁▁▁▁▁▁▁▁▁▁</td></tr><tr><td>Validation Loss</td><td>█▅▂▂▁▁▁▁▁▁</td></tr><tr><td>Validation Precision</td><td>▁▁▁▁▁▁▁▁▁▁</td></tr><tr><td>Validation Recall</td><td>▁▁▁▁▁▁▁▁▁▁</td></tr><tr><td>Validation Specificity</td><td>▁▁▁▁▁▁▁▁▁▁</td></tr></table><br/></div><div class=\"wandb-col\"><h3>Run summary:</h3><br/><table class=\"wandb\"><tr><td>AUC</td><td>1</td></tr><tr><td>Epoch</td><td>10</td></tr><tr><td>Fold</td><td>2</td></tr><tr><td>Train Accuracy</td><td>0.99991</td></tr><tr><td>Train Loss</td><td>0.00025</td></tr><tr><td>Validation AUC</td><td>1</td></tr><tr><td>Validation Accuracy</td><td>1</td></tr><tr><td>Validation F1</td><td>1</td></tr><tr><td>Validation Loss</td><td>1e-05</td></tr><tr><td>Validation Precision</td><td>1</td></tr><tr><td>Validation Recall</td><td>1</td></tr><tr><td>Validation Specificity</td><td>1</td></tr></table><br/></div></div>"
      ]
     },
     "metadata": {},
     "output_type": "display_data"
    },
    {
     "data": {
      "text/plain": [
       "<IPython.core.display.HTML object>"
      ],
      "text/html": [
       " View run <strong style=\"color:#cdcd00\">VGG19_trial_2_fold_2</strong> at: <a href='https://wandb.ai/amitr5-tel-aviv-university/VGG19%20-%20deep_van_gogh%20-%20aug%20-%20HP%20Tuning%20-%2026.3.2025/runs/jwqs0018' target=\"_blank\">https://wandb.ai/amitr5-tel-aviv-university/VGG19%20-%20deep_van_gogh%20-%20aug%20-%20HP%20Tuning%20-%2026.3.2025/runs/jwqs0018</a><br> View project at: <a href='https://wandb.ai/amitr5-tel-aviv-university/VGG19%20-%20deep_van_gogh%20-%20aug%20-%20HP%20Tuning%20-%2026.3.2025' target=\"_blank\">https://wandb.ai/amitr5-tel-aviv-university/VGG19%20-%20deep_van_gogh%20-%20aug%20-%20HP%20Tuning%20-%2026.3.2025</a><br>Synced 5 W&B file(s), 0 media file(s), 0 artifact file(s) and 0 other file(s)"
      ]
     },
     "metadata": {},
     "output_type": "display_data"
    },
    {
     "data": {
      "text/plain": [
       "<IPython.core.display.HTML object>"
      ],
      "text/html": [
       "Find logs at: <code>.\\wandb\\run-20250326_212420-jwqs0018\\logs</code>"
      ]
     },
     "metadata": {},
     "output_type": "display_data"
    },
    {
     "data": {
      "text/plain": [
       "<IPython.core.display.HTML object>"
      ],
      "text/html": [
       "Tracking run with wandb version 0.19.1"
      ]
     },
     "metadata": {},
     "output_type": "display_data"
    },
    {
     "data": {
      "text/plain": [
       "<IPython.core.display.HTML object>"
      ],
      "text/html": [
       "Run data is saved locally in <code>D:\\Users\\kanatcohen\\PycharmProjects\\deep_van_gogh\\wandb\\run-20250326_212931-6dugvnxv</code>"
      ]
     },
     "metadata": {},
     "output_type": "display_data"
    },
    {
     "data": {
      "text/plain": [
       "<IPython.core.display.HTML object>"
      ],
      "text/html": [
       "Syncing run <strong><a href='https://wandb.ai/amitr5-tel-aviv-university/VGG19%20-%20deep_van_gogh%20-%20aug%20-%20HP%20Tuning%20-%2026.3.2025/runs/6dugvnxv' target=\"_blank\">VGG19_trial_2_fold_3</a></strong> to <a href='https://wandb.ai/amitr5-tel-aviv-university/VGG19%20-%20deep_van_gogh%20-%20aug%20-%20HP%20Tuning%20-%2026.3.2025' target=\"_blank\">Weights & Biases</a> (<a href='https://wandb.me/developer-guide' target=\"_blank\">docs</a>)<br>"
      ]
     },
     "metadata": {},
     "output_type": "display_data"
    },
    {
     "data": {
      "text/plain": [
       "<IPython.core.display.HTML object>"
      ],
      "text/html": [
       " View project at <a href='https://wandb.ai/amitr5-tel-aviv-university/VGG19%20-%20deep_van_gogh%20-%20aug%20-%20HP%20Tuning%20-%2026.3.2025' target=\"_blank\">https://wandb.ai/amitr5-tel-aviv-university/VGG19%20-%20deep_van_gogh%20-%20aug%20-%20HP%20Tuning%20-%2026.3.2025</a>"
      ]
     },
     "metadata": {},
     "output_type": "display_data"
    },
    {
     "data": {
      "text/plain": [
       "<IPython.core.display.HTML object>"
      ],
      "text/html": [
       " View run at <a href='https://wandb.ai/amitr5-tel-aviv-university/VGG19%20-%20deep_van_gogh%20-%20aug%20-%20HP%20Tuning%20-%2026.3.2025/runs/6dugvnxv' target=\"_blank\">https://wandb.ai/amitr5-tel-aviv-university/VGG19%20-%20deep_van_gogh%20-%20aug%20-%20HP%20Tuning%20-%2026.3.2025/runs/6dugvnxv</a>"
      ]
     },
     "metadata": {},
     "output_type": "display_data"
    },
    {
     "data": {
      "text/plain": [
       "<IPython.core.display.HTML object>"
      ],
      "text/html": []
     },
     "metadata": {},
     "output_type": "display_data"
    },
    {
     "data": {
      "text/plain": [
       "<IPython.core.display.HTML object>"
      ],
      "text/html": [
       "<br>    <style><br>        .wandb-row {<br>            display: flex;<br>            flex-direction: row;<br>            flex-wrap: wrap;<br>            justify-content: flex-start;<br>            width: 100%;<br>        }<br>        .wandb-col {<br>            display: flex;<br>            flex-direction: column;<br>            flex-basis: 100%;<br>            flex: 1;<br>            padding: 10px;<br>        }<br>    </style><br><div class=\"wandb-row\"><div class=\"wandb-col\"><h3>Run history:</h3><br/><table class=\"wandb\"><tr><td>AUC</td><td>▁</td></tr><tr><td>Epoch</td><td>▁▂▃▃▄▅▆▆▇█</td></tr><tr><td>Fold</td><td>▁</td></tr><tr><td>Train Accuracy</td><td>▁█████████</td></tr><tr><td>Train Loss</td><td>█▁▁▁▁▁▁▁▁▁</td></tr><tr><td>Validation AUC</td><td>▁▁▁▁▁▁▁▁▁▁</td></tr><tr><td>Validation Accuracy</td><td>▁▁▁▁▁▁▁▁▁▁</td></tr><tr><td>Validation F1</td><td>▁▁▁▁▁▁▁▁▁▁</td></tr><tr><td>Validation Loss</td><td>█▃▂▂▁▁▁▁▁▁</td></tr><tr><td>Validation Precision</td><td>▁▁▁▁▁▁▁▁▁▁</td></tr><tr><td>Validation Recall</td><td>▁▁▁▁▁▁▁▁▁▁</td></tr><tr><td>Validation Specificity</td><td>▁▁▁▁▁▁▁▁▁▁</td></tr></table><br/></div><div class=\"wandb-col\"><h3>Run summary:</h3><br/><table class=\"wandb\"><tr><td>AUC</td><td>1</td></tr><tr><td>Epoch</td><td>10</td></tr><tr><td>Fold</td><td>3</td></tr><tr><td>Train Accuracy</td><td>0.99982</td></tr><tr><td>Train Loss</td><td>0.00029</td></tr><tr><td>Validation AUC</td><td>1</td></tr><tr><td>Validation Accuracy</td><td>1</td></tr><tr><td>Validation F1</td><td>1</td></tr><tr><td>Validation Loss</td><td>0.0</td></tr><tr><td>Validation Precision</td><td>1</td></tr><tr><td>Validation Recall</td><td>1</td></tr><tr><td>Validation Specificity</td><td>1</td></tr></table><br/></div></div>"
      ]
     },
     "metadata": {},
     "output_type": "display_data"
    },
    {
     "data": {
      "text/plain": [
       "<IPython.core.display.HTML object>"
      ],
      "text/html": [
       " View run <strong style=\"color:#cdcd00\">VGG19_trial_2_fold_3</strong> at: <a href='https://wandb.ai/amitr5-tel-aviv-university/VGG19%20-%20deep_van_gogh%20-%20aug%20-%20HP%20Tuning%20-%2026.3.2025/runs/6dugvnxv' target=\"_blank\">https://wandb.ai/amitr5-tel-aviv-university/VGG19%20-%20deep_van_gogh%20-%20aug%20-%20HP%20Tuning%20-%2026.3.2025/runs/6dugvnxv</a><br> View project at: <a href='https://wandb.ai/amitr5-tel-aviv-university/VGG19%20-%20deep_van_gogh%20-%20aug%20-%20HP%20Tuning%20-%2026.3.2025' target=\"_blank\">https://wandb.ai/amitr5-tel-aviv-university/VGG19%20-%20deep_van_gogh%20-%20aug%20-%20HP%20Tuning%20-%2026.3.2025</a><br>Synced 5 W&B file(s), 0 media file(s), 0 artifact file(s) and 0 other file(s)"
      ]
     },
     "metadata": {},
     "output_type": "display_data"
    },
    {
     "data": {
      "text/plain": [
       "<IPython.core.display.HTML object>"
      ],
      "text/html": [
       "Find logs at: <code>.\\wandb\\run-20250326_212931-6dugvnxv\\logs</code>"
      ]
     },
     "metadata": {},
     "output_type": "display_data"
    },
    {
     "data": {
      "text/plain": [
       "<IPython.core.display.HTML object>"
      ],
      "text/html": [
       "Tracking run with wandb version 0.19.1"
      ]
     },
     "metadata": {},
     "output_type": "display_data"
    },
    {
     "data": {
      "text/plain": [
       "<IPython.core.display.HTML object>"
      ],
      "text/html": [
       "Run data is saved locally in <code>D:\\Users\\kanatcohen\\PycharmProjects\\deep_van_gogh\\wandb\\run-20250326_213444-zlu0i4hy</code>"
      ]
     },
     "metadata": {},
     "output_type": "display_data"
    },
    {
     "data": {
      "text/plain": [
       "<IPython.core.display.HTML object>"
      ],
      "text/html": [
       "Syncing run <strong><a href='https://wandb.ai/amitr5-tel-aviv-university/VGG19%20-%20deep_van_gogh%20-%20aug%20-%20HP%20Tuning%20-%2026.3.2025/runs/zlu0i4hy' target=\"_blank\">VGG19_trial_2</a></strong> to <a href='https://wandb.ai/amitr5-tel-aviv-university/VGG19%20-%20deep_van_gogh%20-%20aug%20-%20HP%20Tuning%20-%2026.3.2025' target=\"_blank\">Weights & Biases</a> (<a href='https://wandb.me/developer-guide' target=\"_blank\">docs</a>)<br>"
      ]
     },
     "metadata": {},
     "output_type": "display_data"
    },
    {
     "data": {
      "text/plain": [
       "<IPython.core.display.HTML object>"
      ],
      "text/html": [
       " View project at <a href='https://wandb.ai/amitr5-tel-aviv-university/VGG19%20-%20deep_van_gogh%20-%20aug%20-%20HP%20Tuning%20-%2026.3.2025' target=\"_blank\">https://wandb.ai/amitr5-tel-aviv-university/VGG19%20-%20deep_van_gogh%20-%20aug%20-%20HP%20Tuning%20-%2026.3.2025</a>"
      ]
     },
     "metadata": {},
     "output_type": "display_data"
    },
    {
     "data": {
      "text/plain": [
       "<IPython.core.display.HTML object>"
      ],
      "text/html": [
       " View run at <a href='https://wandb.ai/amitr5-tel-aviv-university/VGG19%20-%20deep_van_gogh%20-%20aug%20-%20HP%20Tuning%20-%2026.3.2025/runs/zlu0i4hy' target=\"_blank\">https://wandb.ai/amitr5-tel-aviv-university/VGG19%20-%20deep_van_gogh%20-%20aug%20-%20HP%20Tuning%20-%2026.3.2025/runs/zlu0i4hy</a>"
      ]
     },
     "metadata": {},
     "output_type": "display_data"
    },
    {
     "data": {
      "text/plain": [
       "<IPython.core.display.HTML object>"
      ],
      "text/html": []
     },
     "metadata": {},
     "output_type": "display_data"
    },
    {
     "data": {
      "text/plain": [
       "<IPython.core.display.HTML object>"
      ],
      "text/html": [
       "<br>    <style><br>        .wandb-row {<br>            display: flex;<br>            flex-direction: row;<br>            flex-wrap: wrap;<br>            justify-content: flex-start;<br>            width: 100%;<br>        }<br>        .wandb-col {<br>            display: flex;<br>            flex-direction: column;<br>            flex-basis: 100%;<br>            flex: 1;<br>            padding: 10px;<br>        }<br>    </style><br><div class=\"wandb-row\"><div class=\"wandb-col\"><h3>Run history:</h3><br/><table class=\"wandb\"><tr><td>Mean AUC</td><td>▁</td></tr><tr><td>Trial</td><td>▁</td></tr></table><br/></div><div class=\"wandb-col\"><h3>Run summary:</h3><br/><table class=\"wandb\"><tr><td>Mean AUC</td><td>1</td></tr><tr><td>Trial</td><td>2</td></tr></table><br/></div></div>"
      ]
     },
     "metadata": {},
     "output_type": "display_data"
    },
    {
     "data": {
      "text/plain": [
       "<IPython.core.display.HTML object>"
      ],
      "text/html": [
       " View run <strong style=\"color:#cdcd00\">VGG19_trial_2</strong> at: <a href='https://wandb.ai/amitr5-tel-aviv-university/VGG19%20-%20deep_van_gogh%20-%20aug%20-%20HP%20Tuning%20-%2026.3.2025/runs/zlu0i4hy' target=\"_blank\">https://wandb.ai/amitr5-tel-aviv-university/VGG19%20-%20deep_van_gogh%20-%20aug%20-%20HP%20Tuning%20-%2026.3.2025/runs/zlu0i4hy</a><br> View project at: <a href='https://wandb.ai/amitr5-tel-aviv-university/VGG19%20-%20deep_van_gogh%20-%20aug%20-%20HP%20Tuning%20-%2026.3.2025' target=\"_blank\">https://wandb.ai/amitr5-tel-aviv-university/VGG19%20-%20deep_van_gogh%20-%20aug%20-%20HP%20Tuning%20-%2026.3.2025</a><br>Synced 5 W&B file(s), 0 media file(s), 0 artifact file(s) and 0 other file(s)"
      ]
     },
     "metadata": {},
     "output_type": "display_data"
    },
    {
     "data": {
      "text/plain": [
       "<IPython.core.display.HTML object>"
      ],
      "text/html": [
       "Find logs at: <code>.\\wandb\\run-20250326_213444-zlu0i4hy\\logs</code>"
      ]
     },
     "metadata": {},
     "output_type": "display_data"
    },
    {
     "name": "stderr",
     "output_type": "stream",
     "text": [
      "[I 2025-03-26 21:34:47,610] Trial 1 finished with value: 1.0 and parameters: {'learning_rate': 2.3679866552774772e-05, 'weight_decay': 2.0402759873093568e-06, 'epochs': 11, 'num_layers_finetune': 1}. Best is trial 1 with value: 1.0.\n"
     ]
    },
    {
     "data": {
      "text/plain": [
       "<IPython.core.display.HTML object>"
      ],
      "text/html": [
       "Tracking run with wandb version 0.19.1"
      ]
     },
     "metadata": {},
     "output_type": "display_data"
    },
    {
     "data": {
      "text/plain": [
       "<IPython.core.display.HTML object>"
      ],
      "text/html": [
       "Run data is saved locally in <code>D:\\Users\\kanatcohen\\PycharmProjects\\deep_van_gogh\\wandb\\run-20250326_213447-7xkrqh7z</code>"
      ]
     },
     "metadata": {},
     "output_type": "display_data"
    },
    {
     "data": {
      "text/plain": [
       "<IPython.core.display.HTML object>"
      ],
      "text/html": [
       "Syncing run <strong><a href='https://wandb.ai/amitr5-tel-aviv-university/VGG19%20-%20deep_van_gogh%20-%20aug%20-%20HP%20Tuning%20-%2026.3.2025/runs/7xkrqh7z' target=\"_blank\">VGG19_trial_3_fold_0</a></strong> to <a href='https://wandb.ai/amitr5-tel-aviv-university/VGG19%20-%20deep_van_gogh%20-%20aug%20-%20HP%20Tuning%20-%2026.3.2025' target=\"_blank\">Weights & Biases</a> (<a href='https://wandb.me/developer-guide' target=\"_blank\">docs</a>)<br>"
      ]
     },
     "metadata": {},
     "output_type": "display_data"
    },
    {
     "data": {
      "text/plain": [
       "<IPython.core.display.HTML object>"
      ],
      "text/html": [
       " View project at <a href='https://wandb.ai/amitr5-tel-aviv-university/VGG19%20-%20deep_van_gogh%20-%20aug%20-%20HP%20Tuning%20-%2026.3.2025' target=\"_blank\">https://wandb.ai/amitr5-tel-aviv-university/VGG19%20-%20deep_van_gogh%20-%20aug%20-%20HP%20Tuning%20-%2026.3.2025</a>"
      ]
     },
     "metadata": {},
     "output_type": "display_data"
    },
    {
     "data": {
      "text/plain": [
       "<IPython.core.display.HTML object>"
      ],
      "text/html": [
       " View run at <a href='https://wandb.ai/amitr5-tel-aviv-university/VGG19%20-%20deep_van_gogh%20-%20aug%20-%20HP%20Tuning%20-%2026.3.2025/runs/7xkrqh7z' target=\"_blank\">https://wandb.ai/amitr5-tel-aviv-university/VGG19%20-%20deep_van_gogh%20-%20aug%20-%20HP%20Tuning%20-%2026.3.2025/runs/7xkrqh7z</a>"
      ]
     },
     "metadata": {},
     "output_type": "display_data"
    },
    {
     "data": {
      "text/plain": [
       "<IPython.core.display.HTML object>"
      ],
      "text/html": []
     },
     "metadata": {},
     "output_type": "display_data"
    },
    {
     "data": {
      "text/plain": [
       "<IPython.core.display.HTML object>"
      ],
      "text/html": [
       "<br>    <style><br>        .wandb-row {<br>            display: flex;<br>            flex-direction: row;<br>            flex-wrap: wrap;<br>            justify-content: flex-start;<br>            width: 100%;<br>        }<br>        .wandb-col {<br>            display: flex;<br>            flex-direction: column;<br>            flex-basis: 100%;<br>            flex: 1;<br>            padding: 10px;<br>        }<br>    </style><br><div class=\"wandb-row\"><div class=\"wandb-col\"><h3>Run history:</h3><br/><table class=\"wandb\"><tr><td>AUC</td><td>▁</td></tr><tr><td>Epoch</td><td>▁▂▂▃▃▄▅▅▆▆▇▇█</td></tr><tr><td>Fold</td><td>▁</td></tr><tr><td>Train Accuracy</td><td>▁▆████████▇██</td></tr><tr><td>Train Loss</td><td>█▃▁▁▁▁▁▁▁▁▁▁▁</td></tr><tr><td>Validation AUC</td><td>▁████████▇███</td></tr><tr><td>Validation Accuracy</td><td>▁████████▆▇▇█</td></tr><tr><td>Validation F1</td><td>▁████████▇▇██</td></tr><tr><td>Validation Loss</td><td>█▂▁▁▁▁▁▁▂▄▂▂▂</td></tr><tr><td>Validation Precision</td><td>▁████████▆▇▇█</td></tr><tr><td>Validation Recall</td><td>▁████████▆▇▇█</td></tr><tr><td>Validation Specificity</td><td>████████▇▁█▇█</td></tr></table><br/></div><div class=\"wandb-col\"><h3>Run summary:</h3><br/><table class=\"wandb\"><tr><td>AUC</td><td>1</td></tr><tr><td>Epoch</td><td>13</td></tr><tr><td>Fold</td><td>0</td></tr><tr><td>Train Accuracy</td><td>0.99973</td></tr><tr><td>Train Loss</td><td>0.00058</td></tr><tr><td>Validation AUC</td><td>0.99992</td></tr><tr><td>Validation Accuracy</td><td>0.99672</td></tr><tr><td>Validation F1</td><td>0.99667</td></tr><tr><td>Validation Loss</td><td>0.00902</td></tr><tr><td>Validation Precision</td><td>0.99673</td></tr><tr><td>Validation Recall</td><td>0.99672</td></tr><tr><td>Validation Specificity</td><td>1</td></tr></table><br/></div></div>"
      ]
     },
     "metadata": {},
     "output_type": "display_data"
    },
    {
     "data": {
      "text/plain": [
       "<IPython.core.display.HTML object>"
      ],
      "text/html": [
       " View run <strong style=\"color:#cdcd00\">VGG19_trial_3_fold_0</strong> at: <a href='https://wandb.ai/amitr5-tel-aviv-university/VGG19%20-%20deep_van_gogh%20-%20aug%20-%20HP%20Tuning%20-%2026.3.2025/runs/7xkrqh7z' target=\"_blank\">https://wandb.ai/amitr5-tel-aviv-university/VGG19%20-%20deep_van_gogh%20-%20aug%20-%20HP%20Tuning%20-%2026.3.2025/runs/7xkrqh7z</a><br> View project at: <a href='https://wandb.ai/amitr5-tel-aviv-university/VGG19%20-%20deep_van_gogh%20-%20aug%20-%20HP%20Tuning%20-%2026.3.2025' target=\"_blank\">https://wandb.ai/amitr5-tel-aviv-university/VGG19%20-%20deep_van_gogh%20-%20aug%20-%20HP%20Tuning%20-%2026.3.2025</a><br>Synced 5 W&B file(s), 0 media file(s), 0 artifact file(s) and 0 other file(s)"
      ]
     },
     "metadata": {},
     "output_type": "display_data"
    },
    {
     "data": {
      "text/plain": [
       "<IPython.core.display.HTML object>"
      ],
      "text/html": [
       "Find logs at: <code>.\\wandb\\run-20250326_213447-7xkrqh7z\\logs</code>"
      ]
     },
     "metadata": {},
     "output_type": "display_data"
    },
    {
     "data": {
      "text/plain": [
       "<IPython.core.display.HTML object>"
      ],
      "text/html": [
       "Tracking run with wandb version 0.19.1"
      ]
     },
     "metadata": {},
     "output_type": "display_data"
    },
    {
     "data": {
      "text/plain": [
       "<IPython.core.display.HTML object>"
      ],
      "text/html": [
       "Run data is saved locally in <code>D:\\Users\\kanatcohen\\PycharmProjects\\deep_van_gogh\\wandb\\run-20250327_022122-qonsygrr</code>"
      ]
     },
     "metadata": {},
     "output_type": "display_data"
    },
    {
     "data": {
      "text/plain": [
       "<IPython.core.display.HTML object>"
      ],
      "text/html": [
       "Syncing run <strong><a href='https://wandb.ai/amitr5-tel-aviv-university/VGG19%20-%20deep_van_gogh%20-%20aug%20-%20HP%20Tuning%20-%2026.3.2025/runs/qonsygrr' target=\"_blank\">VGG19_trial_3_fold_1</a></strong> to <a href='https://wandb.ai/amitr5-tel-aviv-university/VGG19%20-%20deep_van_gogh%20-%20aug%20-%20HP%20Tuning%20-%2026.3.2025' target=\"_blank\">Weights & Biases</a> (<a href='https://wandb.me/developer-guide' target=\"_blank\">docs</a>)<br>"
      ]
     },
     "metadata": {},
     "output_type": "display_data"
    },
    {
     "data": {
      "text/plain": [
       "<IPython.core.display.HTML object>"
      ],
      "text/html": [
       " View project at <a href='https://wandb.ai/amitr5-tel-aviv-university/VGG19%20-%20deep_van_gogh%20-%20aug%20-%20HP%20Tuning%20-%2026.3.2025' target=\"_blank\">https://wandb.ai/amitr5-tel-aviv-university/VGG19%20-%20deep_van_gogh%20-%20aug%20-%20HP%20Tuning%20-%2026.3.2025</a>"
      ]
     },
     "metadata": {},
     "output_type": "display_data"
    },
    {
     "data": {
      "text/plain": [
       "<IPython.core.display.HTML object>"
      ],
      "text/html": [
       " View run at <a href='https://wandb.ai/amitr5-tel-aviv-university/VGG19%20-%20deep_van_gogh%20-%20aug%20-%20HP%20Tuning%20-%2026.3.2025/runs/qonsygrr' target=\"_blank\">https://wandb.ai/amitr5-tel-aviv-university/VGG19%20-%20deep_van_gogh%20-%20aug%20-%20HP%20Tuning%20-%2026.3.2025/runs/qonsygrr</a>"
      ]
     },
     "metadata": {},
     "output_type": "display_data"
    },
    {
     "data": {
      "text/plain": [
       "<IPython.core.display.HTML object>"
      ],
      "text/html": []
     },
     "metadata": {},
     "output_type": "display_data"
    },
    {
     "data": {
      "text/plain": [
       "<IPython.core.display.HTML object>"
      ],
      "text/html": [
       "<br>    <style><br>        .wandb-row {<br>            display: flex;<br>            flex-direction: row;<br>            flex-wrap: wrap;<br>            justify-content: flex-start;<br>            width: 100%;<br>        }<br>        .wandb-col {<br>            display: flex;<br>            flex-direction: column;<br>            flex-basis: 100%;<br>            flex: 1;<br>            padding: 10px;<br>        }<br>    </style><br><div class=\"wandb-row\"><div class=\"wandb-col\"><h3>Run history:</h3><br/><table class=\"wandb\"><tr><td>AUC</td><td>▁</td></tr><tr><td>Epoch</td><td>▁▂▂▃▄▅▅▆▇▇█</td></tr><tr><td>Fold</td><td>▁</td></tr><tr><td>Train Accuracy</td><td>▁██████▇███</td></tr><tr><td>Train Loss</td><td>█▁▁▁▁▁▁▂▁▁▁</td></tr><tr><td>Validation AUC</td><td>███████▁█▇█</td></tr><tr><td>Validation Accuracy</td><td>▇▇█████▂▆▁▇</td></tr><tr><td>Validation F1</td><td>▇▇█████▂▆▁▇</td></tr><tr><td>Validation Loss</td><td>▂▂▁▁▁▁▁▇▃█▂</td></tr><tr><td>Validation Precision</td><td>▇▇█████▂▆▁▇</td></tr><tr><td>Validation Recall</td><td>▇▇█████▂▆▁▇</td></tr><tr><td>Validation Specificity</td><td>███▇██▇▁▇█▇</td></tr></table><br/></div><div class=\"wandb-col\"><h3>Run summary:</h3><br/><table class=\"wandb\"><tr><td>AUC</td><td>1</td></tr><tr><td>Epoch</td><td>11</td></tr><tr><td>Fold</td><td>1</td></tr><tr><td>Train Accuracy</td><td>0.99954</td></tr><tr><td>Train Loss</td><td>0.00161</td></tr><tr><td>Validation AUC</td><td>0.99996</td></tr><tr><td>Validation Accuracy</td><td>0.99945</td></tr><tr><td>Validation F1</td><td>0.99945</td></tr><tr><td>Validation Loss</td><td>0.00285</td></tr><tr><td>Validation Precision</td><td>0.99945</td></tr><tr><td>Validation Recall</td><td>0.99945</td></tr><tr><td>Validation Specificity</td><td>0.99971</td></tr></table><br/></div></div>"
      ]
     },
     "metadata": {},
     "output_type": "display_data"
    },
    {
     "data": {
      "text/plain": [
       "<IPython.core.display.HTML object>"
      ],
      "text/html": [
       " View run <strong style=\"color:#cdcd00\">VGG19_trial_3_fold_1</strong> at: <a href='https://wandb.ai/amitr5-tel-aviv-university/VGG19%20-%20deep_van_gogh%20-%20aug%20-%20HP%20Tuning%20-%2026.3.2025/runs/qonsygrr' target=\"_blank\">https://wandb.ai/amitr5-tel-aviv-university/VGG19%20-%20deep_van_gogh%20-%20aug%20-%20HP%20Tuning%20-%2026.3.2025/runs/qonsygrr</a><br> View project at: <a href='https://wandb.ai/amitr5-tel-aviv-university/VGG19%20-%20deep_van_gogh%20-%20aug%20-%20HP%20Tuning%20-%2026.3.2025' target=\"_blank\">https://wandb.ai/amitr5-tel-aviv-university/VGG19%20-%20deep_van_gogh%20-%20aug%20-%20HP%20Tuning%20-%2026.3.2025</a><br>Synced 5 W&B file(s), 0 media file(s), 0 artifact file(s) and 0 other file(s)"
      ]
     },
     "metadata": {},
     "output_type": "display_data"
    },
    {
     "data": {
      "text/plain": [
       "<IPython.core.display.HTML object>"
      ],
      "text/html": [
       "Find logs at: <code>.\\wandb\\run-20250327_022122-qonsygrr\\logs</code>"
      ]
     },
     "metadata": {},
     "output_type": "display_data"
    },
    {
     "data": {
      "text/plain": [
       "<IPython.core.display.HTML object>"
      ],
      "text/html": [
       "Tracking run with wandb version 0.19.1"
      ]
     },
     "metadata": {},
     "output_type": "display_data"
    },
    {
     "data": {
      "text/plain": [
       "<IPython.core.display.HTML object>"
      ],
      "text/html": [
       "Run data is saved locally in <code>D:\\Users\\kanatcohen\\PycharmProjects\\deep_van_gogh\\wandb\\run-20250327_070357-x2iosy4n</code>"
      ]
     },
     "metadata": {},
     "output_type": "display_data"
    },
    {
     "data": {
      "text/plain": [
       "<IPython.core.display.HTML object>"
      ],
      "text/html": [
       "Syncing run <strong><a href='https://wandb.ai/amitr5-tel-aviv-university/VGG19%20-%20deep_van_gogh%20-%20aug%20-%20HP%20Tuning%20-%2026.3.2025/runs/x2iosy4n' target=\"_blank\">VGG19_trial_3_fold_2</a></strong> to <a href='https://wandb.ai/amitr5-tel-aviv-university/VGG19%20-%20deep_van_gogh%20-%20aug%20-%20HP%20Tuning%20-%2026.3.2025' target=\"_blank\">Weights & Biases</a> (<a href='https://wandb.me/developer-guide' target=\"_blank\">docs</a>)<br>"
      ]
     },
     "metadata": {},
     "output_type": "display_data"
    },
    {
     "data": {
      "text/plain": [
       "<IPython.core.display.HTML object>"
      ],
      "text/html": [
       " View project at <a href='https://wandb.ai/amitr5-tel-aviv-university/VGG19%20-%20deep_van_gogh%20-%20aug%20-%20HP%20Tuning%20-%2026.3.2025' target=\"_blank\">https://wandb.ai/amitr5-tel-aviv-university/VGG19%20-%20deep_van_gogh%20-%20aug%20-%20HP%20Tuning%20-%2026.3.2025</a>"
      ]
     },
     "metadata": {},
     "output_type": "display_data"
    },
    {
     "data": {
      "text/plain": [
       "<IPython.core.display.HTML object>"
      ],
      "text/html": [
       " View run at <a href='https://wandb.ai/amitr5-tel-aviv-university/VGG19%20-%20deep_van_gogh%20-%20aug%20-%20HP%20Tuning%20-%2026.3.2025/runs/x2iosy4n' target=\"_blank\">https://wandb.ai/amitr5-tel-aviv-university/VGG19%20-%20deep_van_gogh%20-%20aug%20-%20HP%20Tuning%20-%2026.3.2025/runs/x2iosy4n</a>"
      ]
     },
     "metadata": {},
     "output_type": "display_data"
    },
    {
     "data": {
      "text/plain": [
       "<IPython.core.display.HTML object>"
      ],
      "text/html": []
     },
     "metadata": {},
     "output_type": "display_data"
    },
    {
     "data": {
      "text/plain": [
       "<IPython.core.display.HTML object>"
      ],
      "text/html": [
       "<br>    <style><br>        .wandb-row {<br>            display: flex;<br>            flex-direction: row;<br>            flex-wrap: wrap;<br>            justify-content: flex-start;<br>            width: 100%;<br>        }<br>        .wandb-col {<br>            display: flex;<br>            flex-direction: column;<br>            flex-basis: 100%;<br>            flex: 1;<br>            padding: 10px;<br>        }<br>    </style><br><div class=\"wandb-row\"><div class=\"wandb-col\"><h3>Run history:</h3><br/><table class=\"wandb\"><tr><td>AUC</td><td>▁</td></tr><tr><td>Epoch</td><td>▁▂▃▃▄▅▆▆▇█</td></tr><tr><td>Fold</td><td>▁</td></tr><tr><td>Train Accuracy</td><td>▁█████████</td></tr><tr><td>Train Loss</td><td>█▁▁▁▁▁▁▁▁▁</td></tr><tr><td>Validation AUC</td><td>███▁█▁▆▆██</td></tr><tr><td>Validation Accuracy</td><td>▇█▇▂▅▁▇▆▇▇</td></tr><tr><td>Validation F1</td><td>▇█▇▂▄▁▇▆▇▇</td></tr><tr><td>Validation Loss</td><td>▂▁▂▅▂█▂▂▂▁</td></tr><tr><td>Validation Precision</td><td>▇█▇▂▄▁▇▆▇▇</td></tr><tr><td>Validation Recall</td><td>▇█▇▂▅▁▇▆▇▇</td></tr><tr><td>Validation Specificity</td><td>▆█▆▄▄▁▆▆▆▆</td></tr></table><br/></div><div class=\"wandb-col\"><h3>Run summary:</h3><br/><table class=\"wandb\"><tr><td>AUC</td><td>1</td></tr><tr><td>Epoch</td><td>10</td></tr><tr><td>Fold</td><td>2</td></tr><tr><td>Train Accuracy</td><td>1</td></tr><tr><td>Train Loss</td><td>2e-05</td></tr><tr><td>Validation AUC</td><td>0.99999</td></tr><tr><td>Validation Accuracy</td><td>0.99945</td></tr><tr><td>Validation F1</td><td>0.99945</td></tr><tr><td>Validation Loss</td><td>0.00147</td></tr><tr><td>Validation Precision</td><td>0.99946</td></tr><tr><td>Validation Recall</td><td>0.99945</td></tr><tr><td>Validation Specificity</td><td>0.99942</td></tr></table><br/></div></div>"
      ]
     },
     "metadata": {},
     "output_type": "display_data"
    },
    {
     "data": {
      "text/plain": [
       "<IPython.core.display.HTML object>"
      ],
      "text/html": [
       " View run <strong style=\"color:#cdcd00\">VGG19_trial_3_fold_2</strong> at: <a href='https://wandb.ai/amitr5-tel-aviv-university/VGG19%20-%20deep_van_gogh%20-%20aug%20-%20HP%20Tuning%20-%2026.3.2025/runs/x2iosy4n' target=\"_blank\">https://wandb.ai/amitr5-tel-aviv-university/VGG19%20-%20deep_van_gogh%20-%20aug%20-%20HP%20Tuning%20-%2026.3.2025/runs/x2iosy4n</a><br> View project at: <a href='https://wandb.ai/amitr5-tel-aviv-university/VGG19%20-%20deep_van_gogh%20-%20aug%20-%20HP%20Tuning%20-%2026.3.2025' target=\"_blank\">https://wandb.ai/amitr5-tel-aviv-university/VGG19%20-%20deep_van_gogh%20-%20aug%20-%20HP%20Tuning%20-%2026.3.2025</a><br>Synced 5 W&B file(s), 0 media file(s), 0 artifact file(s) and 0 other file(s)"
      ]
     },
     "metadata": {},
     "output_type": "display_data"
    },
    {
     "data": {
      "text/plain": [
       "<IPython.core.display.HTML object>"
      ],
      "text/html": [
       "Find logs at: <code>.\\wandb\\run-20250327_070357-x2iosy4n\\logs</code>"
      ]
     },
     "metadata": {},
     "output_type": "display_data"
    },
    {
     "data": {
      "text/plain": [
       "<IPython.core.display.HTML object>"
      ],
      "text/html": [
       "Tracking run with wandb version 0.19.1"
      ]
     },
     "metadata": {},
     "output_type": "display_data"
    },
    {
     "data": {
      "text/plain": [
       "<IPython.core.display.HTML object>"
      ],
      "text/html": [
       "Run data is saved locally in <code>D:\\Users\\kanatcohen\\PycharmProjects\\deep_van_gogh\\wandb\\run-20250327_112301-dlv5mi56</code>"
      ]
     },
     "metadata": {},
     "output_type": "display_data"
    },
    {
     "data": {
      "text/plain": [
       "<IPython.core.display.HTML object>"
      ],
      "text/html": [
       "Syncing run <strong><a href='https://wandb.ai/amitr5-tel-aviv-university/VGG19%20-%20deep_van_gogh%20-%20aug%20-%20HP%20Tuning%20-%2026.3.2025/runs/dlv5mi56' target=\"_blank\">VGG19_trial_3_fold_3</a></strong> to <a href='https://wandb.ai/amitr5-tel-aviv-university/VGG19%20-%20deep_van_gogh%20-%20aug%20-%20HP%20Tuning%20-%2026.3.2025' target=\"_blank\">Weights & Biases</a> (<a href='https://wandb.me/developer-guide' target=\"_blank\">docs</a>)<br>"
      ]
     },
     "metadata": {},
     "output_type": "display_data"
    },
    {
     "data": {
      "text/plain": [
       "<IPython.core.display.HTML object>"
      ],
      "text/html": [
       " View project at <a href='https://wandb.ai/amitr5-tel-aviv-university/VGG19%20-%20deep_van_gogh%20-%20aug%20-%20HP%20Tuning%20-%2026.3.2025' target=\"_blank\">https://wandb.ai/amitr5-tel-aviv-university/VGG19%20-%20deep_van_gogh%20-%20aug%20-%20HP%20Tuning%20-%2026.3.2025</a>"
      ]
     },
     "metadata": {},
     "output_type": "display_data"
    },
    {
     "data": {
      "text/plain": [
       "<IPython.core.display.HTML object>"
      ],
      "text/html": [
       " View run at <a href='https://wandb.ai/amitr5-tel-aviv-university/VGG19%20-%20deep_van_gogh%20-%20aug%20-%20HP%20Tuning%20-%2026.3.2025/runs/dlv5mi56' target=\"_blank\">https://wandb.ai/amitr5-tel-aviv-university/VGG19%20-%20deep_van_gogh%20-%20aug%20-%20HP%20Tuning%20-%2026.3.2025/runs/dlv5mi56</a>"
      ]
     },
     "metadata": {},
     "output_type": "display_data"
    },
    {
     "name": "stderr",
     "output_type": "stream",
     "text": [
      "Exception in thread ChkStopThr:\n",
      "Traceback (most recent call last):\n",
      "  File \"C:\\Users\\kanatcohen\\.conda\\envs\\DeepLearning_env\\lib\\threading.py\", line 980, in _bootstrap_inner\n",
      "    self.run()\n",
      "  File \"C:\\Users\\kanatcohen\\.conda\\envs\\DeepLearning_env\\lib\\threading.py\", line 917, in run\n",
      "    self._target(*self._args, **self._kwargs)\n",
      "  File \"C:\\Users\\kanatcohen\\.conda\\envs\\DeepLearning_env\\lib\\site-packages\\wandb\\sdk\\wandb_run.py\", line 294, in check_stop_status\n",
      "    self._loop_check_status(\n",
      "  File \"C:\\Users\\kanatcohen\\.conda\\envs\\DeepLearning_env\\lib\\site-packages\\wandb\\sdk\\wandb_run.py\", line 224, in _loop_check_status\n",
      "    local_handle = request()\n",
      "  File \"C:\\Users\\kanatcohen\\.conda\\envs\\DeepLearning_env\\lib\\site-packages\\wandb\\sdk\\interface\\interface.py\", line 924, in deliver_stop_status\n",
      "    return self._deliver_stop_status(status)\n",
      "  File \"C:\\Users\\kanatcohen\\.conda\\envs\\DeepLearning_env\\lib\\site-packages\\wandb\\sdk\\interface\\interface_shared.py\", line 496, in _deliver_stop_status\n",
      "    return self._deliver_record(record)\n",
      "  File \"C:\\Users\\kanatcohen\\.conda\\envs\\DeepLearning_env\\lib\\site-packages\\wandb\\sdk\\interface\\interface_shared.py\", line 455, in _deliver_record\n",
      "    handle = mailbox._deliver_record(record, interface=self)\n",
      "  File \"C:\\Users\\kanatcohen\\.conda\\envs\\DeepLearning_env\\lib\\site-packages\\wandb\\sdk\\lib\\mailbox.py\", line 451, in _deliver_record\n",
      "    interface._publish(record)\n",
      "  File \"C:\\Users\\kanatcohen\\.conda\\envs\\DeepLearning_env\\lib\\site-packages\\wandb\\sdk\\interface\\interface_sock.py\", line 51, in _publish\n",
      "    self._sock_client.send_record_publish(record)\n",
      "  File \"C:\\Users\\kanatcohen\\.conda\\envs\\DeepLearning_env\\lib\\site-packages\\wandb\\sdk\\lib\\sock_client.py\", line 222, in send_record_publish\n",
      "    self.send_server_request(server_req)\n",
      "  File \"C:\\Users\\kanatcohen\\.conda\\envs\\DeepLearning_env\\lib\\site-packages\\wandb\\sdk\\lib\\sock_client.py\", line 154, in send_server_request\n",
      "    self._send_message(msg)\n",
      "  File \"C:\\Users\\kanatcohen\\.conda\\envs\\DeepLearning_env\\lib\\site-packages\\wandb\\sdk\\lib\\sock_client.py\", line 151, in _send_message\n",
      "    self._sendall_with_error_handle(header + data)\n",
      "  File \"C:\\Users\\kanatcohen\\.conda\\envs\\DeepLearning_env\\lib\\site-packages\\wandb\\sdk\\lib\\sock_client.py\", line 130, in _sendall_with_error_handle\n",
      "    sent = self._sock.send(data)\n",
      "ConnectionResetError: [WinError 10054] An existing connection was forcibly closed by the remote host\n",
      "Exception in thread IntMsgThr:\n",
      "Traceback (most recent call last):\n",
      "  File \"C:\\Users\\kanatcohen\\.conda\\envs\\DeepLearning_env\\lib\\threading.py\", line 980, in _bootstrap_inner\n",
      "    self.run()\n",
      "  File \"C:\\Users\\kanatcohen\\.conda\\envs\\DeepLearning_env\\lib\\threading.py\", line 917, in run\n",
      "    self._target(*self._args, **self._kwargs)\n",
      "  File \"C:\\Users\\kanatcohen\\.conda\\envs\\DeepLearning_env\\lib\\site-packages\\wandb\\sdk\\wandb_run.py\", line 314, in check_internal_messages\n",
      "    self._loop_check_status(\n",
      "  File \"C:\\Users\\kanatcohen\\.conda\\envs\\DeepLearning_env\\lib\\site-packages\\wandb\\sdk\\wandb_run.py\", line 224, in _loop_check_status\n",
      "    local_handle = request()\n",
      "  File \"C:\\Users\\kanatcohen\\.conda\\envs\\DeepLearning_env\\lib\\site-packages\\wandb\\sdk\\interface\\interface.py\", line 940, in deliver_internal_messages\n",
      "    return self._deliver_internal_messages(internal_message)\n",
      "  File \"C:\\Users\\kanatcohen\\.conda\\envs\\DeepLearning_env\\lib\\site-packages\\wandb\\sdk\\interface\\interface_shared.py\", line 512, in _deliver_internal_messages\n",
      "    return self._deliver_record(record)\n",
      "  File \"C:\\Users\\kanatcohen\\.conda\\envs\\DeepLearning_env\\lib\\site-packages\\wandb\\sdk\\interface\\interface_shared.py\", line 455, in _deliver_record\n",
      "    handle = mailbox._deliver_record(record, interface=self)\n",
      "  File \"C:\\Users\\kanatcohen\\.conda\\envs\\DeepLearning_env\\lib\\site-packages\\wandb\\sdk\\lib\\mailbox.py\", line 451, in _deliver_record\n",
      "    interface._publish(record)\n",
      "  File \"C:\\Users\\kanatcohen\\.conda\\envs\\DeepLearning_env\\lib\\site-packages\\wandb\\sdk\\interface\\interface_sock.py\", line 51, in _publish\n",
      "    self._sock_client.send_record_publish(record)\n",
      "  File \"C:\\Users\\kanatcohen\\.conda\\envs\\DeepLearning_env\\lib\\site-packages\\wandb\\sdk\\lib\\sock_client.py\", line 222, in send_record_publish\n",
      "    self.send_server_request(server_req)\n",
      "  File \"C:\\Users\\kanatcohen\\.conda\\envs\\DeepLearning_env\\lib\\site-packages\\wandb\\sdk\\lib\\sock_client.py\", line 154, in send_server_request\n",
      "    self._send_message(msg)\n",
      "  File \"C:\\Users\\kanatcohen\\.conda\\envs\\DeepLearning_env\\lib\\site-packages\\wandb\\sdk\\lib\\sock_client.py\", line 151, in _send_message\n",
      "    self._sendall_with_error_handle(header + data)\n",
      "  File \"C:\\Users\\kanatcohen\\.conda\\envs\\DeepLearning_env\\lib\\site-packages\\wandb\\sdk\\lib\\sock_client.py\", line 130, in _sendall_with_error_handle\n",
      "    sent = self._sock.send(data)\n",
      "ConnectionResetError: [WinError 10054] An existing connection was forcibly closed by the remote host\n",
      "[W 2025-03-27 13:34:06,571] Trial 2 failed with parameters: {'learning_rate': 1.9227553866139026e-05, 'weight_decay': 1.0268960283742997e-06, 'epochs': 13, 'num_layers_finetune': 2} because of the following error: ConnectionResetError(10054, 'An existing connection was forcibly closed by the remote host', None, 10054, None).\n",
      "Traceback (most recent call last):\n",
      "  File \"C:\\Users\\kanatcohen\\.conda\\envs\\DeepLearning_env\\lib\\site-packages\\optuna\\study\\_optimize.py\", line 197, in _run_trial\n",
      "    value_or_values = func(trial)\n",
      "  File \"C:\\Users\\kanatcohen\\AppData\\Local\\Temp\\ipykernel_5788\\2319463337.py\", line 3, in <lambda>\n",
      "    study.optimize(lambda trial: objective(trial, vgg_model, config={}), n_trials=15)\n",
      "  File \"C:\\Users\\kanatcohen\\AppData\\Local\\Temp\\ipykernel_5788\\1656522460.py\", line 52, in objective\n",
      "    mean_val = cross_validation(augmented_train_dataset, learning_rate, weight_decay, criterion, epochs, patience, device, architecture, trial, num_layers_finetune)\n",
      "  File \"C:\\Users\\kanatcohen\\AppData\\Local\\Temp\\ipykernel_5788\\2232704372.py\", line 43, in cross_validation\n",
      "    best_val = train_model_with_hyperparams(model,\n",
      "  File \"D:\\Users\\kanatcohen\\PycharmProjects\\deep_van_gogh\\train.py\", line 129, in train_model_with_hyperparams\n",
      "    wandb.log({ #log == logging of the training process (e.g. results)\n",
      "  File \"C:\\Users\\kanatcohen\\.conda\\envs\\DeepLearning_env\\lib\\site-packages\\wandb\\sdk\\wandb_run.py\", line 440, in wrapper\n",
      "    return func(self, *args, **kwargs)\n",
      "  File \"C:\\Users\\kanatcohen\\.conda\\envs\\DeepLearning_env\\lib\\site-packages\\wandb\\sdk\\wandb_run.py\", line 392, in wrapper_fn\n",
      "    return func(self, *args, **kwargs)\n",
      "  File \"C:\\Users\\kanatcohen\\.conda\\envs\\DeepLearning_env\\lib\\site-packages\\wandb\\sdk\\wandb_run.py\", line 382, in wrapper\n",
      "    return func(self, *args, **kwargs)\n",
      "  File \"C:\\Users\\kanatcohen\\.conda\\envs\\DeepLearning_env\\lib\\site-packages\\wandb\\sdk\\wandb_run.py\", line 1861, in log\n",
      "    self._log(data=data, step=step, commit=commit)\n",
      "  File \"C:\\Users\\kanatcohen\\.conda\\envs\\DeepLearning_env\\lib\\site-packages\\wandb\\sdk\\wandb_run.py\", line 1574, in _log\n",
      "    self._partial_history_callback(data, step, commit)\n",
      "  File \"C:\\Users\\kanatcohen\\.conda\\envs\\DeepLearning_env\\lib\\site-packages\\wandb\\sdk\\wandb_run.py\", line 1405, in _partial_history_callback\n",
      "    self._backend.interface.publish_partial_history(\n",
      "  File \"C:\\Users\\kanatcohen\\.conda\\envs\\DeepLearning_env\\lib\\site-packages\\wandb\\sdk\\interface\\interface.py\", line 676, in publish_partial_history\n",
      "    self._publish_partial_history(partial_history)\n",
      "  File \"C:\\Users\\kanatcohen\\.conda\\envs\\DeepLearning_env\\lib\\site-packages\\wandb\\sdk\\interface\\interface_shared.py\", line 89, in _publish_partial_history\n",
      "    self._publish(rec)\n",
      "  File \"C:\\Users\\kanatcohen\\.conda\\envs\\DeepLearning_env\\lib\\site-packages\\wandb\\sdk\\interface\\interface_sock.py\", line 51, in _publish\n",
      "    self._sock_client.send_record_publish(record)\n",
      "  File \"C:\\Users\\kanatcohen\\.conda\\envs\\DeepLearning_env\\lib\\site-packages\\wandb\\sdk\\lib\\sock_client.py\", line 222, in send_record_publish\n",
      "    self.send_server_request(server_req)\n",
      "  File \"C:\\Users\\kanatcohen\\.conda\\envs\\DeepLearning_env\\lib\\site-packages\\wandb\\sdk\\lib\\sock_client.py\", line 154, in send_server_request\n",
      "    self._send_message(msg)\n",
      "  File \"C:\\Users\\kanatcohen\\.conda\\envs\\DeepLearning_env\\lib\\site-packages\\wandb\\sdk\\lib\\sock_client.py\", line 151, in _send_message\n",
      "    self._sendall_with_error_handle(header + data)\n",
      "  File \"C:\\Users\\kanatcohen\\.conda\\envs\\DeepLearning_env\\lib\\site-packages\\wandb\\sdk\\lib\\sock_client.py\", line 130, in _sendall_with_error_handle\n",
      "    sent = self._sock.send(data)\n",
      "ConnectionResetError: [WinError 10054] An existing connection was forcibly closed by the remote host\n",
      "[W 2025-03-27 13:34:07,289] Trial 2 failed with value None.\n"
     ]
    },
    {
     "ename": "ConnectionResetError",
     "evalue": "[WinError 10054] An existing connection was forcibly closed by the remote host",
     "output_type": "error",
     "traceback": [
      "\u001B[1;31m---------------------------------------------------------------------------\u001B[0m",
      "\u001B[1;31mConnectionResetError\u001B[0m                      Traceback (most recent call last)",
      "Cell \u001B[1;32mIn[15], line 3\u001B[0m\n\u001B[0;32m      1\u001B[0m \u001B[38;5;66;03m# Optuna for our vgg model with the default config\u001B[39;00m\n\u001B[0;32m      2\u001B[0m study \u001B[38;5;241m=\u001B[39m optuna\u001B[38;5;241m.\u001B[39mcreate_study(study_name\u001B[38;5;241m=\u001B[39mVGG19, direction\u001B[38;5;241m=\u001B[39m\u001B[38;5;124m'\u001B[39m\u001B[38;5;124mmaximize\u001B[39m\u001B[38;5;124m'\u001B[39m)\n\u001B[1;32m----> 3\u001B[0m \u001B[43mstudy\u001B[49m\u001B[38;5;241;43m.\u001B[39;49m\u001B[43moptimize\u001B[49m\u001B[43m(\u001B[49m\u001B[38;5;28;43;01mlambda\u001B[39;49;00m\u001B[43m \u001B[49m\u001B[43mtrial\u001B[49m\u001B[43m:\u001B[49m\u001B[43m \u001B[49m\u001B[43mobjective\u001B[49m\u001B[43m(\u001B[49m\u001B[43mtrial\u001B[49m\u001B[43m,\u001B[49m\u001B[43m \u001B[49m\u001B[43mvgg_model\u001B[49m\u001B[43m,\u001B[49m\u001B[43m \u001B[49m\u001B[43mconfig\u001B[49m\u001B[38;5;241;43m=\u001B[39;49m\u001B[43m{\u001B[49m\u001B[43m}\u001B[49m\u001B[43m)\u001B[49m\u001B[43m,\u001B[49m\u001B[43m \u001B[49m\u001B[43mn_trials\u001B[49m\u001B[38;5;241;43m=\u001B[39;49m\u001B[38;5;241;43m15\u001B[39;49m\u001B[43m)\u001B[49m\n",
      "File \u001B[1;32m~\\.conda\\envs\\DeepLearning_env\\lib\\site-packages\\optuna\\study\\study.py:475\u001B[0m, in \u001B[0;36mStudy.optimize\u001B[1;34m(self, func, n_trials, timeout, n_jobs, catch, callbacks, gc_after_trial, show_progress_bar)\u001B[0m\n\u001B[0;32m    373\u001B[0m \u001B[38;5;28;01mdef\u001B[39;00m \u001B[38;5;21moptimize\u001B[39m(\n\u001B[0;32m    374\u001B[0m     \u001B[38;5;28mself\u001B[39m,\n\u001B[0;32m    375\u001B[0m     func: ObjectiveFuncType,\n\u001B[1;32m   (...)\u001B[0m\n\u001B[0;32m    382\u001B[0m     show_progress_bar: \u001B[38;5;28mbool\u001B[39m \u001B[38;5;241m=\u001B[39m \u001B[38;5;28;01mFalse\u001B[39;00m,\n\u001B[0;32m    383\u001B[0m ) \u001B[38;5;241m-\u001B[39m\u001B[38;5;241m>\u001B[39m \u001B[38;5;28;01mNone\u001B[39;00m:\n\u001B[0;32m    384\u001B[0m \u001B[38;5;250m    \u001B[39m\u001B[38;5;124;03m\"\"\"Optimize an objective function.\u001B[39;00m\n\u001B[0;32m    385\u001B[0m \n\u001B[0;32m    386\u001B[0m \u001B[38;5;124;03m    Optimization is done by choosing a suitable set of hyperparameter values from a given\u001B[39;00m\n\u001B[1;32m   (...)\u001B[0m\n\u001B[0;32m    473\u001B[0m \u001B[38;5;124;03m            If nested invocation of this method occurs.\u001B[39;00m\n\u001B[0;32m    474\u001B[0m \u001B[38;5;124;03m    \"\"\"\u001B[39;00m\n\u001B[1;32m--> 475\u001B[0m     \u001B[43m_optimize\u001B[49m\u001B[43m(\u001B[49m\n\u001B[0;32m    476\u001B[0m \u001B[43m        \u001B[49m\u001B[43mstudy\u001B[49m\u001B[38;5;241;43m=\u001B[39;49m\u001B[38;5;28;43mself\u001B[39;49m\u001B[43m,\u001B[49m\n\u001B[0;32m    477\u001B[0m \u001B[43m        \u001B[49m\u001B[43mfunc\u001B[49m\u001B[38;5;241;43m=\u001B[39;49m\u001B[43mfunc\u001B[49m\u001B[43m,\u001B[49m\n\u001B[0;32m    478\u001B[0m \u001B[43m        \u001B[49m\u001B[43mn_trials\u001B[49m\u001B[38;5;241;43m=\u001B[39;49m\u001B[43mn_trials\u001B[49m\u001B[43m,\u001B[49m\n\u001B[0;32m    479\u001B[0m \u001B[43m        \u001B[49m\u001B[43mtimeout\u001B[49m\u001B[38;5;241;43m=\u001B[39;49m\u001B[43mtimeout\u001B[49m\u001B[43m,\u001B[49m\n\u001B[0;32m    480\u001B[0m \u001B[43m        \u001B[49m\u001B[43mn_jobs\u001B[49m\u001B[38;5;241;43m=\u001B[39;49m\u001B[43mn_jobs\u001B[49m\u001B[43m,\u001B[49m\n\u001B[0;32m    481\u001B[0m \u001B[43m        \u001B[49m\u001B[43mcatch\u001B[49m\u001B[38;5;241;43m=\u001B[39;49m\u001B[38;5;28;43mtuple\u001B[39;49m\u001B[43m(\u001B[49m\u001B[43mcatch\u001B[49m\u001B[43m)\u001B[49m\u001B[43m \u001B[49m\u001B[38;5;28;43;01mif\u001B[39;49;00m\u001B[43m \u001B[49m\u001B[38;5;28;43misinstance\u001B[39;49m\u001B[43m(\u001B[49m\u001B[43mcatch\u001B[49m\u001B[43m,\u001B[49m\u001B[43m \u001B[49m\u001B[43mIterable\u001B[49m\u001B[43m)\u001B[49m\u001B[43m \u001B[49m\u001B[38;5;28;43;01melse\u001B[39;49;00m\u001B[43m \u001B[49m\u001B[43m(\u001B[49m\u001B[43mcatch\u001B[49m\u001B[43m,\u001B[49m\u001B[43m)\u001B[49m\u001B[43m,\u001B[49m\n\u001B[0;32m    482\u001B[0m \u001B[43m        \u001B[49m\u001B[43mcallbacks\u001B[49m\u001B[38;5;241;43m=\u001B[39;49m\u001B[43mcallbacks\u001B[49m\u001B[43m,\u001B[49m\n\u001B[0;32m    483\u001B[0m \u001B[43m        \u001B[49m\u001B[43mgc_after_trial\u001B[49m\u001B[38;5;241;43m=\u001B[39;49m\u001B[43mgc_after_trial\u001B[49m\u001B[43m,\u001B[49m\n\u001B[0;32m    484\u001B[0m \u001B[43m        \u001B[49m\u001B[43mshow_progress_bar\u001B[49m\u001B[38;5;241;43m=\u001B[39;49m\u001B[43mshow_progress_bar\u001B[49m\u001B[43m,\u001B[49m\n\u001B[0;32m    485\u001B[0m \u001B[43m    \u001B[49m\u001B[43m)\u001B[49m\n",
      "File \u001B[1;32m~\\.conda\\envs\\DeepLearning_env\\lib\\site-packages\\optuna\\study\\_optimize.py:63\u001B[0m, in \u001B[0;36m_optimize\u001B[1;34m(study, func, n_trials, timeout, n_jobs, catch, callbacks, gc_after_trial, show_progress_bar)\u001B[0m\n\u001B[0;32m     61\u001B[0m \u001B[38;5;28;01mtry\u001B[39;00m:\n\u001B[0;32m     62\u001B[0m     \u001B[38;5;28;01mif\u001B[39;00m n_jobs \u001B[38;5;241m==\u001B[39m \u001B[38;5;241m1\u001B[39m:\n\u001B[1;32m---> 63\u001B[0m         \u001B[43m_optimize_sequential\u001B[49m\u001B[43m(\u001B[49m\n\u001B[0;32m     64\u001B[0m \u001B[43m            \u001B[49m\u001B[43mstudy\u001B[49m\u001B[43m,\u001B[49m\n\u001B[0;32m     65\u001B[0m \u001B[43m            \u001B[49m\u001B[43mfunc\u001B[49m\u001B[43m,\u001B[49m\n\u001B[0;32m     66\u001B[0m \u001B[43m            \u001B[49m\u001B[43mn_trials\u001B[49m\u001B[43m,\u001B[49m\n\u001B[0;32m     67\u001B[0m \u001B[43m            \u001B[49m\u001B[43mtimeout\u001B[49m\u001B[43m,\u001B[49m\n\u001B[0;32m     68\u001B[0m \u001B[43m            \u001B[49m\u001B[43mcatch\u001B[49m\u001B[43m,\u001B[49m\n\u001B[0;32m     69\u001B[0m \u001B[43m            \u001B[49m\u001B[43mcallbacks\u001B[49m\u001B[43m,\u001B[49m\n\u001B[0;32m     70\u001B[0m \u001B[43m            \u001B[49m\u001B[43mgc_after_trial\u001B[49m\u001B[43m,\u001B[49m\n\u001B[0;32m     71\u001B[0m \u001B[43m            \u001B[49m\u001B[43mreseed_sampler_rng\u001B[49m\u001B[38;5;241;43m=\u001B[39;49m\u001B[38;5;28;43;01mFalse\u001B[39;49;00m\u001B[43m,\u001B[49m\n\u001B[0;32m     72\u001B[0m \u001B[43m            \u001B[49m\u001B[43mtime_start\u001B[49m\u001B[38;5;241;43m=\u001B[39;49m\u001B[38;5;28;43;01mNone\u001B[39;49;00m\u001B[43m,\u001B[49m\n\u001B[0;32m     73\u001B[0m \u001B[43m            \u001B[49m\u001B[43mprogress_bar\u001B[49m\u001B[38;5;241;43m=\u001B[39;49m\u001B[43mprogress_bar\u001B[49m\u001B[43m,\u001B[49m\n\u001B[0;32m     74\u001B[0m \u001B[43m        \u001B[49m\u001B[43m)\u001B[49m\n\u001B[0;32m     75\u001B[0m     \u001B[38;5;28;01melse\u001B[39;00m:\n\u001B[0;32m     76\u001B[0m         \u001B[38;5;28;01mif\u001B[39;00m n_jobs \u001B[38;5;241m==\u001B[39m \u001B[38;5;241m-\u001B[39m\u001B[38;5;241m1\u001B[39m:\n",
      "File \u001B[1;32m~\\.conda\\envs\\DeepLearning_env\\lib\\site-packages\\optuna\\study\\_optimize.py:160\u001B[0m, in \u001B[0;36m_optimize_sequential\u001B[1;34m(study, func, n_trials, timeout, catch, callbacks, gc_after_trial, reseed_sampler_rng, time_start, progress_bar)\u001B[0m\n\u001B[0;32m    157\u001B[0m         \u001B[38;5;28;01mbreak\u001B[39;00m\n\u001B[0;32m    159\u001B[0m \u001B[38;5;28;01mtry\u001B[39;00m:\n\u001B[1;32m--> 160\u001B[0m     frozen_trial \u001B[38;5;241m=\u001B[39m \u001B[43m_run_trial\u001B[49m\u001B[43m(\u001B[49m\u001B[43mstudy\u001B[49m\u001B[43m,\u001B[49m\u001B[43m \u001B[49m\u001B[43mfunc\u001B[49m\u001B[43m,\u001B[49m\u001B[43m \u001B[49m\u001B[43mcatch\u001B[49m\u001B[43m)\u001B[49m\n\u001B[0;32m    161\u001B[0m \u001B[38;5;28;01mfinally\u001B[39;00m:\n\u001B[0;32m    162\u001B[0m     \u001B[38;5;66;03m# The following line mitigates memory problems that can be occurred in some\u001B[39;00m\n\u001B[0;32m    163\u001B[0m     \u001B[38;5;66;03m# environments (e.g., services that use computing containers such as GitHub Actions).\u001B[39;00m\n\u001B[0;32m    164\u001B[0m     \u001B[38;5;66;03m# Please refer to the following PR for further details:\u001B[39;00m\n\u001B[0;32m    165\u001B[0m     \u001B[38;5;66;03m# https://github.com/optuna/optuna/pull/325.\u001B[39;00m\n\u001B[0;32m    166\u001B[0m     \u001B[38;5;28;01mif\u001B[39;00m gc_after_trial:\n",
      "File \u001B[1;32m~\\.conda\\envs\\DeepLearning_env\\lib\\site-packages\\optuna\\study\\_optimize.py:248\u001B[0m, in \u001B[0;36m_run_trial\u001B[1;34m(study, func, catch)\u001B[0m\n\u001B[0;32m    241\u001B[0m         \u001B[38;5;28;01massert\u001B[39;00m \u001B[38;5;28;01mFalse\u001B[39;00m, \u001B[38;5;124m\"\u001B[39m\u001B[38;5;124mShould not reach.\u001B[39m\u001B[38;5;124m\"\u001B[39m\n\u001B[0;32m    243\u001B[0m \u001B[38;5;28;01mif\u001B[39;00m (\n\u001B[0;32m    244\u001B[0m     frozen_trial\u001B[38;5;241m.\u001B[39mstate \u001B[38;5;241m==\u001B[39m TrialState\u001B[38;5;241m.\u001B[39mFAIL\n\u001B[0;32m    245\u001B[0m     \u001B[38;5;129;01mand\u001B[39;00m func_err \u001B[38;5;129;01mis\u001B[39;00m \u001B[38;5;129;01mnot\u001B[39;00m \u001B[38;5;28;01mNone\u001B[39;00m\n\u001B[0;32m    246\u001B[0m     \u001B[38;5;129;01mand\u001B[39;00m \u001B[38;5;129;01mnot\u001B[39;00m \u001B[38;5;28misinstance\u001B[39m(func_err, catch)\n\u001B[0;32m    247\u001B[0m ):\n\u001B[1;32m--> 248\u001B[0m     \u001B[38;5;28;01mraise\u001B[39;00m func_err\n\u001B[0;32m    249\u001B[0m \u001B[38;5;28;01mreturn\u001B[39;00m frozen_trial\n",
      "File \u001B[1;32m~\\.conda\\envs\\DeepLearning_env\\lib\\site-packages\\optuna\\study\\_optimize.py:197\u001B[0m, in \u001B[0;36m_run_trial\u001B[1;34m(study, func, catch)\u001B[0m\n\u001B[0;32m    195\u001B[0m \u001B[38;5;28;01mwith\u001B[39;00m get_heartbeat_thread(trial\u001B[38;5;241m.\u001B[39m_trial_id, study\u001B[38;5;241m.\u001B[39m_storage):\n\u001B[0;32m    196\u001B[0m     \u001B[38;5;28;01mtry\u001B[39;00m:\n\u001B[1;32m--> 197\u001B[0m         value_or_values \u001B[38;5;241m=\u001B[39m \u001B[43mfunc\u001B[49m\u001B[43m(\u001B[49m\u001B[43mtrial\u001B[49m\u001B[43m)\u001B[49m\n\u001B[0;32m    198\u001B[0m     \u001B[38;5;28;01mexcept\u001B[39;00m exceptions\u001B[38;5;241m.\u001B[39mTrialPruned \u001B[38;5;28;01mas\u001B[39;00m e:\n\u001B[0;32m    199\u001B[0m         \u001B[38;5;66;03m# TODO(mamu): Handle multi-objective cases.\u001B[39;00m\n\u001B[0;32m    200\u001B[0m         state \u001B[38;5;241m=\u001B[39m TrialState\u001B[38;5;241m.\u001B[39mPRUNED\n",
      "Cell \u001B[1;32mIn[15], line 3\u001B[0m, in \u001B[0;36m<lambda>\u001B[1;34m(trial)\u001B[0m\n\u001B[0;32m      1\u001B[0m \u001B[38;5;66;03m# Optuna for our vgg model with the default config\u001B[39;00m\n\u001B[0;32m      2\u001B[0m study \u001B[38;5;241m=\u001B[39m optuna\u001B[38;5;241m.\u001B[39mcreate_study(study_name\u001B[38;5;241m=\u001B[39mVGG19, direction\u001B[38;5;241m=\u001B[39m\u001B[38;5;124m'\u001B[39m\u001B[38;5;124mmaximize\u001B[39m\u001B[38;5;124m'\u001B[39m)\n\u001B[1;32m----> 3\u001B[0m study\u001B[38;5;241m.\u001B[39moptimize(\u001B[38;5;28;01mlambda\u001B[39;00m trial: \u001B[43mobjective\u001B[49m\u001B[43m(\u001B[49m\u001B[43mtrial\u001B[49m\u001B[43m,\u001B[49m\u001B[43m \u001B[49m\u001B[43mvgg_model\u001B[49m\u001B[43m,\u001B[49m\u001B[43m \u001B[49m\u001B[43mconfig\u001B[49m\u001B[38;5;241;43m=\u001B[39;49m\u001B[43m{\u001B[49m\u001B[43m}\u001B[49m\u001B[43m)\u001B[49m, n_trials\u001B[38;5;241m=\u001B[39m\u001B[38;5;241m15\u001B[39m)\n",
      "Cell \u001B[1;32mIn[14], line 52\u001B[0m, in \u001B[0;36mobjective\u001B[1;34m(trial, model, config)\u001B[0m\n\u001B[0;32m     37\u001B[0m architecture \u001B[38;5;241m=\u001B[39m \u001B[38;5;28mgetattr\u001B[39m(model, \u001B[38;5;124m\"\u001B[39m\u001B[38;5;124marchitecture\u001B[39m\u001B[38;5;124m\"\u001B[39m, model\u001B[38;5;241m.\u001B[39m\u001B[38;5;18m__class__\u001B[39m\u001B[38;5;241m.\u001B[39m\u001B[38;5;18m__name__\u001B[39m)\n\u001B[0;32m     38\u001B[0m \u001B[38;5;66;03m# wandb.init(project=\"deep_van_gogh\",\u001B[39;00m\n\u001B[0;32m     39\u001B[0m \u001B[38;5;66;03m#            config={\u001B[39;00m\n\u001B[0;32m     40\u001B[0m \u001B[38;5;66;03m#     \"learning_rate\": learning_rate,\u001B[39;00m\n\u001B[1;32m   (...)\u001B[0m\n\u001B[0;32m     50\u001B[0m \u001B[38;5;66;03m# Train the model and get the best val_auc\u001B[39;00m\n\u001B[0;32m     51\u001B[0m \u001B[38;5;66;03m# mean_val = cross_validation(train_dataset, learning_rate, weight_decay, criterion, epochs, patience, device, architecture, trial)\u001B[39;00m\n\u001B[1;32m---> 52\u001B[0m mean_val \u001B[38;5;241m=\u001B[39m \u001B[43mcross_validation\u001B[49m\u001B[43m(\u001B[49m\u001B[43maugmented_train_dataset\u001B[49m\u001B[43m,\u001B[49m\u001B[43m \u001B[49m\u001B[43mlearning_rate\u001B[49m\u001B[43m,\u001B[49m\u001B[43m \u001B[49m\u001B[43mweight_decay\u001B[49m\u001B[43m,\u001B[49m\u001B[43m \u001B[49m\u001B[43mcriterion\u001B[49m\u001B[43m,\u001B[49m\u001B[43m \u001B[49m\u001B[43mepochs\u001B[49m\u001B[43m,\u001B[49m\u001B[43m \u001B[49m\u001B[43mpatience\u001B[49m\u001B[43m,\u001B[49m\u001B[43m \u001B[49m\u001B[43mdevice\u001B[49m\u001B[43m,\u001B[49m\u001B[43m \u001B[49m\u001B[43marchitecture\u001B[49m\u001B[43m,\u001B[49m\u001B[43m \u001B[49m\u001B[43mtrial\u001B[49m\u001B[43m,\u001B[49m\u001B[43m \u001B[49m\u001B[43mnum_layers_finetune\u001B[49m\u001B[43m)\u001B[49m\n\u001B[0;32m     53\u001B[0m \u001B[38;5;66;03m#print(mean_val)\u001B[39;00m\n\u001B[0;32m     54\u001B[0m wandb\u001B[38;5;241m.\u001B[39minit(project\u001B[38;5;241m=\u001B[39m\u001B[38;5;124mf\u001B[39m\u001B[38;5;124m'\u001B[39m\u001B[38;5;132;01m{\u001B[39;00marchitecture\u001B[38;5;132;01m}\u001B[39;00m\u001B[38;5;124m - deep_van_gogh - aug - HP Tuning - 26.3.2025\u001B[39m\u001B[38;5;124m'\u001B[39m,\n\u001B[0;32m     55\u001B[0m                    config\u001B[38;5;241m=\u001B[39m{ \u001B[38;5;124m\"\u001B[39m\u001B[38;5;124mlearning_rate\u001B[39m\u001B[38;5;124m\"\u001B[39m: learning_rate,\n\u001B[0;32m     56\u001B[0m                             \u001B[38;5;124m\"\u001B[39m\u001B[38;5;124mweight_decay\u001B[39m\u001B[38;5;124m\"\u001B[39m: weight_decay,\n\u001B[1;32m   (...)\u001B[0m\n\u001B[0;32m     62\u001B[0m                             \u001B[38;5;124m\"\u001B[39m\u001B[38;5;124mdataset\u001B[39m\u001B[38;5;124m\"\u001B[39m: \u001B[38;5;124m\"\u001B[39m\u001B[38;5;124mPost_Impressionism\u001B[39m\u001B[38;5;124m\"\u001B[39m,\n\u001B[0;32m     63\u001B[0m                             }, name\u001B[38;5;241m=\u001B[39m\u001B[38;5;124mf\u001B[39m\u001B[38;5;124m\"\u001B[39m\u001B[38;5;132;01m{\u001B[39;00marchitecture\u001B[38;5;132;01m}\u001B[39;00m\u001B[38;5;124m_trial_\u001B[39m\u001B[38;5;132;01m{\u001B[39;00mtrial\u001B[38;5;241m.\u001B[39mnumber\u001B[38;5;250m \u001B[39m\u001B[38;5;241m+\u001B[39m\u001B[38;5;250m \u001B[39m\u001B[38;5;241m1\u001B[39m\u001B[38;5;132;01m}\u001B[39;00m\u001B[38;5;124m\"\u001B[39m)\n",
      "Cell \u001B[1;32mIn[10], line 43\u001B[0m, in \u001B[0;36mcross_validation\u001B[1;34m(dataset, learning_rate, weight_decay, criterion, epochs, patience, device, architecture, trial, num_layers_finetune)\u001B[0m\n\u001B[0;32m     41\u001B[0m optimizer \u001B[38;5;241m=\u001B[39m optim\u001B[38;5;241m.\u001B[39mAdam(model\u001B[38;5;241m.\u001B[39mparameters(), lr\u001B[38;5;241m=\u001B[39mlearning_rate, weight_decay\u001B[38;5;241m=\u001B[39mweight_decay)\n\u001B[0;32m     42\u001B[0m \u001B[38;5;66;03m# Train the model\u001B[39;00m\n\u001B[1;32m---> 43\u001B[0m best_val \u001B[38;5;241m=\u001B[39m \u001B[43mtrain_model_with_hyperparams\u001B[49m\u001B[43m(\u001B[49m\u001B[43mmodel\u001B[49m\u001B[43m,\u001B[49m\n\u001B[0;32m     44\u001B[0m \u001B[43m                                        \u001B[49m\u001B[43mtrain_loader\u001B[49m\u001B[43m,\u001B[49m\n\u001B[0;32m     45\u001B[0m \u001B[43m                                        \u001B[49m\u001B[43mval_loader\u001B[49m\u001B[43m,\u001B[49m\n\u001B[0;32m     46\u001B[0m \u001B[43m                                        \u001B[49m\u001B[43moptimizer\u001B[49m\u001B[43m,\u001B[49m\n\u001B[0;32m     47\u001B[0m \u001B[43m                                        \u001B[49m\u001B[43mcriterion\u001B[49m\u001B[43m,\u001B[49m\n\u001B[0;32m     48\u001B[0m \u001B[43m                                        \u001B[49m\u001B[43mepochs\u001B[49m\u001B[38;5;241;43m=\u001B[39;49m\u001B[43mepochs\u001B[49m\u001B[43m,\u001B[49m\n\u001B[0;32m     49\u001B[0m \u001B[43m                                        \u001B[49m\u001B[43mpatience\u001B[49m\u001B[38;5;241;43m=\u001B[39;49m\u001B[43mpatience\u001B[49m\u001B[43m,\u001B[49m\n\u001B[0;32m     50\u001B[0m \u001B[43m                                        \u001B[49m\u001B[43mdevice\u001B[49m\u001B[38;5;241;43m=\u001B[39;49m\u001B[43mdevice\u001B[49m\u001B[43m,\u001B[49m\n\u001B[0;32m     51\u001B[0m \u001B[43m                                        \u001B[49m\u001B[43mtrial\u001B[49m\u001B[38;5;241;43m=\u001B[39;49m\u001B[43mtrial\u001B[49m\u001B[43m,\u001B[49m\n\u001B[0;32m     52\u001B[0m \u001B[43m                                        \u001B[49m\u001B[43marchitecture\u001B[49m\u001B[38;5;241;43m=\u001B[39;49m\u001B[43marchitecture\u001B[49m\u001B[43m,\u001B[49m\u001B[43m \u001B[49m\u001B[43mfold\u001B[49m\u001B[38;5;241;43m=\u001B[39;49m\u001B[43mfold\u001B[49m\u001B[43m)\u001B[49m\n\u001B[0;32m     53\u001B[0m wandb\u001B[38;5;241m.\u001B[39mlog({\u001B[38;5;124m'\u001B[39m\u001B[38;5;124mFold\u001B[39m\u001B[38;5;124m'\u001B[39m: fold, \u001B[38;5;124m'\u001B[39m\u001B[38;5;124mAUC\u001B[39m\u001B[38;5;124m'\u001B[39m:best_val})\n\u001B[0;32m     54\u001B[0m best_values\u001B[38;5;241m.\u001B[39mappend(best_val)\n",
      "File \u001B[1;32mD:\\Users\\kanatcohen\\PycharmProjects\\deep_van_gogh\\train.py:129\u001B[0m, in \u001B[0;36mtrain_model_with_hyperparams\u001B[1;34m(model, train_loader, val_loader, optimizer, criterion, epochs, patience, device, trial, architecture, fold, save)\u001B[0m\n\u001B[0;32m    125\u001B[0m     best_model_optimizer_state \u001B[38;5;241m=\u001B[39m optimizer\u001B[38;5;241m.\u001B[39mstate_dict()\n\u001B[0;32m    127\u001B[0m \u001B[38;5;28;01mif\u001B[39;00m trial \u001B[38;5;129;01mis\u001B[39;00m \u001B[38;5;129;01mnot\u001B[39;00m \u001B[38;5;28;01mNone\u001B[39;00m:\n\u001B[0;32m    128\u001B[0m     \u001B[38;5;66;03m# Log metrics to Weights & Biases - THIS IS WHERE WE TRACK THE RESULTS AND THE PROCESS\u001B[39;00m\n\u001B[1;32m--> 129\u001B[0m     \u001B[43mwandb\u001B[49m\u001B[38;5;241;43m.\u001B[39;49m\u001B[43mlog\u001B[49m\u001B[43m(\u001B[49m\u001B[43m{\u001B[49m\u001B[43m \u001B[49m\u001B[38;5;66;43;03m#log == logging of the training process (e.g. results)\u001B[39;49;00m\n\u001B[0;32m    130\u001B[0m \u001B[43m        \u001B[49m\u001B[38;5;124;43m\"\u001B[39;49m\u001B[38;5;124;43mEpoch\u001B[39;49m\u001B[38;5;124;43m\"\u001B[39;49m\u001B[43m:\u001B[49m\u001B[43m \u001B[49m\u001B[43mepoch\u001B[49m\u001B[43m,\u001B[49m\n\u001B[0;32m    131\u001B[0m \u001B[43m        \u001B[49m\u001B[38;5;124;43m\"\u001B[39;49m\u001B[38;5;124;43mTrain Loss\u001B[39;49m\u001B[38;5;124;43m\"\u001B[39;49m\u001B[43m:\u001B[49m\u001B[43m \u001B[49m\u001B[43mtrain_loss\u001B[49m\u001B[43m,\u001B[49m\n\u001B[0;32m    132\u001B[0m \u001B[43m        \u001B[49m\u001B[38;5;124;43m\"\u001B[39;49m\u001B[38;5;124;43mTrain Accuracy\u001B[39;49m\u001B[38;5;124;43m\"\u001B[39;49m\u001B[43m:\u001B[49m\u001B[43m \u001B[49m\u001B[43mtrain_accuracy\u001B[49m\u001B[43m,\u001B[49m\n\u001B[0;32m    133\u001B[0m \u001B[43m        \u001B[49m\u001B[38;5;124;43m\"\u001B[39;49m\u001B[38;5;124;43mValidation Loss\u001B[39;49m\u001B[38;5;124;43m\"\u001B[39;49m\u001B[43m:\u001B[49m\u001B[43m \u001B[49m\u001B[43mval_loss\u001B[49m\u001B[43m,\u001B[49m\n\u001B[0;32m    134\u001B[0m \u001B[43m        \u001B[49m\u001B[38;5;124;43m\"\u001B[39;49m\u001B[38;5;124;43mValidation Accuracy\u001B[39;49m\u001B[38;5;124;43m\"\u001B[39;49m\u001B[43m:\u001B[49m\u001B[43m \u001B[49m\u001B[43mval_accuracy\u001B[49m\u001B[43m,\u001B[49m\n\u001B[0;32m    135\u001B[0m \u001B[43m        \u001B[49m\u001B[38;5;124;43m'\u001B[39;49m\u001B[38;5;124;43mValidation AUC\u001B[39;49m\u001B[38;5;124;43m'\u001B[39;49m\u001B[43m:\u001B[49m\u001B[43m \u001B[49m\u001B[43mval_auc\u001B[49m\u001B[43m,\u001B[49m\n\u001B[0;32m    136\u001B[0m \u001B[43m        \u001B[49m\u001B[38;5;124;43m'\u001B[39;49m\u001B[38;5;124;43mValidation F1\u001B[39;49m\u001B[38;5;124;43m'\u001B[39;49m\u001B[43m:\u001B[49m\u001B[43m \u001B[49m\u001B[43mval_F1\u001B[49m\u001B[43m,\u001B[49m\n\u001B[0;32m    137\u001B[0m \u001B[43m        \u001B[49m\u001B[38;5;124;43m'\u001B[39;49m\u001B[38;5;124;43mValidation Precision\u001B[39;49m\u001B[38;5;124;43m'\u001B[39;49m\u001B[43m:\u001B[49m\u001B[43m \u001B[49m\u001B[43mval_precision\u001B[49m\u001B[43m,\u001B[49m\n\u001B[0;32m    138\u001B[0m \u001B[43m        \u001B[49m\u001B[38;5;124;43m'\u001B[39;49m\u001B[38;5;124;43mValidation Recall\u001B[39;49m\u001B[38;5;124;43m'\u001B[39;49m\u001B[43m:\u001B[49m\u001B[43m \u001B[49m\u001B[43mval_recall\u001B[49m\u001B[43m,\u001B[49m\n\u001B[0;32m    139\u001B[0m \u001B[43m        \u001B[49m\u001B[38;5;124;43m'\u001B[39;49m\u001B[38;5;124;43mValidation Specificity\u001B[39;49m\u001B[38;5;124;43m'\u001B[39;49m\u001B[43m:\u001B[49m\u001B[43m \u001B[49m\u001B[43mval_specificity\u001B[49m\n\u001B[0;32m    140\u001B[0m \u001B[43m    \u001B[49m\u001B[43m}\u001B[49m\u001B[43m)\u001B[49m\n\u001B[0;32m    142\u001B[0m \u001B[38;5;28;01mif\u001B[39;00m early_stop_flag: \u001B[38;5;66;03m# Checks whether the early stopping condition has been met, as indicated by the early_stop_flag\u001B[39;00m\n\u001B[0;32m    143\u001B[0m     \u001B[38;5;28;01mbreak\u001B[39;00m \u001B[38;5;66;03m# Exits the training loop immediately if the early stopping condition is satisfied\u001B[39;00m\n",
      "File \u001B[1;32m~\\.conda\\envs\\DeepLearning_env\\lib\\site-packages\\wandb\\sdk\\wandb_run.py:440\u001B[0m, in \u001B[0;36m_run_decorator._noop.<locals>.wrapper\u001B[1;34m(self, *args, **kwargs)\u001B[0m\n\u001B[0;32m    437\u001B[0m         wandb\u001B[38;5;241m.\u001B[39mtermwarn(message, repeat\u001B[38;5;241m=\u001B[39m\u001B[38;5;28;01mFalse\u001B[39;00m)\n\u001B[0;32m    438\u001B[0m         \u001B[38;5;28;01mreturn\u001B[39;00m \u001B[38;5;28mcls\u001B[39m\u001B[38;5;241m.\u001B[39mDummy()\n\u001B[1;32m--> 440\u001B[0m \u001B[38;5;28;01mreturn\u001B[39;00m func(\u001B[38;5;28mself\u001B[39m, \u001B[38;5;241m*\u001B[39margs, \u001B[38;5;241m*\u001B[39m\u001B[38;5;241m*\u001B[39mkwargs)\n",
      "File \u001B[1;32m~\\.conda\\envs\\DeepLearning_env\\lib\\site-packages\\wandb\\sdk\\wandb_run.py:392\u001B[0m, in \u001B[0;36m_run_decorator._noop_on_finish.<locals>.decorator_fn.<locals>.wrapper_fn\u001B[1;34m(self, *args, **kwargs)\u001B[0m\n\u001B[0;32m    389\u001B[0m \u001B[38;5;129m@functools\u001B[39m\u001B[38;5;241m.\u001B[39mwraps(func)\n\u001B[0;32m    390\u001B[0m \u001B[38;5;28;01mdef\u001B[39;00m \u001B[38;5;21mwrapper_fn\u001B[39m(\u001B[38;5;28mself\u001B[39m: \u001B[38;5;28mtype\u001B[39m[Run], \u001B[38;5;241m*\u001B[39margs: Any, \u001B[38;5;241m*\u001B[39m\u001B[38;5;241m*\u001B[39mkwargs: Any) \u001B[38;5;241m-\u001B[39m\u001B[38;5;241m>\u001B[39m Any:\n\u001B[0;32m    391\u001B[0m     \u001B[38;5;28;01mif\u001B[39;00m \u001B[38;5;129;01mnot\u001B[39;00m \u001B[38;5;28mgetattr\u001B[39m(\u001B[38;5;28mself\u001B[39m, \u001B[38;5;124m\"\u001B[39m\u001B[38;5;124m_is_finished\u001B[39m\u001B[38;5;124m\"\u001B[39m, \u001B[38;5;28;01mFalse\u001B[39;00m):\n\u001B[1;32m--> 392\u001B[0m         \u001B[38;5;28;01mreturn\u001B[39;00m func(\u001B[38;5;28mself\u001B[39m, \u001B[38;5;241m*\u001B[39margs, \u001B[38;5;241m*\u001B[39m\u001B[38;5;241m*\u001B[39mkwargs)\n\u001B[0;32m    394\u001B[0m     default_message \u001B[38;5;241m=\u001B[39m (\n\u001B[0;32m    395\u001B[0m         \u001B[38;5;124mf\u001B[39m\u001B[38;5;124m\"\u001B[39m\u001B[38;5;124mRun (\u001B[39m\u001B[38;5;132;01m{\u001B[39;00m\u001B[38;5;28mself\u001B[39m\u001B[38;5;241m.\u001B[39mid\u001B[38;5;132;01m}\u001B[39;00m\u001B[38;5;124m) is finished. The call to `\u001B[39m\u001B[38;5;132;01m{\u001B[39;00mfunc\u001B[38;5;241m.\u001B[39m\u001B[38;5;18m__name__\u001B[39m\u001B[38;5;132;01m}\u001B[39;00m\u001B[38;5;124m` will be ignored. \u001B[39m\u001B[38;5;124m\"\u001B[39m\n\u001B[0;32m    396\u001B[0m         \u001B[38;5;124mf\u001B[39m\u001B[38;5;124m\"\u001B[39m\u001B[38;5;124mPlease make sure that you are using an active run.\u001B[39m\u001B[38;5;124m\"\u001B[39m\n\u001B[0;32m    397\u001B[0m     )\n\u001B[0;32m    398\u001B[0m     resolved_message \u001B[38;5;241m=\u001B[39m message \u001B[38;5;129;01mor\u001B[39;00m default_message\n",
      "File \u001B[1;32m~\\.conda\\envs\\DeepLearning_env\\lib\\site-packages\\wandb\\sdk\\wandb_run.py:382\u001B[0m, in \u001B[0;36m_run_decorator._attach.<locals>.wrapper\u001B[1;34m(self, *args, **kwargs)\u001B[0m\n\u001B[0;32m    380\u001B[0m         \u001B[38;5;28;01mraise\u001B[39;00m e\n\u001B[0;32m    381\u001B[0m     \u001B[38;5;28mcls\u001B[39m\u001B[38;5;241m.\u001B[39m_is_attaching \u001B[38;5;241m=\u001B[39m \u001B[38;5;124m\"\u001B[39m\u001B[38;5;124m\"\u001B[39m\n\u001B[1;32m--> 382\u001B[0m \u001B[38;5;28;01mreturn\u001B[39;00m func(\u001B[38;5;28mself\u001B[39m, \u001B[38;5;241m*\u001B[39margs, \u001B[38;5;241m*\u001B[39m\u001B[38;5;241m*\u001B[39mkwargs)\n",
      "File \u001B[1;32m~\\.conda\\envs\\DeepLearning_env\\lib\\site-packages\\wandb\\sdk\\wandb_run.py:1861\u001B[0m, in \u001B[0;36mRun.log\u001B[1;34m(self, data, step, commit, sync)\u001B[0m\n\u001B[0;32m   1854\u001B[0m \u001B[38;5;28;01mif\u001B[39;00m \u001B[38;5;28mself\u001B[39m\u001B[38;5;241m.\u001B[39m_settings\u001B[38;5;241m.\u001B[39m_shared \u001B[38;5;129;01mand\u001B[39;00m step \u001B[38;5;129;01mis\u001B[39;00m \u001B[38;5;129;01mnot\u001B[39;00m \u001B[38;5;28;01mNone\u001B[39;00m:\n\u001B[0;32m   1855\u001B[0m     wandb\u001B[38;5;241m.\u001B[39mtermwarn(\n\u001B[0;32m   1856\u001B[0m         \u001B[38;5;124m\"\u001B[39m\u001B[38;5;124mIn shared mode, the use of `wandb.log` with the step argument is not supported \u001B[39m\u001B[38;5;124m\"\u001B[39m\n\u001B[0;32m   1857\u001B[0m         \u001B[38;5;124mf\u001B[39m\u001B[38;5;124m\"\u001B[39m\u001B[38;5;124mand will be ignored. Please refer to \u001B[39m\u001B[38;5;132;01m{\u001B[39;00murl_registry\u001B[38;5;241m.\u001B[39murl(\u001B[38;5;124m'\u001B[39m\u001B[38;5;124mdefine-metric\u001B[39m\u001B[38;5;124m'\u001B[39m)\u001B[38;5;132;01m}\u001B[39;00m\u001B[38;5;124m \u001B[39m\u001B[38;5;124m\"\u001B[39m\n\u001B[0;32m   1858\u001B[0m         \u001B[38;5;124m\"\u001B[39m\u001B[38;5;124mon how to customize your x-axis.\u001B[39m\u001B[38;5;124m\"\u001B[39m,\n\u001B[0;32m   1859\u001B[0m         repeat\u001B[38;5;241m=\u001B[39m\u001B[38;5;28;01mFalse\u001B[39;00m,\n\u001B[0;32m   1860\u001B[0m     )\n\u001B[1;32m-> 1861\u001B[0m \u001B[38;5;28;43mself\u001B[39;49m\u001B[38;5;241;43m.\u001B[39;49m\u001B[43m_log\u001B[49m\u001B[43m(\u001B[49m\u001B[43mdata\u001B[49m\u001B[38;5;241;43m=\u001B[39;49m\u001B[43mdata\u001B[49m\u001B[43m,\u001B[49m\u001B[43m \u001B[49m\u001B[43mstep\u001B[49m\u001B[38;5;241;43m=\u001B[39;49m\u001B[43mstep\u001B[49m\u001B[43m,\u001B[49m\u001B[43m \u001B[49m\u001B[43mcommit\u001B[49m\u001B[38;5;241;43m=\u001B[39;49m\u001B[43mcommit\u001B[49m\u001B[43m)\u001B[49m\n",
      "File \u001B[1;32m~\\.conda\\envs\\DeepLearning_env\\lib\\site-packages\\wandb\\sdk\\wandb_run.py:1574\u001B[0m, in \u001B[0;36mRun._log\u001B[1;34m(self, data, step, commit)\u001B[0m\n\u001B[0;32m   1571\u001B[0m \u001B[38;5;28;01mif\u001B[39;00m \u001B[38;5;28many\u001B[39m(\u001B[38;5;129;01mnot\u001B[39;00m \u001B[38;5;28misinstance\u001B[39m(key, \u001B[38;5;28mstr\u001B[39m) \u001B[38;5;28;01mfor\u001B[39;00m key \u001B[38;5;129;01min\u001B[39;00m data\u001B[38;5;241m.\u001B[39mkeys()):\n\u001B[0;32m   1572\u001B[0m     \u001B[38;5;28;01mraise\u001B[39;00m \u001B[38;5;167;01mValueError\u001B[39;00m(\u001B[38;5;124m\"\u001B[39m\u001B[38;5;124mKey values passed to `wandb.log` must be strings.\u001B[39m\u001B[38;5;124m\"\u001B[39m)\n\u001B[1;32m-> 1574\u001B[0m \u001B[38;5;28;43mself\u001B[39;49m\u001B[38;5;241;43m.\u001B[39;49m\u001B[43m_partial_history_callback\u001B[49m\u001B[43m(\u001B[49m\u001B[43mdata\u001B[49m\u001B[43m,\u001B[49m\u001B[43m \u001B[49m\u001B[43mstep\u001B[49m\u001B[43m,\u001B[49m\u001B[43m \u001B[49m\u001B[43mcommit\u001B[49m\u001B[43m)\u001B[49m\n\u001B[0;32m   1576\u001B[0m \u001B[38;5;28;01mif\u001B[39;00m step \u001B[38;5;129;01mis\u001B[39;00m \u001B[38;5;129;01mnot\u001B[39;00m \u001B[38;5;28;01mNone\u001B[39;00m:\n\u001B[0;32m   1577\u001B[0m     \u001B[38;5;28;01mif\u001B[39;00m os\u001B[38;5;241m.\u001B[39mgetpid() \u001B[38;5;241m!=\u001B[39m \u001B[38;5;28mself\u001B[39m\u001B[38;5;241m.\u001B[39m_init_pid \u001B[38;5;129;01mor\u001B[39;00m \u001B[38;5;28mself\u001B[39m\u001B[38;5;241m.\u001B[39m_is_attached:\n",
      "File \u001B[1;32m~\\.conda\\envs\\DeepLearning_env\\lib\\site-packages\\wandb\\sdk\\wandb_run.py:1405\u001B[0m, in \u001B[0;36mRun._partial_history_callback\u001B[1;34m(self, data, step, commit)\u001B[0m\n\u001B[0;32m   1402\u001B[0m data \u001B[38;5;241m=\u001B[39m \u001B[38;5;28mself\u001B[39m\u001B[38;5;241m.\u001B[39m_serialize_custom_charts(data)\n\u001B[0;32m   1404\u001B[0m not_using_tensorboard \u001B[38;5;241m=\u001B[39m \u001B[38;5;28mlen\u001B[39m(wandb\u001B[38;5;241m.\u001B[39mpatched[\u001B[38;5;124m\"\u001B[39m\u001B[38;5;124mtensorboard\u001B[39m\u001B[38;5;124m\"\u001B[39m]) \u001B[38;5;241m==\u001B[39m \u001B[38;5;241m0\u001B[39m\n\u001B[1;32m-> 1405\u001B[0m \u001B[38;5;28;43mself\u001B[39;49m\u001B[38;5;241;43m.\u001B[39;49m\u001B[43m_backend\u001B[49m\u001B[38;5;241;43m.\u001B[39;49m\u001B[43minterface\u001B[49m\u001B[38;5;241;43m.\u001B[39;49m\u001B[43mpublish_partial_history\u001B[49m\u001B[43m(\u001B[49m\n\u001B[0;32m   1406\u001B[0m \u001B[43m    \u001B[49m\u001B[43mdata\u001B[49m\u001B[43m,\u001B[49m\n\u001B[0;32m   1407\u001B[0m \u001B[43m    \u001B[49m\u001B[43muser_step\u001B[49m\u001B[38;5;241;43m=\u001B[39;49m\u001B[38;5;28;43mself\u001B[39;49m\u001B[38;5;241;43m.\u001B[39;49m\u001B[43m_step\u001B[49m\u001B[43m,\u001B[49m\n\u001B[0;32m   1408\u001B[0m \u001B[43m    \u001B[49m\u001B[43mstep\u001B[49m\u001B[38;5;241;43m=\u001B[39;49m\u001B[43mstep\u001B[49m\u001B[43m,\u001B[49m\n\u001B[0;32m   1409\u001B[0m \u001B[43m    \u001B[49m\u001B[43mflush\u001B[49m\u001B[38;5;241;43m=\u001B[39;49m\u001B[43mcommit\u001B[49m\u001B[43m,\u001B[49m\n\u001B[0;32m   1410\u001B[0m \u001B[43m    \u001B[49m\u001B[43mpublish_step\u001B[49m\u001B[38;5;241;43m=\u001B[39;49m\u001B[43mnot_using_tensorboard\u001B[49m\u001B[43m,\u001B[49m\n\u001B[0;32m   1411\u001B[0m \u001B[43m\u001B[49m\u001B[43m)\u001B[49m\n",
      "File \u001B[1;32m~\\.conda\\envs\\DeepLearning_env\\lib\\site-packages\\wandb\\sdk\\interface\\interface.py:676\u001B[0m, in \u001B[0;36mInterfaceBase.publish_partial_history\u001B[1;34m(self, data, user_step, step, flush, publish_step, run)\u001B[0m\n\u001B[0;32m    674\u001B[0m \u001B[38;5;28;01mif\u001B[39;00m flush \u001B[38;5;129;01mis\u001B[39;00m \u001B[38;5;129;01mnot\u001B[39;00m \u001B[38;5;28;01mNone\u001B[39;00m:\n\u001B[0;32m    675\u001B[0m     partial_history\u001B[38;5;241m.\u001B[39maction\u001B[38;5;241m.\u001B[39mflush \u001B[38;5;241m=\u001B[39m flush\n\u001B[1;32m--> 676\u001B[0m \u001B[38;5;28;43mself\u001B[39;49m\u001B[38;5;241;43m.\u001B[39;49m\u001B[43m_publish_partial_history\u001B[49m\u001B[43m(\u001B[49m\u001B[43mpartial_history\u001B[49m\u001B[43m)\u001B[49m\n",
      "File \u001B[1;32m~\\.conda\\envs\\DeepLearning_env\\lib\\site-packages\\wandb\\sdk\\interface\\interface_shared.py:89\u001B[0m, in \u001B[0;36mInterfaceShared._publish_partial_history\u001B[1;34m(self, partial_history)\u001B[0m\n\u001B[0;32m     85\u001B[0m \u001B[38;5;28;01mdef\u001B[39;00m \u001B[38;5;21m_publish_partial_history\u001B[39m(\n\u001B[0;32m     86\u001B[0m     \u001B[38;5;28mself\u001B[39m, partial_history: pb\u001B[38;5;241m.\u001B[39mPartialHistoryRequest\n\u001B[0;32m     87\u001B[0m ) \u001B[38;5;241m-\u001B[39m\u001B[38;5;241m>\u001B[39m \u001B[38;5;28;01mNone\u001B[39;00m:\n\u001B[0;32m     88\u001B[0m     rec \u001B[38;5;241m=\u001B[39m \u001B[38;5;28mself\u001B[39m\u001B[38;5;241m.\u001B[39m_make_request(partial_history\u001B[38;5;241m=\u001B[39mpartial_history)\n\u001B[1;32m---> 89\u001B[0m     \u001B[38;5;28;43mself\u001B[39;49m\u001B[38;5;241;43m.\u001B[39;49m\u001B[43m_publish\u001B[49m\u001B[43m(\u001B[49m\u001B[43mrec\u001B[49m\u001B[43m)\u001B[49m\n",
      "File \u001B[1;32m~\\.conda\\envs\\DeepLearning_env\\lib\\site-packages\\wandb\\sdk\\interface\\interface_sock.py:51\u001B[0m, in \u001B[0;36mInterfaceSock._publish\u001B[1;34m(self, record, local)\u001B[0m\n\u001B[0;32m     49\u001B[0m \u001B[38;5;28;01mdef\u001B[39;00m \u001B[38;5;21m_publish\u001B[39m(\u001B[38;5;28mself\u001B[39m, record: \u001B[38;5;124m\"\u001B[39m\u001B[38;5;124mpb.Record\u001B[39m\u001B[38;5;124m\"\u001B[39m, local: Optional[\u001B[38;5;28mbool\u001B[39m] \u001B[38;5;241m=\u001B[39m \u001B[38;5;28;01mNone\u001B[39;00m) \u001B[38;5;241m-\u001B[39m\u001B[38;5;241m>\u001B[39m \u001B[38;5;28;01mNone\u001B[39;00m:\n\u001B[0;32m     50\u001B[0m     \u001B[38;5;28mself\u001B[39m\u001B[38;5;241m.\u001B[39m_assign(record)\n\u001B[1;32m---> 51\u001B[0m     \u001B[38;5;28;43mself\u001B[39;49m\u001B[38;5;241;43m.\u001B[39;49m\u001B[43m_sock_client\u001B[49m\u001B[38;5;241;43m.\u001B[39;49m\u001B[43msend_record_publish\u001B[49m\u001B[43m(\u001B[49m\u001B[43mrecord\u001B[49m\u001B[43m)\u001B[49m\n",
      "File \u001B[1;32m~\\.conda\\envs\\DeepLearning_env\\lib\\site-packages\\wandb\\sdk\\lib\\sock_client.py:222\u001B[0m, in \u001B[0;36mSockClient.send_record_publish\u001B[1;34m(self, record)\u001B[0m\n\u001B[0;32m    220\u001B[0m server_req \u001B[38;5;241m=\u001B[39m spb\u001B[38;5;241m.\u001B[39mServerRequest()\n\u001B[0;32m    221\u001B[0m server_req\u001B[38;5;241m.\u001B[39mrecord_publish\u001B[38;5;241m.\u001B[39mCopyFrom(record)\n\u001B[1;32m--> 222\u001B[0m \u001B[38;5;28;43mself\u001B[39;49m\u001B[38;5;241;43m.\u001B[39;49m\u001B[43msend_server_request\u001B[49m\u001B[43m(\u001B[49m\u001B[43mserver_req\u001B[49m\u001B[43m)\u001B[49m\n",
      "File \u001B[1;32m~\\.conda\\envs\\DeepLearning_env\\lib\\site-packages\\wandb\\sdk\\lib\\sock_client.py:154\u001B[0m, in \u001B[0;36mSockClient.send_server_request\u001B[1;34m(self, msg)\u001B[0m\n\u001B[0;32m    153\u001B[0m \u001B[38;5;28;01mdef\u001B[39;00m \u001B[38;5;21msend_server_request\u001B[39m(\u001B[38;5;28mself\u001B[39m, msg: Any) \u001B[38;5;241m-\u001B[39m\u001B[38;5;241m>\u001B[39m \u001B[38;5;28;01mNone\u001B[39;00m:\n\u001B[1;32m--> 154\u001B[0m     \u001B[38;5;28;43mself\u001B[39;49m\u001B[38;5;241;43m.\u001B[39;49m\u001B[43m_send_message\u001B[49m\u001B[43m(\u001B[49m\u001B[43mmsg\u001B[49m\u001B[43m)\u001B[49m\n",
      "File \u001B[1;32m~\\.conda\\envs\\DeepLearning_env\\lib\\site-packages\\wandb\\sdk\\lib\\sock_client.py:151\u001B[0m, in \u001B[0;36mSockClient._send_message\u001B[1;34m(self, msg)\u001B[0m\n\u001B[0;32m    149\u001B[0m header \u001B[38;5;241m=\u001B[39m struct\u001B[38;5;241m.\u001B[39mpack(\u001B[38;5;124m\"\u001B[39m\u001B[38;5;124m<BI\u001B[39m\u001B[38;5;124m\"\u001B[39m, \u001B[38;5;28mord\u001B[39m(\u001B[38;5;124m\"\u001B[39m\u001B[38;5;124mW\u001B[39m\u001B[38;5;124m\"\u001B[39m), raw_size)\n\u001B[0;32m    150\u001B[0m \u001B[38;5;28;01mwith\u001B[39;00m \u001B[38;5;28mself\u001B[39m\u001B[38;5;241m.\u001B[39m_lock:\n\u001B[1;32m--> 151\u001B[0m     \u001B[38;5;28;43mself\u001B[39;49m\u001B[38;5;241;43m.\u001B[39;49m\u001B[43m_sendall_with_error_handle\u001B[49m\u001B[43m(\u001B[49m\u001B[43mheader\u001B[49m\u001B[43m \u001B[49m\u001B[38;5;241;43m+\u001B[39;49m\u001B[43m \u001B[49m\u001B[43mdata\u001B[49m\u001B[43m)\u001B[49m\n",
      "File \u001B[1;32m~\\.conda\\envs\\DeepLearning_env\\lib\\site-packages\\wandb\\sdk\\lib\\sock_client.py:130\u001B[0m, in \u001B[0;36mSockClient._sendall_with_error_handle\u001B[1;34m(self, data)\u001B[0m\n\u001B[0;32m    128\u001B[0m start_time \u001B[38;5;241m=\u001B[39m time\u001B[38;5;241m.\u001B[39mmonotonic()\n\u001B[0;32m    129\u001B[0m \u001B[38;5;28;01mtry\u001B[39;00m:\n\u001B[1;32m--> 130\u001B[0m     sent \u001B[38;5;241m=\u001B[39m \u001B[38;5;28;43mself\u001B[39;49m\u001B[38;5;241;43m.\u001B[39;49m\u001B[43m_sock\u001B[49m\u001B[38;5;241;43m.\u001B[39;49m\u001B[43msend\u001B[49m\u001B[43m(\u001B[49m\u001B[43mdata\u001B[49m\u001B[43m)\u001B[49m\n\u001B[0;32m    131\u001B[0m     \u001B[38;5;66;03m# sent equal to 0 indicates a closed socket\u001B[39;00m\n\u001B[0;32m    132\u001B[0m     \u001B[38;5;28;01mif\u001B[39;00m sent \u001B[38;5;241m==\u001B[39m \u001B[38;5;241m0\u001B[39m:\n",
      "\u001B[1;31mConnectionResetError\u001B[0m: [WinError 10054] An existing connection was forcibly closed by the remote host"
     ]
    },
    {
     "name": "stdout",
     "output_type": "stream",
     "text": [
      "Error in callback <bound method _WandbInit._pause_backend of <wandb.sdk.wandb_init._WandbInit object at 0x0000027D88527A60>> (for post_run_cell):\n"
     ]
    },
    {
     "ename": "ConnectionResetError",
     "evalue": "[WinError 10054] An existing connection was forcibly closed by the remote host",
     "output_type": "error",
     "traceback": [
      "\u001B[1;31m---------------------------------------------------------------------------\u001B[0m",
      "\u001B[1;31mConnectionResetError\u001B[0m                      Traceback (most recent call last)",
      "File \u001B[1;32m~\\.conda\\envs\\DeepLearning_env\\lib\\site-packages\\wandb\\sdk\\wandb_init.py:440\u001B[0m, in \u001B[0;36m_WandbInit._pause_backend\u001B[1;34m(self, *args, **kwargs)\u001B[0m\n\u001B[0;32m    438\u001B[0m \u001B[38;5;28;01mif\u001B[39;00m \u001B[38;5;28mself\u001B[39m\u001B[38;5;241m.\u001B[39mbackend\u001B[38;5;241m.\u001B[39minterface \u001B[38;5;129;01mis\u001B[39;00m \u001B[38;5;129;01mnot\u001B[39;00m \u001B[38;5;28;01mNone\u001B[39;00m:\n\u001B[0;32m    439\u001B[0m     logger\u001B[38;5;241m.\u001B[39minfo(\u001B[38;5;124m\"\u001B[39m\u001B[38;5;124mpausing backend\u001B[39m\u001B[38;5;124m\"\u001B[39m)  \u001B[38;5;66;03m# type: ignore\u001B[39;00m\n\u001B[1;32m--> 440\u001B[0m     \u001B[38;5;28;43mself\u001B[39;49m\u001B[38;5;241;43m.\u001B[39;49m\u001B[43mbackend\u001B[49m\u001B[38;5;241;43m.\u001B[39;49m\u001B[43minterface\u001B[49m\u001B[38;5;241;43m.\u001B[39;49m\u001B[43mpublish_pause\u001B[49m\u001B[43m(\u001B[49m\u001B[43m)\u001B[49m\n",
      "File \u001B[1;32m~\\.conda\\envs\\DeepLearning_env\\lib\\site-packages\\wandb\\sdk\\interface\\interface.py:756\u001B[0m, in \u001B[0;36mInterfaceBase.publish_pause\u001B[1;34m(self)\u001B[0m\n\u001B[0;32m    754\u001B[0m \u001B[38;5;28;01mdef\u001B[39;00m \u001B[38;5;21mpublish_pause\u001B[39m(\u001B[38;5;28mself\u001B[39m) \u001B[38;5;241m-\u001B[39m\u001B[38;5;241m>\u001B[39m \u001B[38;5;28;01mNone\u001B[39;00m:\n\u001B[0;32m    755\u001B[0m     pause \u001B[38;5;241m=\u001B[39m pb\u001B[38;5;241m.\u001B[39mPauseRequest()\n\u001B[1;32m--> 756\u001B[0m     \u001B[38;5;28;43mself\u001B[39;49m\u001B[38;5;241;43m.\u001B[39;49m\u001B[43m_publish_pause\u001B[49m\u001B[43m(\u001B[49m\u001B[43mpause\u001B[49m\u001B[43m)\u001B[49m\n",
      "File \u001B[1;32m~\\.conda\\envs\\DeepLearning_env\\lib\\site-packages\\wandb\\sdk\\interface\\interface_shared.py:362\u001B[0m, in \u001B[0;36mInterfaceShared._publish_pause\u001B[1;34m(self, pause)\u001B[0m\n\u001B[0;32m    360\u001B[0m \u001B[38;5;28;01mdef\u001B[39;00m \u001B[38;5;21m_publish_pause\u001B[39m(\u001B[38;5;28mself\u001B[39m, pause: pb\u001B[38;5;241m.\u001B[39mPauseRequest) \u001B[38;5;241m-\u001B[39m\u001B[38;5;241m>\u001B[39m \u001B[38;5;28;01mNone\u001B[39;00m:\n\u001B[0;32m    361\u001B[0m     rec \u001B[38;5;241m=\u001B[39m \u001B[38;5;28mself\u001B[39m\u001B[38;5;241m.\u001B[39m_make_request(pause\u001B[38;5;241m=\u001B[39mpause)\n\u001B[1;32m--> 362\u001B[0m     \u001B[38;5;28;43mself\u001B[39;49m\u001B[38;5;241;43m.\u001B[39;49m\u001B[43m_publish\u001B[49m\u001B[43m(\u001B[49m\u001B[43mrec\u001B[49m\u001B[43m)\u001B[49m\n",
      "File \u001B[1;32m~\\.conda\\envs\\DeepLearning_env\\lib\\site-packages\\wandb\\sdk\\interface\\interface_sock.py:51\u001B[0m, in \u001B[0;36mInterfaceSock._publish\u001B[1;34m(self, record, local)\u001B[0m\n\u001B[0;32m     49\u001B[0m \u001B[38;5;28;01mdef\u001B[39;00m \u001B[38;5;21m_publish\u001B[39m(\u001B[38;5;28mself\u001B[39m, record: \u001B[38;5;124m\"\u001B[39m\u001B[38;5;124mpb.Record\u001B[39m\u001B[38;5;124m\"\u001B[39m, local: Optional[\u001B[38;5;28mbool\u001B[39m] \u001B[38;5;241m=\u001B[39m \u001B[38;5;28;01mNone\u001B[39;00m) \u001B[38;5;241m-\u001B[39m\u001B[38;5;241m>\u001B[39m \u001B[38;5;28;01mNone\u001B[39;00m:\n\u001B[0;32m     50\u001B[0m     \u001B[38;5;28mself\u001B[39m\u001B[38;5;241m.\u001B[39m_assign(record)\n\u001B[1;32m---> 51\u001B[0m     \u001B[38;5;28;43mself\u001B[39;49m\u001B[38;5;241;43m.\u001B[39;49m\u001B[43m_sock_client\u001B[49m\u001B[38;5;241;43m.\u001B[39;49m\u001B[43msend_record_publish\u001B[49m\u001B[43m(\u001B[49m\u001B[43mrecord\u001B[49m\u001B[43m)\u001B[49m\n",
      "File \u001B[1;32m~\\.conda\\envs\\DeepLearning_env\\lib\\site-packages\\wandb\\sdk\\lib\\sock_client.py:222\u001B[0m, in \u001B[0;36mSockClient.send_record_publish\u001B[1;34m(self, record)\u001B[0m\n\u001B[0;32m    220\u001B[0m server_req \u001B[38;5;241m=\u001B[39m spb\u001B[38;5;241m.\u001B[39mServerRequest()\n\u001B[0;32m    221\u001B[0m server_req\u001B[38;5;241m.\u001B[39mrecord_publish\u001B[38;5;241m.\u001B[39mCopyFrom(record)\n\u001B[1;32m--> 222\u001B[0m \u001B[38;5;28;43mself\u001B[39;49m\u001B[38;5;241;43m.\u001B[39;49m\u001B[43msend_server_request\u001B[49m\u001B[43m(\u001B[49m\u001B[43mserver_req\u001B[49m\u001B[43m)\u001B[49m\n",
      "File \u001B[1;32m~\\.conda\\envs\\DeepLearning_env\\lib\\site-packages\\wandb\\sdk\\lib\\sock_client.py:154\u001B[0m, in \u001B[0;36mSockClient.send_server_request\u001B[1;34m(self, msg)\u001B[0m\n\u001B[0;32m    153\u001B[0m \u001B[38;5;28;01mdef\u001B[39;00m \u001B[38;5;21msend_server_request\u001B[39m(\u001B[38;5;28mself\u001B[39m, msg: Any) \u001B[38;5;241m-\u001B[39m\u001B[38;5;241m>\u001B[39m \u001B[38;5;28;01mNone\u001B[39;00m:\n\u001B[1;32m--> 154\u001B[0m     \u001B[38;5;28;43mself\u001B[39;49m\u001B[38;5;241;43m.\u001B[39;49m\u001B[43m_send_message\u001B[49m\u001B[43m(\u001B[49m\u001B[43mmsg\u001B[49m\u001B[43m)\u001B[49m\n",
      "File \u001B[1;32m~\\.conda\\envs\\DeepLearning_env\\lib\\site-packages\\wandb\\sdk\\lib\\sock_client.py:151\u001B[0m, in \u001B[0;36mSockClient._send_message\u001B[1;34m(self, msg)\u001B[0m\n\u001B[0;32m    149\u001B[0m header \u001B[38;5;241m=\u001B[39m struct\u001B[38;5;241m.\u001B[39mpack(\u001B[38;5;124m\"\u001B[39m\u001B[38;5;124m<BI\u001B[39m\u001B[38;5;124m\"\u001B[39m, \u001B[38;5;28mord\u001B[39m(\u001B[38;5;124m\"\u001B[39m\u001B[38;5;124mW\u001B[39m\u001B[38;5;124m\"\u001B[39m), raw_size)\n\u001B[0;32m    150\u001B[0m \u001B[38;5;28;01mwith\u001B[39;00m \u001B[38;5;28mself\u001B[39m\u001B[38;5;241m.\u001B[39m_lock:\n\u001B[1;32m--> 151\u001B[0m     \u001B[38;5;28;43mself\u001B[39;49m\u001B[38;5;241;43m.\u001B[39;49m\u001B[43m_sendall_with_error_handle\u001B[49m\u001B[43m(\u001B[49m\u001B[43mheader\u001B[49m\u001B[43m \u001B[49m\u001B[38;5;241;43m+\u001B[39;49m\u001B[43m \u001B[49m\u001B[43mdata\u001B[49m\u001B[43m)\u001B[49m\n",
      "File \u001B[1;32m~\\.conda\\envs\\DeepLearning_env\\lib\\site-packages\\wandb\\sdk\\lib\\sock_client.py:130\u001B[0m, in \u001B[0;36mSockClient._sendall_with_error_handle\u001B[1;34m(self, data)\u001B[0m\n\u001B[0;32m    128\u001B[0m start_time \u001B[38;5;241m=\u001B[39m time\u001B[38;5;241m.\u001B[39mmonotonic()\n\u001B[0;32m    129\u001B[0m \u001B[38;5;28;01mtry\u001B[39;00m:\n\u001B[1;32m--> 130\u001B[0m     sent \u001B[38;5;241m=\u001B[39m \u001B[38;5;28;43mself\u001B[39;49m\u001B[38;5;241;43m.\u001B[39;49m\u001B[43m_sock\u001B[49m\u001B[38;5;241;43m.\u001B[39;49m\u001B[43msend\u001B[49m\u001B[43m(\u001B[49m\u001B[43mdata\u001B[49m\u001B[43m)\u001B[49m\n\u001B[0;32m    131\u001B[0m     \u001B[38;5;66;03m# sent equal to 0 indicates a closed socket\u001B[39;00m\n\u001B[0;32m    132\u001B[0m     \u001B[38;5;28;01mif\u001B[39;00m sent \u001B[38;5;241m==\u001B[39m \u001B[38;5;241m0\u001B[39m:\n",
      "\u001B[1;31mConnectionResetError\u001B[0m: [WinError 10054] An existing connection was forcibly closed by the remote host"
     ]
    }
   ],
   "execution_count": 15
  },
  {
   "metadata": {
    "ExecuteTime": {
     "end_time": "2025-03-26T18:47:16.842743Z",
     "start_time": "2025-03-26T18:47:16.824020Z"
    }
   },
   "cell_type": "code",
   "source": [
    "# Optuna objective function\n",
    "def objective(trial, model, config: dict) -> float:\n",
    "    \"\"\"\n",
    "    Generic Optuna objective function.\n",
    "    :param trial: Optuna trial object.\n",
    "    :param model: The neural network model to train\n",
    "    :param config: A dictionary with configurable values such as learning rate ranges, batch size ranges, etc.\n",
    "    :return:  best_val_loss: The best validation loss achieved during training.\n",
    "    \"\"\"\n",
    "    # Hyperparameter suggestions based on config - for LR, Weight Decay & Number of Epochs:\n",
    "    learning_rate = trial.suggest_float(\"learning_rate\",\n",
    "                                        config.get(\"lr_min\", 1e-5),\n",
    "                                        config.get(\"lr_max\", 1e-3),\n",
    "                                        log=True)\n",
    "    weight_decay = trial.suggest_float(\"weight_decay\",\n",
    "                                       config.get(\"wd_min\", 1e-6),\n",
    "                                       config.get(\"wd_max\", 1e-4),\n",
    "                                       log=True)\n",
    "    # batch_size = trial.suggest_int(\"batch_size\",\n",
    "    #                                config.get(\"batch_size_min\", 32),\n",
    "    #                                config.get(\"batch_size_max\", 128),\n",
    "    #                                step=config.get(\"batch_size_step\", 16))\n",
    "    epochs = trial.suggest_int(\"epochs\", config.get(\"epochs_min\", 10), config.get(\"epochs_max\",30))\n",
    "    patience = config.get(\"patience\", 8)\n",
    "    num_layers_finetune = trial.suggest_int(\"num_layers_finetune\", 0, 3) # Including the option not to perform fine-tuning, or only a small num of layers within the feature extractor.\n",
    "\n",
    "    # train_loader = DataLoader(train_dataset, batch_size=batch_size, shuffle=True) # Load the train DataLoader with the chosen batch_size\n",
    "    # val_loader = DataLoader(val_dataset, batch_size=batch_size, shuffle=False) # Load the val DataLoader with the chosen batch_size\n",
    "\n",
    "    # Define optimizer and loss function\n",
    "    criterion = config.get(\"criterion\", nn.CrossEntropyLoss()) # Classification.\n",
    "\n",
    "    # optimizer_class = config.get(\"optimizer_class\", optim.Adam)\n",
    "    # optimizer = optimizer_class(model.parameters(), lr=learning_rate, weight_decay=weight_decay)\n",
    "\n",
    "    # Initialize Weights & Biases - the values in the config are the properties of each trial.\n",
    "    architecture = getattr(model, \"architecture\", model.__class__.__name__)\n",
    "    # wandb.init(project=\"deep_van_gogh\",\n",
    "    #            config={\n",
    "    #     \"learning_rate\": learning_rate,\n",
    "    #     \"weight_decay\": weight_decay,\n",
    "    #     \"patience\": patience,\n",
    "    #     \"batch_size\": batch_size,\n",
    "    #     \"epochs\": epochs,\n",
    "    #     \"architecture\": architecture,\n",
    "    #     \"dataset\": \"Post_Impressionism\"\n",
    "    # },\n",
    "    # name=f\"{architecture}_trial_{trial.number+1}\") # The name that will be saved in the W&B platform\n",
    "\n",
    "    # Train the model and get the best val_auc\n",
    "    # mean_val = cross_validation(train_dataset, learning_rate, weight_decay, criterion, epochs, patience, device, architecture, trial)\n",
    "    mean_val = cross_validation(augmented_train_dataset, learning_rate, weight_decay, criterion, epochs, patience, device, architecture, trial, num_layers_finetune)\n",
    "    #print(mean_val)\n",
    "    wandb.init(project=f'{architecture} - deep_van_gogh - aug - HP Tuning - 27.3.2025',\n",
    "                       config={ \"learning_rate\": learning_rate,\n",
    "                                \"weight_decay\": weight_decay,\n",
    "                                \"patience\": patience,\n",
    "                                \"batch_size\": 128,\n",
    "                                \"epochs\": epochs,\n",
    "                                \"architecture\": architecture,\n",
    "                                \"num_layers_finetune\": num_layers_finetune,\n",
    "                                \"dataset\": \"Post_Impressionism\",\n",
    "                                }, name=f\"{architecture}_trial_{trial.number + 1}\")\n",
    "    wandb.log({'Trial': trial.number+1, 'Mean AUC': mean_val})\n",
    "    wandb.finish()\n",
    "    # mean_val = train_model_with_hyperparams(model, train_loader, learning_rate, weight_decay, criterion,\n",
    "    #                                              epochs=epochs, patience=patience, device=device, trial=trial,\n",
    "    #                                              architecture=architecture)\n",
    "\n",
    "\n",
    "\n",
    "    # Return best validation loss as the objective to minimize\n",
    "    return mean_val\n",
    "\n"
   ],
   "outputs": [],
   "execution_count": 14
  },
  {
   "metadata": {},
   "cell_type": "markdown",
   "source": "## Cross-Validation"
  },
  {
   "metadata": {},
   "cell_type": "code",
   "source": [
    "def cross_validation_temp(dataset:Dataset, **models_dict):\n",
    "    # Initialize KFold\n",
    "    k_folds = 5\n",
    "    kfold = StratifiedKFold(n_splits=k_folds, shuffle=True, random_state=42)\n",
    "\n",
    "    # Track performance for each model\n",
    "    results = defaultdict(list)\n",
    "\n",
    "    for fold, (train_ids, val_ids) in enumerate(kfold.split(dataset)):\n",
    "            #print(f\"\\tFold {fold + 1}\")\n",
    "            # Subset the dataset for this fold\n",
    "            train_subset = Subset(dataset, train_ids)\n",
    "            val_subset = Subset(dataset, val_ids)\n",
    "\n",
    "            # Create data loaders\n",
    "            train_loader = DataLoader(train_subset, batch_size=64, shuffle=True)\n",
    "            val_loader = DataLoader(val_subset, batch_size=64, shuffle=False)\n",
    "\n",
    "            for model_name, model_dict in models_dict.items():\n",
    "                #print(f\"Training :{model_name}\")\n",
    "                # Load the entire model\n",
    "                base_model = vgg19 if model_dict[\"architecture\"] == VGG19 else alexnet\n",
    "                model = FinedTunedModel(base_model.to(device), model_dict[\"architecture\"]).to(device)\n",
    "\n",
    "                # Define loss function and optimizer\n",
    "                criterion = nn.CrossEntropyLoss()\n",
    "                optimizer = optim.Adam(model.parameters(), **model_dict['param_groups'])\n",
    "\n",
    "\n",
    "\n",
    "                # Train the model (implement your training loop here)\n",
    "                best_val = train_model_with_hyperparams(model, train_loader, val_loader, optimizer, criterion,\n",
    "                                                             epochs=3, patience=3, device=device, trial=None,\n",
    "                                                             architecture=None)\n",
    "                 # Append the results for this fold\n",
    "                results[model_name].append(best_val)\n",
    "\n",
    "\n",
    "    # Print final results\n",
    "    mean_perf_dict = {}\n",
    "    for model_name, model_results in results.items():\n",
    "         # After all folds, calculate the average fold performance\n",
    "        mean_perf = sum(results[model_name]) / len(results[model_name])\n",
    "        print(f\"Average Performance for {model_name}: {mean_perf}\")\n",
    "\n",
    "        print(f\"{model_name} - Cross-Validation Results: {model_results}\")\n",
    "        print(f\"{model_name} - Mean Performance: {sum(model_results) / len(model_results)}\")\n",
    "        mean_perf_dict[model_name] = mean_perf\n",
    "\n",
    "    return mean_perf_dict"
   ],
   "outputs": [],
   "execution_count": null
  },
  {
   "metadata": {},
   "cell_type": "code",
   "source": [
    "vgg_path = os.path.join(utils.MODELS_DIR, VGG19)\n",
    "\n",
    "def get_hyperparameters(path):\n",
    "    param_groups = torch.load(path, weights_only=True)['optimizer_state_dict']['param_groups'][0]\n",
    "    return {'lr':param_groups['lr'], 'weight_decay':param_groups['weight_decay']}\n",
    "\n",
    "\n",
    "model1_param_groups = get_hyperparameters(f\"{vgg_path}/best_model_trial_0.pt\") # Load hyperparameters\n",
    "model1_dict = {\n",
    "    'architecture': VGG19,\n",
    "    'param_groups': model1_param_groups\n",
    "}\n",
    "\n",
    "\n",
    "model2_param_groups =  get_hyperparameters(f\"{vgg_path}/best_model_trial_1.pt\") # Load hyperparameters\n",
    "model2_dict = {\n",
    "    'architecture': VGG19,\n",
    "    'param_groups': model2_param_groups\n",
    "}\n",
    "\n",
    "\n",
    "cross_validation(train_dataset, vgg_model1=model1_dict, vgg_model2=model2_dict)\n"
   ],
   "outputs": [],
   "execution_count": null
  },
  {
   "metadata": {},
   "cell_type": "code",
   "source": "",
   "outputs": [],
   "execution_count": null
  },
  {
   "cell_type": "markdown",
   "metadata": {
    "id": "vIb8Ud6FiGuu"
   },
   "source": [
    "# Fine tuning AlexNet"
   ]
  },
  {
   "cell_type": "code",
   "metadata": {
    "colab": {
     "base_uri": "https://localhost:8080/",
     "height": 1000
    },
    "id": "gaSN21pPiGdy",
    "outputId": "8101799f-ef2c-4ada-8a3d-7dc594b2385e",
    "ExecuteTime": {
     "end_time": "2025-03-26T15:57:21.059590Z",
     "start_time": "2025-03-26T15:57:20.573346Z"
    }
   },
   "source": [
    "# Load the AlexNet model \n",
    "alexnet = models.alexnet(weights=models.AlexNet_Weights.DEFAULT).to(device)\n",
    "alexnet_model = FinedTunedModel(alexnet, ALEXNET).to(device)\n",
    "alexnet_model"
   ],
   "outputs": [
    {
     "data": {
      "text/plain": [
       "FinedTunedModel(\n",
       "  (features_extractor): Sequential(\n",
       "    (0): Sequential(\n",
       "      (0): Conv2d(3, 64, kernel_size=(11, 11), stride=(4, 4), padding=(2, 2))\n",
       "      (1): ReLU(inplace=True)\n",
       "      (2): MaxPool2d(kernel_size=3, stride=2, padding=0, dilation=1, ceil_mode=False)\n",
       "      (3): Conv2d(64, 192, kernel_size=(5, 5), stride=(1, 1), padding=(2, 2))\n",
       "      (4): ReLU(inplace=True)\n",
       "      (5): MaxPool2d(kernel_size=3, stride=2, padding=0, dilation=1, ceil_mode=False)\n",
       "      (6): Conv2d(192, 384, kernel_size=(3, 3), stride=(1, 1), padding=(1, 1))\n",
       "      (7): ReLU(inplace=True)\n",
       "      (8): Conv2d(384, 256, kernel_size=(3, 3), stride=(1, 1), padding=(1, 1))\n",
       "      (9): ReLU(inplace=True)\n",
       "      (10): Conv2d(256, 256, kernel_size=(3, 3), stride=(1, 1), padding=(1, 1))\n",
       "      (11): ReLU(inplace=True)\n",
       "      (12): MaxPool2d(kernel_size=3, stride=2, padding=0, dilation=1, ceil_mode=False)\n",
       "    )\n",
       "    (1): AdaptiveAvgPool2d(output_size=(6, 6))\n",
       "  )\n",
       "  (classifier): Sequential(\n",
       "    (0): Dropout(p=0.5, inplace=False)\n",
       "    (1): Linear(in_features=9216, out_features=4096, bias=True)\n",
       "    (2): ReLU(inplace=True)\n",
       "    (3): Dropout(p=0.5, inplace=False)\n",
       "    (4): Linear(in_features=4096, out_features=4096, bias=True)\n",
       "    (5): ReLU(inplace=True)\n",
       "    (6): Linear(in_features=4096, out_features=2, bias=True)\n",
       "  )\n",
       ")"
      ]
     },
     "execution_count": 34,
     "metadata": {},
     "output_type": "execute_result"
    }
   ],
   "execution_count": 34
  },
  {
   "cell_type": "code",
   "metadata": {
    "ExecuteTime": {
     "end_time": "2025-03-26T17:13:46.857342Z",
     "start_time": "2025-03-26T15:58:46.726769Z"
    }
   },
   "source": [
    "# Optuna for our AlexNet model with the default config\n",
    "study = optuna.create_study(study_name=ALEXNET, direction='maximize')\n",
    "study.optimize(lambda trial: objective(trial, alexnet_model, config={}), n_trials=15)"
   ],
   "outputs": [
    {
     "name": "stderr",
     "output_type": "stream",
     "text": [
      "[I 2025-03-26 17:58:46,729] A new study created in memory with name: AlexNet\n"
     ]
    },
    {
     "data": {
      "text/plain": [
       "<IPython.core.display.HTML object>"
      ],
      "text/html": [
       "Tracking run with wandb version 0.19.1"
      ]
     },
     "metadata": {},
     "output_type": "display_data"
    },
    {
     "data": {
      "text/plain": [
       "<IPython.core.display.HTML object>"
      ],
      "text/html": [
       "Run data is saved locally in <code>D:\\Users\\kanatcohen\\PycharmProjects\\deep_van_gogh\\wandb\\run-20250326_175846-w7oq3ts2</code>"
      ]
     },
     "metadata": {},
     "output_type": "display_data"
    },
    {
     "data": {
      "text/plain": [
       "<IPython.core.display.HTML object>"
      ],
      "text/html": [
       "Syncing run <strong><a href='https://wandb.ai/amitr5-tel-aviv-university/AlexNet-deep_van_gogh-aug-26.3.2025/runs/w7oq3ts2' target=\"_blank\">AlexNet_trial_1_fold_0</a></strong> to <a href='https://wandb.ai/amitr5-tel-aviv-university/AlexNet-deep_van_gogh-aug-26.3.2025' target=\"_blank\">Weights & Biases</a> (<a href='https://wandb.me/developer-guide' target=\"_blank\">docs</a>)<br>"
      ]
     },
     "metadata": {},
     "output_type": "display_data"
    },
    {
     "data": {
      "text/plain": [
       "<IPython.core.display.HTML object>"
      ],
      "text/html": [
       " View project at <a href='https://wandb.ai/amitr5-tel-aviv-university/AlexNet-deep_van_gogh-aug-26.3.2025' target=\"_blank\">https://wandb.ai/amitr5-tel-aviv-university/AlexNet-deep_van_gogh-aug-26.3.2025</a>"
      ]
     },
     "metadata": {},
     "output_type": "display_data"
    },
    {
     "data": {
      "text/plain": [
       "<IPython.core.display.HTML object>"
      ],
      "text/html": [
       " View run at <a href='https://wandb.ai/amitr5-tel-aviv-university/AlexNet-deep_van_gogh-aug-26.3.2025/runs/w7oq3ts2' target=\"_blank\">https://wandb.ai/amitr5-tel-aviv-university/AlexNet-deep_van_gogh-aug-26.3.2025/runs/w7oq3ts2</a>"
      ]
     },
     "metadata": {},
     "output_type": "display_data"
    },
    {
     "name": "stderr",
     "output_type": "stream",
     "text": [
      "C:\\Users\\kanatcohen\\.conda\\envs\\DeepLearning_env\\lib\\site-packages\\sklearn\\metrics\\_classification.py:1531: UndefinedMetricWarning: Precision is ill-defined and being set to 0.0 in labels with no predicted samples. Use `zero_division` parameter to control this behavior.\n",
      "  _warn_prf(average, modifier, f\"{metric.capitalize()} is\", len(result))\n",
      "C:\\Users\\kanatcohen\\.conda\\envs\\DeepLearning_env\\lib\\site-packages\\sklearn\\metrics\\_classification.py:1531: UndefinedMetricWarning: Precision is ill-defined and being set to 0.0 in labels with no predicted samples. Use `zero_division` parameter to control this behavior.\n",
      "  _warn_prf(average, modifier, f\"{metric.capitalize()} is\", len(result))\n",
      "C:\\Users\\kanatcohen\\.conda\\envs\\DeepLearning_env\\lib\\site-packages\\sklearn\\metrics\\_classification.py:1531: UndefinedMetricWarning: Precision is ill-defined and being set to 0.0 in labels with no predicted samples. Use `zero_division` parameter to control this behavior.\n",
      "  _warn_prf(average, modifier, f\"{metric.capitalize()} is\", len(result))\n",
      "C:\\Users\\kanatcohen\\.conda\\envs\\DeepLearning_env\\lib\\site-packages\\sklearn\\metrics\\_classification.py:1531: UndefinedMetricWarning: Precision is ill-defined and being set to 0.0 in labels with no predicted samples. Use `zero_division` parameter to control this behavior.\n",
      "  _warn_prf(average, modifier, f\"{metric.capitalize()} is\", len(result))\n",
      "C:\\Users\\kanatcohen\\.conda\\envs\\DeepLearning_env\\lib\\site-packages\\sklearn\\metrics\\_classification.py:1531: UndefinedMetricWarning: Precision is ill-defined and being set to 0.0 in labels with no predicted samples. Use `zero_division` parameter to control this behavior.\n",
      "  _warn_prf(average, modifier, f\"{metric.capitalize()} is\", len(result))\n"
     ]
    },
    {
     "data": {
      "text/plain": [
       "<IPython.core.display.HTML object>"
      ],
      "text/html": []
     },
     "metadata": {},
     "output_type": "display_data"
    },
    {
     "data": {
      "text/plain": [
       "<IPython.core.display.HTML object>"
      ],
      "text/html": [
       "<br>    <style><br>        .wandb-row {<br>            display: flex;<br>            flex-direction: row;<br>            flex-wrap: wrap;<br>            justify-content: flex-start;<br>            width: 100%;<br>        }<br>        .wandb-col {<br>            display: flex;<br>            flex-direction: column;<br>            flex-basis: 100%;<br>            flex: 1;<br>            padding: 10px;<br>        }<br>    </style><br><div class=\"wandb-row\"><div class=\"wandb-col\"><h3>Run history:</h3><br/><table class=\"wandb\"><tr><td>AUC</td><td>▁</td></tr><tr><td>Epoch</td><td>▁▁▂▂▂▃▃▃▄▄▄▅▅▅▆▆▆▇▇▇██</td></tr><tr><td>Fold</td><td>▁</td></tr><tr><td>Train Accuracy</td><td>▁▂▂▂▁▂▃▃▃▃▅▄▅▅▅▆▆▇▇▇▇█</td></tr><tr><td>Train Loss</td><td>█▇▇▆▆▅▄▄▄▄▃▃▃▃▂▂▂▂▂▁▁▁</td></tr><tr><td>Validation AUC</td><td>▁▂▅▆▇█▇██▇▇▇█▇████▇█▇▇</td></tr><tr><td>Validation Accuracy</td><td>▁▁▁▁▁▆██▄▆▇▅▇▃▇▇█▇▃▆▆▇</td></tr><tr><td>Validation F1</td><td>▁▁▁▁▁▅▆▇▄▅▆▇▇▆▆▇█▇▇▇█▆</td></tr><tr><td>Validation Loss</td><td>▅▃▃▂▃▁▁▂▁▂▃▂▂▂▇▂▂▁▂▃▂█</td></tr><tr><td>Validation Precision</td><td>▁▁▁▁▁▇██▇█▇██▆█▇██▇██▇</td></tr><tr><td>Validation Recall</td><td>▁▁▁▁▁▆██▄▆▇▅▇▃▇▇█▇▃▆▆▇</td></tr><tr><td>Validation Specificity</td><td>█████▇▇▆▇█▆▂▄▄▇▅▄▄▁▃▂▆</td></tr></table><br/></div><div class=\"wandb-col\"><h3>Run summary:</h3><br/><table class=\"wandb\"><tr><td>AUC</td><td>0.9363</td></tr><tr><td>Epoch</td><td>22</td></tr><tr><td>Fold</td><td>0</td></tr><tr><td>Train Accuracy</td><td>0.98741</td></tr><tr><td>Train Loss</td><td>0.03409</td></tr><tr><td>Validation AUC</td><td>0.91472</td></tr><tr><td>Validation Accuracy</td><td>0.94938</td></tr><tr><td>Validation F1</td><td>0.93896</td></tr><tr><td>Validation Loss</td><td>0.3427</td></tr><tr><td>Validation Precision</td><td>0.94067</td></tr><tr><td>Validation Recall</td><td>0.94938</td></tr><tr><td>Validation Specificity</td><td>0.99271</td></tr></table><br/></div></div>"
      ]
     },
     "metadata": {},
     "output_type": "display_data"
    },
    {
     "data": {
      "text/plain": [
       "<IPython.core.display.HTML object>"
      ],
      "text/html": [
       " View run <strong style=\"color:#cdcd00\">AlexNet_trial_1_fold_0</strong> at: <a href='https://wandb.ai/amitr5-tel-aviv-university/AlexNet-deep_van_gogh-aug-26.3.2025/runs/w7oq3ts2' target=\"_blank\">https://wandb.ai/amitr5-tel-aviv-university/AlexNet-deep_van_gogh-aug-26.3.2025/runs/w7oq3ts2</a><br> View project at: <a href='https://wandb.ai/amitr5-tel-aviv-university/AlexNet-deep_van_gogh-aug-26.3.2025' target=\"_blank\">https://wandb.ai/amitr5-tel-aviv-university/AlexNet-deep_van_gogh-aug-26.3.2025</a><br>Synced 5 W&B file(s), 0 media file(s), 0 artifact file(s) and 0 other file(s)"
      ]
     },
     "metadata": {},
     "output_type": "display_data"
    },
    {
     "data": {
      "text/plain": [
       "<IPython.core.display.HTML object>"
      ],
      "text/html": [
       "Find logs at: <code>.\\wandb\\run-20250326_175846-w7oq3ts2\\logs</code>"
      ]
     },
     "metadata": {},
     "output_type": "display_data"
    },
    {
     "data": {
      "text/plain": [
       "<IPython.core.display.HTML object>"
      ],
      "text/html": [
       "Tracking run with wandb version 0.19.1"
      ]
     },
     "metadata": {},
     "output_type": "display_data"
    },
    {
     "data": {
      "text/plain": [
       "<IPython.core.display.HTML object>"
      ],
      "text/html": [
       "Run data is saved locally in <code>D:\\Users\\kanatcohen\\PycharmProjects\\deep_van_gogh\\wandb\\run-20250326_180153-lvamum53</code>"
      ]
     },
     "metadata": {},
     "output_type": "display_data"
    },
    {
     "data": {
      "text/plain": [
       "<IPython.core.display.HTML object>"
      ],
      "text/html": [
       "Syncing run <strong><a href='https://wandb.ai/amitr5-tel-aviv-university/AlexNet-deep_van_gogh-aug-26.3.2025/runs/lvamum53' target=\"_blank\">AlexNet_trial_1_fold_1</a></strong> to <a href='https://wandb.ai/amitr5-tel-aviv-university/AlexNet-deep_van_gogh-aug-26.3.2025' target=\"_blank\">Weights & Biases</a> (<a href='https://wandb.me/developer-guide' target=\"_blank\">docs</a>)<br>"
      ]
     },
     "metadata": {},
     "output_type": "display_data"
    },
    {
     "data": {
      "text/plain": [
       "<IPython.core.display.HTML object>"
      ],
      "text/html": [
       " View project at <a href='https://wandb.ai/amitr5-tel-aviv-university/AlexNet-deep_van_gogh-aug-26.3.2025' target=\"_blank\">https://wandb.ai/amitr5-tel-aviv-university/AlexNet-deep_van_gogh-aug-26.3.2025</a>"
      ]
     },
     "metadata": {},
     "output_type": "display_data"
    },
    {
     "data": {
      "text/plain": [
       "<IPython.core.display.HTML object>"
      ],
      "text/html": [
       " View run at <a href='https://wandb.ai/amitr5-tel-aviv-university/AlexNet-deep_van_gogh-aug-26.3.2025/runs/lvamum53' target=\"_blank\">https://wandb.ai/amitr5-tel-aviv-university/AlexNet-deep_van_gogh-aug-26.3.2025/runs/lvamum53</a>"
      ]
     },
     "metadata": {},
     "output_type": "display_data"
    },
    {
     "data": {
      "text/plain": [
       "<IPython.core.display.HTML object>"
      ],
      "text/html": []
     },
     "metadata": {},
     "output_type": "display_data"
    },
    {
     "data": {
      "text/plain": [
       "<IPython.core.display.HTML object>"
      ],
      "text/html": [
       "<br>    <style><br>        .wandb-row {<br>            display: flex;<br>            flex-direction: row;<br>            flex-wrap: wrap;<br>            justify-content: flex-start;<br>            width: 100%;<br>        }<br>        .wandb-col {<br>            display: flex;<br>            flex-direction: column;<br>            flex-basis: 100%;<br>            flex: 1;<br>            padding: 10px;<br>        }<br>    </style><br><div class=\"wandb-row\"><div class=\"wandb-col\"><h3>Run history:</h3><br/><table class=\"wandb\"><tr><td>AUC</td><td>▁</td></tr><tr><td>Epoch</td><td>▁▂▂▃▄▅▅▆▇▇█</td></tr><tr><td>Fold</td><td>▁</td></tr><tr><td>Train Accuracy</td><td>▁▅▆▄▄▆▆▇▇█▇</td></tr><tr><td>Train Loss</td><td>█▄▃▅▅▃▃▂▂▁▂</td></tr><tr><td>Validation AUC</td><td>▇█▇▁█▄▇▆▇▇▇</td></tr><tr><td>Validation Accuracy</td><td>▅▅█▁▇▂▆▂█▆▆</td></tr><tr><td>Validation F1</td><td>▅▄█▁▇▁▆▁▇▆▆</td></tr><tr><td>Validation Loss</td><td>▆▂▂█▁▅▂▆▃▂▄</td></tr><tr><td>Validation Precision</td><td>▅▅█▁▇▃▆▃█▆▆</td></tr><tr><td>Validation Recall</td><td>▅▅█▁▇▂▆▂█▆▆</td></tr><tr><td>Validation Specificity</td><td>▂█▂▁▆▇▇▇█▆▇</td></tr></table><br/></div><div class=\"wandb-col\"><h3>Run summary:</h3><br/><table class=\"wandb\"><tr><td>AUC</td><td>0.9948</td></tr><tr><td>Epoch</td><td>11</td></tr><tr><td>Fold</td><td>1</td></tr><tr><td>Train Accuracy</td><td>0.98586</td></tr><tr><td>Train Loss</td><td>0.04073</td></tr><tr><td>Validation AUC</td><td>0.98922</td></tr><tr><td>Validation Accuracy</td><td>0.97702</td></tr><tr><td>Validation F1</td><td>0.97521</td></tr><tr><td>Validation Loss</td><td>0.06986</td></tr><tr><td>Validation Precision</td><td>0.97629</td></tr><tr><td>Validation Recall</td><td>0.97702</td></tr><tr><td>Validation Specificity</td><td>0.99709</td></tr></table><br/></div></div>"
      ]
     },
     "metadata": {},
     "output_type": "display_data"
    },
    {
     "data": {
      "text/plain": [
       "<IPython.core.display.HTML object>"
      ],
      "text/html": [
       " View run <strong style=\"color:#cdcd00\">AlexNet_trial_1_fold_1</strong> at: <a href='https://wandb.ai/amitr5-tel-aviv-university/AlexNet-deep_van_gogh-aug-26.3.2025/runs/lvamum53' target=\"_blank\">https://wandb.ai/amitr5-tel-aviv-university/AlexNet-deep_van_gogh-aug-26.3.2025/runs/lvamum53</a><br> View project at: <a href='https://wandb.ai/amitr5-tel-aviv-university/AlexNet-deep_van_gogh-aug-26.3.2025' target=\"_blank\">https://wandb.ai/amitr5-tel-aviv-university/AlexNet-deep_van_gogh-aug-26.3.2025</a><br>Synced 5 W&B file(s), 0 media file(s), 0 artifact file(s) and 0 other file(s)"
      ]
     },
     "metadata": {},
     "output_type": "display_data"
    },
    {
     "data": {
      "text/plain": [
       "<IPython.core.display.HTML object>"
      ],
      "text/html": [
       "Find logs at: <code>.\\wandb\\run-20250326_180153-lvamum53\\logs</code>"
      ]
     },
     "metadata": {},
     "output_type": "display_data"
    },
    {
     "data": {
      "text/plain": [
       "<IPython.core.display.HTML object>"
      ],
      "text/html": [
       "Tracking run with wandb version 0.19.1"
      ]
     },
     "metadata": {},
     "output_type": "display_data"
    },
    {
     "data": {
      "text/plain": [
       "<IPython.core.display.HTML object>"
      ],
      "text/html": [
       "Run data is saved locally in <code>D:\\Users\\kanatcohen\\PycharmProjects\\deep_van_gogh\\wandb\\run-20250326_180310-dzzqwarh</code>"
      ]
     },
     "metadata": {},
     "output_type": "display_data"
    },
    {
     "data": {
      "text/plain": [
       "<IPython.core.display.HTML object>"
      ],
      "text/html": [
       "Syncing run <strong><a href='https://wandb.ai/amitr5-tel-aviv-university/AlexNet-deep_van_gogh-aug-26.3.2025/runs/dzzqwarh' target=\"_blank\">AlexNet_trial_1_fold_2</a></strong> to <a href='https://wandb.ai/amitr5-tel-aviv-university/AlexNet-deep_van_gogh-aug-26.3.2025' target=\"_blank\">Weights & Biases</a> (<a href='https://wandb.me/developer-guide' target=\"_blank\">docs</a>)<br>"
      ]
     },
     "metadata": {},
     "output_type": "display_data"
    },
    {
     "data": {
      "text/plain": [
       "<IPython.core.display.HTML object>"
      ],
      "text/html": [
       " View project at <a href='https://wandb.ai/amitr5-tel-aviv-university/AlexNet-deep_van_gogh-aug-26.3.2025' target=\"_blank\">https://wandb.ai/amitr5-tel-aviv-university/AlexNet-deep_van_gogh-aug-26.3.2025</a>"
      ]
     },
     "metadata": {},
     "output_type": "display_data"
    },
    {
     "data": {
      "text/plain": [
       "<IPython.core.display.HTML object>"
      ],
      "text/html": [
       " View run at <a href='https://wandb.ai/amitr5-tel-aviv-university/AlexNet-deep_van_gogh-aug-26.3.2025/runs/dzzqwarh' target=\"_blank\">https://wandb.ai/amitr5-tel-aviv-university/AlexNet-deep_van_gogh-aug-26.3.2025/runs/dzzqwarh</a>"
      ]
     },
     "metadata": {},
     "output_type": "display_data"
    },
    {
     "data": {
      "text/plain": [
       "<IPython.core.display.HTML object>"
      ],
      "text/html": []
     },
     "metadata": {},
     "output_type": "display_data"
    },
    {
     "data": {
      "text/plain": [
       "<IPython.core.display.HTML object>"
      ],
      "text/html": [
       "<br>    <style><br>        .wandb-row {<br>            display: flex;<br>            flex-direction: row;<br>            flex-wrap: wrap;<br>            justify-content: flex-start;<br>            width: 100%;<br>        }<br>        .wandb-col {<br>            display: flex;<br>            flex-direction: column;<br>            flex-basis: 100%;<br>            flex: 1;<br>            padding: 10px;<br>        }<br>    </style><br><div class=\"wandb-row\"><div class=\"wandb-col\"><h3>Run history:</h3><br/><table class=\"wandb\"><tr><td>AUC</td><td>▁</td></tr><tr><td>Epoch</td><td>▁▂▃▃▄▅▆▆▇█</td></tr><tr><td>Fold</td><td>▁</td></tr><tr><td>Train Accuracy</td><td>▁▆▆▇▆▆██▇█</td></tr><tr><td>Train Loss</td><td>█▃▃▂▃▄▁▁▂▁</td></tr><tr><td>Validation AUC</td><td>███▇▇▆█▆▇▁</td></tr><tr><td>Validation Accuracy</td><td>▆██▇▆▅▇▅▇▁</td></tr><tr><td>Validation F1</td><td>▆██▇▆▅▇▄▇▁</td></tr><tr><td>Validation Loss</td><td>▂▁▁▃▃▃▂▆▂█</td></tr><tr><td>Validation Precision</td><td>▅██▆▆▄▇▄▇▁</td></tr><tr><td>Validation Recall</td><td>▆██▇▆▅▇▅▇▁</td></tr><tr><td>Validation Specificity</td><td>█▇█▆█████▁</td></tr></table><br/></div><div class=\"wandb-col\"><h3>Run summary:</h3><br/><table class=\"wandb\"><tr><td>AUC</td><td>0.99922</td></tr><tr><td>Epoch</td><td>10</td></tr><tr><td>Fold</td><td>2</td></tr><tr><td>Train Accuracy</td><td>0.99371</td></tr><tr><td>Train Loss</td><td>0.02109</td></tr><tr><td>Validation AUC</td><td>0.98701</td></tr><tr><td>Validation Accuracy</td><td>0.96525</td></tr><tr><td>Validation F1</td><td>0.96781</td></tr><tr><td>Validation Loss</td><td>0.09134</td></tr><tr><td>Validation Precision</td><td>0.97308</td></tr><tr><td>Validation Recall</td><td>0.96525</td></tr><tr><td>Validation Specificity</td><td>0.96911</td></tr></table><br/></div></div>"
      ]
     },
     "metadata": {},
     "output_type": "display_data"
    },
    {
     "data": {
      "text/plain": [
       "<IPython.core.display.HTML object>"
      ],
      "text/html": [
       " View run <strong style=\"color:#cdcd00\">AlexNet_trial_1_fold_2</strong> at: <a href='https://wandb.ai/amitr5-tel-aviv-university/AlexNet-deep_van_gogh-aug-26.3.2025/runs/dzzqwarh' target=\"_blank\">https://wandb.ai/amitr5-tel-aviv-university/AlexNet-deep_van_gogh-aug-26.3.2025/runs/dzzqwarh</a><br> View project at: <a href='https://wandb.ai/amitr5-tel-aviv-university/AlexNet-deep_van_gogh-aug-26.3.2025' target=\"_blank\">https://wandb.ai/amitr5-tel-aviv-university/AlexNet-deep_van_gogh-aug-26.3.2025</a><br>Synced 5 W&B file(s), 0 media file(s), 0 artifact file(s) and 0 other file(s)"
      ]
     },
     "metadata": {},
     "output_type": "display_data"
    },
    {
     "data": {
      "text/plain": [
       "<IPython.core.display.HTML object>"
      ],
      "text/html": [
       "Find logs at: <code>.\\wandb\\run-20250326_180310-dzzqwarh\\logs</code>"
      ]
     },
     "metadata": {},
     "output_type": "display_data"
    },
    {
     "data": {
      "text/plain": [
       "<IPython.core.display.HTML object>"
      ],
      "text/html": [
       "Tracking run with wandb version 0.19.1"
      ]
     },
     "metadata": {},
     "output_type": "display_data"
    },
    {
     "data": {
      "text/plain": [
       "<IPython.core.display.HTML object>"
      ],
      "text/html": [
       "Run data is saved locally in <code>D:\\Users\\kanatcohen\\PycharmProjects\\deep_van_gogh\\wandb\\run-20250326_180421-zttjnop3</code>"
      ]
     },
     "metadata": {},
     "output_type": "display_data"
    },
    {
     "data": {
      "text/plain": [
       "<IPython.core.display.HTML object>"
      ],
      "text/html": [
       "Syncing run <strong><a href='https://wandb.ai/amitr5-tel-aviv-university/AlexNet-deep_van_gogh-aug-26.3.2025/runs/zttjnop3' target=\"_blank\">AlexNet_trial_1_fold_3</a></strong> to <a href='https://wandb.ai/amitr5-tel-aviv-university/AlexNet-deep_van_gogh-aug-26.3.2025' target=\"_blank\">Weights & Biases</a> (<a href='https://wandb.me/developer-guide' target=\"_blank\">docs</a>)<br>"
      ]
     },
     "metadata": {},
     "output_type": "display_data"
    },
    {
     "data": {
      "text/plain": [
       "<IPython.core.display.HTML object>"
      ],
      "text/html": [
       " View project at <a href='https://wandb.ai/amitr5-tel-aviv-university/AlexNet-deep_van_gogh-aug-26.3.2025' target=\"_blank\">https://wandb.ai/amitr5-tel-aviv-university/AlexNet-deep_van_gogh-aug-26.3.2025</a>"
      ]
     },
     "metadata": {},
     "output_type": "display_data"
    },
    {
     "data": {
      "text/plain": [
       "<IPython.core.display.HTML object>"
      ],
      "text/html": [
       " View run at <a href='https://wandb.ai/amitr5-tel-aviv-university/AlexNet-deep_van_gogh-aug-26.3.2025/runs/zttjnop3' target=\"_blank\">https://wandb.ai/amitr5-tel-aviv-university/AlexNet-deep_van_gogh-aug-26.3.2025/runs/zttjnop3</a>"
      ]
     },
     "metadata": {},
     "output_type": "display_data"
    },
    {
     "data": {
      "text/plain": [
       "<IPython.core.display.HTML object>"
      ],
      "text/html": []
     },
     "metadata": {},
     "output_type": "display_data"
    },
    {
     "data": {
      "text/plain": [
       "<IPython.core.display.HTML object>"
      ],
      "text/html": [
       "<br>    <style><br>        .wandb-row {<br>            display: flex;<br>            flex-direction: row;<br>            flex-wrap: wrap;<br>            justify-content: flex-start;<br>            width: 100%;<br>        }<br>        .wandb-col {<br>            display: flex;<br>            flex-direction: column;<br>            flex-basis: 100%;<br>            flex: 1;<br>            padding: 10px;<br>        }<br>    </style><br><div class=\"wandb-row\"><div class=\"wandb-col\"><h3>Run history:</h3><br/><table class=\"wandb\"><tr><td>AUC</td><td>▁</td></tr><tr><td>Epoch</td><td>▁▁▂▂▃▃▄▄▅▅▆▆▇▇██</td></tr><tr><td>Fold</td><td>▁</td></tr><tr><td>Train Accuracy</td><td>▃▂▆▁▅▄▇█▇▆▇▆▇▆▁▆</td></tr><tr><td>Train Loss</td><td>▆▅▂█▃▅▁▁▂▃▂▃▂▃▇▃</td></tr><tr><td>Validation AUC</td><td>▁██▇█████▇▇▇▇▆▅▇</td></tr><tr><td>Validation Accuracy</td><td>▃▂▂▆▅▄███▂▆▅▆▄▁▆</td></tr><tr><td>Validation F1</td><td>▃▂▂▆▅▄███▂▆▅▇▄▁▆</td></tr><tr><td>Validation Loss</td><td>▇▄▆▄▄▄▁▂▃█▃▄▃▅▆▃</td></tr><tr><td>Validation Precision</td><td>▃▂▂▆▅▄███▂▆▅▆▄▁▆</td></tr><tr><td>Validation Recall</td><td>▃▂▂▆▅▄███▂▆▅▆▄▁▆</td></tr><tr><td>Validation Specificity</td><td>▇█▇▁█▇▇▅▃█▃▆▂▇▆▇</td></tr></table><br/></div><div class=\"wandb-col\"><h3>Run summary:</h3><br/><table class=\"wandb\"><tr><td>AUC</td><td>0.99992</td></tr><tr><td>Epoch</td><td>16</td></tr><tr><td>Fold</td><td>3</td></tr><tr><td>Train Accuracy</td><td>0.99225</td></tr><tr><td>Train Loss</td><td>0.02291</td></tr><tr><td>Validation AUC</td><td>0.99869</td></tr><tr><td>Validation Accuracy</td><td>0.99425</td></tr><tr><td>Validation F1</td><td>0.99414</td></tr><tr><td>Validation Loss</td><td>0.01885</td></tr><tr><td>Validation Precision</td><td>0.99426</td></tr><tr><td>Validation Recall</td><td>0.99425</td></tr><tr><td>Validation Specificity</td><td>0.99971</td></tr></table><br/></div></div>"
      ]
     },
     "metadata": {},
     "output_type": "display_data"
    },
    {
     "data": {
      "text/plain": [
       "<IPython.core.display.HTML object>"
      ],
      "text/html": [
       " View run <strong style=\"color:#cdcd00\">AlexNet_trial_1_fold_3</strong> at: <a href='https://wandb.ai/amitr5-tel-aviv-university/AlexNet-deep_van_gogh-aug-26.3.2025/runs/zttjnop3' target=\"_blank\">https://wandb.ai/amitr5-tel-aviv-university/AlexNet-deep_van_gogh-aug-26.3.2025/runs/zttjnop3</a><br> View project at: <a href='https://wandb.ai/amitr5-tel-aviv-university/AlexNet-deep_van_gogh-aug-26.3.2025' target=\"_blank\">https://wandb.ai/amitr5-tel-aviv-university/AlexNet-deep_van_gogh-aug-26.3.2025</a><br>Synced 5 W&B file(s), 0 media file(s), 0 artifact file(s) and 0 other file(s)"
      ]
     },
     "metadata": {},
     "output_type": "display_data"
    },
    {
     "data": {
      "text/plain": [
       "<IPython.core.display.HTML object>"
      ],
      "text/html": [
       "Find logs at: <code>.\\wandb\\run-20250326_180421-zttjnop3\\logs</code>"
      ]
     },
     "metadata": {},
     "output_type": "display_data"
    },
    {
     "data": {
      "text/plain": [
       "<IPython.core.display.HTML object>"
      ],
      "text/html": [
       "Tracking run with wandb version 0.19.1"
      ]
     },
     "metadata": {},
     "output_type": "display_data"
    },
    {
     "data": {
      "text/plain": [
       "<IPython.core.display.HTML object>"
      ],
      "text/html": [
       "Run data is saved locally in <code>D:\\Users\\kanatcohen\\PycharmProjects\\deep_van_gogh\\wandb\\run-20250326_180613-n8za9ar6</code>"
      ]
     },
     "metadata": {},
     "output_type": "display_data"
    },
    {
     "data": {
      "text/plain": [
       "<IPython.core.display.HTML object>"
      ],
      "text/html": [
       "Syncing run <strong><a href='https://wandb.ai/amitr5-tel-aviv-university/AlexNet-deep_van_gogh-aug-26.3.2025/runs/n8za9ar6' target=\"_blank\">AlexNet_trial_1</a></strong> to <a href='https://wandb.ai/amitr5-tel-aviv-university/AlexNet-deep_van_gogh-aug-26.3.2025' target=\"_blank\">Weights & Biases</a> (<a href='https://wandb.me/developer-guide' target=\"_blank\">docs</a>)<br>"
      ]
     },
     "metadata": {},
     "output_type": "display_data"
    },
    {
     "data": {
      "text/plain": [
       "<IPython.core.display.HTML object>"
      ],
      "text/html": [
       " View project at <a href='https://wandb.ai/amitr5-tel-aviv-university/AlexNet-deep_van_gogh-aug-26.3.2025' target=\"_blank\">https://wandb.ai/amitr5-tel-aviv-university/AlexNet-deep_van_gogh-aug-26.3.2025</a>"
      ]
     },
     "metadata": {},
     "output_type": "display_data"
    },
    {
     "data": {
      "text/plain": [
       "<IPython.core.display.HTML object>"
      ],
      "text/html": [
       " View run at <a href='https://wandb.ai/amitr5-tel-aviv-university/AlexNet-deep_van_gogh-aug-26.3.2025/runs/n8za9ar6' target=\"_blank\">https://wandb.ai/amitr5-tel-aviv-university/AlexNet-deep_van_gogh-aug-26.3.2025/runs/n8za9ar6</a>"
      ]
     },
     "metadata": {},
     "output_type": "display_data"
    },
    {
     "data": {
      "text/plain": [
       "<IPython.core.display.HTML object>"
      ],
      "text/html": []
     },
     "metadata": {},
     "output_type": "display_data"
    },
    {
     "data": {
      "text/plain": [
       "<IPython.core.display.HTML object>"
      ],
      "text/html": [
       "<br>    <style><br>        .wandb-row {<br>            display: flex;<br>            flex-direction: row;<br>            flex-wrap: wrap;<br>            justify-content: flex-start;<br>            width: 100%;<br>        }<br>        .wandb-col {<br>            display: flex;<br>            flex-direction: column;<br>            flex-basis: 100%;<br>            flex: 1;<br>            padding: 10px;<br>        }<br>    </style><br><div class=\"wandb-row\"><div class=\"wandb-col\"><h3>Run history:</h3><br/><table class=\"wandb\"><tr><td>Mean AUC</td><td>▁</td></tr><tr><td>Trial</td><td>▁</td></tr></table><br/></div><div class=\"wandb-col\"><h3>Run summary:</h3><br/><table class=\"wandb\"><tr><td>Mean AUC</td><td>0.98256</td></tr><tr><td>Trial</td><td>1</td></tr></table><br/></div></div>"
      ]
     },
     "metadata": {},
     "output_type": "display_data"
    },
    {
     "data": {
      "text/plain": [
       "<IPython.core.display.HTML object>"
      ],
      "text/html": [
       " View run <strong style=\"color:#cdcd00\">AlexNet_trial_1</strong> at: <a href='https://wandb.ai/amitr5-tel-aviv-university/AlexNet-deep_van_gogh-aug-26.3.2025/runs/n8za9ar6' target=\"_blank\">https://wandb.ai/amitr5-tel-aviv-university/AlexNet-deep_van_gogh-aug-26.3.2025/runs/n8za9ar6</a><br> View project at: <a href='https://wandb.ai/amitr5-tel-aviv-university/AlexNet-deep_van_gogh-aug-26.3.2025' target=\"_blank\">https://wandb.ai/amitr5-tel-aviv-university/AlexNet-deep_van_gogh-aug-26.3.2025</a><br>Synced 5 W&B file(s), 0 media file(s), 0 artifact file(s) and 0 other file(s)"
      ]
     },
     "metadata": {},
     "output_type": "display_data"
    },
    {
     "data": {
      "text/plain": [
       "<IPython.core.display.HTML object>"
      ],
      "text/html": [
       "Find logs at: <code>.\\wandb\\run-20250326_180613-n8za9ar6\\logs</code>"
      ]
     },
     "metadata": {},
     "output_type": "display_data"
    },
    {
     "name": "stderr",
     "output_type": "stream",
     "text": [
      "[I 2025-03-26 18:06:18,962] Trial 0 finished with value: 0.982559554169963 and parameters: {'learning_rate': 0.0004317614033613021, 'weight_decay': 1.3187536979429902e-06, 'epochs': 30, 'num_layers_finetune': 0}. Best is trial 0 with value: 0.982559554169963.\n"
     ]
    },
    {
     "data": {
      "text/plain": [
       "<IPython.core.display.HTML object>"
      ],
      "text/html": [
       "Tracking run with wandb version 0.19.1"
      ]
     },
     "metadata": {},
     "output_type": "display_data"
    },
    {
     "data": {
      "text/plain": [
       "<IPython.core.display.HTML object>"
      ],
      "text/html": [
       "Run data is saved locally in <code>D:\\Users\\kanatcohen\\PycharmProjects\\deep_van_gogh\\wandb\\run-20250326_180618-6d9zeufn</code>"
      ]
     },
     "metadata": {},
     "output_type": "display_data"
    },
    {
     "data": {
      "text/plain": [
       "<IPython.core.display.HTML object>"
      ],
      "text/html": [
       "Syncing run <strong><a href='https://wandb.ai/amitr5-tel-aviv-university/AlexNet-deep_van_gogh-aug-26.3.2025/runs/6d9zeufn' target=\"_blank\">AlexNet_trial_2_fold_0</a></strong> to <a href='https://wandb.ai/amitr5-tel-aviv-university/AlexNet-deep_van_gogh-aug-26.3.2025' target=\"_blank\">Weights & Biases</a> (<a href='https://wandb.me/developer-guide' target=\"_blank\">docs</a>)<br>"
      ]
     },
     "metadata": {},
     "output_type": "display_data"
    },
    {
     "data": {
      "text/plain": [
       "<IPython.core.display.HTML object>"
      ],
      "text/html": [
       " View project at <a href='https://wandb.ai/amitr5-tel-aviv-university/AlexNet-deep_van_gogh-aug-26.3.2025' target=\"_blank\">https://wandb.ai/amitr5-tel-aviv-university/AlexNet-deep_van_gogh-aug-26.3.2025</a>"
      ]
     },
     "metadata": {},
     "output_type": "display_data"
    },
    {
     "data": {
      "text/plain": [
       "<IPython.core.display.HTML object>"
      ],
      "text/html": [
       " View run at <a href='https://wandb.ai/amitr5-tel-aviv-university/AlexNet-deep_van_gogh-aug-26.3.2025/runs/6d9zeufn' target=\"_blank\">https://wandb.ai/amitr5-tel-aviv-university/AlexNet-deep_van_gogh-aug-26.3.2025/runs/6d9zeufn</a>"
      ]
     },
     "metadata": {},
     "output_type": "display_data"
    },
    {
     "data": {
      "text/plain": [
       "<IPython.core.display.HTML object>"
      ],
      "text/html": []
     },
     "metadata": {},
     "output_type": "display_data"
    },
    {
     "data": {
      "text/plain": [
       "<IPython.core.display.HTML object>"
      ],
      "text/html": [
       "<br>    <style><br>        .wandb-row {<br>            display: flex;<br>            flex-direction: row;<br>            flex-wrap: wrap;<br>            justify-content: flex-start;<br>            width: 100%;<br>        }<br>        .wandb-col {<br>            display: flex;<br>            flex-direction: column;<br>            flex-basis: 100%;<br>            flex: 1;<br>            padding: 10px;<br>        }<br>    </style><br><div class=\"wandb-row\"><div class=\"wandb-col\"><h3>Run history:</h3><br/><table class=\"wandb\"><tr><td>AUC</td><td>▁</td></tr><tr><td>Epoch</td><td>▁▁▂▂▃▃▃▄▄▅▅▅▆▆▆▇▇██</td></tr><tr><td>Fold</td><td>▁</td></tr><tr><td>Train Accuracy</td><td>▁▇█████████████████</td></tr><tr><td>Train Loss</td><td>█▁▁▁▁▁▁▁▁▁▁▁▁▁▁▁▁▁▁</td></tr><tr><td>Validation AUC</td><td>▁▇▇█████▇█▇██████▇▇</td></tr><tr><td>Validation Accuracy</td><td>▁▆▅▅██▃▇▅█▆█▇█▇█▇▆▃</td></tr><tr><td>Validation F1</td><td>▁▆▅▆██▃▇▅█▆█▇█▇█▇▆▃</td></tr><tr><td>Validation Loss</td><td>▇▃▃▃▁▁█▁▆▁▅▁▂▁▂▁▂▂▅</td></tr><tr><td>Validation Precision</td><td>▁▆▅▅██▃▇▅█▆█▇█▇█▇▆▃</td></tr><tr><td>Validation Recall</td><td>▁▆▅▅██▃▇▅█▆█▇█▇█▇▆▃</td></tr><tr><td>Validation Specificity</td><td>▇▃▅█▆▇█▇▇▇▁█▆▇▅▇▇▃▇</td></tr></table><br/></div><div class=\"wandb-col\"><h3>Run summary:</h3><br/><table class=\"wandb\"><tr><td>AUC</td><td>0.99999</td></tr><tr><td>Epoch</td><td>19</td></tr><tr><td>Fold</td><td>0</td></tr><tr><td>Train Accuracy</td><td>0.99763</td></tr><tr><td>Train Loss</td><td>0.00622</td></tr><tr><td>Validation AUC</td><td>0.99981</td></tr><tr><td>Validation Accuracy</td><td>0.99343</td></tr><tr><td>Validation F1</td><td>0.99329</td></tr><tr><td>Validation Loss</td><td>0.01707</td></tr><tr><td>Validation Precision</td><td>0.99341</td></tr><tr><td>Validation Recall</td><td>0.99343</td></tr><tr><td>Validation Specificity</td><td>0.99942</td></tr></table><br/></div></div>"
      ]
     },
     "metadata": {},
     "output_type": "display_data"
    },
    {
     "data": {
      "text/plain": [
       "<IPython.core.display.HTML object>"
      ],
      "text/html": [
       " View run <strong style=\"color:#cdcd00\">AlexNet_trial_2_fold_0</strong> at: <a href='https://wandb.ai/amitr5-tel-aviv-university/AlexNet-deep_van_gogh-aug-26.3.2025/runs/6d9zeufn' target=\"_blank\">https://wandb.ai/amitr5-tel-aviv-university/AlexNet-deep_van_gogh-aug-26.3.2025/runs/6d9zeufn</a><br> View project at: <a href='https://wandb.ai/amitr5-tel-aviv-university/AlexNet-deep_van_gogh-aug-26.3.2025' target=\"_blank\">https://wandb.ai/amitr5-tel-aviv-university/AlexNet-deep_van_gogh-aug-26.3.2025</a><br>Synced 5 W&B file(s), 0 media file(s), 0 artifact file(s) and 0 other file(s)"
      ]
     },
     "metadata": {},
     "output_type": "display_data"
    },
    {
     "data": {
      "text/plain": [
       "<IPython.core.display.HTML object>"
      ],
      "text/html": [
       "Find logs at: <code>.\\wandb\\run-20250326_180618-6d9zeufn\\logs</code>"
      ]
     },
     "metadata": {},
     "output_type": "display_data"
    },
    {
     "data": {
      "text/plain": [
       "<IPython.core.display.HTML object>"
      ],
      "text/html": [
       "Tracking run with wandb version 0.19.1"
      ]
     },
     "metadata": {},
     "output_type": "display_data"
    },
    {
     "data": {
      "text/plain": [
       "<IPython.core.display.HTML object>"
      ],
      "text/html": [
       "Run data is saved locally in <code>D:\\Users\\kanatcohen\\PycharmProjects\\deep_van_gogh\\wandb\\run-20250326_180828-4ku8inue</code>"
      ]
     },
     "metadata": {},
     "output_type": "display_data"
    },
    {
     "data": {
      "text/plain": [
       "<IPython.core.display.HTML object>"
      ],
      "text/html": [
       "Syncing run <strong><a href='https://wandb.ai/amitr5-tel-aviv-university/AlexNet-deep_van_gogh-aug-26.3.2025/runs/4ku8inue' target=\"_blank\">AlexNet_trial_2_fold_1</a></strong> to <a href='https://wandb.ai/amitr5-tel-aviv-university/AlexNet-deep_van_gogh-aug-26.3.2025' target=\"_blank\">Weights & Biases</a> (<a href='https://wandb.me/developer-guide' target=\"_blank\">docs</a>)<br>"
      ]
     },
     "metadata": {},
     "output_type": "display_data"
    },
    {
     "data": {
      "text/plain": [
       "<IPython.core.display.HTML object>"
      ],
      "text/html": [
       " View project at <a href='https://wandb.ai/amitr5-tel-aviv-university/AlexNet-deep_van_gogh-aug-26.3.2025' target=\"_blank\">https://wandb.ai/amitr5-tel-aviv-university/AlexNet-deep_van_gogh-aug-26.3.2025</a>"
      ]
     },
     "metadata": {},
     "output_type": "display_data"
    },
    {
     "data": {
      "text/plain": [
       "<IPython.core.display.HTML object>"
      ],
      "text/html": [
       " View run at <a href='https://wandb.ai/amitr5-tel-aviv-university/AlexNet-deep_van_gogh-aug-26.3.2025/runs/4ku8inue' target=\"_blank\">https://wandb.ai/amitr5-tel-aviv-university/AlexNet-deep_van_gogh-aug-26.3.2025/runs/4ku8inue</a>"
      ]
     },
     "metadata": {},
     "output_type": "display_data"
    },
    {
     "data": {
      "text/plain": [
       "<IPython.core.display.HTML object>"
      ],
      "text/html": []
     },
     "metadata": {},
     "output_type": "display_data"
    },
    {
     "data": {
      "text/plain": [
       "<IPython.core.display.HTML object>"
      ],
      "text/html": [
       "<br>    <style><br>        .wandb-row {<br>            display: flex;<br>            flex-direction: row;<br>            flex-wrap: wrap;<br>            justify-content: flex-start;<br>            width: 100%;<br>        }<br>        .wandb-col {<br>            display: flex;<br>            flex-direction: column;<br>            flex-basis: 100%;<br>            flex: 1;<br>            padding: 10px;<br>        }<br>    </style><br><div class=\"wandb-row\"><div class=\"wandb-col\"><h3>Run history:</h3><br/><table class=\"wandb\"><tr><td>AUC</td><td>▁</td></tr><tr><td>Epoch</td><td>▁▂▂▃▄▅▅▆▇▇█</td></tr><tr><td>Fold</td><td>▁</td></tr><tr><td>Train Accuracy</td><td>▁▇▄▆▆▅▇█▆▄▇</td></tr><tr><td>Train Loss</td><td>█▃▇▄▅▆▄▁▄▇▃</td></tr><tr><td>Validation AUC</td><td>▇██▁████▅▇▆</td></tr><tr><td>Validation Accuracy</td><td>▁▇█▁▅▄██▁▁▂</td></tr><tr><td>Validation F1</td><td>▁▇█▁▅▄██▁▁▂</td></tr><tr><td>Validation Loss</td><td>▅▂▁█▂▃▁▁▄▃▄</td></tr><tr><td>Validation Precision</td><td>▁▇█▁▅▄██▁▁▂</td></tr><tr><td>Validation Recall</td><td>▁▇█▁▅▄██▁▁▂</td></tr><tr><td>Validation Specificity</td><td>███▁█▄███▅█</td></tr></table><br/></div><div class=\"wandb-col\"><h3>Run summary:</h3><br/><table class=\"wandb\"><tr><td>AUC</td><td>1</td></tr><tr><td>Epoch</td><td>11</td></tr><tr><td>Fold</td><td>1</td></tr><tr><td>Train Accuracy</td><td>0.99918</td></tr><tr><td>Train Loss</td><td>0.00255</td></tr><tr><td>Validation AUC</td><td>0.99996</td></tr><tr><td>Validation Accuracy</td><td>0.99891</td></tr><tr><td>Validation F1</td><td>0.9989</td></tr><tr><td>Validation Loss</td><td>0.0036</td></tr><tr><td>Validation Precision</td><td>0.99891</td></tr><tr><td>Validation Recall</td><td>0.99891</td></tr><tr><td>Validation Specificity</td><td>1</td></tr></table><br/></div></div>"
      ]
     },
     "metadata": {},
     "output_type": "display_data"
    },
    {
     "data": {
      "text/plain": [
       "<IPython.core.display.HTML object>"
      ],
      "text/html": [
       " View run <strong style=\"color:#cdcd00\">AlexNet_trial_2_fold_1</strong> at: <a href='https://wandb.ai/amitr5-tel-aviv-university/AlexNet-deep_van_gogh-aug-26.3.2025/runs/4ku8inue' target=\"_blank\">https://wandb.ai/amitr5-tel-aviv-university/AlexNet-deep_van_gogh-aug-26.3.2025/runs/4ku8inue</a><br> View project at: <a href='https://wandb.ai/amitr5-tel-aviv-university/AlexNet-deep_van_gogh-aug-26.3.2025' target=\"_blank\">https://wandb.ai/amitr5-tel-aviv-university/AlexNet-deep_van_gogh-aug-26.3.2025</a><br>Synced 5 W&B file(s), 0 media file(s), 0 artifact file(s) and 0 other file(s)"
      ]
     },
     "metadata": {},
     "output_type": "display_data"
    },
    {
     "data": {
      "text/plain": [
       "<IPython.core.display.HTML object>"
      ],
      "text/html": [
       "Find logs at: <code>.\\wandb\\run-20250326_180828-4ku8inue\\logs</code>"
      ]
     },
     "metadata": {},
     "output_type": "display_data"
    },
    {
     "data": {
      "text/plain": [
       "<IPython.core.display.HTML object>"
      ],
      "text/html": [
       "Tracking run with wandb version 0.19.1"
      ]
     },
     "metadata": {},
     "output_type": "display_data"
    },
    {
     "data": {
      "text/plain": [
       "<IPython.core.display.HTML object>"
      ],
      "text/html": [
       "Run data is saved locally in <code>D:\\Users\\kanatcohen\\PycharmProjects\\deep_van_gogh\\wandb\\run-20250326_180946-ze7of4yz</code>"
      ]
     },
     "metadata": {},
     "output_type": "display_data"
    },
    {
     "data": {
      "text/plain": [
       "<IPython.core.display.HTML object>"
      ],
      "text/html": [
       "Syncing run <strong><a href='https://wandb.ai/amitr5-tel-aviv-university/AlexNet-deep_van_gogh-aug-26.3.2025/runs/ze7of4yz' target=\"_blank\">AlexNet_trial_2_fold_2</a></strong> to <a href='https://wandb.ai/amitr5-tel-aviv-university/AlexNet-deep_van_gogh-aug-26.3.2025' target=\"_blank\">Weights & Biases</a> (<a href='https://wandb.me/developer-guide' target=\"_blank\">docs</a>)<br>"
      ]
     },
     "metadata": {},
     "output_type": "display_data"
    },
    {
     "data": {
      "text/plain": [
       "<IPython.core.display.HTML object>"
      ],
      "text/html": [
       " View project at <a href='https://wandb.ai/amitr5-tel-aviv-university/AlexNet-deep_van_gogh-aug-26.3.2025' target=\"_blank\">https://wandb.ai/amitr5-tel-aviv-university/AlexNet-deep_van_gogh-aug-26.3.2025</a>"
      ]
     },
     "metadata": {},
     "output_type": "display_data"
    },
    {
     "data": {
      "text/plain": [
       "<IPython.core.display.HTML object>"
      ],
      "text/html": [
       " View run at <a href='https://wandb.ai/amitr5-tel-aviv-university/AlexNet-deep_van_gogh-aug-26.3.2025/runs/ze7of4yz' target=\"_blank\">https://wandb.ai/amitr5-tel-aviv-university/AlexNet-deep_van_gogh-aug-26.3.2025/runs/ze7of4yz</a>"
      ]
     },
     "metadata": {},
     "output_type": "display_data"
    },
    {
     "data": {
      "text/plain": [
       "<IPython.core.display.HTML object>"
      ],
      "text/html": []
     },
     "metadata": {},
     "output_type": "display_data"
    },
    {
     "data": {
      "text/plain": [
       "<IPython.core.display.HTML object>"
      ],
      "text/html": [
       "<br>    <style><br>        .wandb-row {<br>            display: flex;<br>            flex-direction: row;<br>            flex-wrap: wrap;<br>            justify-content: flex-start;<br>            width: 100%;<br>        }<br>        .wandb-col {<br>            display: flex;<br>            flex-direction: column;<br>            flex-basis: 100%;<br>            flex: 1;<br>            padding: 10px;<br>        }<br>    </style><br><div class=\"wandb-row\"><div class=\"wandb-col\"><h3>Run history:</h3><br/><table class=\"wandb\"><tr><td>AUC</td><td>▁</td></tr><tr><td>Epoch</td><td>▁▂▃▃▄▅▆▆▇█</td></tr><tr><td>Fold</td><td>▁</td></tr><tr><td>Train Accuracy</td><td>▁██▇▇▇▇███</td></tr><tr><td>Train Loss</td><td>█▁▂▂▂▂▂▂▁▁</td></tr><tr><td>Validation AUC</td><td>████▁▃█▇█▃</td></tr><tr><td>Validation Accuracy</td><td>▅▇▇▃▇▆▄▁█▄</td></tr><tr><td>Validation F1</td><td>▅▇▇▃▇▆▄▁█▄</td></tr><tr><td>Validation Loss</td><td>▄▂▄▆▃▄▅▅▁█</td></tr><tr><td>Validation Precision</td><td>▅▇▇▃▇▆▄▁█▄</td></tr><tr><td>Validation Recall</td><td>▅▇▇▃▇▆▄▁█▄</td></tr><tr><td>Validation Specificity</td><td>▅██████▁█▄</td></tr></table><br/></div><div class=\"wandb-col\"><h3>Run summary:</h3><br/><table class=\"wandb\"><tr><td>AUC</td><td>1</td></tr><tr><td>Epoch</td><td>10</td></tr><tr><td>Fold</td><td>2</td></tr><tr><td>Train Accuracy</td><td>0.99991</td></tr><tr><td>Train Loss</td><td>0.00027</td></tr><tr><td>Validation AUC</td><td>0.99999</td></tr><tr><td>Validation Accuracy</td><td>0.99891</td></tr><tr><td>Validation F1</td><td>0.99891</td></tr><tr><td>Validation Loss</td><td>0.00506</td></tr><tr><td>Validation Precision</td><td>0.99892</td></tr><tr><td>Validation Recall</td><td>0.99891</td></tr><tr><td>Validation Specificity</td><td>0.99883</td></tr></table><br/></div></div>"
      ]
     },
     "metadata": {},
     "output_type": "display_data"
    },
    {
     "data": {
      "text/plain": [
       "<IPython.core.display.HTML object>"
      ],
      "text/html": [
       " View run <strong style=\"color:#cdcd00\">AlexNet_trial_2_fold_2</strong> at: <a href='https://wandb.ai/amitr5-tel-aviv-university/AlexNet-deep_van_gogh-aug-26.3.2025/runs/ze7of4yz' target=\"_blank\">https://wandb.ai/amitr5-tel-aviv-university/AlexNet-deep_van_gogh-aug-26.3.2025/runs/ze7of4yz</a><br> View project at: <a href='https://wandb.ai/amitr5-tel-aviv-university/AlexNet-deep_van_gogh-aug-26.3.2025' target=\"_blank\">https://wandb.ai/amitr5-tel-aviv-university/AlexNet-deep_van_gogh-aug-26.3.2025</a><br>Synced 5 W&B file(s), 0 media file(s), 0 artifact file(s) and 0 other file(s)"
      ]
     },
     "metadata": {},
     "output_type": "display_data"
    },
    {
     "data": {
      "text/plain": [
       "<IPython.core.display.HTML object>"
      ],
      "text/html": [
       "Find logs at: <code>.\\wandb\\run-20250326_180946-ze7of4yz\\logs</code>"
      ]
     },
     "metadata": {},
     "output_type": "display_data"
    },
    {
     "data": {
      "text/plain": [
       "<IPython.core.display.HTML object>"
      ],
      "text/html": [
       "Tracking run with wandb version 0.19.1"
      ]
     },
     "metadata": {},
     "output_type": "display_data"
    },
    {
     "data": {
      "text/plain": [
       "<IPython.core.display.HTML object>"
      ],
      "text/html": [
       "Run data is saved locally in <code>D:\\Users\\kanatcohen\\PycharmProjects\\deep_van_gogh\\wandb\\run-20250326_181058-bd65i06u</code>"
      ]
     },
     "metadata": {},
     "output_type": "display_data"
    },
    {
     "data": {
      "text/plain": [
       "<IPython.core.display.HTML object>"
      ],
      "text/html": [
       "Syncing run <strong><a href='https://wandb.ai/amitr5-tel-aviv-university/AlexNet-deep_van_gogh-aug-26.3.2025/runs/bd65i06u' target=\"_blank\">AlexNet_trial_2_fold_3</a></strong> to <a href='https://wandb.ai/amitr5-tel-aviv-university/AlexNet-deep_van_gogh-aug-26.3.2025' target=\"_blank\">Weights & Biases</a> (<a href='https://wandb.me/developer-guide' target=\"_blank\">docs</a>)<br>"
      ]
     },
     "metadata": {},
     "output_type": "display_data"
    },
    {
     "data": {
      "text/plain": [
       "<IPython.core.display.HTML object>"
      ],
      "text/html": [
       " View project at <a href='https://wandb.ai/amitr5-tel-aviv-university/AlexNet-deep_van_gogh-aug-26.3.2025' target=\"_blank\">https://wandb.ai/amitr5-tel-aviv-university/AlexNet-deep_van_gogh-aug-26.3.2025</a>"
      ]
     },
     "metadata": {},
     "output_type": "display_data"
    },
    {
     "data": {
      "text/plain": [
       "<IPython.core.display.HTML object>"
      ],
      "text/html": [
       " View run at <a href='https://wandb.ai/amitr5-tel-aviv-university/AlexNet-deep_van_gogh-aug-26.3.2025/runs/bd65i06u' target=\"_blank\">https://wandb.ai/amitr5-tel-aviv-university/AlexNet-deep_van_gogh-aug-26.3.2025/runs/bd65i06u</a>"
      ]
     },
     "metadata": {},
     "output_type": "display_data"
    },
    {
     "data": {
      "text/plain": [
       "<IPython.core.display.HTML object>"
      ],
      "text/html": []
     },
     "metadata": {},
     "output_type": "display_data"
    },
    {
     "data": {
      "text/plain": [
       "<IPython.core.display.HTML object>"
      ],
      "text/html": [
       "<br>    <style><br>        .wandb-row {<br>            display: flex;<br>            flex-direction: row;<br>            flex-wrap: wrap;<br>            justify-content: flex-start;<br>            width: 100%;<br>        }<br>        .wandb-col {<br>            display: flex;<br>            flex-direction: column;<br>            flex-basis: 100%;<br>            flex: 1;<br>            padding: 10px;<br>        }<br>    </style><br><div class=\"wandb-row\"><div class=\"wandb-col\"><h3>Run history:</h3><br/><table class=\"wandb\"><tr><td>AUC</td><td>▁</td></tr><tr><td>Epoch</td><td>▁▂▂▃▄▅▅▆▇▇█</td></tr><tr><td>Fold</td><td>▁</td></tr><tr><td>Train Accuracy</td><td>▄▇████▅▁▃▁▅</td></tr><tr><td>Train Loss</td><td>█▂▁▁▁▁▄█▄▆▃</td></tr><tr><td>Validation AUC</td><td>██████▅█▇█▁</td></tr><tr><td>Validation Accuracy</td><td>▅█████▁█▁▅▂</td></tr><tr><td>Validation F1</td><td>▅█████▁█▁▅▂</td></tr><tr><td>Validation Loss</td><td>▅▂▁▁▁▁█▂▆▃▇</td></tr><tr><td>Validation Precision</td><td>▅█████▁█▁▅▂</td></tr><tr><td>Validation Recall</td><td>▅█████▁█▁▅▂</td></tr><tr><td>Validation Specificity</td><td>▃█████▁█▁▆▁</td></tr></table><br/></div><div class=\"wandb-col\"><h3>Run summary:</h3><br/><table class=\"wandb\"><tr><td>AUC</td><td>1</td></tr><tr><td>Epoch</td><td>11</td></tr><tr><td>Fold</td><td>3</td></tr><tr><td>Train Accuracy</td><td>0.99863</td></tr><tr><td>Train Loss</td><td>0.0039</td></tr><tr><td>Validation AUC</td><td>0.99983</td></tr><tr><td>Validation Accuracy</td><td>0.99891</td></tr><tr><td>Validation F1</td><td>0.99891</td></tr><tr><td>Validation Loss</td><td>0.0041</td></tr><tr><td>Validation Precision</td><td>0.99891</td></tr><tr><td>Validation Recall</td><td>0.99891</td></tr><tr><td>Validation Specificity</td><td>0.99913</td></tr></table><br/></div></div>"
      ]
     },
     "metadata": {},
     "output_type": "display_data"
    },
    {
     "data": {
      "text/plain": [
       "<IPython.core.display.HTML object>"
      ],
      "text/html": [
       " View run <strong style=\"color:#cdcd00\">AlexNet_trial_2_fold_3</strong> at: <a href='https://wandb.ai/amitr5-tel-aviv-university/AlexNet-deep_van_gogh-aug-26.3.2025/runs/bd65i06u' target=\"_blank\">https://wandb.ai/amitr5-tel-aviv-university/AlexNet-deep_van_gogh-aug-26.3.2025/runs/bd65i06u</a><br> View project at: <a href='https://wandb.ai/amitr5-tel-aviv-university/AlexNet-deep_van_gogh-aug-26.3.2025' target=\"_blank\">https://wandb.ai/amitr5-tel-aviv-university/AlexNet-deep_van_gogh-aug-26.3.2025</a><br>Synced 5 W&B file(s), 0 media file(s), 0 artifact file(s) and 0 other file(s)"
      ]
     },
     "metadata": {},
     "output_type": "display_data"
    },
    {
     "data": {
      "text/plain": [
       "<IPython.core.display.HTML object>"
      ],
      "text/html": [
       "Find logs at: <code>.\\wandb\\run-20250326_181058-bd65i06u\\logs</code>"
      ]
     },
     "metadata": {},
     "output_type": "display_data"
    },
    {
     "data": {
      "text/plain": [
       "<IPython.core.display.HTML object>"
      ],
      "text/html": [
       "Tracking run with wandb version 0.19.1"
      ]
     },
     "metadata": {},
     "output_type": "display_data"
    },
    {
     "data": {
      "text/plain": [
       "<IPython.core.display.HTML object>"
      ],
      "text/html": [
       "Run data is saved locally in <code>D:\\Users\\kanatcohen\\PycharmProjects\\deep_van_gogh\\wandb\\run-20250326_181214-xhctqzh7</code>"
      ]
     },
     "metadata": {},
     "output_type": "display_data"
    },
    {
     "data": {
      "text/plain": [
       "<IPython.core.display.HTML object>"
      ],
      "text/html": [
       "Syncing run <strong><a href='https://wandb.ai/amitr5-tel-aviv-university/AlexNet-deep_van_gogh-aug-26.3.2025/runs/xhctqzh7' target=\"_blank\">AlexNet_trial_2</a></strong> to <a href='https://wandb.ai/amitr5-tel-aviv-university/AlexNet-deep_van_gogh-aug-26.3.2025' target=\"_blank\">Weights & Biases</a> (<a href='https://wandb.me/developer-guide' target=\"_blank\">docs</a>)<br>"
      ]
     },
     "metadata": {},
     "output_type": "display_data"
    },
    {
     "data": {
      "text/plain": [
       "<IPython.core.display.HTML object>"
      ],
      "text/html": [
       " View project at <a href='https://wandb.ai/amitr5-tel-aviv-university/AlexNet-deep_van_gogh-aug-26.3.2025' target=\"_blank\">https://wandb.ai/amitr5-tel-aviv-university/AlexNet-deep_van_gogh-aug-26.3.2025</a>"
      ]
     },
     "metadata": {},
     "output_type": "display_data"
    },
    {
     "data": {
      "text/plain": [
       "<IPython.core.display.HTML object>"
      ],
      "text/html": [
       " View run at <a href='https://wandb.ai/amitr5-tel-aviv-university/AlexNet-deep_van_gogh-aug-26.3.2025/runs/xhctqzh7' target=\"_blank\">https://wandb.ai/amitr5-tel-aviv-university/AlexNet-deep_van_gogh-aug-26.3.2025/runs/xhctqzh7</a>"
      ]
     },
     "metadata": {},
     "output_type": "display_data"
    },
    {
     "data": {
      "text/plain": [
       "<IPython.core.display.HTML object>"
      ],
      "text/html": []
     },
     "metadata": {},
     "output_type": "display_data"
    },
    {
     "data": {
      "text/plain": [
       "<IPython.core.display.HTML object>"
      ],
      "text/html": [
       "<br>    <style><br>        .wandb-row {<br>            display: flex;<br>            flex-direction: row;<br>            flex-wrap: wrap;<br>            justify-content: flex-start;<br>            width: 100%;<br>        }<br>        .wandb-col {<br>            display: flex;<br>            flex-direction: column;<br>            flex-basis: 100%;<br>            flex: 1;<br>            padding: 10px;<br>        }<br>    </style><br><div class=\"wandb-row\"><div class=\"wandb-col\"><h3>Run history:</h3><br/><table class=\"wandb\"><tr><td>Mean AUC</td><td>▁</td></tr><tr><td>Trial</td><td>▁</td></tr></table><br/></div><div class=\"wandb-col\"><h3>Run summary:</h3><br/><table class=\"wandb\"><tr><td>Mean AUC</td><td>1.0</td></tr><tr><td>Trial</td><td>2</td></tr></table><br/></div></div>"
      ]
     },
     "metadata": {},
     "output_type": "display_data"
    },
    {
     "data": {
      "text/plain": [
       "<IPython.core.display.HTML object>"
      ],
      "text/html": [
       " View run <strong style=\"color:#cdcd00\">AlexNet_trial_2</strong> at: <a href='https://wandb.ai/amitr5-tel-aviv-university/AlexNet-deep_van_gogh-aug-26.3.2025/runs/xhctqzh7' target=\"_blank\">https://wandb.ai/amitr5-tel-aviv-university/AlexNet-deep_van_gogh-aug-26.3.2025/runs/xhctqzh7</a><br> View project at: <a href='https://wandb.ai/amitr5-tel-aviv-university/AlexNet-deep_van_gogh-aug-26.3.2025' target=\"_blank\">https://wandb.ai/amitr5-tel-aviv-university/AlexNet-deep_van_gogh-aug-26.3.2025</a><br>Synced 5 W&B file(s), 0 media file(s), 0 artifact file(s) and 0 other file(s)"
      ]
     },
     "metadata": {},
     "output_type": "display_data"
    },
    {
     "data": {
      "text/plain": [
       "<IPython.core.display.HTML object>"
      ],
      "text/html": [
       "Find logs at: <code>.\\wandb\\run-20250326_181214-xhctqzh7\\logs</code>"
      ]
     },
     "metadata": {},
     "output_type": "display_data"
    },
    {
     "name": "stderr",
     "output_type": "stream",
     "text": [
      "[I 2025-03-26 18:12:17,751] Trial 1 finished with value: 0.999997722967065 and parameters: {'learning_rate': 0.00016276247116302455, 'weight_decay': 5.310580316986398e-05, 'epochs': 19, 'num_layers_finetune': 2}. Best is trial 1 with value: 0.999997722967065.\n"
     ]
    },
    {
     "data": {
      "text/plain": [
       "<IPython.core.display.HTML object>"
      ],
      "text/html": [
       "Tracking run with wandb version 0.19.1"
      ]
     },
     "metadata": {},
     "output_type": "display_data"
    },
    {
     "data": {
      "text/plain": [
       "<IPython.core.display.HTML object>"
      ],
      "text/html": [
       "Run data is saved locally in <code>D:\\Users\\kanatcohen\\PycharmProjects\\deep_van_gogh\\wandb\\run-20250326_181217-9f87kuew</code>"
      ]
     },
     "metadata": {},
     "output_type": "display_data"
    },
    {
     "data": {
      "text/plain": [
       "<IPython.core.display.HTML object>"
      ],
      "text/html": [
       "Syncing run <strong><a href='https://wandb.ai/amitr5-tel-aviv-university/AlexNet-deep_van_gogh-aug-26.3.2025/runs/9f87kuew' target=\"_blank\">AlexNet_trial_3_fold_0</a></strong> to <a href='https://wandb.ai/amitr5-tel-aviv-university/AlexNet-deep_van_gogh-aug-26.3.2025' target=\"_blank\">Weights & Biases</a> (<a href='https://wandb.me/developer-guide' target=\"_blank\">docs</a>)<br>"
      ]
     },
     "metadata": {},
     "output_type": "display_data"
    },
    {
     "data": {
      "text/plain": [
       "<IPython.core.display.HTML object>"
      ],
      "text/html": [
       " View project at <a href='https://wandb.ai/amitr5-tel-aviv-university/AlexNet-deep_van_gogh-aug-26.3.2025' target=\"_blank\">https://wandb.ai/amitr5-tel-aviv-university/AlexNet-deep_van_gogh-aug-26.3.2025</a>"
      ]
     },
     "metadata": {},
     "output_type": "display_data"
    },
    {
     "data": {
      "text/plain": [
       "<IPython.core.display.HTML object>"
      ],
      "text/html": [
       " View run at <a href='https://wandb.ai/amitr5-tel-aviv-university/AlexNet-deep_van_gogh-aug-26.3.2025/runs/9f87kuew' target=\"_blank\">https://wandb.ai/amitr5-tel-aviv-university/AlexNet-deep_van_gogh-aug-26.3.2025/runs/9f87kuew</a>"
      ]
     },
     "metadata": {},
     "output_type": "display_data"
    },
    {
     "data": {
      "text/plain": [
       "<IPython.core.display.HTML object>"
      ],
      "text/html": []
     },
     "metadata": {},
     "output_type": "display_data"
    },
    {
     "data": {
      "text/plain": [
       "<IPython.core.display.HTML object>"
      ],
      "text/html": [
       "<br>    <style><br>        .wandb-row {<br>            display: flex;<br>            flex-direction: row;<br>            flex-wrap: wrap;<br>            justify-content: flex-start;<br>            width: 100%;<br>        }<br>        .wandb-col {<br>            display: flex;<br>            flex-direction: column;<br>            flex-basis: 100%;<br>            flex: 1;<br>            padding: 10px;<br>        }<br>    </style><br><div class=\"wandb-row\"><div class=\"wandb-col\"><h3>Run history:</h3><br/><table class=\"wandb\"><tr><td>AUC</td><td>▁</td></tr><tr><td>Epoch</td><td>▁▂▂▃▄▅▅▆▇▇█</td></tr><tr><td>Fold</td><td>▁</td></tr><tr><td>Train Accuracy</td><td>▁▇█████▆▅▇█</td></tr><tr><td>Train Loss</td><td>█▄▁▁▁▁▂▅▃▂▁</td></tr><tr><td>Validation AUC</td><td>███████▁███</td></tr><tr><td>Validation Accuracy</td><td>▅██████▁▅▅▄</td></tr><tr><td>Validation F1</td><td>▅██████▁▅▅▄</td></tr><tr><td>Validation Loss</td><td>▄▁▁▁▁▁▁█▄▃▄</td></tr><tr><td>Validation Precision</td><td>▅██████▁▅▅▄</td></tr><tr><td>Validation Recall</td><td>▅██████▁▅▅▄</td></tr><tr><td>Validation Specificity</td><td>▁██████▁█▅▅</td></tr></table><br/></div><div class=\"wandb-col\"><h3>Run summary:</h3><br/><table class=\"wandb\"><tr><td>AUC</td><td>1</td></tr><tr><td>Epoch</td><td>11</td></tr><tr><td>Fold</td><td>0</td></tr><tr><td>Train Accuracy</td><td>1</td></tr><tr><td>Train Loss</td><td>0.0001</td></tr><tr><td>Validation AUC</td><td>1.0</td></tr><tr><td>Validation Accuracy</td><td>0.99918</td></tr><tr><td>Validation F1</td><td>0.99918</td></tr><tr><td>Validation Loss</td><td>0.0027</td></tr><tr><td>Validation Precision</td><td>0.99918</td></tr><tr><td>Validation Recall</td><td>0.99918</td></tr><tr><td>Validation Specificity</td><td>0.99971</td></tr></table><br/></div></div>"
      ]
     },
     "metadata": {},
     "output_type": "display_data"
    },
    {
     "data": {
      "text/plain": [
       "<IPython.core.display.HTML object>"
      ],
      "text/html": [
       " View run <strong style=\"color:#cdcd00\">AlexNet_trial_3_fold_0</strong> at: <a href='https://wandb.ai/amitr5-tel-aviv-university/AlexNet-deep_van_gogh-aug-26.3.2025/runs/9f87kuew' target=\"_blank\">https://wandb.ai/amitr5-tel-aviv-university/AlexNet-deep_van_gogh-aug-26.3.2025/runs/9f87kuew</a><br> View project at: <a href='https://wandb.ai/amitr5-tel-aviv-university/AlexNet-deep_van_gogh-aug-26.3.2025' target=\"_blank\">https://wandb.ai/amitr5-tel-aviv-university/AlexNet-deep_van_gogh-aug-26.3.2025</a><br>Synced 5 W&B file(s), 0 media file(s), 0 artifact file(s) and 0 other file(s)"
      ]
     },
     "metadata": {},
     "output_type": "display_data"
    },
    {
     "data": {
      "text/plain": [
       "<IPython.core.display.HTML object>"
      ],
      "text/html": [
       "Find logs at: <code>.\\wandb\\run-20250326_181217-9f87kuew\\logs</code>"
      ]
     },
     "metadata": {},
     "output_type": "display_data"
    },
    {
     "data": {
      "text/plain": [
       "<IPython.core.display.HTML object>"
      ],
      "text/html": [
       "Tracking run with wandb version 0.19.1"
      ]
     },
     "metadata": {},
     "output_type": "display_data"
    },
    {
     "data": {
      "text/plain": [
       "<IPython.core.display.HTML object>"
      ],
      "text/html": [
       "Run data is saved locally in <code>D:\\Users\\kanatcohen\\PycharmProjects\\deep_van_gogh\\wandb\\run-20250326_181337-3hgds0qt</code>"
      ]
     },
     "metadata": {},
     "output_type": "display_data"
    },
    {
     "data": {
      "text/plain": [
       "<IPython.core.display.HTML object>"
      ],
      "text/html": [
       "Syncing run <strong><a href='https://wandb.ai/amitr5-tel-aviv-university/AlexNet-deep_van_gogh-aug-26.3.2025/runs/3hgds0qt' target=\"_blank\">AlexNet_trial_3_fold_1</a></strong> to <a href='https://wandb.ai/amitr5-tel-aviv-university/AlexNet-deep_van_gogh-aug-26.3.2025' target=\"_blank\">Weights & Biases</a> (<a href='https://wandb.me/developer-guide' target=\"_blank\">docs</a>)<br>"
      ]
     },
     "metadata": {},
     "output_type": "display_data"
    },
    {
     "data": {
      "text/plain": [
       "<IPython.core.display.HTML object>"
      ],
      "text/html": [
       " View project at <a href='https://wandb.ai/amitr5-tel-aviv-university/AlexNet-deep_van_gogh-aug-26.3.2025' target=\"_blank\">https://wandb.ai/amitr5-tel-aviv-university/AlexNet-deep_van_gogh-aug-26.3.2025</a>"
      ]
     },
     "metadata": {},
     "output_type": "display_data"
    },
    {
     "data": {
      "text/plain": [
       "<IPython.core.display.HTML object>"
      ],
      "text/html": [
       " View run at <a href='https://wandb.ai/amitr5-tel-aviv-university/AlexNet-deep_van_gogh-aug-26.3.2025/runs/3hgds0qt' target=\"_blank\">https://wandb.ai/amitr5-tel-aviv-university/AlexNet-deep_van_gogh-aug-26.3.2025/runs/3hgds0qt</a>"
      ]
     },
     "metadata": {},
     "output_type": "display_data"
    },
    {
     "data": {
      "text/plain": [
       "<IPython.core.display.HTML object>"
      ],
      "text/html": []
     },
     "metadata": {},
     "output_type": "display_data"
    },
    {
     "data": {
      "text/plain": [
       "<IPython.core.display.HTML object>"
      ],
      "text/html": [
       "<br>    <style><br>        .wandb-row {<br>            display: flex;<br>            flex-direction: row;<br>            flex-wrap: wrap;<br>            justify-content: flex-start;<br>            width: 100%;<br>        }<br>        .wandb-col {<br>            display: flex;<br>            flex-direction: column;<br>            flex-basis: 100%;<br>            flex: 1;<br>            padding: 10px;<br>        }<br>    </style><br><div class=\"wandb-row\"><div class=\"wandb-col\"><h3>Run history:</h3><br/><table class=\"wandb\"><tr><td>AUC</td><td>▁</td></tr><tr><td>Epoch</td><td>▁▂▂▃▄▅▅▆▇▇█</td></tr><tr><td>Fold</td><td>▁</td></tr><tr><td>Train Accuracy</td><td>▁▂▇████████</td></tr><tr><td>Train Loss</td><td>█▅▁▁▁▁▁▁▁▁▁</td></tr><tr><td>Validation AUC</td><td>▁██████████</td></tr><tr><td>Validation Accuracy</td><td>▁▄█▇█▇▇▇▇██</td></tr><tr><td>Validation F1</td><td>▁▄█▇█▇▇▇▇██</td></tr><tr><td>Validation Loss</td><td>█▄▁▁▁▂▁▁▁▁▁</td></tr><tr><td>Validation Precision</td><td>▁▄█▇█▇▇▇▇██</td></tr><tr><td>Validation Recall</td><td>▁▄█▇█▇▇▇▇██</td></tr><tr><td>Validation Specificity</td><td>▁██████████</td></tr></table><br/></div><div class=\"wandb-col\"><h3>Run summary:</h3><br/><table class=\"wandb\"><tr><td>AUC</td><td>1</td></tr><tr><td>Epoch</td><td>11</td></tr><tr><td>Fold</td><td>1</td></tr><tr><td>Train Accuracy</td><td>1</td></tr><tr><td>Train Loss</td><td>0.0</td></tr><tr><td>Validation AUC</td><td>1</td></tr><tr><td>Validation Accuracy</td><td>1</td></tr><tr><td>Validation F1</td><td>1</td></tr><tr><td>Validation Loss</td><td>7e-05</td></tr><tr><td>Validation Precision</td><td>1</td></tr><tr><td>Validation Recall</td><td>1</td></tr><tr><td>Validation Specificity</td><td>1</td></tr></table><br/></div></div>"
      ]
     },
     "metadata": {},
     "output_type": "display_data"
    },
    {
     "data": {
      "text/plain": [
       "<IPython.core.display.HTML object>"
      ],
      "text/html": [
       " View run <strong style=\"color:#cdcd00\">AlexNet_trial_3_fold_1</strong> at: <a href='https://wandb.ai/amitr5-tel-aviv-university/AlexNet-deep_van_gogh-aug-26.3.2025/runs/3hgds0qt' target=\"_blank\">https://wandb.ai/amitr5-tel-aviv-university/AlexNet-deep_van_gogh-aug-26.3.2025/runs/3hgds0qt</a><br> View project at: <a href='https://wandb.ai/amitr5-tel-aviv-university/AlexNet-deep_van_gogh-aug-26.3.2025' target=\"_blank\">https://wandb.ai/amitr5-tel-aviv-university/AlexNet-deep_van_gogh-aug-26.3.2025</a><br>Synced 5 W&B file(s), 0 media file(s), 0 artifact file(s) and 0 other file(s)"
      ]
     },
     "metadata": {},
     "output_type": "display_data"
    },
    {
     "data": {
      "text/plain": [
       "<IPython.core.display.HTML object>"
      ],
      "text/html": [
       "Find logs at: <code>.\\wandb\\run-20250326_181337-3hgds0qt\\logs</code>"
      ]
     },
     "metadata": {},
     "output_type": "display_data"
    },
    {
     "data": {
      "text/plain": [
       "<IPython.core.display.HTML object>"
      ],
      "text/html": [
       "Tracking run with wandb version 0.19.1"
      ]
     },
     "metadata": {},
     "output_type": "display_data"
    },
    {
     "data": {
      "text/plain": [
       "<IPython.core.display.HTML object>"
      ],
      "text/html": [
       "Run data is saved locally in <code>D:\\Users\\kanatcohen\\PycharmProjects\\deep_van_gogh\\wandb\\run-20250326_181455-uxsdhggy</code>"
      ]
     },
     "metadata": {},
     "output_type": "display_data"
    },
    {
     "data": {
      "text/plain": [
       "<IPython.core.display.HTML object>"
      ],
      "text/html": [
       "Syncing run <strong><a href='https://wandb.ai/amitr5-tel-aviv-university/AlexNet-deep_van_gogh-aug-26.3.2025/runs/uxsdhggy' target=\"_blank\">AlexNet_trial_3_fold_2</a></strong> to <a href='https://wandb.ai/amitr5-tel-aviv-university/AlexNet-deep_van_gogh-aug-26.3.2025' target=\"_blank\">Weights & Biases</a> (<a href='https://wandb.me/developer-guide' target=\"_blank\">docs</a>)<br>"
      ]
     },
     "metadata": {},
     "output_type": "display_data"
    },
    {
     "data": {
      "text/plain": [
       "<IPython.core.display.HTML object>"
      ],
      "text/html": [
       " View project at <a href='https://wandb.ai/amitr5-tel-aviv-university/AlexNet-deep_van_gogh-aug-26.3.2025' target=\"_blank\">https://wandb.ai/amitr5-tel-aviv-university/AlexNet-deep_van_gogh-aug-26.3.2025</a>"
      ]
     },
     "metadata": {},
     "output_type": "display_data"
    },
    {
     "data": {
      "text/plain": [
       "<IPython.core.display.HTML object>"
      ],
      "text/html": [
       " View run at <a href='https://wandb.ai/amitr5-tel-aviv-university/AlexNet-deep_van_gogh-aug-26.3.2025/runs/uxsdhggy' target=\"_blank\">https://wandb.ai/amitr5-tel-aviv-university/AlexNet-deep_van_gogh-aug-26.3.2025/runs/uxsdhggy</a>"
      ]
     },
     "metadata": {},
     "output_type": "display_data"
    },
    {
     "data": {
      "text/plain": [
       "<IPython.core.display.HTML object>"
      ],
      "text/html": []
     },
     "metadata": {},
     "output_type": "display_data"
    },
    {
     "data": {
      "text/plain": [
       "<IPython.core.display.HTML object>"
      ],
      "text/html": [
       "<br>    <style><br>        .wandb-row {<br>            display: flex;<br>            flex-direction: row;<br>            flex-wrap: wrap;<br>            justify-content: flex-start;<br>            width: 100%;<br>        }<br>        .wandb-col {<br>            display: flex;<br>            flex-direction: column;<br>            flex-basis: 100%;<br>            flex: 1;<br>            padding: 10px;<br>        }<br>    </style><br><div class=\"wandb-row\"><div class=\"wandb-col\"><h3>Run history:</h3><br/><table class=\"wandb\"><tr><td>AUC</td><td>▁</td></tr><tr><td>Epoch</td><td>▁▂▃▃▄▅▆▆▇█</td></tr><tr><td>Fold</td><td>▁</td></tr><tr><td>Train Accuracy</td><td>▁█████████</td></tr><tr><td>Train Loss</td><td>█▁▁▁▁▁▁▁▁▁</td></tr><tr><td>Validation AUC</td><td>▁▁▁▁▁▁▁▁▁▁</td></tr><tr><td>Validation Accuracy</td><td>██▁███████</td></tr><tr><td>Validation F1</td><td>██▁███████</td></tr><tr><td>Validation Loss</td><td>▁▁█▁▁▁▁▁▁▁</td></tr><tr><td>Validation Precision</td><td>██▁███████</td></tr><tr><td>Validation Recall</td><td>██▁███████</td></tr><tr><td>Validation Specificity</td><td>██▁███████</td></tr></table><br/></div><div class=\"wandb-col\"><h3>Run summary:</h3><br/><table class=\"wandb\"><tr><td>AUC</td><td>1</td></tr><tr><td>Epoch</td><td>10</td></tr><tr><td>Fold</td><td>2</td></tr><tr><td>Train Accuracy</td><td>1</td></tr><tr><td>Train Loss</td><td>2e-05</td></tr><tr><td>Validation AUC</td><td>1</td></tr><tr><td>Validation Accuracy</td><td>1</td></tr><tr><td>Validation F1</td><td>1</td></tr><tr><td>Validation Loss</td><td>7e-05</td></tr><tr><td>Validation Precision</td><td>1</td></tr><tr><td>Validation Recall</td><td>1</td></tr><tr><td>Validation Specificity</td><td>1</td></tr></table><br/></div></div>"
      ]
     },
     "metadata": {},
     "output_type": "display_data"
    },
    {
     "data": {
      "text/plain": [
       "<IPython.core.display.HTML object>"
      ],
      "text/html": [
       " View run <strong style=\"color:#cdcd00\">AlexNet_trial_3_fold_2</strong> at: <a href='https://wandb.ai/amitr5-tel-aviv-university/AlexNet-deep_van_gogh-aug-26.3.2025/runs/uxsdhggy' target=\"_blank\">https://wandb.ai/amitr5-tel-aviv-university/AlexNet-deep_van_gogh-aug-26.3.2025/runs/uxsdhggy</a><br> View project at: <a href='https://wandb.ai/amitr5-tel-aviv-university/AlexNet-deep_van_gogh-aug-26.3.2025' target=\"_blank\">https://wandb.ai/amitr5-tel-aviv-university/AlexNet-deep_van_gogh-aug-26.3.2025</a><br>Synced 5 W&B file(s), 0 media file(s), 0 artifact file(s) and 0 other file(s)"
      ]
     },
     "metadata": {},
     "output_type": "display_data"
    },
    {
     "data": {
      "text/plain": [
       "<IPython.core.display.HTML object>"
      ],
      "text/html": [
       "Find logs at: <code>.\\wandb\\run-20250326_181455-uxsdhggy\\logs</code>"
      ]
     },
     "metadata": {},
     "output_type": "display_data"
    },
    {
     "data": {
      "text/plain": [
       "<IPython.core.display.HTML object>"
      ],
      "text/html": [
       "Tracking run with wandb version 0.19.1"
      ]
     },
     "metadata": {},
     "output_type": "display_data"
    },
    {
     "data": {
      "text/plain": [
       "<IPython.core.display.HTML object>"
      ],
      "text/html": [
       "Run data is saved locally in <code>D:\\Users\\kanatcohen\\PycharmProjects\\deep_van_gogh\\wandb\\run-20250326_181607-nkrptfzw</code>"
      ]
     },
     "metadata": {},
     "output_type": "display_data"
    },
    {
     "data": {
      "text/plain": [
       "<IPython.core.display.HTML object>"
      ],
      "text/html": [
       "Syncing run <strong><a href='https://wandb.ai/amitr5-tel-aviv-university/AlexNet-deep_van_gogh-aug-26.3.2025/runs/nkrptfzw' target=\"_blank\">AlexNet_trial_3_fold_3</a></strong> to <a href='https://wandb.ai/amitr5-tel-aviv-university/AlexNet-deep_van_gogh-aug-26.3.2025' target=\"_blank\">Weights & Biases</a> (<a href='https://wandb.me/developer-guide' target=\"_blank\">docs</a>)<br>"
      ]
     },
     "metadata": {},
     "output_type": "display_data"
    },
    {
     "data": {
      "text/plain": [
       "<IPython.core.display.HTML object>"
      ],
      "text/html": [
       " View project at <a href='https://wandb.ai/amitr5-tel-aviv-university/AlexNet-deep_van_gogh-aug-26.3.2025' target=\"_blank\">https://wandb.ai/amitr5-tel-aviv-university/AlexNet-deep_van_gogh-aug-26.3.2025</a>"
      ]
     },
     "metadata": {},
     "output_type": "display_data"
    },
    {
     "data": {
      "text/plain": [
       "<IPython.core.display.HTML object>"
      ],
      "text/html": [
       " View run at <a href='https://wandb.ai/amitr5-tel-aviv-university/AlexNet-deep_van_gogh-aug-26.3.2025/runs/nkrptfzw' target=\"_blank\">https://wandb.ai/amitr5-tel-aviv-university/AlexNet-deep_van_gogh-aug-26.3.2025/runs/nkrptfzw</a>"
      ]
     },
     "metadata": {},
     "output_type": "display_data"
    },
    {
     "data": {
      "text/plain": [
       "<IPython.core.display.HTML object>"
      ],
      "text/html": []
     },
     "metadata": {},
     "output_type": "display_data"
    },
    {
     "data": {
      "text/plain": [
       "<IPython.core.display.HTML object>"
      ],
      "text/html": [
       "<br>    <style><br>        .wandb-row {<br>            display: flex;<br>            flex-direction: row;<br>            flex-wrap: wrap;<br>            justify-content: flex-start;<br>            width: 100%;<br>        }<br>        .wandb-col {<br>            display: flex;<br>            flex-direction: column;<br>            flex-basis: 100%;<br>            flex: 1;<br>            padding: 10px;<br>        }<br>    </style><br><div class=\"wandb-row\"><div class=\"wandb-col\"><h3>Run history:</h3><br/><table class=\"wandb\"><tr><td>AUC</td><td>▁</td></tr><tr><td>Epoch</td><td>▁▂▃▃▄▅▆▆▇█</td></tr><tr><td>Fold</td><td>▁</td></tr><tr><td>Train Accuracy</td><td>▃█▇█▇▁▆███</td></tr><tr><td>Train Loss</td><td>▅▂▂▁▂█▄▁▁▁</td></tr><tr><td>Validation AUC</td><td>██▇▇█▁████</td></tr><tr><td>Validation Accuracy</td><td>██▅▇█▁███▅</td></tr><tr><td>Validation F1</td><td>██▅▇█▁███▅</td></tr><tr><td>Validation Loss</td><td>▁▁▄▃▁█▁▁▁▄</td></tr><tr><td>Validation Precision</td><td>██▅▇█▁███▅</td></tr><tr><td>Validation Recall</td><td>██▅▇█▁███▅</td></tr><tr><td>Validation Specificity</td><td>▁▁▁▁▁▁▁▁▁▁</td></tr></table><br/></div><div class=\"wandb-col\"><h3>Run summary:</h3><br/><table class=\"wandb\"><tr><td>AUC</td><td>1</td></tr><tr><td>Epoch</td><td>10</td></tr><tr><td>Fold</td><td>3</td></tr><tr><td>Train Accuracy</td><td>1</td></tr><tr><td>Train Loss</td><td>9e-05</td></tr><tr><td>Validation AUC</td><td>1</td></tr><tr><td>Validation Accuracy</td><td>0.99945</td></tr><tr><td>Validation F1</td><td>0.99945</td></tr><tr><td>Validation Loss</td><td>0.00243</td></tr><tr><td>Validation Precision</td><td>0.99945</td></tr><tr><td>Validation Recall</td><td>0.99945</td></tr><tr><td>Validation Specificity</td><td>1</td></tr></table><br/></div></div>"
      ]
     },
     "metadata": {},
     "output_type": "display_data"
    },
    {
     "data": {
      "text/plain": [
       "<IPython.core.display.HTML object>"
      ],
      "text/html": [
       " View run <strong style=\"color:#cdcd00\">AlexNet_trial_3_fold_3</strong> at: <a href='https://wandb.ai/amitr5-tel-aviv-university/AlexNet-deep_van_gogh-aug-26.3.2025/runs/nkrptfzw' target=\"_blank\">https://wandb.ai/amitr5-tel-aviv-university/AlexNet-deep_van_gogh-aug-26.3.2025/runs/nkrptfzw</a><br> View project at: <a href='https://wandb.ai/amitr5-tel-aviv-university/AlexNet-deep_van_gogh-aug-26.3.2025' target=\"_blank\">https://wandb.ai/amitr5-tel-aviv-university/AlexNet-deep_van_gogh-aug-26.3.2025</a><br>Synced 5 W&B file(s), 0 media file(s), 0 artifact file(s) and 0 other file(s)"
      ]
     },
     "metadata": {},
     "output_type": "display_data"
    },
    {
     "data": {
      "text/plain": [
       "<IPython.core.display.HTML object>"
      ],
      "text/html": [
       "Find logs at: <code>.\\wandb\\run-20250326_181607-nkrptfzw\\logs</code>"
      ]
     },
     "metadata": {},
     "output_type": "display_data"
    },
    {
     "data": {
      "text/plain": [
       "<IPython.core.display.HTML object>"
      ],
      "text/html": [
       "Tracking run with wandb version 0.19.1"
      ]
     },
     "metadata": {},
     "output_type": "display_data"
    },
    {
     "data": {
      "text/plain": [
       "<IPython.core.display.HTML object>"
      ],
      "text/html": [
       "Run data is saved locally in <code>D:\\Users\\kanatcohen\\PycharmProjects\\deep_van_gogh\\wandb\\run-20250326_181717-u2tnicp3</code>"
      ]
     },
     "metadata": {},
     "output_type": "display_data"
    },
    {
     "data": {
      "text/plain": [
       "<IPython.core.display.HTML object>"
      ],
      "text/html": [
       "Syncing run <strong><a href='https://wandb.ai/amitr5-tel-aviv-university/AlexNet-deep_van_gogh-aug-26.3.2025/runs/u2tnicp3' target=\"_blank\">AlexNet_trial_3</a></strong> to <a href='https://wandb.ai/amitr5-tel-aviv-university/AlexNet-deep_van_gogh-aug-26.3.2025' target=\"_blank\">Weights & Biases</a> (<a href='https://wandb.me/developer-guide' target=\"_blank\">docs</a>)<br>"
      ]
     },
     "metadata": {},
     "output_type": "display_data"
    },
    {
     "data": {
      "text/plain": [
       "<IPython.core.display.HTML object>"
      ],
      "text/html": [
       " View project at <a href='https://wandb.ai/amitr5-tel-aviv-university/AlexNet-deep_van_gogh-aug-26.3.2025' target=\"_blank\">https://wandb.ai/amitr5-tel-aviv-university/AlexNet-deep_van_gogh-aug-26.3.2025</a>"
      ]
     },
     "metadata": {},
     "output_type": "display_data"
    },
    {
     "data": {
      "text/plain": [
       "<IPython.core.display.HTML object>"
      ],
      "text/html": [
       " View run at <a href='https://wandb.ai/amitr5-tel-aviv-university/AlexNet-deep_van_gogh-aug-26.3.2025/runs/u2tnicp3' target=\"_blank\">https://wandb.ai/amitr5-tel-aviv-university/AlexNet-deep_van_gogh-aug-26.3.2025/runs/u2tnicp3</a>"
      ]
     },
     "metadata": {},
     "output_type": "display_data"
    },
    {
     "data": {
      "text/plain": [
       "<IPython.core.display.HTML object>"
      ],
      "text/html": []
     },
     "metadata": {},
     "output_type": "display_data"
    },
    {
     "data": {
      "text/plain": [
       "<IPython.core.display.HTML object>"
      ],
      "text/html": [
       "<br>    <style><br>        .wandb-row {<br>            display: flex;<br>            flex-direction: row;<br>            flex-wrap: wrap;<br>            justify-content: flex-start;<br>            width: 100%;<br>        }<br>        .wandb-col {<br>            display: flex;<br>            flex-direction: column;<br>            flex-basis: 100%;<br>            flex: 1;<br>            padding: 10px;<br>        }<br>    </style><br><div class=\"wandb-row\"><div class=\"wandb-col\"><h3>Run history:</h3><br/><table class=\"wandb\"><tr><td>Mean AUC</td><td>▁</td></tr><tr><td>Trial</td><td>▁</td></tr></table><br/></div><div class=\"wandb-col\"><h3>Run summary:</h3><br/><table class=\"wandb\"><tr><td>Mean AUC</td><td>1</td></tr><tr><td>Trial</td><td>3</td></tr></table><br/></div></div>"
      ]
     },
     "metadata": {},
     "output_type": "display_data"
    },
    {
     "data": {
      "text/plain": [
       "<IPython.core.display.HTML object>"
      ],
      "text/html": [
       " View run <strong style=\"color:#cdcd00\">AlexNet_trial_3</strong> at: <a href='https://wandb.ai/amitr5-tel-aviv-university/AlexNet-deep_van_gogh-aug-26.3.2025/runs/u2tnicp3' target=\"_blank\">https://wandb.ai/amitr5-tel-aviv-university/AlexNet-deep_van_gogh-aug-26.3.2025/runs/u2tnicp3</a><br> View project at: <a href='https://wandb.ai/amitr5-tel-aviv-university/AlexNet-deep_van_gogh-aug-26.3.2025' target=\"_blank\">https://wandb.ai/amitr5-tel-aviv-university/AlexNet-deep_van_gogh-aug-26.3.2025</a><br>Synced 5 W&B file(s), 0 media file(s), 0 artifact file(s) and 0 other file(s)"
      ]
     },
     "metadata": {},
     "output_type": "display_data"
    },
    {
     "data": {
      "text/plain": [
       "<IPython.core.display.HTML object>"
      ],
      "text/html": [
       "Find logs at: <code>.\\wandb\\run-20250326_181717-u2tnicp3\\logs</code>"
      ]
     },
     "metadata": {},
     "output_type": "display_data"
    },
    {
     "name": "stderr",
     "output_type": "stream",
     "text": [
      "[I 2025-03-26 18:17:20,861] Trial 2 finished with value: 1.0 and parameters: {'learning_rate': 7.648306999172565e-05, 'weight_decay': 4.2497062256798996e-05, 'epochs': 21, 'num_layers_finetune': 0}. Best is trial 2 with value: 1.0.\n"
     ]
    },
    {
     "data": {
      "text/plain": [
       "<IPython.core.display.HTML object>"
      ],
      "text/html": [
       "Tracking run with wandb version 0.19.1"
      ]
     },
     "metadata": {},
     "output_type": "display_data"
    },
    {
     "data": {
      "text/plain": [
       "<IPython.core.display.HTML object>"
      ],
      "text/html": [
       "Run data is saved locally in <code>D:\\Users\\kanatcohen\\PycharmProjects\\deep_van_gogh\\wandb\\run-20250326_181720-b1cy5o2b</code>"
      ]
     },
     "metadata": {},
     "output_type": "display_data"
    },
    {
     "data": {
      "text/plain": [
       "<IPython.core.display.HTML object>"
      ],
      "text/html": [
       "Syncing run <strong><a href='https://wandb.ai/amitr5-tel-aviv-university/AlexNet-deep_van_gogh-aug-26.3.2025/runs/b1cy5o2b' target=\"_blank\">AlexNet_trial_4_fold_0</a></strong> to <a href='https://wandb.ai/amitr5-tel-aviv-university/AlexNet-deep_van_gogh-aug-26.3.2025' target=\"_blank\">Weights & Biases</a> (<a href='https://wandb.me/developer-guide' target=\"_blank\">docs</a>)<br>"
      ]
     },
     "metadata": {},
     "output_type": "display_data"
    },
    {
     "data": {
      "text/plain": [
       "<IPython.core.display.HTML object>"
      ],
      "text/html": [
       " View project at <a href='https://wandb.ai/amitr5-tel-aviv-university/AlexNet-deep_van_gogh-aug-26.3.2025' target=\"_blank\">https://wandb.ai/amitr5-tel-aviv-university/AlexNet-deep_van_gogh-aug-26.3.2025</a>"
      ]
     },
     "metadata": {},
     "output_type": "display_data"
    },
    {
     "data": {
      "text/plain": [
       "<IPython.core.display.HTML object>"
      ],
      "text/html": [
       " View run at <a href='https://wandb.ai/amitr5-tel-aviv-university/AlexNet-deep_van_gogh-aug-26.3.2025/runs/b1cy5o2b' target=\"_blank\">https://wandb.ai/amitr5-tel-aviv-university/AlexNet-deep_van_gogh-aug-26.3.2025/runs/b1cy5o2b</a>"
      ]
     },
     "metadata": {},
     "output_type": "display_data"
    },
    {
     "data": {
      "text/plain": [
       "<IPython.core.display.HTML object>"
      ],
      "text/html": []
     },
     "metadata": {},
     "output_type": "display_data"
    },
    {
     "data": {
      "text/plain": [
       "<IPython.core.display.HTML object>"
      ],
      "text/html": [
       "<br>    <style><br>        .wandb-row {<br>            display: flex;<br>            flex-direction: row;<br>            flex-wrap: wrap;<br>            justify-content: flex-start;<br>            width: 100%;<br>        }<br>        .wandb-col {<br>            display: flex;<br>            flex-direction: column;<br>            flex-basis: 100%;<br>            flex: 1;<br>            padding: 10px;<br>        }<br>    </style><br><div class=\"wandb-row\"><div class=\"wandb-col\"><h3>Run history:</h3><br/><table class=\"wandb\"><tr><td>AUC</td><td>▁</td></tr><tr><td>Epoch</td><td>▁▂▃▃▄▅▆▆▇█</td></tr><tr><td>Fold</td><td>▁</td></tr><tr><td>Train Accuracy</td><td>▅█▁██▅██▅█</td></tr><tr><td>Train Loss</td><td>█▁▂▁▁▂▁▁▁▁</td></tr><tr><td>Validation AUC</td><td>▁▁▁▁▁▁▁▁▁▁</td></tr><tr><td>Validation Accuracy</td><td>▁▁▁▁▁▁▁▁▁▁</td></tr><tr><td>Validation F1</td><td>▁▁▁▁▁▁▁▁▁▁</td></tr><tr><td>Validation Loss</td><td>▂▂▃▃▁▂▁▁█▃</td></tr><tr><td>Validation Precision</td><td>▁▁▁▁▁▁▁▁▁▁</td></tr><tr><td>Validation Recall</td><td>▁▁▁▁▁▁▁▁▁▁</td></tr><tr><td>Validation Specificity</td><td>▁▁▁▁▁▁▁▁▁▁</td></tr></table><br/></div><div class=\"wandb-col\"><h3>Run summary:</h3><br/><table class=\"wandb\"><tr><td>AUC</td><td>1</td></tr><tr><td>Epoch</td><td>10</td></tr><tr><td>Fold</td><td>0</td></tr><tr><td>Train Accuracy</td><td>1</td></tr><tr><td>Train Loss</td><td>8e-05</td></tr><tr><td>Validation AUC</td><td>1</td></tr><tr><td>Validation Accuracy</td><td>1</td></tr><tr><td>Validation F1</td><td>1</td></tr><tr><td>Validation Loss</td><td>1e-05</td></tr><tr><td>Validation Precision</td><td>1</td></tr><tr><td>Validation Recall</td><td>1</td></tr><tr><td>Validation Specificity</td><td>1</td></tr></table><br/></div></div>"
      ]
     },
     "metadata": {},
     "output_type": "display_data"
    },
    {
     "data": {
      "text/plain": [
       "<IPython.core.display.HTML object>"
      ],
      "text/html": [
       " View run <strong style=\"color:#cdcd00\">AlexNet_trial_4_fold_0</strong> at: <a href='https://wandb.ai/amitr5-tel-aviv-university/AlexNet-deep_van_gogh-aug-26.3.2025/runs/b1cy5o2b' target=\"_blank\">https://wandb.ai/amitr5-tel-aviv-university/AlexNet-deep_van_gogh-aug-26.3.2025/runs/b1cy5o2b</a><br> View project at: <a href='https://wandb.ai/amitr5-tel-aviv-university/AlexNet-deep_van_gogh-aug-26.3.2025' target=\"_blank\">https://wandb.ai/amitr5-tel-aviv-university/AlexNet-deep_van_gogh-aug-26.3.2025</a><br>Synced 5 W&B file(s), 0 media file(s), 0 artifact file(s) and 0 other file(s)"
      ]
     },
     "metadata": {},
     "output_type": "display_data"
    },
    {
     "data": {
      "text/plain": [
       "<IPython.core.display.HTML object>"
      ],
      "text/html": [
       "Find logs at: <code>.\\wandb\\run-20250326_181720-b1cy5o2b\\logs</code>"
      ]
     },
     "metadata": {},
     "output_type": "display_data"
    },
    {
     "data": {
      "text/plain": [
       "<IPython.core.display.HTML object>"
      ],
      "text/html": [
       "Tracking run with wandb version 0.19.1"
      ]
     },
     "metadata": {},
     "output_type": "display_data"
    },
    {
     "data": {
      "text/plain": [
       "<IPython.core.display.HTML object>"
      ],
      "text/html": [
       "Run data is saved locally in <code>D:\\Users\\kanatcohen\\PycharmProjects\\deep_van_gogh\\wandb\\run-20250326_181813-z4zwr35p</code>"
      ]
     },
     "metadata": {},
     "output_type": "display_data"
    },
    {
     "data": {
      "text/plain": [
       "<IPython.core.display.HTML object>"
      ],
      "text/html": [
       "Syncing run <strong><a href='https://wandb.ai/amitr5-tel-aviv-university/AlexNet-deep_van_gogh-aug-26.3.2025/runs/z4zwr35p' target=\"_blank\">AlexNet_trial_4_fold_1</a></strong> to <a href='https://wandb.ai/amitr5-tel-aviv-university/AlexNet-deep_van_gogh-aug-26.3.2025' target=\"_blank\">Weights & Biases</a> (<a href='https://wandb.me/developer-guide' target=\"_blank\">docs</a>)<br>"
      ]
     },
     "metadata": {},
     "output_type": "display_data"
    },
    {
     "data": {
      "text/plain": [
       "<IPython.core.display.HTML object>"
      ],
      "text/html": [
       " View project at <a href='https://wandb.ai/amitr5-tel-aviv-university/AlexNet-deep_van_gogh-aug-26.3.2025' target=\"_blank\">https://wandb.ai/amitr5-tel-aviv-university/AlexNet-deep_van_gogh-aug-26.3.2025</a>"
      ]
     },
     "metadata": {},
     "output_type": "display_data"
    },
    {
     "data": {
      "text/plain": [
       "<IPython.core.display.HTML object>"
      ],
      "text/html": [
       " View run at <a href='https://wandb.ai/amitr5-tel-aviv-university/AlexNet-deep_van_gogh-aug-26.3.2025/runs/z4zwr35p' target=\"_blank\">https://wandb.ai/amitr5-tel-aviv-university/AlexNet-deep_van_gogh-aug-26.3.2025/runs/z4zwr35p</a>"
      ]
     },
     "metadata": {},
     "output_type": "display_data"
    },
    {
     "data": {
      "text/plain": [
       "<IPython.core.display.HTML object>"
      ],
      "text/html": []
     },
     "metadata": {},
     "output_type": "display_data"
    },
    {
     "data": {
      "text/plain": [
       "<IPython.core.display.HTML object>"
      ],
      "text/html": [
       "<br>    <style><br>        .wandb-row {<br>            display: flex;<br>            flex-direction: row;<br>            flex-wrap: wrap;<br>            justify-content: flex-start;<br>            width: 100%;<br>        }<br>        .wandb-col {<br>            display: flex;<br>            flex-direction: column;<br>            flex-basis: 100%;<br>            flex: 1;<br>            padding: 10px;<br>        }<br>    </style><br><div class=\"wandb-row\"><div class=\"wandb-col\"><h3>Run history:</h3><br/><table class=\"wandb\"><tr><td>AUC</td><td>▁</td></tr><tr><td>Epoch</td><td>▁▂▃▃▄▅▆▆▇█</td></tr><tr><td>Fold</td><td>▁</td></tr><tr><td>Train Accuracy</td><td>█▁██████▁█</td></tr><tr><td>Train Loss</td><td>█▁▁▁▁▁▁▁▁▁</td></tr><tr><td>Validation AUC</td><td>▁▁▁▁▁▁▁▁▁▁</td></tr><tr><td>Validation Accuracy</td><td>▁▁▁▁▁▁▁▁▁▁</td></tr><tr><td>Validation F1</td><td>▁▁▁▁▁▁▁▁▁▁</td></tr><tr><td>Validation Loss</td><td>▄▁▃▃▃█▄▄▂▄</td></tr><tr><td>Validation Precision</td><td>▁▁▁▁▁▁▁▁▁▁</td></tr><tr><td>Validation Recall</td><td>▁▁▁▁▁▁▁▁▁▁</td></tr><tr><td>Validation Specificity</td><td>▁▁▁▁▁▁▁▁▁▁</td></tr></table><br/></div><div class=\"wandb-col\"><h3>Run summary:</h3><br/><table class=\"wandb\"><tr><td>AUC</td><td>1</td></tr><tr><td>Epoch</td><td>10</td></tr><tr><td>Fold</td><td>1</td></tr><tr><td>Train Accuracy</td><td>1</td></tr><tr><td>Train Loss</td><td>4e-05</td></tr><tr><td>Validation AUC</td><td>1</td></tr><tr><td>Validation Accuracy</td><td>1</td></tr><tr><td>Validation F1</td><td>1</td></tr><tr><td>Validation Loss</td><td>1e-05</td></tr><tr><td>Validation Precision</td><td>1</td></tr><tr><td>Validation Recall</td><td>1</td></tr><tr><td>Validation Specificity</td><td>1</td></tr></table><br/></div></div>"
      ]
     },
     "metadata": {},
     "output_type": "display_data"
    },
    {
     "data": {
      "text/plain": [
       "<IPython.core.display.HTML object>"
      ],
      "text/html": [
       " View run <strong style=\"color:#cdcd00\">AlexNet_trial_4_fold_1</strong> at: <a href='https://wandb.ai/amitr5-tel-aviv-university/AlexNet-deep_van_gogh-aug-26.3.2025/runs/z4zwr35p' target=\"_blank\">https://wandb.ai/amitr5-tel-aviv-university/AlexNet-deep_van_gogh-aug-26.3.2025/runs/z4zwr35p</a><br> View project at: <a href='https://wandb.ai/amitr5-tel-aviv-university/AlexNet-deep_van_gogh-aug-26.3.2025' target=\"_blank\">https://wandb.ai/amitr5-tel-aviv-university/AlexNet-deep_van_gogh-aug-26.3.2025</a><br>Synced 5 W&B file(s), 0 media file(s), 0 artifact file(s) and 0 other file(s)"
      ]
     },
     "metadata": {},
     "output_type": "display_data"
    },
    {
     "data": {
      "text/plain": [
       "<IPython.core.display.HTML object>"
      ],
      "text/html": [
       "Find logs at: <code>.\\wandb\\run-20250326_181813-z4zwr35p\\logs</code>"
      ]
     },
     "metadata": {},
     "output_type": "display_data"
    },
    {
     "data": {
      "text/plain": [
       "<IPython.core.display.HTML object>"
      ],
      "text/html": [
       "Tracking run with wandb version 0.19.1"
      ]
     },
     "metadata": {},
     "output_type": "display_data"
    },
    {
     "data": {
      "text/plain": [
       "<IPython.core.display.HTML object>"
      ],
      "text/html": [
       "Run data is saved locally in <code>D:\\Users\\kanatcohen\\PycharmProjects\\deep_van_gogh\\wandb\\run-20250326_181908-jfzuaw8a</code>"
      ]
     },
     "metadata": {},
     "output_type": "display_data"
    },
    {
     "data": {
      "text/plain": [
       "<IPython.core.display.HTML object>"
      ],
      "text/html": [
       "Syncing run <strong><a href='https://wandb.ai/amitr5-tel-aviv-university/AlexNet-deep_van_gogh-aug-26.3.2025/runs/jfzuaw8a' target=\"_blank\">AlexNet_trial_4_fold_2</a></strong> to <a href='https://wandb.ai/amitr5-tel-aviv-university/AlexNet-deep_van_gogh-aug-26.3.2025' target=\"_blank\">Weights & Biases</a> (<a href='https://wandb.me/developer-guide' target=\"_blank\">docs</a>)<br>"
      ]
     },
     "metadata": {},
     "output_type": "display_data"
    },
    {
     "data": {
      "text/plain": [
       "<IPython.core.display.HTML object>"
      ],
      "text/html": [
       " View project at <a href='https://wandb.ai/amitr5-tel-aviv-university/AlexNet-deep_van_gogh-aug-26.3.2025' target=\"_blank\">https://wandb.ai/amitr5-tel-aviv-university/AlexNet-deep_van_gogh-aug-26.3.2025</a>"
      ]
     },
     "metadata": {},
     "output_type": "display_data"
    },
    {
     "data": {
      "text/plain": [
       "<IPython.core.display.HTML object>"
      ],
      "text/html": [
       " View run at <a href='https://wandb.ai/amitr5-tel-aviv-university/AlexNet-deep_van_gogh-aug-26.3.2025/runs/jfzuaw8a' target=\"_blank\">https://wandb.ai/amitr5-tel-aviv-university/AlexNet-deep_van_gogh-aug-26.3.2025/runs/jfzuaw8a</a>"
      ]
     },
     "metadata": {},
     "output_type": "display_data"
    },
    {
     "data": {
      "text/plain": [
       "<IPython.core.display.HTML object>"
      ],
      "text/html": []
     },
     "metadata": {},
     "output_type": "display_data"
    },
    {
     "data": {
      "text/plain": [
       "<IPython.core.display.HTML object>"
      ],
      "text/html": [
       "<br>    <style><br>        .wandb-row {<br>            display: flex;<br>            flex-direction: row;<br>            flex-wrap: wrap;<br>            justify-content: flex-start;<br>            width: 100%;<br>        }<br>        .wandb-col {<br>            display: flex;<br>            flex-direction: column;<br>            flex-basis: 100%;<br>            flex: 1;<br>            padding: 10px;<br>        }<br>    </style><br><div class=\"wandb-row\"><div class=\"wandb-col\"><h3>Run history:</h3><br/><table class=\"wandb\"><tr><td>AUC</td><td>▁</td></tr><tr><td>Epoch</td><td>▁▂▃▃▄▅▆▆▇█</td></tr><tr><td>Fold</td><td>▁</td></tr><tr><td>Train Accuracy</td><td>▁█████████</td></tr><tr><td>Train Loss</td><td>█▁▁▁▁▁▁▁▁▁</td></tr><tr><td>Validation AUC</td><td>▁▁▁▁▁▁▁▁▁▁</td></tr><tr><td>Validation Accuracy</td><td>▁▁▁▁▁▁▁▁▁▁</td></tr><tr><td>Validation F1</td><td>▁▁▁▁▁▁▁▁▁▁</td></tr><tr><td>Validation Loss</td><td>▆█▅▂▂▃▁▂▁▂</td></tr><tr><td>Validation Precision</td><td>▁▁▁▁▁▁▁▁▁▁</td></tr><tr><td>Validation Recall</td><td>▁▁▁▁▁▁▁▁▁▁</td></tr><tr><td>Validation Specificity</td><td>▁▁▁▁▁▁▁▁▁▁</td></tr></table><br/></div><div class=\"wandb-col\"><h3>Run summary:</h3><br/><table class=\"wandb\"><tr><td>AUC</td><td>1</td></tr><tr><td>Epoch</td><td>10</td></tr><tr><td>Fold</td><td>2</td></tr><tr><td>Train Accuracy</td><td>1</td></tr><tr><td>Train Loss</td><td>1e-05</td></tr><tr><td>Validation AUC</td><td>1</td></tr><tr><td>Validation Accuracy</td><td>1</td></tr><tr><td>Validation F1</td><td>1</td></tr><tr><td>Validation Loss</td><td>1e-05</td></tr><tr><td>Validation Precision</td><td>1</td></tr><tr><td>Validation Recall</td><td>1</td></tr><tr><td>Validation Specificity</td><td>1</td></tr></table><br/></div></div>"
      ]
     },
     "metadata": {},
     "output_type": "display_data"
    },
    {
     "data": {
      "text/plain": [
       "<IPython.core.display.HTML object>"
      ],
      "text/html": [
       " View run <strong style=\"color:#cdcd00\">AlexNet_trial_4_fold_2</strong> at: <a href='https://wandb.ai/amitr5-tel-aviv-university/AlexNet-deep_van_gogh-aug-26.3.2025/runs/jfzuaw8a' target=\"_blank\">https://wandb.ai/amitr5-tel-aviv-university/AlexNet-deep_van_gogh-aug-26.3.2025/runs/jfzuaw8a</a><br> View project at: <a href='https://wandb.ai/amitr5-tel-aviv-university/AlexNet-deep_van_gogh-aug-26.3.2025' target=\"_blank\">https://wandb.ai/amitr5-tel-aviv-university/AlexNet-deep_van_gogh-aug-26.3.2025</a><br>Synced 5 W&B file(s), 0 media file(s), 0 artifact file(s) and 0 other file(s)"
      ]
     },
     "metadata": {},
     "output_type": "display_data"
    },
    {
     "data": {
      "text/plain": [
       "<IPython.core.display.HTML object>"
      ],
      "text/html": [
       "Find logs at: <code>.\\wandb\\run-20250326_181908-jfzuaw8a\\logs</code>"
      ]
     },
     "metadata": {},
     "output_type": "display_data"
    },
    {
     "data": {
      "text/plain": [
       "<IPython.core.display.HTML object>"
      ],
      "text/html": [
       "Tracking run with wandb version 0.19.1"
      ]
     },
     "metadata": {},
     "output_type": "display_data"
    },
    {
     "data": {
      "text/plain": [
       "<IPython.core.display.HTML object>"
      ],
      "text/html": [
       "Run data is saved locally in <code>D:\\Users\\kanatcohen\\PycharmProjects\\deep_van_gogh\\wandb\\run-20250326_182001-xd3w1g48</code>"
      ]
     },
     "metadata": {},
     "output_type": "display_data"
    },
    {
     "data": {
      "text/plain": [
       "<IPython.core.display.HTML object>"
      ],
      "text/html": [
       "Syncing run <strong><a href='https://wandb.ai/amitr5-tel-aviv-university/AlexNet-deep_van_gogh-aug-26.3.2025/runs/xd3w1g48' target=\"_blank\">AlexNet_trial_4_fold_3</a></strong> to <a href='https://wandb.ai/amitr5-tel-aviv-university/AlexNet-deep_van_gogh-aug-26.3.2025' target=\"_blank\">Weights & Biases</a> (<a href='https://wandb.me/developer-guide' target=\"_blank\">docs</a>)<br>"
      ]
     },
     "metadata": {},
     "output_type": "display_data"
    },
    {
     "data": {
      "text/plain": [
       "<IPython.core.display.HTML object>"
      ],
      "text/html": [
       " View project at <a href='https://wandb.ai/amitr5-tel-aviv-university/AlexNet-deep_van_gogh-aug-26.3.2025' target=\"_blank\">https://wandb.ai/amitr5-tel-aviv-university/AlexNet-deep_van_gogh-aug-26.3.2025</a>"
      ]
     },
     "metadata": {},
     "output_type": "display_data"
    },
    {
     "data": {
      "text/plain": [
       "<IPython.core.display.HTML object>"
      ],
      "text/html": [
       " View run at <a href='https://wandb.ai/amitr5-tel-aviv-university/AlexNet-deep_van_gogh-aug-26.3.2025/runs/xd3w1g48' target=\"_blank\">https://wandb.ai/amitr5-tel-aviv-university/AlexNet-deep_van_gogh-aug-26.3.2025/runs/xd3w1g48</a>"
      ]
     },
     "metadata": {},
     "output_type": "display_data"
    },
    {
     "data": {
      "text/plain": [
       "<IPython.core.display.HTML object>"
      ],
      "text/html": []
     },
     "metadata": {},
     "output_type": "display_data"
    },
    {
     "data": {
      "text/plain": [
       "<IPython.core.display.HTML object>"
      ],
      "text/html": [
       "<br>    <style><br>        .wandb-row {<br>            display: flex;<br>            flex-direction: row;<br>            flex-wrap: wrap;<br>            justify-content: flex-start;<br>            width: 100%;<br>        }<br>        .wandb-col {<br>            display: flex;<br>            flex-direction: column;<br>            flex-basis: 100%;<br>            flex: 1;<br>            padding: 10px;<br>        }<br>    </style><br><div class=\"wandb-row\"><div class=\"wandb-col\"><h3>Run history:</h3><br/><table class=\"wandb\"><tr><td>AUC</td><td>▁</td></tr><tr><td>Epoch</td><td>▁▂▃▃▄▅▆▆▇█</td></tr><tr><td>Fold</td><td>▁</td></tr><tr><td>Train Accuracy</td><td>▁█████████</td></tr><tr><td>Train Loss</td><td>█▁▁▁▁▁▁▁▁▁</td></tr><tr><td>Validation AUC</td><td>▁▁▁▁▁▁▁▁▁▁</td></tr><tr><td>Validation Accuracy</td><td>▁▁▁▁▁▁▁▁▁▁</td></tr><tr><td>Validation F1</td><td>▁▁▁▁▁▁▁▁▁▁</td></tr><tr><td>Validation Loss</td><td>▄█▅▃▁▂▂▃▆▄</td></tr><tr><td>Validation Precision</td><td>▁▁▁▁▁▁▁▁▁▁</td></tr><tr><td>Validation Recall</td><td>▁▁▁▁▁▁▁▁▁▁</td></tr><tr><td>Validation Specificity</td><td>▁▁▁▁▁▁▁▁▁▁</td></tr></table><br/></div><div class=\"wandb-col\"><h3>Run summary:</h3><br/><table class=\"wandb\"><tr><td>AUC</td><td>1</td></tr><tr><td>Epoch</td><td>10</td></tr><tr><td>Fold</td><td>3</td></tr><tr><td>Train Accuracy</td><td>1</td></tr><tr><td>Train Loss</td><td>2e-05</td></tr><tr><td>Validation AUC</td><td>1</td></tr><tr><td>Validation Accuracy</td><td>1</td></tr><tr><td>Validation F1</td><td>1</td></tr><tr><td>Validation Loss</td><td>5e-05</td></tr><tr><td>Validation Precision</td><td>1</td></tr><tr><td>Validation Recall</td><td>1</td></tr><tr><td>Validation Specificity</td><td>1</td></tr></table><br/></div></div>"
      ]
     },
     "metadata": {},
     "output_type": "display_data"
    },
    {
     "data": {
      "text/plain": [
       "<IPython.core.display.HTML object>"
      ],
      "text/html": [
       " View run <strong style=\"color:#cdcd00\">AlexNet_trial_4_fold_3</strong> at: <a href='https://wandb.ai/amitr5-tel-aviv-university/AlexNet-deep_van_gogh-aug-26.3.2025/runs/xd3w1g48' target=\"_blank\">https://wandb.ai/amitr5-tel-aviv-university/AlexNet-deep_van_gogh-aug-26.3.2025/runs/xd3w1g48</a><br> View project at: <a href='https://wandb.ai/amitr5-tel-aviv-university/AlexNet-deep_van_gogh-aug-26.3.2025' target=\"_blank\">https://wandb.ai/amitr5-tel-aviv-university/AlexNet-deep_van_gogh-aug-26.3.2025</a><br>Synced 5 W&B file(s), 0 media file(s), 0 artifact file(s) and 0 other file(s)"
      ]
     },
     "metadata": {},
     "output_type": "display_data"
    },
    {
     "data": {
      "text/plain": [
       "<IPython.core.display.HTML object>"
      ],
      "text/html": [
       "Find logs at: <code>.\\wandb\\run-20250326_182001-xd3w1g48\\logs</code>"
      ]
     },
     "metadata": {},
     "output_type": "display_data"
    },
    {
     "data": {
      "text/plain": [
       "<IPython.core.display.HTML object>"
      ],
      "text/html": [
       "Tracking run with wandb version 0.19.1"
      ]
     },
     "metadata": {},
     "output_type": "display_data"
    },
    {
     "data": {
      "text/plain": [
       "<IPython.core.display.HTML object>"
      ],
      "text/html": [
       "Run data is saved locally in <code>D:\\Users\\kanatcohen\\PycharmProjects\\deep_van_gogh\\wandb\\run-20250326_182053-2pu7xc6r</code>"
      ]
     },
     "metadata": {},
     "output_type": "display_data"
    },
    {
     "data": {
      "text/plain": [
       "<IPython.core.display.HTML object>"
      ],
      "text/html": [
       "Syncing run <strong><a href='https://wandb.ai/amitr5-tel-aviv-university/AlexNet-deep_van_gogh-aug-26.3.2025/runs/2pu7xc6r' target=\"_blank\">AlexNet_trial_4</a></strong> to <a href='https://wandb.ai/amitr5-tel-aviv-university/AlexNet-deep_van_gogh-aug-26.3.2025' target=\"_blank\">Weights & Biases</a> (<a href='https://wandb.me/developer-guide' target=\"_blank\">docs</a>)<br>"
      ]
     },
     "metadata": {},
     "output_type": "display_data"
    },
    {
     "data": {
      "text/plain": [
       "<IPython.core.display.HTML object>"
      ],
      "text/html": [
       " View project at <a href='https://wandb.ai/amitr5-tel-aviv-university/AlexNet-deep_van_gogh-aug-26.3.2025' target=\"_blank\">https://wandb.ai/amitr5-tel-aviv-university/AlexNet-deep_van_gogh-aug-26.3.2025</a>"
      ]
     },
     "metadata": {},
     "output_type": "display_data"
    },
    {
     "data": {
      "text/plain": [
       "<IPython.core.display.HTML object>"
      ],
      "text/html": [
       " View run at <a href='https://wandb.ai/amitr5-tel-aviv-university/AlexNet-deep_van_gogh-aug-26.3.2025/runs/2pu7xc6r' target=\"_blank\">https://wandb.ai/amitr5-tel-aviv-university/AlexNet-deep_van_gogh-aug-26.3.2025/runs/2pu7xc6r</a>"
      ]
     },
     "metadata": {},
     "output_type": "display_data"
    },
    {
     "data": {
      "text/plain": [
       "<IPython.core.display.HTML object>"
      ],
      "text/html": []
     },
     "metadata": {},
     "output_type": "display_data"
    },
    {
     "data": {
      "text/plain": [
       "<IPython.core.display.HTML object>"
      ],
      "text/html": [
       "<br>    <style><br>        .wandb-row {<br>            display: flex;<br>            flex-direction: row;<br>            flex-wrap: wrap;<br>            justify-content: flex-start;<br>            width: 100%;<br>        }<br>        .wandb-col {<br>            display: flex;<br>            flex-direction: column;<br>            flex-basis: 100%;<br>            flex: 1;<br>            padding: 10px;<br>        }<br>    </style><br><div class=\"wandb-row\"><div class=\"wandb-col\"><h3>Run history:</h3><br/><table class=\"wandb\"><tr><td>Mean AUC</td><td>▁</td></tr><tr><td>Trial</td><td>▁</td></tr></table><br/></div><div class=\"wandb-col\"><h3>Run summary:</h3><br/><table class=\"wandb\"><tr><td>Mean AUC</td><td>1</td></tr><tr><td>Trial</td><td>4</td></tr></table><br/></div></div>"
      ]
     },
     "metadata": {},
     "output_type": "display_data"
    },
    {
     "data": {
      "text/plain": [
       "<IPython.core.display.HTML object>"
      ],
      "text/html": [
       " View run <strong style=\"color:#cdcd00\">AlexNet_trial_4</strong> at: <a href='https://wandb.ai/amitr5-tel-aviv-university/AlexNet-deep_van_gogh-aug-26.3.2025/runs/2pu7xc6r' target=\"_blank\">https://wandb.ai/amitr5-tel-aviv-university/AlexNet-deep_van_gogh-aug-26.3.2025/runs/2pu7xc6r</a><br> View project at: <a href='https://wandb.ai/amitr5-tel-aviv-university/AlexNet-deep_van_gogh-aug-26.3.2025' target=\"_blank\">https://wandb.ai/amitr5-tel-aviv-university/AlexNet-deep_van_gogh-aug-26.3.2025</a><br>Synced 5 W&B file(s), 0 media file(s), 0 artifact file(s) and 0 other file(s)"
      ]
     },
     "metadata": {},
     "output_type": "display_data"
    },
    {
     "data": {
      "text/plain": [
       "<IPython.core.display.HTML object>"
      ],
      "text/html": [
       "Find logs at: <code>.\\wandb\\run-20250326_182053-2pu7xc6r\\logs</code>"
      ]
     },
     "metadata": {},
     "output_type": "display_data"
    },
    {
     "name": "stderr",
     "output_type": "stream",
     "text": [
      "[I 2025-03-26 18:20:58,085] Trial 3 finished with value: 1.0 and parameters: {'learning_rate': 5.18904172149678e-05, 'weight_decay': 4.3390673533700495e-05, 'epochs': 18, 'num_layers_finetune': 1}. Best is trial 2 with value: 1.0.\n"
     ]
    },
    {
     "data": {
      "text/plain": [
       "<IPython.core.display.HTML object>"
      ],
      "text/html": [
       "Tracking run with wandb version 0.19.1"
      ]
     },
     "metadata": {},
     "output_type": "display_data"
    },
    {
     "data": {
      "text/plain": [
       "<IPython.core.display.HTML object>"
      ],
      "text/html": [
       "Run data is saved locally in <code>D:\\Users\\kanatcohen\\PycharmProjects\\deep_van_gogh\\wandb\\run-20250326_182058-6rvhn8vx</code>"
      ]
     },
     "metadata": {},
     "output_type": "display_data"
    },
    {
     "data": {
      "text/plain": [
       "<IPython.core.display.HTML object>"
      ],
      "text/html": [
       "Syncing run <strong><a href='https://wandb.ai/amitr5-tel-aviv-university/AlexNet-deep_van_gogh-aug-26.3.2025/runs/6rvhn8vx' target=\"_blank\">AlexNet_trial_5_fold_0</a></strong> to <a href='https://wandb.ai/amitr5-tel-aviv-university/AlexNet-deep_van_gogh-aug-26.3.2025' target=\"_blank\">Weights & Biases</a> (<a href='https://wandb.me/developer-guide' target=\"_blank\">docs</a>)<br>"
      ]
     },
     "metadata": {},
     "output_type": "display_data"
    },
    {
     "data": {
      "text/plain": [
       "<IPython.core.display.HTML object>"
      ],
      "text/html": [
       " View project at <a href='https://wandb.ai/amitr5-tel-aviv-university/AlexNet-deep_van_gogh-aug-26.3.2025' target=\"_blank\">https://wandb.ai/amitr5-tel-aviv-university/AlexNet-deep_van_gogh-aug-26.3.2025</a>"
      ]
     },
     "metadata": {},
     "output_type": "display_data"
    },
    {
     "data": {
      "text/plain": [
       "<IPython.core.display.HTML object>"
      ],
      "text/html": [
       " View run at <a href='https://wandb.ai/amitr5-tel-aviv-university/AlexNet-deep_van_gogh-aug-26.3.2025/runs/6rvhn8vx' target=\"_blank\">https://wandb.ai/amitr5-tel-aviv-university/AlexNet-deep_van_gogh-aug-26.3.2025/runs/6rvhn8vx</a>"
      ]
     },
     "metadata": {},
     "output_type": "display_data"
    },
    {
     "data": {
      "text/plain": [
       "<IPython.core.display.HTML object>"
      ],
      "text/html": []
     },
     "metadata": {},
     "output_type": "display_data"
    },
    {
     "data": {
      "text/plain": [
       "<IPython.core.display.HTML object>"
      ],
      "text/html": [
       "<br>    <style><br>        .wandb-row {<br>            display: flex;<br>            flex-direction: row;<br>            flex-wrap: wrap;<br>            justify-content: flex-start;<br>            width: 100%;<br>        }<br>        .wandb-col {<br>            display: flex;<br>            flex-direction: column;<br>            flex-basis: 100%;<br>            flex: 1;<br>            padding: 10px;<br>        }<br>    </style><br><div class=\"wandb-row\"><div class=\"wandb-col\"><h3>Run history:</h3><br/><table class=\"wandb\"><tr><td>AUC</td><td>▁</td></tr><tr><td>Epoch</td><td>▁▂▃▃▄▅▆▆▇█</td></tr><tr><td>Fold</td><td>▁</td></tr><tr><td>Train Accuracy</td><td>▁█████████</td></tr><tr><td>Train Loss</td><td>█▁▁▁▁▁▁▁▁▁</td></tr><tr><td>Validation AUC</td><td>▁▁▁▁▁▁▁▁▁▁</td></tr><tr><td>Validation Accuracy</td><td>▁▁▁▁▁▁▁▁▁▁</td></tr><tr><td>Validation F1</td><td>▁▁▁▁▁▁▁▁▁▁</td></tr><tr><td>Validation Loss</td><td>█▃▂▂▁▁▁▁▁▁</td></tr><tr><td>Validation Precision</td><td>▁▁▁▁▁▁▁▁▁▁</td></tr><tr><td>Validation Recall</td><td>▁▁▁▁▁▁▁▁▁▁</td></tr><tr><td>Validation Specificity</td><td>▁▁▁▁▁▁▁▁▁▁</td></tr></table><br/></div><div class=\"wandb-col\"><h3>Run summary:</h3><br/><table class=\"wandb\"><tr><td>AUC</td><td>1</td></tr><tr><td>Epoch</td><td>10</td></tr><tr><td>Fold</td><td>0</td></tr><tr><td>Train Accuracy</td><td>1</td></tr><tr><td>Train Loss</td><td>3e-05</td></tr><tr><td>Validation AUC</td><td>1</td></tr><tr><td>Validation Accuracy</td><td>1</td></tr><tr><td>Validation F1</td><td>1</td></tr><tr><td>Validation Loss</td><td>2e-05</td></tr><tr><td>Validation Precision</td><td>1</td></tr><tr><td>Validation Recall</td><td>1</td></tr><tr><td>Validation Specificity</td><td>1</td></tr></table><br/></div></div>"
      ]
     },
     "metadata": {},
     "output_type": "display_data"
    },
    {
     "data": {
      "text/plain": [
       "<IPython.core.display.HTML object>"
      ],
      "text/html": [
       " View run <strong style=\"color:#cdcd00\">AlexNet_trial_5_fold_0</strong> at: <a href='https://wandb.ai/amitr5-tel-aviv-university/AlexNet-deep_van_gogh-aug-26.3.2025/runs/6rvhn8vx' target=\"_blank\">https://wandb.ai/amitr5-tel-aviv-university/AlexNet-deep_van_gogh-aug-26.3.2025/runs/6rvhn8vx</a><br> View project at: <a href='https://wandb.ai/amitr5-tel-aviv-university/AlexNet-deep_van_gogh-aug-26.3.2025' target=\"_blank\">https://wandb.ai/amitr5-tel-aviv-university/AlexNet-deep_van_gogh-aug-26.3.2025</a><br>Synced 5 W&B file(s), 0 media file(s), 0 artifact file(s) and 0 other file(s)"
      ]
     },
     "metadata": {},
     "output_type": "display_data"
    },
    {
     "data": {
      "text/plain": [
       "<IPython.core.display.HTML object>"
      ],
      "text/html": [
       "Find logs at: <code>.\\wandb\\run-20250326_182058-6rvhn8vx\\logs</code>"
      ]
     },
     "metadata": {},
     "output_type": "display_data"
    },
    {
     "data": {
      "text/plain": [
       "<IPython.core.display.HTML object>"
      ],
      "text/html": [
       "Tracking run with wandb version 0.19.1"
      ]
     },
     "metadata": {},
     "output_type": "display_data"
    },
    {
     "data": {
      "text/plain": [
       "<IPython.core.display.HTML object>"
      ],
      "text/html": [
       "Run data is saved locally in <code>D:\\Users\\kanatcohen\\PycharmProjects\\deep_van_gogh\\wandb\\run-20250326_182151-jbu7fnce</code>"
      ]
     },
     "metadata": {},
     "output_type": "display_data"
    },
    {
     "data": {
      "text/plain": [
       "<IPython.core.display.HTML object>"
      ],
      "text/html": [
       "Syncing run <strong><a href='https://wandb.ai/amitr5-tel-aviv-university/AlexNet-deep_van_gogh-aug-26.3.2025/runs/jbu7fnce' target=\"_blank\">AlexNet_trial_5_fold_1</a></strong> to <a href='https://wandb.ai/amitr5-tel-aviv-university/AlexNet-deep_van_gogh-aug-26.3.2025' target=\"_blank\">Weights & Biases</a> (<a href='https://wandb.me/developer-guide' target=\"_blank\">docs</a>)<br>"
      ]
     },
     "metadata": {},
     "output_type": "display_data"
    },
    {
     "data": {
      "text/plain": [
       "<IPython.core.display.HTML object>"
      ],
      "text/html": [
       " View project at <a href='https://wandb.ai/amitr5-tel-aviv-university/AlexNet-deep_van_gogh-aug-26.3.2025' target=\"_blank\">https://wandb.ai/amitr5-tel-aviv-university/AlexNet-deep_van_gogh-aug-26.3.2025</a>"
      ]
     },
     "metadata": {},
     "output_type": "display_data"
    },
    {
     "data": {
      "text/plain": [
       "<IPython.core.display.HTML object>"
      ],
      "text/html": [
       " View run at <a href='https://wandb.ai/amitr5-tel-aviv-university/AlexNet-deep_van_gogh-aug-26.3.2025/runs/jbu7fnce' target=\"_blank\">https://wandb.ai/amitr5-tel-aviv-university/AlexNet-deep_van_gogh-aug-26.3.2025/runs/jbu7fnce</a>"
      ]
     },
     "metadata": {},
     "output_type": "display_data"
    },
    {
     "data": {
      "text/plain": [
       "<IPython.core.display.HTML object>"
      ],
      "text/html": []
     },
     "metadata": {},
     "output_type": "display_data"
    },
    {
     "data": {
      "text/plain": [
       "<IPython.core.display.HTML object>"
      ],
      "text/html": [
       "<br>    <style><br>        .wandb-row {<br>            display: flex;<br>            flex-direction: row;<br>            flex-wrap: wrap;<br>            justify-content: flex-start;<br>            width: 100%;<br>        }<br>        .wandb-col {<br>            display: flex;<br>            flex-direction: column;<br>            flex-basis: 100%;<br>            flex: 1;<br>            padding: 10px;<br>        }<br>    </style><br><div class=\"wandb-row\"><div class=\"wandb-col\"><h3>Run history:</h3><br/><table class=\"wandb\"><tr><td>AUC</td><td>▁</td></tr><tr><td>Epoch</td><td>▁▂▃▃▄▅▆▆▇█</td></tr><tr><td>Fold</td><td>▁</td></tr><tr><td>Train Accuracy</td><td>▁█████████</td></tr><tr><td>Train Loss</td><td>█▁▁▁▁▁▁▁▁▁</td></tr><tr><td>Validation AUC</td><td>▁▁▁▁▁▁▁▁▁▁</td></tr><tr><td>Validation Accuracy</td><td>▁▁▁▁▁▁▁▁▁▁</td></tr><tr><td>Validation F1</td><td>▁▁▁▁▁▁▁▁▁▁</td></tr><tr><td>Validation Loss</td><td>█▄▂▂▁▁▁▁▁▁</td></tr><tr><td>Validation Precision</td><td>▁▁▁▁▁▁▁▁▁▁</td></tr><tr><td>Validation Recall</td><td>▁▁▁▁▁▁▁▁▁▁</td></tr><tr><td>Validation Specificity</td><td>▁▁▁▁▁▁▁▁▁▁</td></tr></table><br/></div><div class=\"wandb-col\"><h3>Run summary:</h3><br/><table class=\"wandb\"><tr><td>AUC</td><td>1</td></tr><tr><td>Epoch</td><td>10</td></tr><tr><td>Fold</td><td>1</td></tr><tr><td>Train Accuracy</td><td>1</td></tr><tr><td>Train Loss</td><td>5e-05</td></tr><tr><td>Validation AUC</td><td>1</td></tr><tr><td>Validation Accuracy</td><td>1</td></tr><tr><td>Validation F1</td><td>1</td></tr><tr><td>Validation Loss</td><td>1e-05</td></tr><tr><td>Validation Precision</td><td>1</td></tr><tr><td>Validation Recall</td><td>1</td></tr><tr><td>Validation Specificity</td><td>1</td></tr></table><br/></div></div>"
      ]
     },
     "metadata": {},
     "output_type": "display_data"
    },
    {
     "data": {
      "text/plain": [
       "<IPython.core.display.HTML object>"
      ],
      "text/html": [
       " View run <strong style=\"color:#cdcd00\">AlexNet_trial_5_fold_1</strong> at: <a href='https://wandb.ai/amitr5-tel-aviv-university/AlexNet-deep_van_gogh-aug-26.3.2025/runs/jbu7fnce' target=\"_blank\">https://wandb.ai/amitr5-tel-aviv-university/AlexNet-deep_van_gogh-aug-26.3.2025/runs/jbu7fnce</a><br> View project at: <a href='https://wandb.ai/amitr5-tel-aviv-university/AlexNet-deep_van_gogh-aug-26.3.2025' target=\"_blank\">https://wandb.ai/amitr5-tel-aviv-university/AlexNet-deep_van_gogh-aug-26.3.2025</a><br>Synced 5 W&B file(s), 0 media file(s), 0 artifact file(s) and 0 other file(s)"
      ]
     },
     "metadata": {},
     "output_type": "display_data"
    },
    {
     "data": {
      "text/plain": [
       "<IPython.core.display.HTML object>"
      ],
      "text/html": [
       "Find logs at: <code>.\\wandb\\run-20250326_182151-jbu7fnce\\logs</code>"
      ]
     },
     "metadata": {},
     "output_type": "display_data"
    },
    {
     "data": {
      "text/plain": [
       "<IPython.core.display.HTML object>"
      ],
      "text/html": [
       "Tracking run with wandb version 0.19.1"
      ]
     },
     "metadata": {},
     "output_type": "display_data"
    },
    {
     "data": {
      "text/plain": [
       "<IPython.core.display.HTML object>"
      ],
      "text/html": [
       "Run data is saved locally in <code>D:\\Users\\kanatcohen\\PycharmProjects\\deep_van_gogh\\wandb\\run-20250326_182244-mvfbz0s8</code>"
      ]
     },
     "metadata": {},
     "output_type": "display_data"
    },
    {
     "data": {
      "text/plain": [
       "<IPython.core.display.HTML object>"
      ],
      "text/html": [
       "Syncing run <strong><a href='https://wandb.ai/amitr5-tel-aviv-university/AlexNet-deep_van_gogh-aug-26.3.2025/runs/mvfbz0s8' target=\"_blank\">AlexNet_trial_5_fold_2</a></strong> to <a href='https://wandb.ai/amitr5-tel-aviv-university/AlexNet-deep_van_gogh-aug-26.3.2025' target=\"_blank\">Weights & Biases</a> (<a href='https://wandb.me/developer-guide' target=\"_blank\">docs</a>)<br>"
      ]
     },
     "metadata": {},
     "output_type": "display_data"
    },
    {
     "data": {
      "text/plain": [
       "<IPython.core.display.HTML object>"
      ],
      "text/html": [
       " View project at <a href='https://wandb.ai/amitr5-tel-aviv-university/AlexNet-deep_van_gogh-aug-26.3.2025' target=\"_blank\">https://wandb.ai/amitr5-tel-aviv-university/AlexNet-deep_van_gogh-aug-26.3.2025</a>"
      ]
     },
     "metadata": {},
     "output_type": "display_data"
    },
    {
     "data": {
      "text/plain": [
       "<IPython.core.display.HTML object>"
      ],
      "text/html": [
       " View run at <a href='https://wandb.ai/amitr5-tel-aviv-university/AlexNet-deep_van_gogh-aug-26.3.2025/runs/mvfbz0s8' target=\"_blank\">https://wandb.ai/amitr5-tel-aviv-university/AlexNet-deep_van_gogh-aug-26.3.2025/runs/mvfbz0s8</a>"
      ]
     },
     "metadata": {},
     "output_type": "display_data"
    },
    {
     "data": {
      "text/plain": [
       "<IPython.core.display.HTML object>"
      ],
      "text/html": []
     },
     "metadata": {},
     "output_type": "display_data"
    },
    {
     "data": {
      "text/plain": [
       "<IPython.core.display.HTML object>"
      ],
      "text/html": [
       "<br>    <style><br>        .wandb-row {<br>            display: flex;<br>            flex-direction: row;<br>            flex-wrap: wrap;<br>            justify-content: flex-start;<br>            width: 100%;<br>        }<br>        .wandb-col {<br>            display: flex;<br>            flex-direction: column;<br>            flex-basis: 100%;<br>            flex: 1;<br>            padding: 10px;<br>        }<br>    </style><br><div class=\"wandb-row\"><div class=\"wandb-col\"><h3>Run history:</h3><br/><table class=\"wandb\"><tr><td>AUC</td><td>▁</td></tr><tr><td>Epoch</td><td>▁▂▃▃▄▅▆▆▇█</td></tr><tr><td>Fold</td><td>▁</td></tr><tr><td>Train Accuracy</td><td>▁█████████</td></tr><tr><td>Train Loss</td><td>█▁▁▁▁▁▁▁▁▁</td></tr><tr><td>Validation AUC</td><td>▁▁▁▁▁▁▁▁▁▁</td></tr><tr><td>Validation Accuracy</td><td>▁▁▁▁▁▁▁▁▁▁</td></tr><tr><td>Validation F1</td><td>▁▁▁▁▁▁▁▁▁▁</td></tr><tr><td>Validation Loss</td><td>█▄▃▂▂▁▁▁▁▁</td></tr><tr><td>Validation Precision</td><td>▁▁▁▁▁▁▁▁▁▁</td></tr><tr><td>Validation Recall</td><td>▁▁▁▁▁▁▁▁▁▁</td></tr><tr><td>Validation Specificity</td><td>▁▁▁▁▁▁▁▁▁▁</td></tr></table><br/></div><div class=\"wandb-col\"><h3>Run summary:</h3><br/><table class=\"wandb\"><tr><td>AUC</td><td>1</td></tr><tr><td>Epoch</td><td>10</td></tr><tr><td>Fold</td><td>2</td></tr><tr><td>Train Accuracy</td><td>1</td></tr><tr><td>Train Loss</td><td>0.0001</td></tr><tr><td>Validation AUC</td><td>1</td></tr><tr><td>Validation Accuracy</td><td>1</td></tr><tr><td>Validation F1</td><td>1</td></tr><tr><td>Validation Loss</td><td>1e-05</td></tr><tr><td>Validation Precision</td><td>1</td></tr><tr><td>Validation Recall</td><td>1</td></tr><tr><td>Validation Specificity</td><td>1</td></tr></table><br/></div></div>"
      ]
     },
     "metadata": {},
     "output_type": "display_data"
    },
    {
     "data": {
      "text/plain": [
       "<IPython.core.display.HTML object>"
      ],
      "text/html": [
       " View run <strong style=\"color:#cdcd00\">AlexNet_trial_5_fold_2</strong> at: <a href='https://wandb.ai/amitr5-tel-aviv-university/AlexNet-deep_van_gogh-aug-26.3.2025/runs/mvfbz0s8' target=\"_blank\">https://wandb.ai/amitr5-tel-aviv-university/AlexNet-deep_van_gogh-aug-26.3.2025/runs/mvfbz0s8</a><br> View project at: <a href='https://wandb.ai/amitr5-tel-aviv-university/AlexNet-deep_van_gogh-aug-26.3.2025' target=\"_blank\">https://wandb.ai/amitr5-tel-aviv-university/AlexNet-deep_van_gogh-aug-26.3.2025</a><br>Synced 5 W&B file(s), 0 media file(s), 0 artifact file(s) and 0 other file(s)"
      ]
     },
     "metadata": {},
     "output_type": "display_data"
    },
    {
     "data": {
      "text/plain": [
       "<IPython.core.display.HTML object>"
      ],
      "text/html": [
       "Find logs at: <code>.\\wandb\\run-20250326_182244-mvfbz0s8\\logs</code>"
      ]
     },
     "metadata": {},
     "output_type": "display_data"
    },
    {
     "data": {
      "text/plain": [
       "<IPython.core.display.HTML object>"
      ],
      "text/html": [
       "Tracking run with wandb version 0.19.1"
      ]
     },
     "metadata": {},
     "output_type": "display_data"
    },
    {
     "data": {
      "text/plain": [
       "<IPython.core.display.HTML object>"
      ],
      "text/html": [
       "Run data is saved locally in <code>D:\\Users\\kanatcohen\\PycharmProjects\\deep_van_gogh\\wandb\\run-20250326_182337-lgefayg9</code>"
      ]
     },
     "metadata": {},
     "output_type": "display_data"
    },
    {
     "data": {
      "text/plain": [
       "<IPython.core.display.HTML object>"
      ],
      "text/html": [
       "Syncing run <strong><a href='https://wandb.ai/amitr5-tel-aviv-university/AlexNet-deep_van_gogh-aug-26.3.2025/runs/lgefayg9' target=\"_blank\">AlexNet_trial_5_fold_3</a></strong> to <a href='https://wandb.ai/amitr5-tel-aviv-university/AlexNet-deep_van_gogh-aug-26.3.2025' target=\"_blank\">Weights & Biases</a> (<a href='https://wandb.me/developer-guide' target=\"_blank\">docs</a>)<br>"
      ]
     },
     "metadata": {},
     "output_type": "display_data"
    },
    {
     "data": {
      "text/plain": [
       "<IPython.core.display.HTML object>"
      ],
      "text/html": [
       " View project at <a href='https://wandb.ai/amitr5-tel-aviv-university/AlexNet-deep_van_gogh-aug-26.3.2025' target=\"_blank\">https://wandb.ai/amitr5-tel-aviv-university/AlexNet-deep_van_gogh-aug-26.3.2025</a>"
      ]
     },
     "metadata": {},
     "output_type": "display_data"
    },
    {
     "data": {
      "text/plain": [
       "<IPython.core.display.HTML object>"
      ],
      "text/html": [
       " View run at <a href='https://wandb.ai/amitr5-tel-aviv-university/AlexNet-deep_van_gogh-aug-26.3.2025/runs/lgefayg9' target=\"_blank\">https://wandb.ai/amitr5-tel-aviv-university/AlexNet-deep_van_gogh-aug-26.3.2025/runs/lgefayg9</a>"
      ]
     },
     "metadata": {},
     "output_type": "display_data"
    },
    {
     "data": {
      "text/plain": [
       "<IPython.core.display.HTML object>"
      ],
      "text/html": []
     },
     "metadata": {},
     "output_type": "display_data"
    },
    {
     "data": {
      "text/plain": [
       "<IPython.core.display.HTML object>"
      ],
      "text/html": [
       "<br>    <style><br>        .wandb-row {<br>            display: flex;<br>            flex-direction: row;<br>            flex-wrap: wrap;<br>            justify-content: flex-start;<br>            width: 100%;<br>        }<br>        .wandb-col {<br>            display: flex;<br>            flex-direction: column;<br>            flex-basis: 100%;<br>            flex: 1;<br>            padding: 10px;<br>        }<br>    </style><br><div class=\"wandb-row\"><div class=\"wandb-col\"><h3>Run history:</h3><br/><table class=\"wandb\"><tr><td>AUC</td><td>▁</td></tr><tr><td>Epoch</td><td>▁▂▃▃▄▅▆▆▇█</td></tr><tr><td>Fold</td><td>▁</td></tr><tr><td>Train Accuracy</td><td>▁█████████</td></tr><tr><td>Train Loss</td><td>█▁▁▁▁▁▁▁▁▁</td></tr><tr><td>Validation AUC</td><td>▁▁▁▁▁▁▁▁▁▁</td></tr><tr><td>Validation Accuracy</td><td>▁▁▁▁▁▁▁▁▁▁</td></tr><tr><td>Validation F1</td><td>▁▁▁▁▁▁▁▁▁▁</td></tr><tr><td>Validation Loss</td><td>█▅▃▃▂▂▂▁▁▁</td></tr><tr><td>Validation Precision</td><td>▁▁▁▁▁▁▁▁▁▁</td></tr><tr><td>Validation Recall</td><td>▁▁▁▁▁▁▁▁▁▁</td></tr><tr><td>Validation Specificity</td><td>▁▁▁▁▁▁▁▁▁▁</td></tr></table><br/></div><div class=\"wandb-col\"><h3>Run summary:</h3><br/><table class=\"wandb\"><tr><td>AUC</td><td>1</td></tr><tr><td>Epoch</td><td>10</td></tr><tr><td>Fold</td><td>3</td></tr><tr><td>Train Accuracy</td><td>1</td></tr><tr><td>Train Loss</td><td>2e-05</td></tr><tr><td>Validation AUC</td><td>1</td></tr><tr><td>Validation Accuracy</td><td>1</td></tr><tr><td>Validation F1</td><td>1</td></tr><tr><td>Validation Loss</td><td>3e-05</td></tr><tr><td>Validation Precision</td><td>1</td></tr><tr><td>Validation Recall</td><td>1</td></tr><tr><td>Validation Specificity</td><td>1</td></tr></table><br/></div></div>"
      ]
     },
     "metadata": {},
     "output_type": "display_data"
    },
    {
     "data": {
      "text/plain": [
       "<IPython.core.display.HTML object>"
      ],
      "text/html": [
       " View run <strong style=\"color:#cdcd00\">AlexNet_trial_5_fold_3</strong> at: <a href='https://wandb.ai/amitr5-tel-aviv-university/AlexNet-deep_van_gogh-aug-26.3.2025/runs/lgefayg9' target=\"_blank\">https://wandb.ai/amitr5-tel-aviv-university/AlexNet-deep_van_gogh-aug-26.3.2025/runs/lgefayg9</a><br> View project at: <a href='https://wandb.ai/amitr5-tel-aviv-university/AlexNet-deep_van_gogh-aug-26.3.2025' target=\"_blank\">https://wandb.ai/amitr5-tel-aviv-university/AlexNet-deep_van_gogh-aug-26.3.2025</a><br>Synced 5 W&B file(s), 0 media file(s), 0 artifact file(s) and 0 other file(s)"
      ]
     },
     "metadata": {},
     "output_type": "display_data"
    },
    {
     "data": {
      "text/plain": [
       "<IPython.core.display.HTML object>"
      ],
      "text/html": [
       "Find logs at: <code>.\\wandb\\run-20250326_182337-lgefayg9\\logs</code>"
      ]
     },
     "metadata": {},
     "output_type": "display_data"
    },
    {
     "data": {
      "text/plain": [
       "<IPython.core.display.HTML object>"
      ],
      "text/html": [
       "Tracking run with wandb version 0.19.1"
      ]
     },
     "metadata": {},
     "output_type": "display_data"
    },
    {
     "data": {
      "text/plain": [
       "<IPython.core.display.HTML object>"
      ],
      "text/html": [
       "Run data is saved locally in <code>D:\\Users\\kanatcohen\\PycharmProjects\\deep_van_gogh\\wandb\\run-20250326_182433-zzrw1jlo</code>"
      ]
     },
     "metadata": {},
     "output_type": "display_data"
    },
    {
     "data": {
      "text/plain": [
       "<IPython.core.display.HTML object>"
      ],
      "text/html": [
       "Syncing run <strong><a href='https://wandb.ai/amitr5-tel-aviv-university/AlexNet-deep_van_gogh-aug-26.3.2025/runs/zzrw1jlo' target=\"_blank\">AlexNet_trial_5</a></strong> to <a href='https://wandb.ai/amitr5-tel-aviv-university/AlexNet-deep_van_gogh-aug-26.3.2025' target=\"_blank\">Weights & Biases</a> (<a href='https://wandb.me/developer-guide' target=\"_blank\">docs</a>)<br>"
      ]
     },
     "metadata": {},
     "output_type": "display_data"
    },
    {
     "data": {
      "text/plain": [
       "<IPython.core.display.HTML object>"
      ],
      "text/html": [
       " View project at <a href='https://wandb.ai/amitr5-tel-aviv-university/AlexNet-deep_van_gogh-aug-26.3.2025' target=\"_blank\">https://wandb.ai/amitr5-tel-aviv-university/AlexNet-deep_van_gogh-aug-26.3.2025</a>"
      ]
     },
     "metadata": {},
     "output_type": "display_data"
    },
    {
     "data": {
      "text/plain": [
       "<IPython.core.display.HTML object>"
      ],
      "text/html": [
       " View run at <a href='https://wandb.ai/amitr5-tel-aviv-university/AlexNet-deep_van_gogh-aug-26.3.2025/runs/zzrw1jlo' target=\"_blank\">https://wandb.ai/amitr5-tel-aviv-university/AlexNet-deep_van_gogh-aug-26.3.2025/runs/zzrw1jlo</a>"
      ]
     },
     "metadata": {},
     "output_type": "display_data"
    },
    {
     "data": {
      "text/plain": [
       "<IPython.core.display.HTML object>"
      ],
      "text/html": []
     },
     "metadata": {},
     "output_type": "display_data"
    },
    {
     "data": {
      "text/plain": [
       "<IPython.core.display.HTML object>"
      ],
      "text/html": [
       "<br>    <style><br>        .wandb-row {<br>            display: flex;<br>            flex-direction: row;<br>            flex-wrap: wrap;<br>            justify-content: flex-start;<br>            width: 100%;<br>        }<br>        .wandb-col {<br>            display: flex;<br>            flex-direction: column;<br>            flex-basis: 100%;<br>            flex: 1;<br>            padding: 10px;<br>        }<br>    </style><br><div class=\"wandb-row\"><div class=\"wandb-col\"><h3>Run history:</h3><br/><table class=\"wandb\"><tr><td>Mean AUC</td><td>▁</td></tr><tr><td>Trial</td><td>▁</td></tr></table><br/></div><div class=\"wandb-col\"><h3>Run summary:</h3><br/><table class=\"wandb\"><tr><td>Mean AUC</td><td>1</td></tr><tr><td>Trial</td><td>5</td></tr></table><br/></div></div>"
      ]
     },
     "metadata": {},
     "output_type": "display_data"
    },
    {
     "data": {
      "text/plain": [
       "<IPython.core.display.HTML object>"
      ],
      "text/html": [
       " View run <strong style=\"color:#cdcd00\">AlexNet_trial_5</strong> at: <a href='https://wandb.ai/amitr5-tel-aviv-university/AlexNet-deep_van_gogh-aug-26.3.2025/runs/zzrw1jlo' target=\"_blank\">https://wandb.ai/amitr5-tel-aviv-university/AlexNet-deep_van_gogh-aug-26.3.2025/runs/zzrw1jlo</a><br> View project at: <a href='https://wandb.ai/amitr5-tel-aviv-university/AlexNet-deep_van_gogh-aug-26.3.2025' target=\"_blank\">https://wandb.ai/amitr5-tel-aviv-university/AlexNet-deep_van_gogh-aug-26.3.2025</a><br>Synced 5 W&B file(s), 0 media file(s), 0 artifact file(s) and 0 other file(s)"
      ]
     },
     "metadata": {},
     "output_type": "display_data"
    },
    {
     "data": {
      "text/plain": [
       "<IPython.core.display.HTML object>"
      ],
      "text/html": [
       "Find logs at: <code>.\\wandb\\run-20250326_182433-zzrw1jlo\\logs</code>"
      ]
     },
     "metadata": {},
     "output_type": "display_data"
    },
    {
     "name": "stderr",
     "output_type": "stream",
     "text": [
      "[I 2025-03-26 18:24:36,578] Trial 4 finished with value: 1.0 and parameters: {'learning_rate': 1.7645572873166173e-05, 'weight_decay': 1.0798975962637292e-06, 'epochs': 29, 'num_layers_finetune': 1}. Best is trial 2 with value: 1.0.\n"
     ]
    },
    {
     "data": {
      "text/plain": [
       "<IPython.core.display.HTML object>"
      ],
      "text/html": [
       "Tracking run with wandb version 0.19.1"
      ]
     },
     "metadata": {},
     "output_type": "display_data"
    },
    {
     "data": {
      "text/plain": [
       "<IPython.core.display.HTML object>"
      ],
      "text/html": [
       "Run data is saved locally in <code>D:\\Users\\kanatcohen\\PycharmProjects\\deep_van_gogh\\wandb\\run-20250326_182436-ndmezx93</code>"
      ]
     },
     "metadata": {},
     "output_type": "display_data"
    },
    {
     "data": {
      "text/plain": [
       "<IPython.core.display.HTML object>"
      ],
      "text/html": [
       "Syncing run <strong><a href='https://wandb.ai/amitr5-tel-aviv-university/AlexNet-deep_van_gogh-aug-26.3.2025/runs/ndmezx93' target=\"_blank\">AlexNet_trial_6_fold_0</a></strong> to <a href='https://wandb.ai/amitr5-tel-aviv-university/AlexNet-deep_van_gogh-aug-26.3.2025' target=\"_blank\">Weights & Biases</a> (<a href='https://wandb.me/developer-guide' target=\"_blank\">docs</a>)<br>"
      ]
     },
     "metadata": {},
     "output_type": "display_data"
    },
    {
     "data": {
      "text/plain": [
       "<IPython.core.display.HTML object>"
      ],
      "text/html": [
       " View project at <a href='https://wandb.ai/amitr5-tel-aviv-university/AlexNet-deep_van_gogh-aug-26.3.2025' target=\"_blank\">https://wandb.ai/amitr5-tel-aviv-university/AlexNet-deep_van_gogh-aug-26.3.2025</a>"
      ]
     },
     "metadata": {},
     "output_type": "display_data"
    },
    {
     "data": {
      "text/plain": [
       "<IPython.core.display.HTML object>"
      ],
      "text/html": [
       " View run at <a href='https://wandb.ai/amitr5-tel-aviv-university/AlexNet-deep_van_gogh-aug-26.3.2025/runs/ndmezx93' target=\"_blank\">https://wandb.ai/amitr5-tel-aviv-university/AlexNet-deep_van_gogh-aug-26.3.2025/runs/ndmezx93</a>"
      ]
     },
     "metadata": {},
     "output_type": "display_data"
    },
    {
     "data": {
      "text/plain": [
       "<IPython.core.display.HTML object>"
      ],
      "text/html": []
     },
     "metadata": {},
     "output_type": "display_data"
    },
    {
     "data": {
      "text/plain": [
       "<IPython.core.display.HTML object>"
      ],
      "text/html": [
       "<br>    <style><br>        .wandb-row {<br>            display: flex;<br>            flex-direction: row;<br>            flex-wrap: wrap;<br>            justify-content: flex-start;<br>            width: 100%;<br>        }<br>        .wandb-col {<br>            display: flex;<br>            flex-direction: column;<br>            flex-basis: 100%;<br>            flex: 1;<br>            padding: 10px;<br>        }<br>    </style><br><div class=\"wandb-row\"><div class=\"wandb-col\"><h3>Run history:</h3><br/><table class=\"wandb\"><tr><td>AUC</td><td>▁</td></tr><tr><td>Epoch</td><td>▁▁▂▂▃▃▄▄▅▅▅▆▆▇▇██</td></tr><tr><td>Fold</td><td>▁</td></tr><tr><td>Train Accuracy</td><td>▃▄▆▇▅▅▇▆█▆▇▃▁▆███</td></tr><tr><td>Train Loss</td><td>█▇▂▂▃▃▂▂▁▂▂▅▅▃▁▁▁</td></tr><tr><td>Validation AUC</td><td>███████████▁▆████</td></tr><tr><td>Validation Accuracy</td><td>▇▇▆█▇▆█████▁▅████</td></tr><tr><td>Validation F1</td><td>▇▇▇█▇▆█████▁▆████</td></tr><tr><td>Validation Loss</td><td>▃▂▃▁▂▃▂▁▁▁▁█▃▁▁▁▁</td></tr><tr><td>Validation Precision</td><td>▇▇▆█▇▆█████▁▅████</td></tr><tr><td>Validation Recall</td><td>▇▇▆█▇▆█████▁▅████</td></tr><tr><td>Validation Specificity</td><td>▆▄█▆▇▁▇█▇▇▇█▂▇▇▇▇</td></tr></table><br/></div><div class=\"wandb-col\"><h3>Run summary:</h3><br/><table class=\"wandb\"><tr><td>AUC</td><td>1</td></tr><tr><td>Epoch</td><td>17</td></tr><tr><td>Fold</td><td>0</td></tr><tr><td>Train Accuracy</td><td>1</td></tr><tr><td>Train Loss</td><td>0.0</td></tr><tr><td>Validation AUC</td><td>1.0</td></tr><tr><td>Validation Accuracy</td><td>0.99945</td></tr><tr><td>Validation F1</td><td>0.99945</td></tr><tr><td>Validation Loss</td><td>0.00101</td></tr><tr><td>Validation Precision</td><td>0.99945</td></tr><tr><td>Validation Recall</td><td>0.99945</td></tr><tr><td>Validation Specificity</td><td>0.99971</td></tr></table><br/></div></div>"
      ]
     },
     "metadata": {},
     "output_type": "display_data"
    },
    {
     "data": {
      "text/plain": [
       "<IPython.core.display.HTML object>"
      ],
      "text/html": [
       " View run <strong style=\"color:#cdcd00\">AlexNet_trial_6_fold_0</strong> at: <a href='https://wandb.ai/amitr5-tel-aviv-university/AlexNet-deep_van_gogh-aug-26.3.2025/runs/ndmezx93' target=\"_blank\">https://wandb.ai/amitr5-tel-aviv-university/AlexNet-deep_van_gogh-aug-26.3.2025/runs/ndmezx93</a><br> View project at: <a href='https://wandb.ai/amitr5-tel-aviv-university/AlexNet-deep_van_gogh-aug-26.3.2025' target=\"_blank\">https://wandb.ai/amitr5-tel-aviv-university/AlexNet-deep_van_gogh-aug-26.3.2025</a><br>Synced 5 W&B file(s), 0 media file(s), 0 artifact file(s) and 0 other file(s)"
      ]
     },
     "metadata": {},
     "output_type": "display_data"
    },
    {
     "data": {
      "text/plain": [
       "<IPython.core.display.HTML object>"
      ],
      "text/html": [
       "Find logs at: <code>.\\wandb\\run-20250326_182436-ndmezx93\\logs</code>"
      ]
     },
     "metadata": {},
     "output_type": "display_data"
    },
    {
     "data": {
      "text/plain": [
       "<IPython.core.display.HTML object>"
      ],
      "text/html": [
       "Tracking run with wandb version 0.19.1"
      ]
     },
     "metadata": {},
     "output_type": "display_data"
    },
    {
     "data": {
      "text/plain": [
       "<IPython.core.display.HTML object>"
      ],
      "text/html": [
       "Run data is saved locally in <code>D:\\Users\\kanatcohen\\PycharmProjects\\deep_van_gogh\\wandb\\run-20250326_182636-ndm42hxu</code>"
      ]
     },
     "metadata": {},
     "output_type": "display_data"
    },
    {
     "data": {
      "text/plain": [
       "<IPython.core.display.HTML object>"
      ],
      "text/html": [
       "Syncing run <strong><a href='https://wandb.ai/amitr5-tel-aviv-university/AlexNet-deep_van_gogh-aug-26.3.2025/runs/ndm42hxu' target=\"_blank\">AlexNet_trial_6_fold_1</a></strong> to <a href='https://wandb.ai/amitr5-tel-aviv-university/AlexNet-deep_van_gogh-aug-26.3.2025' target=\"_blank\">Weights & Biases</a> (<a href='https://wandb.me/developer-guide' target=\"_blank\">docs</a>)<br>"
      ]
     },
     "metadata": {},
     "output_type": "display_data"
    },
    {
     "data": {
      "text/plain": [
       "<IPython.core.display.HTML object>"
      ],
      "text/html": [
       " View project at <a href='https://wandb.ai/amitr5-tel-aviv-university/AlexNet-deep_van_gogh-aug-26.3.2025' target=\"_blank\">https://wandb.ai/amitr5-tel-aviv-university/AlexNet-deep_van_gogh-aug-26.3.2025</a>"
      ]
     },
     "metadata": {},
     "output_type": "display_data"
    },
    {
     "data": {
      "text/plain": [
       "<IPython.core.display.HTML object>"
      ],
      "text/html": [
       " View run at <a href='https://wandb.ai/amitr5-tel-aviv-university/AlexNet-deep_van_gogh-aug-26.3.2025/runs/ndm42hxu' target=\"_blank\">https://wandb.ai/amitr5-tel-aviv-university/AlexNet-deep_van_gogh-aug-26.3.2025/runs/ndm42hxu</a>"
      ]
     },
     "metadata": {},
     "output_type": "display_data"
    },
    {
     "data": {
      "text/plain": [
       "<IPython.core.display.HTML object>"
      ],
      "text/html": []
     },
     "metadata": {},
     "output_type": "display_data"
    },
    {
     "data": {
      "text/plain": [
       "<IPython.core.display.HTML object>"
      ],
      "text/html": [
       "<br>    <style><br>        .wandb-row {<br>            display: flex;<br>            flex-direction: row;<br>            flex-wrap: wrap;<br>            justify-content: flex-start;<br>            width: 100%;<br>        }<br>        .wandb-col {<br>            display: flex;<br>            flex-direction: column;<br>            flex-basis: 100%;<br>            flex: 1;<br>            padding: 10px;<br>        }<br>    </style><br><div class=\"wandb-row\"><div class=\"wandb-col\"><h3>Run history:</h3><br/><table class=\"wandb\"><tr><td>AUC</td><td>▁</td></tr><tr><td>Epoch</td><td>▁▁▂▂▃▃▃▄▄▅▅▆▆▆▇▇██</td></tr><tr><td>Fold</td><td>▁</td></tr><tr><td>Train Accuracy</td><td>▁▇▇▇██▇█████▇█▇█▆█</td></tr><tr><td>Train Loss</td><td>█▁▂▂▁▁▂▁▁▁▁▁▂▁▂▁▃▁</td></tr><tr><td>Validation AUC</td><td>█████▁▆▆███▅█▇▃▇▅▇</td></tr><tr><td>Validation Accuracy</td><td>▆▁▇▁▇▆█▃▅▆▇▃▅█▂▆▁▆</td></tr><tr><td>Validation F1</td><td>▆▁▇▁▇▆█▃▅▆▇▃▅█▂▆▁▆</td></tr><tr><td>Validation Loss</td><td>▁▇▁▃▁█▂▃▂▁▁▄▂▁▅▂▄▂</td></tr><tr><td>Validation Precision</td><td>▆▁▇▁▇▆█▃▅▆▇▃▅█▂▆▁▆</td></tr><tr><td>Validation Recall</td><td>▆▁▇▁▇▆█▃▅▆▇▃▅█▂▆▁▆</td></tr><tr><td>Validation Specificity</td><td>█▁▇█▇▇▇▅█▇▇▇▆▇▃▇▄▆</td></tr></table><br/></div><div class=\"wandb-col\"><h3>Run summary:</h3><br/><table class=\"wandb\"><tr><td>AUC</td><td>1</td></tr><tr><td>Epoch</td><td>18</td></tr><tr><td>Fold</td><td>1</td></tr><tr><td>Train Accuracy</td><td>0.99881</td></tr><tr><td>Train Loss</td><td>0.00374</td></tr><tr><td>Validation AUC</td><td>0.99996</td></tr><tr><td>Validation Accuracy</td><td>0.99891</td></tr><tr><td>Validation F1</td><td>0.99891</td></tr><tr><td>Validation Loss</td><td>0.00395</td></tr><tr><td>Validation Precision</td><td>0.99891</td></tr><tr><td>Validation Recall</td><td>0.99891</td></tr><tr><td>Validation Specificity</td><td>0.99913</td></tr></table><br/></div></div>"
      ]
     },
     "metadata": {},
     "output_type": "display_data"
    },
    {
     "data": {
      "text/plain": [
       "<IPython.core.display.HTML object>"
      ],
      "text/html": [
       " View run <strong style=\"color:#cdcd00\">AlexNet_trial_6_fold_1</strong> at: <a href='https://wandb.ai/amitr5-tel-aviv-university/AlexNet-deep_van_gogh-aug-26.3.2025/runs/ndm42hxu' target=\"_blank\">https://wandb.ai/amitr5-tel-aviv-university/AlexNet-deep_van_gogh-aug-26.3.2025/runs/ndm42hxu</a><br> View project at: <a href='https://wandb.ai/amitr5-tel-aviv-university/AlexNet-deep_van_gogh-aug-26.3.2025' target=\"_blank\">https://wandb.ai/amitr5-tel-aviv-university/AlexNet-deep_van_gogh-aug-26.3.2025</a><br>Synced 5 W&B file(s), 0 media file(s), 0 artifact file(s) and 0 other file(s)"
      ]
     },
     "metadata": {},
     "output_type": "display_data"
    },
    {
     "data": {
      "text/plain": [
       "<IPython.core.display.HTML object>"
      ],
      "text/html": [
       "Find logs at: <code>.\\wandb\\run-20250326_182636-ndm42hxu\\logs</code>"
      ]
     },
     "metadata": {},
     "output_type": "display_data"
    },
    {
     "data": {
      "text/plain": [
       "<IPython.core.display.HTML object>"
      ],
      "text/html": [
       "Tracking run with wandb version 0.19.1"
      ]
     },
     "metadata": {},
     "output_type": "display_data"
    },
    {
     "data": {
      "text/plain": [
       "<IPython.core.display.HTML object>"
      ],
      "text/html": [
       "Run data is saved locally in <code>D:\\Users\\kanatcohen\\PycharmProjects\\deep_van_gogh\\wandb\\run-20250326_182840-erm3z6jb</code>"
      ]
     },
     "metadata": {},
     "output_type": "display_data"
    },
    {
     "data": {
      "text/plain": [
       "<IPython.core.display.HTML object>"
      ],
      "text/html": [
       "Syncing run <strong><a href='https://wandb.ai/amitr5-tel-aviv-university/AlexNet-deep_van_gogh-aug-26.3.2025/runs/erm3z6jb' target=\"_blank\">AlexNet_trial_6_fold_2</a></strong> to <a href='https://wandb.ai/amitr5-tel-aviv-university/AlexNet-deep_van_gogh-aug-26.3.2025' target=\"_blank\">Weights & Biases</a> (<a href='https://wandb.me/developer-guide' target=\"_blank\">docs</a>)<br>"
      ]
     },
     "metadata": {},
     "output_type": "display_data"
    },
    {
     "data": {
      "text/plain": [
       "<IPython.core.display.HTML object>"
      ],
      "text/html": [
       " View project at <a href='https://wandb.ai/amitr5-tel-aviv-university/AlexNet-deep_van_gogh-aug-26.3.2025' target=\"_blank\">https://wandb.ai/amitr5-tel-aviv-university/AlexNet-deep_van_gogh-aug-26.3.2025</a>"
      ]
     },
     "metadata": {},
     "output_type": "display_data"
    },
    {
     "data": {
      "text/plain": [
       "<IPython.core.display.HTML object>"
      ],
      "text/html": [
       " View run at <a href='https://wandb.ai/amitr5-tel-aviv-university/AlexNet-deep_van_gogh-aug-26.3.2025/runs/erm3z6jb' target=\"_blank\">https://wandb.ai/amitr5-tel-aviv-university/AlexNet-deep_van_gogh-aug-26.3.2025/runs/erm3z6jb</a>"
      ]
     },
     "metadata": {},
     "output_type": "display_data"
    },
    {
     "data": {
      "text/plain": [
       "<IPython.core.display.HTML object>"
      ],
      "text/html": []
     },
     "metadata": {},
     "output_type": "display_data"
    },
    {
     "data": {
      "text/plain": [
       "<IPython.core.display.HTML object>"
      ],
      "text/html": [
       "<br>    <style><br>        .wandb-row {<br>            display: flex;<br>            flex-direction: row;<br>            flex-wrap: wrap;<br>            justify-content: flex-start;<br>            width: 100%;<br>        }<br>        .wandb-col {<br>            display: flex;<br>            flex-direction: column;<br>            flex-basis: 100%;<br>            flex: 1;<br>            padding: 10px;<br>        }<br>    </style><br><div class=\"wandb-row\"><div class=\"wandb-col\"><h3>Run history:</h3><br/><table class=\"wandb\"><tr><td>AUC</td><td>▁</td></tr><tr><td>Epoch</td><td>▁▂▂▃▃▄▅▅▆▆▇▇█</td></tr><tr><td>Fold</td><td>▁</td></tr><tr><td>Train Accuracy</td><td>▁▆▇▇█▇█▃▆█▇█▇</td></tr><tr><td>Train Loss</td><td>▇▄▂▂▂▁▁█▄▂▂▁▃</td></tr><tr><td>Validation AUC</td><td>███████▁█████</td></tr><tr><td>Validation Accuracy</td><td>▇▇▃█▇▂▇▁▅██▇█</td></tr><tr><td>Validation F1</td><td>▇▇▄█▇▂▇▁▅██▇█</td></tr><tr><td>Validation Loss</td><td>▁▂▅▁▂▅▂█▃▁▂▂▁</td></tr><tr><td>Validation Precision</td><td>▇▇▄█▇▂▇▁▅██▇█</td></tr><tr><td>Validation Recall</td><td>▇▇▃█▇▂▇▁▅██▇█</td></tr><tr><td>Validation Specificity</td><td>██▁▇▇█▇▆▅█▇██</td></tr></table><br/></div><div class=\"wandb-col\"><h3>Run summary:</h3><br/><table class=\"wandb\"><tr><td>AUC</td><td>1</td></tr><tr><td>Epoch</td><td>13</td></tr><tr><td>Fold</td><td>2</td></tr><tr><td>Train Accuracy</td><td>0.9969</td></tr><tr><td>Train Loss</td><td>0.00998</td></tr><tr><td>Validation AUC</td><td>1.0</td></tr><tr><td>Validation Accuracy</td><td>0.99945</td></tr><tr><td>Validation F1</td><td>0.99945</td></tr><tr><td>Validation Loss</td><td>0.00116</td></tr><tr><td>Validation Precision</td><td>0.99945</td></tr><tr><td>Validation Recall</td><td>0.99945</td></tr><tr><td>Validation Specificity</td><td>1</td></tr></table><br/></div></div>"
      ]
     },
     "metadata": {},
     "output_type": "display_data"
    },
    {
     "data": {
      "text/plain": [
       "<IPython.core.display.HTML object>"
      ],
      "text/html": [
       " View run <strong style=\"color:#cdcd00\">AlexNet_trial_6_fold_2</strong> at: <a href='https://wandb.ai/amitr5-tel-aviv-university/AlexNet-deep_van_gogh-aug-26.3.2025/runs/erm3z6jb' target=\"_blank\">https://wandb.ai/amitr5-tel-aviv-university/AlexNet-deep_van_gogh-aug-26.3.2025/runs/erm3z6jb</a><br> View project at: <a href='https://wandb.ai/amitr5-tel-aviv-university/AlexNet-deep_van_gogh-aug-26.3.2025' target=\"_blank\">https://wandb.ai/amitr5-tel-aviv-university/AlexNet-deep_van_gogh-aug-26.3.2025</a><br>Synced 5 W&B file(s), 0 media file(s), 0 artifact file(s) and 0 other file(s)"
      ]
     },
     "metadata": {},
     "output_type": "display_data"
    },
    {
     "data": {
      "text/plain": [
       "<IPython.core.display.HTML object>"
      ],
      "text/html": [
       "Find logs at: <code>.\\wandb\\run-20250326_182840-erm3z6jb\\logs</code>"
      ]
     },
     "metadata": {},
     "output_type": "display_data"
    },
    {
     "data": {
      "text/plain": [
       "<IPython.core.display.HTML object>"
      ],
      "text/html": [
       "Tracking run with wandb version 0.19.1"
      ]
     },
     "metadata": {},
     "output_type": "display_data"
    },
    {
     "data": {
      "text/plain": [
       "<IPython.core.display.HTML object>"
      ],
      "text/html": [
       "Run data is saved locally in <code>D:\\Users\\kanatcohen\\PycharmProjects\\deep_van_gogh\\wandb\\run-20250326_183010-ow11cru2</code>"
      ]
     },
     "metadata": {},
     "output_type": "display_data"
    },
    {
     "data": {
      "text/plain": [
       "<IPython.core.display.HTML object>"
      ],
      "text/html": [
       "Syncing run <strong><a href='https://wandb.ai/amitr5-tel-aviv-university/AlexNet-deep_van_gogh-aug-26.3.2025/runs/ow11cru2' target=\"_blank\">AlexNet_trial_6_fold_3</a></strong> to <a href='https://wandb.ai/amitr5-tel-aviv-university/AlexNet-deep_van_gogh-aug-26.3.2025' target=\"_blank\">Weights & Biases</a> (<a href='https://wandb.me/developer-guide' target=\"_blank\">docs</a>)<br>"
      ]
     },
     "metadata": {},
     "output_type": "display_data"
    },
    {
     "data": {
      "text/plain": [
       "<IPython.core.display.HTML object>"
      ],
      "text/html": [
       " View project at <a href='https://wandb.ai/amitr5-tel-aviv-university/AlexNet-deep_van_gogh-aug-26.3.2025' target=\"_blank\">https://wandb.ai/amitr5-tel-aviv-university/AlexNet-deep_van_gogh-aug-26.3.2025</a>"
      ]
     },
     "metadata": {},
     "output_type": "display_data"
    },
    {
     "data": {
      "text/plain": [
       "<IPython.core.display.HTML object>"
      ],
      "text/html": [
       " View run at <a href='https://wandb.ai/amitr5-tel-aviv-university/AlexNet-deep_van_gogh-aug-26.3.2025/runs/ow11cru2' target=\"_blank\">https://wandb.ai/amitr5-tel-aviv-university/AlexNet-deep_van_gogh-aug-26.3.2025/runs/ow11cru2</a>"
      ]
     },
     "metadata": {},
     "output_type": "display_data"
    },
    {
     "data": {
      "text/plain": [
       "<IPython.core.display.HTML object>"
      ],
      "text/html": []
     },
     "metadata": {},
     "output_type": "display_data"
    },
    {
     "data": {
      "text/plain": [
       "<IPython.core.display.HTML object>"
      ],
      "text/html": [
       "<br>    <style><br>        .wandb-row {<br>            display: flex;<br>            flex-direction: row;<br>            flex-wrap: wrap;<br>            justify-content: flex-start;<br>            width: 100%;<br>        }<br>        .wandb-col {<br>            display: flex;<br>            flex-direction: column;<br>            flex-basis: 100%;<br>            flex: 1;<br>            padding: 10px;<br>        }<br>    </style><br><div class=\"wandb-row\"><div class=\"wandb-col\"><h3>Run history:</h3><br/><table class=\"wandb\"><tr><td>AUC</td><td>▁</td></tr><tr><td>Epoch</td><td>▁▁▂▂▃▃▄▄▅▅▅▆▆▇▇██</td></tr><tr><td>Fold</td><td>▁</td></tr><tr><td>Train Accuracy</td><td>▁▇▂▁▆▃▆▅█████████</td></tr><tr><td>Train Loss</td><td>█▂▇▇▃▆▂▃▁▁▁▁▁▁▁▁▁</td></tr><tr><td>Validation AUC</td><td>████▁▇███████████</td></tr><tr><td>Validation Accuracy</td><td>█▆▅█▁▆███████████</td></tr><tr><td>Validation F1</td><td>█▆▅█▁▆███████████</td></tr><tr><td>Validation Loss</td><td>▂▃▄▁█▂▁▁▁▁▁▁▁▁▁▁▁</td></tr><tr><td>Validation Precision</td><td>█▆▅█▁▆███████████</td></tr><tr><td>Validation Recall</td><td>█▆▅█▁▆███████████</td></tr><tr><td>Validation Specificity</td><td>████▁████████████</td></tr></table><br/></div><div class=\"wandb-col\"><h3>Run summary:</h3><br/><table class=\"wandb\"><tr><td>AUC</td><td>1</td></tr><tr><td>Epoch</td><td>17</td></tr><tr><td>Fold</td><td>3</td></tr><tr><td>Train Accuracy</td><td>1</td></tr><tr><td>Train Loss</td><td>0.0</td></tr><tr><td>Validation AUC</td><td>1</td></tr><tr><td>Validation Accuracy</td><td>0.99973</td></tr><tr><td>Validation F1</td><td>0.99973</td></tr><tr><td>Validation Loss</td><td>0.00077</td></tr><tr><td>Validation Precision</td><td>0.99973</td></tr><tr><td>Validation Recall</td><td>0.99973</td></tr><tr><td>Validation Specificity</td><td>0.99971</td></tr></table><br/></div></div>"
      ]
     },
     "metadata": {},
     "output_type": "display_data"
    },
    {
     "data": {
      "text/plain": [
       "<IPython.core.display.HTML object>"
      ],
      "text/html": [
       " View run <strong style=\"color:#cdcd00\">AlexNet_trial_6_fold_3</strong> at: <a href='https://wandb.ai/amitr5-tel-aviv-university/AlexNet-deep_van_gogh-aug-26.3.2025/runs/ow11cru2' target=\"_blank\">https://wandb.ai/amitr5-tel-aviv-university/AlexNet-deep_van_gogh-aug-26.3.2025/runs/ow11cru2</a><br> View project at: <a href='https://wandb.ai/amitr5-tel-aviv-university/AlexNet-deep_van_gogh-aug-26.3.2025' target=\"_blank\">https://wandb.ai/amitr5-tel-aviv-university/AlexNet-deep_van_gogh-aug-26.3.2025</a><br>Synced 5 W&B file(s), 0 media file(s), 0 artifact file(s) and 0 other file(s)"
      ]
     },
     "metadata": {},
     "output_type": "display_data"
    },
    {
     "data": {
      "text/plain": [
       "<IPython.core.display.HTML object>"
      ],
      "text/html": [
       "Find logs at: <code>.\\wandb\\run-20250326_183010-ow11cru2\\logs</code>"
      ]
     },
     "metadata": {},
     "output_type": "display_data"
    },
    {
     "data": {
      "text/plain": [
       "<IPython.core.display.HTML object>"
      ],
      "text/html": [
       "Tracking run with wandb version 0.19.1"
      ]
     },
     "metadata": {},
     "output_type": "display_data"
    },
    {
     "data": {
      "text/plain": [
       "<IPython.core.display.HTML object>"
      ],
      "text/html": [
       "Run data is saved locally in <code>D:\\Users\\kanatcohen\\PycharmProjects\\deep_van_gogh\\wandb\\run-20250326_183208-e8kj92ms</code>"
      ]
     },
     "metadata": {},
     "output_type": "display_data"
    },
    {
     "data": {
      "text/plain": [
       "<IPython.core.display.HTML object>"
      ],
      "text/html": [
       "Syncing run <strong><a href='https://wandb.ai/amitr5-tel-aviv-university/AlexNet-deep_van_gogh-aug-26.3.2025/runs/e8kj92ms' target=\"_blank\">AlexNet_trial_6</a></strong> to <a href='https://wandb.ai/amitr5-tel-aviv-university/AlexNet-deep_van_gogh-aug-26.3.2025' target=\"_blank\">Weights & Biases</a> (<a href='https://wandb.me/developer-guide' target=\"_blank\">docs</a>)<br>"
      ]
     },
     "metadata": {},
     "output_type": "display_data"
    },
    {
     "data": {
      "text/plain": [
       "<IPython.core.display.HTML object>"
      ],
      "text/html": [
       " View project at <a href='https://wandb.ai/amitr5-tel-aviv-university/AlexNet-deep_van_gogh-aug-26.3.2025' target=\"_blank\">https://wandb.ai/amitr5-tel-aviv-university/AlexNet-deep_van_gogh-aug-26.3.2025</a>"
      ]
     },
     "metadata": {},
     "output_type": "display_data"
    },
    {
     "data": {
      "text/plain": [
       "<IPython.core.display.HTML object>"
      ],
      "text/html": [
       " View run at <a href='https://wandb.ai/amitr5-tel-aviv-university/AlexNet-deep_van_gogh-aug-26.3.2025/runs/e8kj92ms' target=\"_blank\">https://wandb.ai/amitr5-tel-aviv-university/AlexNet-deep_van_gogh-aug-26.3.2025/runs/e8kj92ms</a>"
      ]
     },
     "metadata": {},
     "output_type": "display_data"
    },
    {
     "data": {
      "text/plain": [
       "<IPython.core.display.HTML object>"
      ],
      "text/html": []
     },
     "metadata": {},
     "output_type": "display_data"
    },
    {
     "data": {
      "text/plain": [
       "<IPython.core.display.HTML object>"
      ],
      "text/html": [
       "<br>    <style><br>        .wandb-row {<br>            display: flex;<br>            flex-direction: row;<br>            flex-wrap: wrap;<br>            justify-content: flex-start;<br>            width: 100%;<br>        }<br>        .wandb-col {<br>            display: flex;<br>            flex-direction: column;<br>            flex-basis: 100%;<br>            flex: 1;<br>            padding: 10px;<br>        }<br>    </style><br><div class=\"wandb-row\"><div class=\"wandb-col\"><h3>Run history:</h3><br/><table class=\"wandb\"><tr><td>Mean AUC</td><td>▁</td></tr><tr><td>Trial</td><td>▁</td></tr></table><br/></div><div class=\"wandb-col\"><h3>Run summary:</h3><br/><table class=\"wandb\"><tr><td>Mean AUC</td><td>1</td></tr><tr><td>Trial</td><td>6</td></tr></table><br/></div></div>"
      ]
     },
     "metadata": {},
     "output_type": "display_data"
    },
    {
     "data": {
      "text/plain": [
       "<IPython.core.display.HTML object>"
      ],
      "text/html": [
       " View run <strong style=\"color:#cdcd00\">AlexNet_trial_6</strong> at: <a href='https://wandb.ai/amitr5-tel-aviv-university/AlexNet-deep_van_gogh-aug-26.3.2025/runs/e8kj92ms' target=\"_blank\">https://wandb.ai/amitr5-tel-aviv-university/AlexNet-deep_van_gogh-aug-26.3.2025/runs/e8kj92ms</a><br> View project at: <a href='https://wandb.ai/amitr5-tel-aviv-university/AlexNet-deep_van_gogh-aug-26.3.2025' target=\"_blank\">https://wandb.ai/amitr5-tel-aviv-university/AlexNet-deep_van_gogh-aug-26.3.2025</a><br>Synced 5 W&B file(s), 0 media file(s), 0 artifact file(s) and 0 other file(s)"
      ]
     },
     "metadata": {},
     "output_type": "display_data"
    },
    {
     "data": {
      "text/plain": [
       "<IPython.core.display.HTML object>"
      ],
      "text/html": [
       "Find logs at: <code>.\\wandb\\run-20250326_183208-e8kj92ms\\logs</code>"
      ]
     },
     "metadata": {},
     "output_type": "display_data"
    },
    {
     "name": "stderr",
     "output_type": "stream",
     "text": [
      "[I 2025-03-26 18:32:13,635] Trial 5 finished with value: 1.0 and parameters: {'learning_rate': 0.0002185735557987237, 'weight_decay': 1.714874397807728e-06, 'epochs': 19, 'num_layers_finetune': 2}. Best is trial 2 with value: 1.0.\n"
     ]
    },
    {
     "data": {
      "text/plain": [
       "<IPython.core.display.HTML object>"
      ],
      "text/html": [
       "Tracking run with wandb version 0.19.1"
      ]
     },
     "metadata": {},
     "output_type": "display_data"
    },
    {
     "data": {
      "text/plain": [
       "<IPython.core.display.HTML object>"
      ],
      "text/html": [
       "Run data is saved locally in <code>D:\\Users\\kanatcohen\\PycharmProjects\\deep_van_gogh\\wandb\\run-20250326_183213-bsogqblr</code>"
      ]
     },
     "metadata": {},
     "output_type": "display_data"
    },
    {
     "data": {
      "text/plain": [
       "<IPython.core.display.HTML object>"
      ],
      "text/html": [
       "Syncing run <strong><a href='https://wandb.ai/amitr5-tel-aviv-university/AlexNet-deep_van_gogh-aug-26.3.2025/runs/bsogqblr' target=\"_blank\">AlexNet_trial_7_fold_0</a></strong> to <a href='https://wandb.ai/amitr5-tel-aviv-university/AlexNet-deep_van_gogh-aug-26.3.2025' target=\"_blank\">Weights & Biases</a> (<a href='https://wandb.me/developer-guide' target=\"_blank\">docs</a>)<br>"
      ]
     },
     "metadata": {},
     "output_type": "display_data"
    },
    {
     "data": {
      "text/plain": [
       "<IPython.core.display.HTML object>"
      ],
      "text/html": [
       " View project at <a href='https://wandb.ai/amitr5-tel-aviv-university/AlexNet-deep_van_gogh-aug-26.3.2025' target=\"_blank\">https://wandb.ai/amitr5-tel-aviv-university/AlexNet-deep_van_gogh-aug-26.3.2025</a>"
      ]
     },
     "metadata": {},
     "output_type": "display_data"
    },
    {
     "data": {
      "text/plain": [
       "<IPython.core.display.HTML object>"
      ],
      "text/html": [
       " View run at <a href='https://wandb.ai/amitr5-tel-aviv-university/AlexNet-deep_van_gogh-aug-26.3.2025/runs/bsogqblr' target=\"_blank\">https://wandb.ai/amitr5-tel-aviv-university/AlexNet-deep_van_gogh-aug-26.3.2025/runs/bsogqblr</a>"
      ]
     },
     "metadata": {},
     "output_type": "display_data"
    },
    {
     "data": {
      "text/plain": [
       "<IPython.core.display.HTML object>"
      ],
      "text/html": []
     },
     "metadata": {},
     "output_type": "display_data"
    },
    {
     "data": {
      "text/plain": [
       "<IPython.core.display.HTML object>"
      ],
      "text/html": [
       "<br>    <style><br>        .wandb-row {<br>            display: flex;<br>            flex-direction: row;<br>            flex-wrap: wrap;<br>            justify-content: flex-start;<br>            width: 100%;<br>        }<br>        .wandb-col {<br>            display: flex;<br>            flex-direction: column;<br>            flex-basis: 100%;<br>            flex: 1;<br>            padding: 10px;<br>        }<br>    </style><br><div class=\"wandb-row\"><div class=\"wandb-col\"><h3>Run history:</h3><br/><table class=\"wandb\"><tr><td>AUC</td><td>▁</td></tr><tr><td>Epoch</td><td>▁▂▃▃▄▅▆▆▇█</td></tr><tr><td>Fold</td><td>▁</td></tr><tr><td>Train Accuracy</td><td>▁█████████</td></tr><tr><td>Train Loss</td><td>█▁▁▁▁▁▁▁▁▁</td></tr><tr><td>Validation AUC</td><td>▁▁▁▁▁▁▁▁▁▁</td></tr><tr><td>Validation Accuracy</td><td>███▁██████</td></tr><tr><td>Validation F1</td><td>███▁██████</td></tr><tr><td>Validation Loss</td><td>▁▁▁█▁▁▁▁▁▁</td></tr><tr><td>Validation Precision</td><td>███▁██████</td></tr><tr><td>Validation Recall</td><td>███▁██████</td></tr><tr><td>Validation Specificity</td><td>███▁██████</td></tr></table><br/></div><div class=\"wandb-col\"><h3>Run summary:</h3><br/><table class=\"wandb\"><tr><td>AUC</td><td>1</td></tr><tr><td>Epoch</td><td>10</td></tr><tr><td>Fold</td><td>0</td></tr><tr><td>Train Accuracy</td><td>1</td></tr><tr><td>Train Loss</td><td>0.0</td></tr><tr><td>Validation AUC</td><td>1</td></tr><tr><td>Validation Accuracy</td><td>1</td></tr><tr><td>Validation F1</td><td>1</td></tr><tr><td>Validation Loss</td><td>0.0</td></tr><tr><td>Validation Precision</td><td>1</td></tr><tr><td>Validation Recall</td><td>1</td></tr><tr><td>Validation Specificity</td><td>1</td></tr></table><br/></div></div>"
      ]
     },
     "metadata": {},
     "output_type": "display_data"
    },
    {
     "data": {
      "text/plain": [
       "<IPython.core.display.HTML object>"
      ],
      "text/html": [
       " View run <strong style=\"color:#cdcd00\">AlexNet_trial_7_fold_0</strong> at: <a href='https://wandb.ai/amitr5-tel-aviv-university/AlexNet-deep_van_gogh-aug-26.3.2025/runs/bsogqblr' target=\"_blank\">https://wandb.ai/amitr5-tel-aviv-university/AlexNet-deep_van_gogh-aug-26.3.2025/runs/bsogqblr</a><br> View project at: <a href='https://wandb.ai/amitr5-tel-aviv-university/AlexNet-deep_van_gogh-aug-26.3.2025' target=\"_blank\">https://wandb.ai/amitr5-tel-aviv-university/AlexNet-deep_van_gogh-aug-26.3.2025</a><br>Synced 5 W&B file(s), 0 media file(s), 0 artifact file(s) and 0 other file(s)"
      ]
     },
     "metadata": {},
     "output_type": "display_data"
    },
    {
     "data": {
      "text/plain": [
       "<IPython.core.display.HTML object>"
      ],
      "text/html": [
       "Find logs at: <code>.\\wandb\\run-20250326_183213-bsogqblr\\logs</code>"
      ]
     },
     "metadata": {},
     "output_type": "display_data"
    },
    {
     "data": {
      "text/plain": [
       "<IPython.core.display.HTML object>"
      ],
      "text/html": [
       "Tracking run with wandb version 0.19.1"
      ]
     },
     "metadata": {},
     "output_type": "display_data"
    },
    {
     "data": {
      "text/plain": [
       "<IPython.core.display.HTML object>"
      ],
      "text/html": [
       "Run data is saved locally in <code>D:\\Users\\kanatcohen\\PycharmProjects\\deep_van_gogh\\wandb\\run-20250326_183326-bfolclhs</code>"
      ]
     },
     "metadata": {},
     "output_type": "display_data"
    },
    {
     "data": {
      "text/plain": [
       "<IPython.core.display.HTML object>"
      ],
      "text/html": [
       "Syncing run <strong><a href='https://wandb.ai/amitr5-tel-aviv-university/AlexNet-deep_van_gogh-aug-26.3.2025/runs/bfolclhs' target=\"_blank\">AlexNet_trial_7_fold_1</a></strong> to <a href='https://wandb.ai/amitr5-tel-aviv-university/AlexNet-deep_van_gogh-aug-26.3.2025' target=\"_blank\">Weights & Biases</a> (<a href='https://wandb.me/developer-guide' target=\"_blank\">docs</a>)<br>"
      ]
     },
     "metadata": {},
     "output_type": "display_data"
    },
    {
     "data": {
      "text/plain": [
       "<IPython.core.display.HTML object>"
      ],
      "text/html": [
       " View project at <a href='https://wandb.ai/amitr5-tel-aviv-university/AlexNet-deep_van_gogh-aug-26.3.2025' target=\"_blank\">https://wandb.ai/amitr5-tel-aviv-university/AlexNet-deep_van_gogh-aug-26.3.2025</a>"
      ]
     },
     "metadata": {},
     "output_type": "display_data"
    },
    {
     "data": {
      "text/plain": [
       "<IPython.core.display.HTML object>"
      ],
      "text/html": [
       " View run at <a href='https://wandb.ai/amitr5-tel-aviv-university/AlexNet-deep_van_gogh-aug-26.3.2025/runs/bfolclhs' target=\"_blank\">https://wandb.ai/amitr5-tel-aviv-university/AlexNet-deep_van_gogh-aug-26.3.2025/runs/bfolclhs</a>"
      ]
     },
     "metadata": {},
     "output_type": "display_data"
    },
    {
     "data": {
      "text/plain": [
       "<IPython.core.display.HTML object>"
      ],
      "text/html": []
     },
     "metadata": {},
     "output_type": "display_data"
    },
    {
     "data": {
      "text/plain": [
       "<IPython.core.display.HTML object>"
      ],
      "text/html": [
       "<br>    <style><br>        .wandb-row {<br>            display: flex;<br>            flex-direction: row;<br>            flex-wrap: wrap;<br>            justify-content: flex-start;<br>            width: 100%;<br>        }<br>        .wandb-col {<br>            display: flex;<br>            flex-direction: column;<br>            flex-basis: 100%;<br>            flex: 1;<br>            padding: 10px;<br>        }<br>    </style><br><div class=\"wandb-row\"><div class=\"wandb-col\"><h3>Run history:</h3><br/><table class=\"wandb\"><tr><td>AUC</td><td>▁</td></tr><tr><td>Epoch</td><td>▁▂▃▃▄▅▆▆▇█</td></tr><tr><td>Fold</td><td>▁</td></tr><tr><td>Train Accuracy</td><td>▁█▆▇▇▇████</td></tr><tr><td>Train Loss</td><td>█▁▄▃▁▁▁▁▁▁</td></tr><tr><td>Validation AUC</td><td>▁▁▁▁▁▁▁▁▁▁</td></tr><tr><td>Validation Accuracy</td><td>▁█████████</td></tr><tr><td>Validation F1</td><td>▁█████████</td></tr><tr><td>Validation Loss</td><td>█▁▁▁▂▁▁▁▁▁</td></tr><tr><td>Validation Precision</td><td>▁█████████</td></tr><tr><td>Validation Recall</td><td>▁█████████</td></tr><tr><td>Validation Specificity</td><td>▁█████████</td></tr></table><br/></div><div class=\"wandb-col\"><h3>Run summary:</h3><br/><table class=\"wandb\"><tr><td>AUC</td><td>1</td></tr><tr><td>Epoch</td><td>10</td></tr><tr><td>Fold</td><td>1</td></tr><tr><td>Train Accuracy</td><td>1</td></tr><tr><td>Train Loss</td><td>7e-05</td></tr><tr><td>Validation AUC</td><td>1</td></tr><tr><td>Validation Accuracy</td><td>1</td></tr><tr><td>Validation F1</td><td>1</td></tr><tr><td>Validation Loss</td><td>1e-05</td></tr><tr><td>Validation Precision</td><td>1</td></tr><tr><td>Validation Recall</td><td>1</td></tr><tr><td>Validation Specificity</td><td>1</td></tr></table><br/></div></div>"
      ]
     },
     "metadata": {},
     "output_type": "display_data"
    },
    {
     "data": {
      "text/plain": [
       "<IPython.core.display.HTML object>"
      ],
      "text/html": [
       " View run <strong style=\"color:#cdcd00\">AlexNet_trial_7_fold_1</strong> at: <a href='https://wandb.ai/amitr5-tel-aviv-university/AlexNet-deep_van_gogh-aug-26.3.2025/runs/bfolclhs' target=\"_blank\">https://wandb.ai/amitr5-tel-aviv-university/AlexNet-deep_van_gogh-aug-26.3.2025/runs/bfolclhs</a><br> View project at: <a href='https://wandb.ai/amitr5-tel-aviv-university/AlexNet-deep_van_gogh-aug-26.3.2025' target=\"_blank\">https://wandb.ai/amitr5-tel-aviv-university/AlexNet-deep_van_gogh-aug-26.3.2025</a><br>Synced 5 W&B file(s), 0 media file(s), 0 artifact file(s) and 0 other file(s)"
      ]
     },
     "metadata": {},
     "output_type": "display_data"
    },
    {
     "data": {
      "text/plain": [
       "<IPython.core.display.HTML object>"
      ],
      "text/html": [
       "Find logs at: <code>.\\wandb\\run-20250326_183326-bfolclhs\\logs</code>"
      ]
     },
     "metadata": {},
     "output_type": "display_data"
    },
    {
     "data": {
      "text/plain": [
       "<IPython.core.display.HTML object>"
      ],
      "text/html": [
       "Tracking run with wandb version 0.19.1"
      ]
     },
     "metadata": {},
     "output_type": "display_data"
    },
    {
     "data": {
      "text/plain": [
       "<IPython.core.display.HTML object>"
      ],
      "text/html": [
       "Run data is saved locally in <code>D:\\Users\\kanatcohen\\PycharmProjects\\deep_van_gogh\\wandb\\run-20250326_183440-72mlf07l</code>"
      ]
     },
     "metadata": {},
     "output_type": "display_data"
    },
    {
     "data": {
      "text/plain": [
       "<IPython.core.display.HTML object>"
      ],
      "text/html": [
       "Syncing run <strong><a href='https://wandb.ai/amitr5-tel-aviv-university/AlexNet-deep_van_gogh-aug-26.3.2025/runs/72mlf07l' target=\"_blank\">AlexNet_trial_7_fold_2</a></strong> to <a href='https://wandb.ai/amitr5-tel-aviv-university/AlexNet-deep_van_gogh-aug-26.3.2025' target=\"_blank\">Weights & Biases</a> (<a href='https://wandb.me/developer-guide' target=\"_blank\">docs</a>)<br>"
      ]
     },
     "metadata": {},
     "output_type": "display_data"
    },
    {
     "data": {
      "text/plain": [
       "<IPython.core.display.HTML object>"
      ],
      "text/html": [
       " View project at <a href='https://wandb.ai/amitr5-tel-aviv-university/AlexNet-deep_van_gogh-aug-26.3.2025' target=\"_blank\">https://wandb.ai/amitr5-tel-aviv-university/AlexNet-deep_van_gogh-aug-26.3.2025</a>"
      ]
     },
     "metadata": {},
     "output_type": "display_data"
    },
    {
     "data": {
      "text/plain": [
       "<IPython.core.display.HTML object>"
      ],
      "text/html": [
       " View run at <a href='https://wandb.ai/amitr5-tel-aviv-university/AlexNet-deep_van_gogh-aug-26.3.2025/runs/72mlf07l' target=\"_blank\">https://wandb.ai/amitr5-tel-aviv-university/AlexNet-deep_van_gogh-aug-26.3.2025/runs/72mlf07l</a>"
      ]
     },
     "metadata": {},
     "output_type": "display_data"
    },
    {
     "data": {
      "text/plain": [
       "<IPython.core.display.HTML object>"
      ],
      "text/html": []
     },
     "metadata": {},
     "output_type": "display_data"
    },
    {
     "data": {
      "text/plain": [
       "<IPython.core.display.HTML object>"
      ],
      "text/html": [
       "<br>    <style><br>        .wandb-row {<br>            display: flex;<br>            flex-direction: row;<br>            flex-wrap: wrap;<br>            justify-content: flex-start;<br>            width: 100%;<br>        }<br>        .wandb-col {<br>            display: flex;<br>            flex-direction: column;<br>            flex-basis: 100%;<br>            flex: 1;<br>            padding: 10px;<br>        }<br>    </style><br><div class=\"wandb-row\"><div class=\"wandb-col\"><h3>Run history:</h3><br/><table class=\"wandb\"><tr><td>AUC</td><td>▁</td></tr><tr><td>Epoch</td><td>▁▂▃▃▄▅▆▆▇█</td></tr><tr><td>Fold</td><td>▁</td></tr><tr><td>Train Accuracy</td><td>▄████▄▁███</td></tr><tr><td>Train Loss</td><td>▅▁▁▁▁█▇▂▁▁</td></tr><tr><td>Validation AUC</td><td>▁▁▁▁▁▁▁▁▁▁</td></tr><tr><td>Validation Accuracy</td><td>█████▇▁███</td></tr><tr><td>Validation F1</td><td>█████▇▁███</td></tr><tr><td>Validation Loss</td><td>▁▁▁▁▁▃█▁▁▁</td></tr><tr><td>Validation Precision</td><td>█████▇▁███</td></tr><tr><td>Validation Recall</td><td>█████▇▁███</td></tr><tr><td>Validation Specificity</td><td>█████▇▁███</td></tr></table><br/></div><div class=\"wandb-col\"><h3>Run summary:</h3><br/><table class=\"wandb\"><tr><td>AUC</td><td>1</td></tr><tr><td>Epoch</td><td>10</td></tr><tr><td>Fold</td><td>2</td></tr><tr><td>Train Accuracy</td><td>1</td></tr><tr><td>Train Loss</td><td>1e-05</td></tr><tr><td>Validation AUC</td><td>1</td></tr><tr><td>Validation Accuracy</td><td>1</td></tr><tr><td>Validation F1</td><td>1</td></tr><tr><td>Validation Loss</td><td>1e-05</td></tr><tr><td>Validation Precision</td><td>1</td></tr><tr><td>Validation Recall</td><td>1</td></tr><tr><td>Validation Specificity</td><td>1</td></tr></table><br/></div></div>"
      ]
     },
     "metadata": {},
     "output_type": "display_data"
    },
    {
     "data": {
      "text/plain": [
       "<IPython.core.display.HTML object>"
      ],
      "text/html": [
       " View run <strong style=\"color:#cdcd00\">AlexNet_trial_7_fold_2</strong> at: <a href='https://wandb.ai/amitr5-tel-aviv-university/AlexNet-deep_van_gogh-aug-26.3.2025/runs/72mlf07l' target=\"_blank\">https://wandb.ai/amitr5-tel-aviv-university/AlexNet-deep_van_gogh-aug-26.3.2025/runs/72mlf07l</a><br> View project at: <a href='https://wandb.ai/amitr5-tel-aviv-university/AlexNet-deep_van_gogh-aug-26.3.2025' target=\"_blank\">https://wandb.ai/amitr5-tel-aviv-university/AlexNet-deep_van_gogh-aug-26.3.2025</a><br>Synced 5 W&B file(s), 0 media file(s), 0 artifact file(s) and 0 other file(s)"
      ]
     },
     "metadata": {},
     "output_type": "display_data"
    },
    {
     "data": {
      "text/plain": [
       "<IPython.core.display.HTML object>"
      ],
      "text/html": [
       "Find logs at: <code>.\\wandb\\run-20250326_183440-72mlf07l\\logs</code>"
      ]
     },
     "metadata": {},
     "output_type": "display_data"
    },
    {
     "data": {
      "text/plain": [
       "<IPython.core.display.HTML object>"
      ],
      "text/html": [
       "Tracking run with wandb version 0.19.1"
      ]
     },
     "metadata": {},
     "output_type": "display_data"
    },
    {
     "data": {
      "text/plain": [
       "<IPython.core.display.HTML object>"
      ],
      "text/html": [
       "Run data is saved locally in <code>D:\\Users\\kanatcohen\\PycharmProjects\\deep_van_gogh\\wandb\\run-20250326_183554-j9tgn3kj</code>"
      ]
     },
     "metadata": {},
     "output_type": "display_data"
    },
    {
     "data": {
      "text/plain": [
       "<IPython.core.display.HTML object>"
      ],
      "text/html": [
       "Syncing run <strong><a href='https://wandb.ai/amitr5-tel-aviv-university/AlexNet-deep_van_gogh-aug-26.3.2025/runs/j9tgn3kj' target=\"_blank\">AlexNet_trial_7_fold_3</a></strong> to <a href='https://wandb.ai/amitr5-tel-aviv-university/AlexNet-deep_van_gogh-aug-26.3.2025' target=\"_blank\">Weights & Biases</a> (<a href='https://wandb.me/developer-guide' target=\"_blank\">docs</a>)<br>"
      ]
     },
     "metadata": {},
     "output_type": "display_data"
    },
    {
     "data": {
      "text/plain": [
       "<IPython.core.display.HTML object>"
      ],
      "text/html": [
       " View project at <a href='https://wandb.ai/amitr5-tel-aviv-university/AlexNet-deep_van_gogh-aug-26.3.2025' target=\"_blank\">https://wandb.ai/amitr5-tel-aviv-university/AlexNet-deep_van_gogh-aug-26.3.2025</a>"
      ]
     },
     "metadata": {},
     "output_type": "display_data"
    },
    {
     "data": {
      "text/plain": [
       "<IPython.core.display.HTML object>"
      ],
      "text/html": [
       " View run at <a href='https://wandb.ai/amitr5-tel-aviv-university/AlexNet-deep_van_gogh-aug-26.3.2025/runs/j9tgn3kj' target=\"_blank\">https://wandb.ai/amitr5-tel-aviv-university/AlexNet-deep_van_gogh-aug-26.3.2025/runs/j9tgn3kj</a>"
      ]
     },
     "metadata": {},
     "output_type": "display_data"
    },
    {
     "data": {
      "text/plain": [
       "<IPython.core.display.HTML object>"
      ],
      "text/html": []
     },
     "metadata": {},
     "output_type": "display_data"
    },
    {
     "data": {
      "text/plain": [
       "<IPython.core.display.HTML object>"
      ],
      "text/html": [
       "<br>    <style><br>        .wandb-row {<br>            display: flex;<br>            flex-direction: row;<br>            flex-wrap: wrap;<br>            justify-content: flex-start;<br>            width: 100%;<br>        }<br>        .wandb-col {<br>            display: flex;<br>            flex-direction: column;<br>            flex-basis: 100%;<br>            flex: 1;<br>            padding: 10px;<br>        }<br>    </style><br><div class=\"wandb-row\"><div class=\"wandb-col\"><h3>Run history:</h3><br/><table class=\"wandb\"><tr><td>AUC</td><td>▁</td></tr><tr><td>Epoch</td><td>▁▂▃▃▄▅▆▆▇█</td></tr><tr><td>Fold</td><td>▁</td></tr><tr><td>Train Accuracy</td><td>▁█████▇███</td></tr><tr><td>Train Loss</td><td>█▁▁▁▁▁▂▁▁▁</td></tr><tr><td>Validation AUC</td><td>██████▁███</td></tr><tr><td>Validation Accuracy</td><td>█████▁▅███</td></tr><tr><td>Validation F1</td><td>█████▁▅███</td></tr><tr><td>Validation Loss</td><td>▁▁▁▁▁▆█▂▁▁</td></tr><tr><td>Validation Precision</td><td>█████▁▄███</td></tr><tr><td>Validation Recall</td><td>█████▁▅███</td></tr><tr><td>Validation Specificity</td><td>▁▁▁▁▁▁▁▁▁▁</td></tr></table><br/></div><div class=\"wandb-col\"><h3>Run summary:</h3><br/><table class=\"wandb\"><tr><td>AUC</td><td>1</td></tr><tr><td>Epoch</td><td>10</td></tr><tr><td>Fold</td><td>3</td></tr><tr><td>Train Accuracy</td><td>1</td></tr><tr><td>Train Loss</td><td>2e-05</td></tr><tr><td>Validation AUC</td><td>1</td></tr><tr><td>Validation Accuracy</td><td>1</td></tr><tr><td>Validation F1</td><td>1</td></tr><tr><td>Validation Loss</td><td>1e-05</td></tr><tr><td>Validation Precision</td><td>1</td></tr><tr><td>Validation Recall</td><td>1</td></tr><tr><td>Validation Specificity</td><td>1</td></tr></table><br/></div></div>"
      ]
     },
     "metadata": {},
     "output_type": "display_data"
    },
    {
     "data": {
      "text/plain": [
       "<IPython.core.display.HTML object>"
      ],
      "text/html": [
       " View run <strong style=\"color:#cdcd00\">AlexNet_trial_7_fold_3</strong> at: <a href='https://wandb.ai/amitr5-tel-aviv-university/AlexNet-deep_van_gogh-aug-26.3.2025/runs/j9tgn3kj' target=\"_blank\">https://wandb.ai/amitr5-tel-aviv-university/AlexNet-deep_van_gogh-aug-26.3.2025/runs/j9tgn3kj</a><br> View project at: <a href='https://wandb.ai/amitr5-tel-aviv-university/AlexNet-deep_van_gogh-aug-26.3.2025' target=\"_blank\">https://wandb.ai/amitr5-tel-aviv-university/AlexNet-deep_van_gogh-aug-26.3.2025</a><br>Synced 5 W&B file(s), 0 media file(s), 0 artifact file(s) and 0 other file(s)"
      ]
     },
     "metadata": {},
     "output_type": "display_data"
    },
    {
     "data": {
      "text/plain": [
       "<IPython.core.display.HTML object>"
      ],
      "text/html": [
       "Find logs at: <code>.\\wandb\\run-20250326_183554-j9tgn3kj\\logs</code>"
      ]
     },
     "metadata": {},
     "output_type": "display_data"
    },
    {
     "data": {
      "text/plain": [
       "<IPython.core.display.HTML object>"
      ],
      "text/html": [
       "Tracking run with wandb version 0.19.1"
      ]
     },
     "metadata": {},
     "output_type": "display_data"
    },
    {
     "data": {
      "text/plain": [
       "<IPython.core.display.HTML object>"
      ],
      "text/html": [
       "Run data is saved locally in <code>D:\\Users\\kanatcohen\\PycharmProjects\\deep_van_gogh\\wandb\\run-20250326_183712-alqw2fgu</code>"
      ]
     },
     "metadata": {},
     "output_type": "display_data"
    },
    {
     "data": {
      "text/plain": [
       "<IPython.core.display.HTML object>"
      ],
      "text/html": [
       "Syncing run <strong><a href='https://wandb.ai/amitr5-tel-aviv-university/AlexNet-deep_van_gogh-aug-26.3.2025/runs/alqw2fgu' target=\"_blank\">AlexNet_trial_7</a></strong> to <a href='https://wandb.ai/amitr5-tel-aviv-university/AlexNet-deep_van_gogh-aug-26.3.2025' target=\"_blank\">Weights & Biases</a> (<a href='https://wandb.me/developer-guide' target=\"_blank\">docs</a>)<br>"
      ]
     },
     "metadata": {},
     "output_type": "display_data"
    },
    {
     "data": {
      "text/plain": [
       "<IPython.core.display.HTML object>"
      ],
      "text/html": [
       " View project at <a href='https://wandb.ai/amitr5-tel-aviv-university/AlexNet-deep_van_gogh-aug-26.3.2025' target=\"_blank\">https://wandb.ai/amitr5-tel-aviv-university/AlexNet-deep_van_gogh-aug-26.3.2025</a>"
      ]
     },
     "metadata": {},
     "output_type": "display_data"
    },
    {
     "data": {
      "text/plain": [
       "<IPython.core.display.HTML object>"
      ],
      "text/html": [
       " View run at <a href='https://wandb.ai/amitr5-tel-aviv-university/AlexNet-deep_van_gogh-aug-26.3.2025/runs/alqw2fgu' target=\"_blank\">https://wandb.ai/amitr5-tel-aviv-university/AlexNet-deep_van_gogh-aug-26.3.2025/runs/alqw2fgu</a>"
      ]
     },
     "metadata": {},
     "output_type": "display_data"
    },
    {
     "data": {
      "text/plain": [
       "<IPython.core.display.HTML object>"
      ],
      "text/html": []
     },
     "metadata": {},
     "output_type": "display_data"
    },
    {
     "data": {
      "text/plain": [
       "<IPython.core.display.HTML object>"
      ],
      "text/html": [
       "<br>    <style><br>        .wandb-row {<br>            display: flex;<br>            flex-direction: row;<br>            flex-wrap: wrap;<br>            justify-content: flex-start;<br>            width: 100%;<br>        }<br>        .wandb-col {<br>            display: flex;<br>            flex-direction: column;<br>            flex-basis: 100%;<br>            flex: 1;<br>            padding: 10px;<br>        }<br>    </style><br><div class=\"wandb-row\"><div class=\"wandb-col\"><h3>Run history:</h3><br/><table class=\"wandb\"><tr><td>Mean AUC</td><td>▁</td></tr><tr><td>Trial</td><td>▁</td></tr></table><br/></div><div class=\"wandb-col\"><h3>Run summary:</h3><br/><table class=\"wandb\"><tr><td>Mean AUC</td><td>1</td></tr><tr><td>Trial</td><td>7</td></tr></table><br/></div></div>"
      ]
     },
     "metadata": {},
     "output_type": "display_data"
    },
    {
     "data": {
      "text/plain": [
       "<IPython.core.display.HTML object>"
      ],
      "text/html": [
       " View run <strong style=\"color:#cdcd00\">AlexNet_trial_7</strong> at: <a href='https://wandb.ai/amitr5-tel-aviv-university/AlexNet-deep_van_gogh-aug-26.3.2025/runs/alqw2fgu' target=\"_blank\">https://wandb.ai/amitr5-tel-aviv-university/AlexNet-deep_van_gogh-aug-26.3.2025/runs/alqw2fgu</a><br> View project at: <a href='https://wandb.ai/amitr5-tel-aviv-university/AlexNet-deep_van_gogh-aug-26.3.2025' target=\"_blank\">https://wandb.ai/amitr5-tel-aviv-university/AlexNet-deep_van_gogh-aug-26.3.2025</a><br>Synced 5 W&B file(s), 0 media file(s), 0 artifact file(s) and 0 other file(s)"
      ]
     },
     "metadata": {},
     "output_type": "display_data"
    },
    {
     "data": {
      "text/plain": [
       "<IPython.core.display.HTML object>"
      ],
      "text/html": [
       "Find logs at: <code>.\\wandb\\run-20250326_183712-alqw2fgu\\logs</code>"
      ]
     },
     "metadata": {},
     "output_type": "display_data"
    },
    {
     "name": "stderr",
     "output_type": "stream",
     "text": [
      "[I 2025-03-26 18:37:16,986] Trial 6 finished with value: 1.0 and parameters: {'learning_rate': 5.657117506870449e-05, 'weight_decay': 6.562994618768353e-05, 'epochs': 29, 'num_layers_finetune': 0}. Best is trial 2 with value: 1.0.\n"
     ]
    },
    {
     "data": {
      "text/plain": [
       "<IPython.core.display.HTML object>"
      ],
      "text/html": [
       "Tracking run with wandb version 0.19.1"
      ]
     },
     "metadata": {},
     "output_type": "display_data"
    },
    {
     "data": {
      "text/plain": [
       "<IPython.core.display.HTML object>"
      ],
      "text/html": [
       "Run data is saved locally in <code>D:\\Users\\kanatcohen\\PycharmProjects\\deep_van_gogh\\wandb\\run-20250326_183716-x1hrr6ko</code>"
      ]
     },
     "metadata": {},
     "output_type": "display_data"
    },
    {
     "data": {
      "text/plain": [
       "<IPython.core.display.HTML object>"
      ],
      "text/html": [
       "Syncing run <strong><a href='https://wandb.ai/amitr5-tel-aviv-university/AlexNet-deep_van_gogh-aug-26.3.2025/runs/x1hrr6ko' target=\"_blank\">AlexNet_trial_8_fold_0</a></strong> to <a href='https://wandb.ai/amitr5-tel-aviv-university/AlexNet-deep_van_gogh-aug-26.3.2025' target=\"_blank\">Weights & Biases</a> (<a href='https://wandb.me/developer-guide' target=\"_blank\">docs</a>)<br>"
      ]
     },
     "metadata": {},
     "output_type": "display_data"
    },
    {
     "data": {
      "text/plain": [
       "<IPython.core.display.HTML object>"
      ],
      "text/html": [
       " View project at <a href='https://wandb.ai/amitr5-tel-aviv-university/AlexNet-deep_van_gogh-aug-26.3.2025' target=\"_blank\">https://wandb.ai/amitr5-tel-aviv-university/AlexNet-deep_van_gogh-aug-26.3.2025</a>"
      ]
     },
     "metadata": {},
     "output_type": "display_data"
    },
    {
     "data": {
      "text/plain": [
       "<IPython.core.display.HTML object>"
      ],
      "text/html": [
       " View run at <a href='https://wandb.ai/amitr5-tel-aviv-university/AlexNet-deep_van_gogh-aug-26.3.2025/runs/x1hrr6ko' target=\"_blank\">https://wandb.ai/amitr5-tel-aviv-university/AlexNet-deep_van_gogh-aug-26.3.2025/runs/x1hrr6ko</a>"
      ]
     },
     "metadata": {},
     "output_type": "display_data"
    },
    {
     "data": {
      "text/plain": [
       "<IPython.core.display.HTML object>"
      ],
      "text/html": []
     },
     "metadata": {},
     "output_type": "display_data"
    },
    {
     "data": {
      "text/plain": [
       "<IPython.core.display.HTML object>"
      ],
      "text/html": [
       "<br>    <style><br>        .wandb-row {<br>            display: flex;<br>            flex-direction: row;<br>            flex-wrap: wrap;<br>            justify-content: flex-start;<br>            width: 100%;<br>        }<br>        .wandb-col {<br>            display: flex;<br>            flex-direction: column;<br>            flex-basis: 100%;<br>            flex: 1;<br>            padding: 10px;<br>        }<br>    </style><br><div class=\"wandb-row\"><div class=\"wandb-col\"><h3>Run history:</h3><br/><table class=\"wandb\"><tr><td>AUC</td><td>▁</td></tr><tr><td>Epoch</td><td>▁▂▃▃▄▅▆▆▇█</td></tr><tr><td>Fold</td><td>▁</td></tr><tr><td>Train Accuracy</td><td>▁█████████</td></tr><tr><td>Train Loss</td><td>█▁▁▁▁▁▁▁▁▁</td></tr><tr><td>Validation AUC</td><td>▁▁▁▁▁▁▁▁▁▁</td></tr><tr><td>Validation Accuracy</td><td>▁▁▁▁█▁█▁██</td></tr><tr><td>Validation F1</td><td>▁▁▁▁█▁█▁██</td></tr><tr><td>Validation Loss</td><td>█▄▄█▁▃▁█▂▂</td></tr><tr><td>Validation Precision</td><td>▁▁▁▁█▁█▁██</td></tr><tr><td>Validation Recall</td><td>▁▁▁▁█▁█▁██</td></tr><tr><td>Validation Specificity</td><td>▁▁▁▁█▁█▁██</td></tr></table><br/></div><div class=\"wandb-col\"><h3>Run summary:</h3><br/><table class=\"wandb\"><tr><td>AUC</td><td>1</td></tr><tr><td>Epoch</td><td>10</td></tr><tr><td>Fold</td><td>0</td></tr><tr><td>Train Accuracy</td><td>1</td></tr><tr><td>Train Loss</td><td>0.0</td></tr><tr><td>Validation AUC</td><td>1</td></tr><tr><td>Validation Accuracy</td><td>1</td></tr><tr><td>Validation F1</td><td>1</td></tr><tr><td>Validation Loss</td><td>0.00014</td></tr><tr><td>Validation Precision</td><td>1</td></tr><tr><td>Validation Recall</td><td>1</td></tr><tr><td>Validation Specificity</td><td>1</td></tr></table><br/></div></div>"
      ]
     },
     "metadata": {},
     "output_type": "display_data"
    },
    {
     "data": {
      "text/plain": [
       "<IPython.core.display.HTML object>"
      ],
      "text/html": [
       " View run <strong style=\"color:#cdcd00\">AlexNet_trial_8_fold_0</strong> at: <a href='https://wandb.ai/amitr5-tel-aviv-university/AlexNet-deep_van_gogh-aug-26.3.2025/runs/x1hrr6ko' target=\"_blank\">https://wandb.ai/amitr5-tel-aviv-university/AlexNet-deep_van_gogh-aug-26.3.2025/runs/x1hrr6ko</a><br> View project at: <a href='https://wandb.ai/amitr5-tel-aviv-university/AlexNet-deep_van_gogh-aug-26.3.2025' target=\"_blank\">https://wandb.ai/amitr5-tel-aviv-university/AlexNet-deep_van_gogh-aug-26.3.2025</a><br>Synced 5 W&B file(s), 0 media file(s), 0 artifact file(s) and 0 other file(s)"
      ]
     },
     "metadata": {},
     "output_type": "display_data"
    },
    {
     "data": {
      "text/plain": [
       "<IPython.core.display.HTML object>"
      ],
      "text/html": [
       "Find logs at: <code>.\\wandb\\run-20250326_183716-x1hrr6ko\\logs</code>"
      ]
     },
     "metadata": {},
     "output_type": "display_data"
    },
    {
     "data": {
      "text/plain": [
       "<IPython.core.display.HTML object>"
      ],
      "text/html": [
       "Tracking run with wandb version 0.19.1"
      ]
     },
     "metadata": {},
     "output_type": "display_data"
    },
    {
     "data": {
      "text/plain": [
       "<IPython.core.display.HTML object>"
      ],
      "text/html": [
       "Run data is saved locally in <code>D:\\Users\\kanatcohen\\PycharmProjects\\deep_van_gogh\\wandb\\run-20250326_183830-fw03gsfr</code>"
      ]
     },
     "metadata": {},
     "output_type": "display_data"
    },
    {
     "data": {
      "text/plain": [
       "<IPython.core.display.HTML object>"
      ],
      "text/html": [
       "Syncing run <strong><a href='https://wandb.ai/amitr5-tel-aviv-university/AlexNet-deep_van_gogh-aug-26.3.2025/runs/fw03gsfr' target=\"_blank\">AlexNet_trial_8_fold_1</a></strong> to <a href='https://wandb.ai/amitr5-tel-aviv-university/AlexNet-deep_van_gogh-aug-26.3.2025' target=\"_blank\">Weights & Biases</a> (<a href='https://wandb.me/developer-guide' target=\"_blank\">docs</a>)<br>"
      ]
     },
     "metadata": {},
     "output_type": "display_data"
    },
    {
     "data": {
      "text/plain": [
       "<IPython.core.display.HTML object>"
      ],
      "text/html": [
       " View project at <a href='https://wandb.ai/amitr5-tel-aviv-university/AlexNet-deep_van_gogh-aug-26.3.2025' target=\"_blank\">https://wandb.ai/amitr5-tel-aviv-university/AlexNet-deep_van_gogh-aug-26.3.2025</a>"
      ]
     },
     "metadata": {},
     "output_type": "display_data"
    },
    {
     "data": {
      "text/plain": [
       "<IPython.core.display.HTML object>"
      ],
      "text/html": [
       " View run at <a href='https://wandb.ai/amitr5-tel-aviv-university/AlexNet-deep_van_gogh-aug-26.3.2025/runs/fw03gsfr' target=\"_blank\">https://wandb.ai/amitr5-tel-aviv-university/AlexNet-deep_van_gogh-aug-26.3.2025/runs/fw03gsfr</a>"
      ]
     },
     "metadata": {},
     "output_type": "display_data"
    },
    {
     "data": {
      "text/plain": [
       "<IPython.core.display.HTML object>"
      ],
      "text/html": []
     },
     "metadata": {},
     "output_type": "display_data"
    },
    {
     "data": {
      "text/plain": [
       "<IPython.core.display.HTML object>"
      ],
      "text/html": [
       "<br>    <style><br>        .wandb-row {<br>            display: flex;<br>            flex-direction: row;<br>            flex-wrap: wrap;<br>            justify-content: flex-start;<br>            width: 100%;<br>        }<br>        .wandb-col {<br>            display: flex;<br>            flex-direction: column;<br>            flex-basis: 100%;<br>            flex: 1;<br>            padding: 10px;<br>        }<br>    </style><br><div class=\"wandb-row\"><div class=\"wandb-col\"><h3>Run history:</h3><br/><table class=\"wandb\"><tr><td>AUC</td><td>▁</td></tr><tr><td>Epoch</td><td>▁▂▃▃▄▅▆▆▇█</td></tr><tr><td>Fold</td><td>▁</td></tr><tr><td>Train Accuracy</td><td>▁█████████</td></tr><tr><td>Train Loss</td><td>█▁▁▁▁▁▁▁▁▁</td></tr><tr><td>Validation AUC</td><td>▁▁▁▁▁▁▁▁▁▁</td></tr><tr><td>Validation Accuracy</td><td>▁▁▁▁▁▁▁▁▁▁</td></tr><tr><td>Validation F1</td><td>▁▁▁▁▁▁▁▁▁▁</td></tr><tr><td>Validation Loss</td><td>█▂▂▁▁▁▁▁▁▁</td></tr><tr><td>Validation Precision</td><td>▁▁▁▁▁▁▁▁▁▁</td></tr><tr><td>Validation Recall</td><td>▁▁▁▁▁▁▁▁▁▁</td></tr><tr><td>Validation Specificity</td><td>▁▁▁▁▁▁▁▁▁▁</td></tr></table><br/></div><div class=\"wandb-col\"><h3>Run summary:</h3><br/><table class=\"wandb\"><tr><td>AUC</td><td>1</td></tr><tr><td>Epoch</td><td>10</td></tr><tr><td>Fold</td><td>1</td></tr><tr><td>Train Accuracy</td><td>1</td></tr><tr><td>Train Loss</td><td>1e-05</td></tr><tr><td>Validation AUC</td><td>1</td></tr><tr><td>Validation Accuracy</td><td>1</td></tr><tr><td>Validation F1</td><td>1</td></tr><tr><td>Validation Loss</td><td>0.0</td></tr><tr><td>Validation Precision</td><td>1</td></tr><tr><td>Validation Recall</td><td>1</td></tr><tr><td>Validation Specificity</td><td>1</td></tr></table><br/></div></div>"
      ]
     },
     "metadata": {},
     "output_type": "display_data"
    },
    {
     "data": {
      "text/plain": [
       "<IPython.core.display.HTML object>"
      ],
      "text/html": [
       " View run <strong style=\"color:#cdcd00\">AlexNet_trial_8_fold_1</strong> at: <a href='https://wandb.ai/amitr5-tel-aviv-university/AlexNet-deep_van_gogh-aug-26.3.2025/runs/fw03gsfr' target=\"_blank\">https://wandb.ai/amitr5-tel-aviv-university/AlexNet-deep_van_gogh-aug-26.3.2025/runs/fw03gsfr</a><br> View project at: <a href='https://wandb.ai/amitr5-tel-aviv-university/AlexNet-deep_van_gogh-aug-26.3.2025' target=\"_blank\">https://wandb.ai/amitr5-tel-aviv-university/AlexNet-deep_van_gogh-aug-26.3.2025</a><br>Synced 5 W&B file(s), 0 media file(s), 0 artifact file(s) and 0 other file(s)"
      ]
     },
     "metadata": {},
     "output_type": "display_data"
    },
    {
     "data": {
      "text/plain": [
       "<IPython.core.display.HTML object>"
      ],
      "text/html": [
       "Find logs at: <code>.\\wandb\\run-20250326_183830-fw03gsfr\\logs</code>"
      ]
     },
     "metadata": {},
     "output_type": "display_data"
    },
    {
     "data": {
      "text/plain": [
       "<IPython.core.display.HTML object>"
      ],
      "text/html": [
       "Tracking run with wandb version 0.19.1"
      ]
     },
     "metadata": {},
     "output_type": "display_data"
    },
    {
     "data": {
      "text/plain": [
       "<IPython.core.display.HTML object>"
      ],
      "text/html": [
       "Run data is saved locally in <code>D:\\Users\\kanatcohen\\PycharmProjects\\deep_van_gogh\\wandb\\run-20250326_183942-coua1rp1</code>"
      ]
     },
     "metadata": {},
     "output_type": "display_data"
    },
    {
     "data": {
      "text/plain": [
       "<IPython.core.display.HTML object>"
      ],
      "text/html": [
       "Syncing run <strong><a href='https://wandb.ai/amitr5-tel-aviv-university/AlexNet-deep_van_gogh-aug-26.3.2025/runs/coua1rp1' target=\"_blank\">AlexNet_trial_8_fold_2</a></strong> to <a href='https://wandb.ai/amitr5-tel-aviv-university/AlexNet-deep_van_gogh-aug-26.3.2025' target=\"_blank\">Weights & Biases</a> (<a href='https://wandb.me/developer-guide' target=\"_blank\">docs</a>)<br>"
      ]
     },
     "metadata": {},
     "output_type": "display_data"
    },
    {
     "data": {
      "text/plain": [
       "<IPython.core.display.HTML object>"
      ],
      "text/html": [
       " View project at <a href='https://wandb.ai/amitr5-tel-aviv-university/AlexNet-deep_van_gogh-aug-26.3.2025' target=\"_blank\">https://wandb.ai/amitr5-tel-aviv-university/AlexNet-deep_van_gogh-aug-26.3.2025</a>"
      ]
     },
     "metadata": {},
     "output_type": "display_data"
    },
    {
     "data": {
      "text/plain": [
       "<IPython.core.display.HTML object>"
      ],
      "text/html": [
       " View run at <a href='https://wandb.ai/amitr5-tel-aviv-university/AlexNet-deep_van_gogh-aug-26.3.2025/runs/coua1rp1' target=\"_blank\">https://wandb.ai/amitr5-tel-aviv-university/AlexNet-deep_van_gogh-aug-26.3.2025/runs/coua1rp1</a>"
      ]
     },
     "metadata": {},
     "output_type": "display_data"
    },
    {
     "data": {
      "text/plain": [
       "<IPython.core.display.HTML object>"
      ],
      "text/html": []
     },
     "metadata": {},
     "output_type": "display_data"
    },
    {
     "data": {
      "text/plain": [
       "<IPython.core.display.HTML object>"
      ],
      "text/html": [
       "<br>    <style><br>        .wandb-row {<br>            display: flex;<br>            flex-direction: row;<br>            flex-wrap: wrap;<br>            justify-content: flex-start;<br>            width: 100%;<br>        }<br>        .wandb-col {<br>            display: flex;<br>            flex-direction: column;<br>            flex-basis: 100%;<br>            flex: 1;<br>            padding: 10px;<br>        }<br>    </style><br><div class=\"wandb-row\"><div class=\"wandb-col\"><h3>Run history:</h3><br/><table class=\"wandb\"><tr><td>AUC</td><td>▁</td></tr><tr><td>Epoch</td><td>▁▂▃▃▄▅▆▆▇█</td></tr><tr><td>Fold</td><td>▁</td></tr><tr><td>Train Accuracy</td><td>▁█████████</td></tr><tr><td>Train Loss</td><td>█▁▁▁▁▁▁▁▁▁</td></tr><tr><td>Validation AUC</td><td>▁▁▁▁▁▁▁▁▁▁</td></tr><tr><td>Validation Accuracy</td><td>▁▁▁▁▁▁▁▁▁▁</td></tr><tr><td>Validation F1</td><td>▁▁▁▁▁▁▁▁▁▁</td></tr><tr><td>Validation Loss</td><td>█▃▁▂▂▂▂▂▁▁</td></tr><tr><td>Validation Precision</td><td>▁▁▁▁▁▁▁▁▁▁</td></tr><tr><td>Validation Recall</td><td>▁▁▁▁▁▁▁▁▁▁</td></tr><tr><td>Validation Specificity</td><td>▁▁▁▁▁▁▁▁▁▁</td></tr></table><br/></div><div class=\"wandb-col\"><h3>Run summary:</h3><br/><table class=\"wandb\"><tr><td>AUC</td><td>1</td></tr><tr><td>Epoch</td><td>10</td></tr><tr><td>Fold</td><td>2</td></tr><tr><td>Train Accuracy</td><td>1</td></tr><tr><td>Train Loss</td><td>0.0</td></tr><tr><td>Validation AUC</td><td>1</td></tr><tr><td>Validation Accuracy</td><td>1</td></tr><tr><td>Validation F1</td><td>1</td></tr><tr><td>Validation Loss</td><td>0.0</td></tr><tr><td>Validation Precision</td><td>1</td></tr><tr><td>Validation Recall</td><td>1</td></tr><tr><td>Validation Specificity</td><td>1</td></tr></table><br/></div></div>"
      ]
     },
     "metadata": {},
     "output_type": "display_data"
    },
    {
     "data": {
      "text/plain": [
       "<IPython.core.display.HTML object>"
      ],
      "text/html": [
       " View run <strong style=\"color:#cdcd00\">AlexNet_trial_8_fold_2</strong> at: <a href='https://wandb.ai/amitr5-tel-aviv-university/AlexNet-deep_van_gogh-aug-26.3.2025/runs/coua1rp1' target=\"_blank\">https://wandb.ai/amitr5-tel-aviv-university/AlexNet-deep_van_gogh-aug-26.3.2025/runs/coua1rp1</a><br> View project at: <a href='https://wandb.ai/amitr5-tel-aviv-university/AlexNet-deep_van_gogh-aug-26.3.2025' target=\"_blank\">https://wandb.ai/amitr5-tel-aviv-university/AlexNet-deep_van_gogh-aug-26.3.2025</a><br>Synced 5 W&B file(s), 0 media file(s), 0 artifact file(s) and 0 other file(s)"
      ]
     },
     "metadata": {},
     "output_type": "display_data"
    },
    {
     "data": {
      "text/plain": [
       "<IPython.core.display.HTML object>"
      ],
      "text/html": [
       "Find logs at: <code>.\\wandb\\run-20250326_183942-coua1rp1\\logs</code>"
      ]
     },
     "metadata": {},
     "output_type": "display_data"
    },
    {
     "data": {
      "text/plain": [
       "<IPython.core.display.HTML object>"
      ],
      "text/html": [
       "Tracking run with wandb version 0.19.1"
      ]
     },
     "metadata": {},
     "output_type": "display_data"
    },
    {
     "data": {
      "text/plain": [
       "<IPython.core.display.HTML object>"
      ],
      "text/html": [
       "Run data is saved locally in <code>D:\\Users\\kanatcohen\\PycharmProjects\\deep_van_gogh\\wandb\\run-20250326_184054-64h545zx</code>"
      ]
     },
     "metadata": {},
     "output_type": "display_data"
    },
    {
     "data": {
      "text/plain": [
       "<IPython.core.display.HTML object>"
      ],
      "text/html": [
       "Syncing run <strong><a href='https://wandb.ai/amitr5-tel-aviv-university/AlexNet-deep_van_gogh-aug-26.3.2025/runs/64h545zx' target=\"_blank\">AlexNet_trial_8_fold_3</a></strong> to <a href='https://wandb.ai/amitr5-tel-aviv-university/AlexNet-deep_van_gogh-aug-26.3.2025' target=\"_blank\">Weights & Biases</a> (<a href='https://wandb.me/developer-guide' target=\"_blank\">docs</a>)<br>"
      ]
     },
     "metadata": {},
     "output_type": "display_data"
    },
    {
     "data": {
      "text/plain": [
       "<IPython.core.display.HTML object>"
      ],
      "text/html": [
       " View project at <a href='https://wandb.ai/amitr5-tel-aviv-university/AlexNet-deep_van_gogh-aug-26.3.2025' target=\"_blank\">https://wandb.ai/amitr5-tel-aviv-university/AlexNet-deep_van_gogh-aug-26.3.2025</a>"
      ]
     },
     "metadata": {},
     "output_type": "display_data"
    },
    {
     "data": {
      "text/plain": [
       "<IPython.core.display.HTML object>"
      ],
      "text/html": [
       " View run at <a href='https://wandb.ai/amitr5-tel-aviv-university/AlexNet-deep_van_gogh-aug-26.3.2025/runs/64h545zx' target=\"_blank\">https://wandb.ai/amitr5-tel-aviv-university/AlexNet-deep_van_gogh-aug-26.3.2025/runs/64h545zx</a>"
      ]
     },
     "metadata": {},
     "output_type": "display_data"
    },
    {
     "data": {
      "text/plain": [
       "<IPython.core.display.HTML object>"
      ],
      "text/html": []
     },
     "metadata": {},
     "output_type": "display_data"
    },
    {
     "data": {
      "text/plain": [
       "<IPython.core.display.HTML object>"
      ],
      "text/html": [
       "<br>    <style><br>        .wandb-row {<br>            display: flex;<br>            flex-direction: row;<br>            flex-wrap: wrap;<br>            justify-content: flex-start;<br>            width: 100%;<br>        }<br>        .wandb-col {<br>            display: flex;<br>            flex-direction: column;<br>            flex-basis: 100%;<br>            flex: 1;<br>            padding: 10px;<br>        }<br>    </style><br><div class=\"wandb-row\"><div class=\"wandb-col\"><h3>Run history:</h3><br/><table class=\"wandb\"><tr><td>AUC</td><td>▁</td></tr><tr><td>Epoch</td><td>▁▂▃▃▄▅▆▆▇█</td></tr><tr><td>Fold</td><td>▁</td></tr><tr><td>Train Accuracy</td><td>▁█████████</td></tr><tr><td>Train Loss</td><td>█▁▁▁▁▁▁▁▁▁</td></tr><tr><td>Validation AUC</td><td>▁▁▁▁▁▁▁▁▁▁</td></tr><tr><td>Validation Accuracy</td><td>▁▁▁▁▁▁▁▁▁▁</td></tr><tr><td>Validation F1</td><td>▁▁▁▁▁▁▁▁▁▁</td></tr><tr><td>Validation Loss</td><td>█▃▂▁▁▁▁▁▁▁</td></tr><tr><td>Validation Precision</td><td>▁▁▁▁▁▁▁▁▁▁</td></tr><tr><td>Validation Recall</td><td>▁▁▁▁▁▁▁▁▁▁</td></tr><tr><td>Validation Specificity</td><td>▁▁▁▁▁▁▁▁▁▁</td></tr></table><br/></div><div class=\"wandb-col\"><h3>Run summary:</h3><br/><table class=\"wandb\"><tr><td>AUC</td><td>1</td></tr><tr><td>Epoch</td><td>10</td></tr><tr><td>Fold</td><td>3</td></tr><tr><td>Train Accuracy</td><td>1</td></tr><tr><td>Train Loss</td><td>0.0</td></tr><tr><td>Validation AUC</td><td>1</td></tr><tr><td>Validation Accuracy</td><td>1</td></tr><tr><td>Validation F1</td><td>1</td></tr><tr><td>Validation Loss</td><td>0.0</td></tr><tr><td>Validation Precision</td><td>1</td></tr><tr><td>Validation Recall</td><td>1</td></tr><tr><td>Validation Specificity</td><td>1</td></tr></table><br/></div></div>"
      ]
     },
     "metadata": {},
     "output_type": "display_data"
    },
    {
     "data": {
      "text/plain": [
       "<IPython.core.display.HTML object>"
      ],
      "text/html": [
       " View run <strong style=\"color:#cdcd00\">AlexNet_trial_8_fold_3</strong> at: <a href='https://wandb.ai/amitr5-tel-aviv-university/AlexNet-deep_van_gogh-aug-26.3.2025/runs/64h545zx' target=\"_blank\">https://wandb.ai/amitr5-tel-aviv-university/AlexNet-deep_van_gogh-aug-26.3.2025/runs/64h545zx</a><br> View project at: <a href='https://wandb.ai/amitr5-tel-aviv-university/AlexNet-deep_van_gogh-aug-26.3.2025' target=\"_blank\">https://wandb.ai/amitr5-tel-aviv-university/AlexNet-deep_van_gogh-aug-26.3.2025</a><br>Synced 5 W&B file(s), 0 media file(s), 0 artifact file(s) and 0 other file(s)"
      ]
     },
     "metadata": {},
     "output_type": "display_data"
    },
    {
     "data": {
      "text/plain": [
       "<IPython.core.display.HTML object>"
      ],
      "text/html": [
       "Find logs at: <code>.\\wandb\\run-20250326_184054-64h545zx\\logs</code>"
      ]
     },
     "metadata": {},
     "output_type": "display_data"
    },
    {
     "data": {
      "text/plain": [
       "<IPython.core.display.HTML object>"
      ],
      "text/html": [
       "Tracking run with wandb version 0.19.1"
      ]
     },
     "metadata": {},
     "output_type": "display_data"
    },
    {
     "data": {
      "text/plain": [
       "<IPython.core.display.HTML object>"
      ],
      "text/html": [
       "Run data is saved locally in <code>D:\\Users\\kanatcohen\\PycharmProjects\\deep_van_gogh\\wandb\\run-20250326_184208-ndc844wq</code>"
      ]
     },
     "metadata": {},
     "output_type": "display_data"
    },
    {
     "data": {
      "text/plain": [
       "<IPython.core.display.HTML object>"
      ],
      "text/html": [
       "Syncing run <strong><a href='https://wandb.ai/amitr5-tel-aviv-university/AlexNet-deep_van_gogh-aug-26.3.2025/runs/ndc844wq' target=\"_blank\">AlexNet_trial_8</a></strong> to <a href='https://wandb.ai/amitr5-tel-aviv-university/AlexNet-deep_van_gogh-aug-26.3.2025' target=\"_blank\">Weights & Biases</a> (<a href='https://wandb.me/developer-guide' target=\"_blank\">docs</a>)<br>"
      ]
     },
     "metadata": {},
     "output_type": "display_data"
    },
    {
     "data": {
      "text/plain": [
       "<IPython.core.display.HTML object>"
      ],
      "text/html": [
       " View project at <a href='https://wandb.ai/amitr5-tel-aviv-university/AlexNet-deep_van_gogh-aug-26.3.2025' target=\"_blank\">https://wandb.ai/amitr5-tel-aviv-university/AlexNet-deep_van_gogh-aug-26.3.2025</a>"
      ]
     },
     "metadata": {},
     "output_type": "display_data"
    },
    {
     "data": {
      "text/plain": [
       "<IPython.core.display.HTML object>"
      ],
      "text/html": [
       " View run at <a href='https://wandb.ai/amitr5-tel-aviv-university/AlexNet-deep_van_gogh-aug-26.3.2025/runs/ndc844wq' target=\"_blank\">https://wandb.ai/amitr5-tel-aviv-university/AlexNet-deep_van_gogh-aug-26.3.2025/runs/ndc844wq</a>"
      ]
     },
     "metadata": {},
     "output_type": "display_data"
    },
    {
     "data": {
      "text/plain": [
       "<IPython.core.display.HTML object>"
      ],
      "text/html": []
     },
     "metadata": {},
     "output_type": "display_data"
    },
    {
     "data": {
      "text/plain": [
       "<IPython.core.display.HTML object>"
      ],
      "text/html": [
       "<br>    <style><br>        .wandb-row {<br>            display: flex;<br>            flex-direction: row;<br>            flex-wrap: wrap;<br>            justify-content: flex-start;<br>            width: 100%;<br>        }<br>        .wandb-col {<br>            display: flex;<br>            flex-direction: column;<br>            flex-basis: 100%;<br>            flex: 1;<br>            padding: 10px;<br>        }<br>    </style><br><div class=\"wandb-row\"><div class=\"wandb-col\"><h3>Run history:</h3><br/><table class=\"wandb\"><tr><td>Mean AUC</td><td>▁</td></tr><tr><td>Trial</td><td>▁</td></tr></table><br/></div><div class=\"wandb-col\"><h3>Run summary:</h3><br/><table class=\"wandb\"><tr><td>Mean AUC</td><td>1</td></tr><tr><td>Trial</td><td>8</td></tr></table><br/></div></div>"
      ]
     },
     "metadata": {},
     "output_type": "display_data"
    },
    {
     "data": {
      "text/plain": [
       "<IPython.core.display.HTML object>"
      ],
      "text/html": [
       " View run <strong style=\"color:#cdcd00\">AlexNet_trial_8</strong> at: <a href='https://wandb.ai/amitr5-tel-aviv-university/AlexNet-deep_van_gogh-aug-26.3.2025/runs/ndc844wq' target=\"_blank\">https://wandb.ai/amitr5-tel-aviv-university/AlexNet-deep_van_gogh-aug-26.3.2025/runs/ndc844wq</a><br> View project at: <a href='https://wandb.ai/amitr5-tel-aviv-university/AlexNet-deep_van_gogh-aug-26.3.2025' target=\"_blank\">https://wandb.ai/amitr5-tel-aviv-university/AlexNet-deep_van_gogh-aug-26.3.2025</a><br>Synced 5 W&B file(s), 0 media file(s), 0 artifact file(s) and 0 other file(s)"
      ]
     },
     "metadata": {},
     "output_type": "display_data"
    },
    {
     "data": {
      "text/plain": [
       "<IPython.core.display.HTML object>"
      ],
      "text/html": [
       "Find logs at: <code>.\\wandb\\run-20250326_184208-ndc844wq\\logs</code>"
      ]
     },
     "metadata": {},
     "output_type": "display_data"
    },
    {
     "name": "stderr",
     "output_type": "stream",
     "text": [
      "[I 2025-03-26 18:42:11,583] Trial 7 finished with value: 1.0 and parameters: {'learning_rate': 2.0510105024048772e-05, 'weight_decay': 2.618281921968243e-05, 'epochs': 21, 'num_layers_finetune': 3}. Best is trial 2 with value: 1.0.\n"
     ]
    },
    {
     "data": {
      "text/plain": [
       "<IPython.core.display.HTML object>"
      ],
      "text/html": [
       "Tracking run with wandb version 0.19.1"
      ]
     },
     "metadata": {},
     "output_type": "display_data"
    },
    {
     "data": {
      "text/plain": [
       "<IPython.core.display.HTML object>"
      ],
      "text/html": [
       "Run data is saved locally in <code>D:\\Users\\kanatcohen\\PycharmProjects\\deep_van_gogh\\wandb\\run-20250326_184211-hmr4xig0</code>"
      ]
     },
     "metadata": {},
     "output_type": "display_data"
    },
    {
     "data": {
      "text/plain": [
       "<IPython.core.display.HTML object>"
      ],
      "text/html": [
       "Syncing run <strong><a href='https://wandb.ai/amitr5-tel-aviv-university/AlexNet-deep_van_gogh-aug-26.3.2025/runs/hmr4xig0' target=\"_blank\">AlexNet_trial_9_fold_0</a></strong> to <a href='https://wandb.ai/amitr5-tel-aviv-university/AlexNet-deep_van_gogh-aug-26.3.2025' target=\"_blank\">Weights & Biases</a> (<a href='https://wandb.me/developer-guide' target=\"_blank\">docs</a>)<br>"
      ]
     },
     "metadata": {},
     "output_type": "display_data"
    },
    {
     "data": {
      "text/plain": [
       "<IPython.core.display.HTML object>"
      ],
      "text/html": [
       " View project at <a href='https://wandb.ai/amitr5-tel-aviv-university/AlexNet-deep_van_gogh-aug-26.3.2025' target=\"_blank\">https://wandb.ai/amitr5-tel-aviv-university/AlexNet-deep_van_gogh-aug-26.3.2025</a>"
      ]
     },
     "metadata": {},
     "output_type": "display_data"
    },
    {
     "data": {
      "text/plain": [
       "<IPython.core.display.HTML object>"
      ],
      "text/html": [
       " View run at <a href='https://wandb.ai/amitr5-tel-aviv-university/AlexNet-deep_van_gogh-aug-26.3.2025/runs/hmr4xig0' target=\"_blank\">https://wandb.ai/amitr5-tel-aviv-university/AlexNet-deep_van_gogh-aug-26.3.2025/runs/hmr4xig0</a>"
      ]
     },
     "metadata": {},
     "output_type": "display_data"
    },
    {
     "data": {
      "text/plain": [
       "<IPython.core.display.HTML object>"
      ],
      "text/html": []
     },
     "metadata": {},
     "output_type": "display_data"
    },
    {
     "data": {
      "text/plain": [
       "<IPython.core.display.HTML object>"
      ],
      "text/html": [
       "<br>    <style><br>        .wandb-row {<br>            display: flex;<br>            flex-direction: row;<br>            flex-wrap: wrap;<br>            justify-content: flex-start;<br>            width: 100%;<br>        }<br>        .wandb-col {<br>            display: flex;<br>            flex-direction: column;<br>            flex-basis: 100%;<br>            flex: 1;<br>            padding: 10px;<br>        }<br>    </style><br><div class=\"wandb-row\"><div class=\"wandb-col\"><h3>Run history:</h3><br/><table class=\"wandb\"><tr><td>AUC</td><td>▁</td></tr><tr><td>Epoch</td><td>▁▂▃▃▄▅▆▆▇█</td></tr><tr><td>Fold</td><td>▁</td></tr><tr><td>Train Accuracy</td><td>▁████▆██▇▇</td></tr><tr><td>Train Loss</td><td>█▁▁▁▁█▂▂▅▂</td></tr><tr><td>Validation AUC</td><td>▁▁▁▁▁▁▁▁▁▁</td></tr><tr><td>Validation Accuracy</td><td>██████▁█▅█</td></tr><tr><td>Validation F1</td><td>██████▁█▅█</td></tr><tr><td>Validation Loss</td><td>▁▁▁▁▁▁█▁▃▁</td></tr><tr><td>Validation Precision</td><td>██████▁█▅█</td></tr><tr><td>Validation Recall</td><td>██████▁█▅█</td></tr><tr><td>Validation Specificity</td><td>████████▁█</td></tr></table><br/></div><div class=\"wandb-col\"><h3>Run summary:</h3><br/><table class=\"wandb\"><tr><td>AUC</td><td>1</td></tr><tr><td>Epoch</td><td>10</td></tr><tr><td>Fold</td><td>0</td></tr><tr><td>Train Accuracy</td><td>0.99945</td></tr><tr><td>Train Loss</td><td>0.00148</td></tr><tr><td>Validation AUC</td><td>1</td></tr><tr><td>Validation Accuracy</td><td>1</td></tr><tr><td>Validation F1</td><td>1</td></tr><tr><td>Validation Loss</td><td>0.0</td></tr><tr><td>Validation Precision</td><td>1</td></tr><tr><td>Validation Recall</td><td>1</td></tr><tr><td>Validation Specificity</td><td>1</td></tr></table><br/></div></div>"
      ]
     },
     "metadata": {},
     "output_type": "display_data"
    },
    {
     "data": {
      "text/plain": [
       "<IPython.core.display.HTML object>"
      ],
      "text/html": [
       " View run <strong style=\"color:#cdcd00\">AlexNet_trial_9_fold_0</strong> at: <a href='https://wandb.ai/amitr5-tel-aviv-university/AlexNet-deep_van_gogh-aug-26.3.2025/runs/hmr4xig0' target=\"_blank\">https://wandb.ai/amitr5-tel-aviv-university/AlexNet-deep_van_gogh-aug-26.3.2025/runs/hmr4xig0</a><br> View project at: <a href='https://wandb.ai/amitr5-tel-aviv-university/AlexNet-deep_van_gogh-aug-26.3.2025' target=\"_blank\">https://wandb.ai/amitr5-tel-aviv-university/AlexNet-deep_van_gogh-aug-26.3.2025</a><br>Synced 5 W&B file(s), 0 media file(s), 0 artifact file(s) and 0 other file(s)"
      ]
     },
     "metadata": {},
     "output_type": "display_data"
    },
    {
     "data": {
      "text/plain": [
       "<IPython.core.display.HTML object>"
      ],
      "text/html": [
       "Find logs at: <code>.\\wandb\\run-20250326_184211-hmr4xig0\\logs</code>"
      ]
     },
     "metadata": {},
     "output_type": "display_data"
    },
    {
     "data": {
      "text/plain": [
       "<IPython.core.display.HTML object>"
      ],
      "text/html": [
       "Tracking run with wandb version 0.19.1"
      ]
     },
     "metadata": {},
     "output_type": "display_data"
    },
    {
     "data": {
      "text/plain": [
       "<IPython.core.display.HTML object>"
      ],
      "text/html": [
       "Run data is saved locally in <code>D:\\Users\\kanatcohen\\PycharmProjects\\deep_van_gogh\\wandb\\run-20250326_184308-62aiwl49</code>"
      ]
     },
     "metadata": {},
     "output_type": "display_data"
    },
    {
     "data": {
      "text/plain": [
       "<IPython.core.display.HTML object>"
      ],
      "text/html": [
       "Syncing run <strong><a href='https://wandb.ai/amitr5-tel-aviv-university/AlexNet-deep_van_gogh-aug-26.3.2025/runs/62aiwl49' target=\"_blank\">AlexNet_trial_9_fold_1</a></strong> to <a href='https://wandb.ai/amitr5-tel-aviv-university/AlexNet-deep_van_gogh-aug-26.3.2025' target=\"_blank\">Weights & Biases</a> (<a href='https://wandb.me/developer-guide' target=\"_blank\">docs</a>)<br>"
      ]
     },
     "metadata": {},
     "output_type": "display_data"
    },
    {
     "data": {
      "text/plain": [
       "<IPython.core.display.HTML object>"
      ],
      "text/html": [
       " View project at <a href='https://wandb.ai/amitr5-tel-aviv-university/AlexNet-deep_van_gogh-aug-26.3.2025' target=\"_blank\">https://wandb.ai/amitr5-tel-aviv-university/AlexNet-deep_van_gogh-aug-26.3.2025</a>"
      ]
     },
     "metadata": {},
     "output_type": "display_data"
    },
    {
     "data": {
      "text/plain": [
       "<IPython.core.display.HTML object>"
      ],
      "text/html": [
       " View run at <a href='https://wandb.ai/amitr5-tel-aviv-university/AlexNet-deep_van_gogh-aug-26.3.2025/runs/62aiwl49' target=\"_blank\">https://wandb.ai/amitr5-tel-aviv-university/AlexNet-deep_van_gogh-aug-26.3.2025/runs/62aiwl49</a>"
      ]
     },
     "metadata": {},
     "output_type": "display_data"
    },
    {
     "data": {
      "text/plain": [
       "<IPython.core.display.HTML object>"
      ],
      "text/html": []
     },
     "metadata": {},
     "output_type": "display_data"
    },
    {
     "data": {
      "text/plain": [
       "<IPython.core.display.HTML object>"
      ],
      "text/html": [
       "<br>    <style><br>        .wandb-row {<br>            display: flex;<br>            flex-direction: row;<br>            flex-wrap: wrap;<br>            justify-content: flex-start;<br>            width: 100%;<br>        }<br>        .wandb-col {<br>            display: flex;<br>            flex-direction: column;<br>            flex-basis: 100%;<br>            flex: 1;<br>            padding: 10px;<br>        }<br>    </style><br><div class=\"wandb-row\"><div class=\"wandb-col\"><h3>Run history:</h3><br/><table class=\"wandb\"><tr><td>AUC</td><td>▁</td></tr><tr><td>Epoch</td><td>▁▂▃▃▄▅▆▆▇█</td></tr><tr><td>Fold</td><td>▁</td></tr><tr><td>Train Accuracy</td><td>▄▁▄▇▆█▁▅▆█</td></tr><tr><td>Train Loss</td><td>▃▇▇▂▄▁█▅▁▁</td></tr><tr><td>Validation AUC</td><td>▁▁▁▁▁▁▁▁▁▁</td></tr><tr><td>Validation Accuracy</td><td>███▁██████</td></tr><tr><td>Validation F1</td><td>███▁██████</td></tr><tr><td>Validation Loss</td><td>▁▁▁█▁▁▁▁▁▁</td></tr><tr><td>Validation Precision</td><td>███▁██████</td></tr><tr><td>Validation Recall</td><td>███▁██████</td></tr><tr><td>Validation Specificity</td><td>███▁██████</td></tr></table><br/></div><div class=\"wandb-col\"><h3>Run summary:</h3><br/><table class=\"wandb\"><tr><td>AUC</td><td>1</td></tr><tr><td>Epoch</td><td>10</td></tr><tr><td>Fold</td><td>1</td></tr><tr><td>Train Accuracy</td><td>1</td></tr><tr><td>Train Loss</td><td>0.0</td></tr><tr><td>Validation AUC</td><td>1</td></tr><tr><td>Validation Accuracy</td><td>1</td></tr><tr><td>Validation F1</td><td>1</td></tr><tr><td>Validation Loss</td><td>0</td></tr><tr><td>Validation Precision</td><td>1</td></tr><tr><td>Validation Recall</td><td>1</td></tr><tr><td>Validation Specificity</td><td>1</td></tr></table><br/></div></div>"
      ]
     },
     "metadata": {},
     "output_type": "display_data"
    },
    {
     "data": {
      "text/plain": [
       "<IPython.core.display.HTML object>"
      ],
      "text/html": [
       " View run <strong style=\"color:#cdcd00\">AlexNet_trial_9_fold_1</strong> at: <a href='https://wandb.ai/amitr5-tel-aviv-university/AlexNet-deep_van_gogh-aug-26.3.2025/runs/62aiwl49' target=\"_blank\">https://wandb.ai/amitr5-tel-aviv-university/AlexNet-deep_van_gogh-aug-26.3.2025/runs/62aiwl49</a><br> View project at: <a href='https://wandb.ai/amitr5-tel-aviv-university/AlexNet-deep_van_gogh-aug-26.3.2025' target=\"_blank\">https://wandb.ai/amitr5-tel-aviv-university/AlexNet-deep_van_gogh-aug-26.3.2025</a><br>Synced 5 W&B file(s), 0 media file(s), 0 artifact file(s) and 0 other file(s)"
      ]
     },
     "metadata": {},
     "output_type": "display_data"
    },
    {
     "data": {
      "text/plain": [
       "<IPython.core.display.HTML object>"
      ],
      "text/html": [
       "Find logs at: <code>.\\wandb\\run-20250326_184308-62aiwl49\\logs</code>"
      ]
     },
     "metadata": {},
     "output_type": "display_data"
    },
    {
     "data": {
      "text/plain": [
       "<IPython.core.display.HTML object>"
      ],
      "text/html": [
       "Tracking run with wandb version 0.19.1"
      ]
     },
     "metadata": {},
     "output_type": "display_data"
    },
    {
     "data": {
      "text/plain": [
       "<IPython.core.display.HTML object>"
      ],
      "text/html": [
       "Run data is saved locally in <code>D:\\Users\\kanatcohen\\PycharmProjects\\deep_van_gogh\\wandb\\run-20250326_184403-wlm0y4il</code>"
      ]
     },
     "metadata": {},
     "output_type": "display_data"
    },
    {
     "data": {
      "text/plain": [
       "<IPython.core.display.HTML object>"
      ],
      "text/html": [
       "Syncing run <strong><a href='https://wandb.ai/amitr5-tel-aviv-university/AlexNet-deep_van_gogh-aug-26.3.2025/runs/wlm0y4il' target=\"_blank\">AlexNet_trial_9_fold_2</a></strong> to <a href='https://wandb.ai/amitr5-tel-aviv-university/AlexNet-deep_van_gogh-aug-26.3.2025' target=\"_blank\">Weights & Biases</a> (<a href='https://wandb.me/developer-guide' target=\"_blank\">docs</a>)<br>"
      ]
     },
     "metadata": {},
     "output_type": "display_data"
    },
    {
     "data": {
      "text/plain": [
       "<IPython.core.display.HTML object>"
      ],
      "text/html": [
       " View project at <a href='https://wandb.ai/amitr5-tel-aviv-university/AlexNet-deep_van_gogh-aug-26.3.2025' target=\"_blank\">https://wandb.ai/amitr5-tel-aviv-university/AlexNet-deep_van_gogh-aug-26.3.2025</a>"
      ]
     },
     "metadata": {},
     "output_type": "display_data"
    },
    {
     "data": {
      "text/plain": [
       "<IPython.core.display.HTML object>"
      ],
      "text/html": [
       " View run at <a href='https://wandb.ai/amitr5-tel-aviv-university/AlexNet-deep_van_gogh-aug-26.3.2025/runs/wlm0y4il' target=\"_blank\">https://wandb.ai/amitr5-tel-aviv-university/AlexNet-deep_van_gogh-aug-26.3.2025/runs/wlm0y4il</a>"
      ]
     },
     "metadata": {},
     "output_type": "display_data"
    },
    {
     "data": {
      "text/plain": [
       "<IPython.core.display.HTML object>"
      ],
      "text/html": []
     },
     "metadata": {},
     "output_type": "display_data"
    },
    {
     "data": {
      "text/plain": [
       "<IPython.core.display.HTML object>"
      ],
      "text/html": [
       "<br>    <style><br>        .wandb-row {<br>            display: flex;<br>            flex-direction: row;<br>            flex-wrap: wrap;<br>            justify-content: flex-start;<br>            width: 100%;<br>        }<br>        .wandb-col {<br>            display: flex;<br>            flex-direction: column;<br>            flex-basis: 100%;<br>            flex: 1;<br>            padding: 10px;<br>        }<br>    </style><br><div class=\"wandb-row\"><div class=\"wandb-col\"><h3>Run history:</h3><br/><table class=\"wandb\"><tr><td>AUC</td><td>▁</td></tr><tr><td>Epoch</td><td>▁▂▃▃▄▅▆▆▇█</td></tr><tr><td>Fold</td><td>▁</td></tr><tr><td>Train Accuracy</td><td>▁█████████</td></tr><tr><td>Train Loss</td><td>█▁▂▁▂▁▁▁▁▁</td></tr><tr><td>Validation AUC</td><td>▁▁▁▁▁▁▁▁▁▁</td></tr><tr><td>Validation Accuracy</td><td>███▁██████</td></tr><tr><td>Validation F1</td><td>███▁██████</td></tr><tr><td>Validation Loss</td><td>▁▁▁█▁▁▁▁▁▁</td></tr><tr><td>Validation Precision</td><td>███▁██████</td></tr><tr><td>Validation Recall</td><td>███▁██████</td></tr><tr><td>Validation Specificity</td><td>███▁██████</td></tr></table><br/></div><div class=\"wandb-col\"><h3>Run summary:</h3><br/><table class=\"wandb\"><tr><td>AUC</td><td>1</td></tr><tr><td>Epoch</td><td>10</td></tr><tr><td>Fold</td><td>2</td></tr><tr><td>Train Accuracy</td><td>0.99982</td></tr><tr><td>Train Loss</td><td>0.00122</td></tr><tr><td>Validation AUC</td><td>1</td></tr><tr><td>Validation Accuracy</td><td>1</td></tr><tr><td>Validation F1</td><td>1</td></tr><tr><td>Validation Loss</td><td>0.0</td></tr><tr><td>Validation Precision</td><td>1</td></tr><tr><td>Validation Recall</td><td>1</td></tr><tr><td>Validation Specificity</td><td>1</td></tr></table><br/></div></div>"
      ]
     },
     "metadata": {},
     "output_type": "display_data"
    },
    {
     "data": {
      "text/plain": [
       "<IPython.core.display.HTML object>"
      ],
      "text/html": [
       " View run <strong style=\"color:#cdcd00\">AlexNet_trial_9_fold_2</strong> at: <a href='https://wandb.ai/amitr5-tel-aviv-university/AlexNet-deep_van_gogh-aug-26.3.2025/runs/wlm0y4il' target=\"_blank\">https://wandb.ai/amitr5-tel-aviv-university/AlexNet-deep_van_gogh-aug-26.3.2025/runs/wlm0y4il</a><br> View project at: <a href='https://wandb.ai/amitr5-tel-aviv-university/AlexNet-deep_van_gogh-aug-26.3.2025' target=\"_blank\">https://wandb.ai/amitr5-tel-aviv-university/AlexNet-deep_van_gogh-aug-26.3.2025</a><br>Synced 5 W&B file(s), 0 media file(s), 0 artifact file(s) and 0 other file(s)"
      ]
     },
     "metadata": {},
     "output_type": "display_data"
    },
    {
     "data": {
      "text/plain": [
       "<IPython.core.display.HTML object>"
      ],
      "text/html": [
       "Find logs at: <code>.\\wandb\\run-20250326_184403-wlm0y4il\\logs</code>"
      ]
     },
     "metadata": {},
     "output_type": "display_data"
    },
    {
     "data": {
      "text/plain": [
       "<IPython.core.display.HTML object>"
      ],
      "text/html": [
       "Tracking run with wandb version 0.19.1"
      ]
     },
     "metadata": {},
     "output_type": "display_data"
    },
    {
     "data": {
      "text/plain": [
       "<IPython.core.display.HTML object>"
      ],
      "text/html": [
       "Run data is saved locally in <code>D:\\Users\\kanatcohen\\PycharmProjects\\deep_van_gogh\\wandb\\run-20250326_184458-oqykz4gc</code>"
      ]
     },
     "metadata": {},
     "output_type": "display_data"
    },
    {
     "data": {
      "text/plain": [
       "<IPython.core.display.HTML object>"
      ],
      "text/html": [
       "Syncing run <strong><a href='https://wandb.ai/amitr5-tel-aviv-university/AlexNet-deep_van_gogh-aug-26.3.2025/runs/oqykz4gc' target=\"_blank\">AlexNet_trial_9_fold_3</a></strong> to <a href='https://wandb.ai/amitr5-tel-aviv-university/AlexNet-deep_van_gogh-aug-26.3.2025' target=\"_blank\">Weights & Biases</a> (<a href='https://wandb.me/developer-guide' target=\"_blank\">docs</a>)<br>"
      ]
     },
     "metadata": {},
     "output_type": "display_data"
    },
    {
     "data": {
      "text/plain": [
       "<IPython.core.display.HTML object>"
      ],
      "text/html": [
       " View project at <a href='https://wandb.ai/amitr5-tel-aviv-university/AlexNet-deep_van_gogh-aug-26.3.2025' target=\"_blank\">https://wandb.ai/amitr5-tel-aviv-university/AlexNet-deep_van_gogh-aug-26.3.2025</a>"
      ]
     },
     "metadata": {},
     "output_type": "display_data"
    },
    {
     "data": {
      "text/plain": [
       "<IPython.core.display.HTML object>"
      ],
      "text/html": [
       " View run at <a href='https://wandb.ai/amitr5-tel-aviv-university/AlexNet-deep_van_gogh-aug-26.3.2025/runs/oqykz4gc' target=\"_blank\">https://wandb.ai/amitr5-tel-aviv-university/AlexNet-deep_van_gogh-aug-26.3.2025/runs/oqykz4gc</a>"
      ]
     },
     "metadata": {},
     "output_type": "display_data"
    },
    {
     "data": {
      "text/plain": [
       "<IPython.core.display.HTML object>"
      ],
      "text/html": []
     },
     "metadata": {},
     "output_type": "display_data"
    },
    {
     "data": {
      "text/plain": [
       "<IPython.core.display.HTML object>"
      ],
      "text/html": [
       "<br>    <style><br>        .wandb-row {<br>            display: flex;<br>            flex-direction: row;<br>            flex-wrap: wrap;<br>            justify-content: flex-start;<br>            width: 100%;<br>        }<br>        .wandb-col {<br>            display: flex;<br>            flex-direction: column;<br>            flex-basis: 100%;<br>            flex: 1;<br>            padding: 10px;<br>        }<br>    </style><br><div class=\"wandb-row\"><div class=\"wandb-col\"><h3>Run history:</h3><br/><table class=\"wandb\"><tr><td>AUC</td><td>▁</td></tr><tr><td>Epoch</td><td>▁▂▃▃▄▅▆▆▇█</td></tr><tr><td>Fold</td><td>▁</td></tr><tr><td>Train Accuracy</td><td>▁▇████████</td></tr><tr><td>Train Loss</td><td>█▁▁▁▁▁▁▁▁▁</td></tr><tr><td>Validation AUC</td><td>▁▁▁▁▁▁▁▁▁▁</td></tr><tr><td>Validation Accuracy</td><td>████▁█████</td></tr><tr><td>Validation F1</td><td>████▁█████</td></tr><tr><td>Validation Loss</td><td>▁▁▁▁█▁▁▁▁▁</td></tr><tr><td>Validation Precision</td><td>████▁█████</td></tr><tr><td>Validation Recall</td><td>████▁█████</td></tr><tr><td>Validation Specificity</td><td>▁▁▁▁▁▁▁▁▁▁</td></tr></table><br/></div><div class=\"wandb-col\"><h3>Run summary:</h3><br/><table class=\"wandb\"><tr><td>AUC</td><td>1</td></tr><tr><td>Epoch</td><td>10</td></tr><tr><td>Fold</td><td>3</td></tr><tr><td>Train Accuracy</td><td>0.99991</td></tr><tr><td>Train Loss</td><td>0.00016</td></tr><tr><td>Validation AUC</td><td>1</td></tr><tr><td>Validation Accuracy</td><td>1</td></tr><tr><td>Validation F1</td><td>1</td></tr><tr><td>Validation Loss</td><td>0.0</td></tr><tr><td>Validation Precision</td><td>1</td></tr><tr><td>Validation Recall</td><td>1</td></tr><tr><td>Validation Specificity</td><td>1</td></tr></table><br/></div></div>"
      ]
     },
     "metadata": {},
     "output_type": "display_data"
    },
    {
     "data": {
      "text/plain": [
       "<IPython.core.display.HTML object>"
      ],
      "text/html": [
       " View run <strong style=\"color:#cdcd00\">AlexNet_trial_9_fold_3</strong> at: <a href='https://wandb.ai/amitr5-tel-aviv-university/AlexNet-deep_van_gogh-aug-26.3.2025/runs/oqykz4gc' target=\"_blank\">https://wandb.ai/amitr5-tel-aviv-university/AlexNet-deep_van_gogh-aug-26.3.2025/runs/oqykz4gc</a><br> View project at: <a href='https://wandb.ai/amitr5-tel-aviv-university/AlexNet-deep_van_gogh-aug-26.3.2025' target=\"_blank\">https://wandb.ai/amitr5-tel-aviv-university/AlexNet-deep_van_gogh-aug-26.3.2025</a><br>Synced 5 W&B file(s), 0 media file(s), 0 artifact file(s) and 0 other file(s)"
      ]
     },
     "metadata": {},
     "output_type": "display_data"
    },
    {
     "data": {
      "text/plain": [
       "<IPython.core.display.HTML object>"
      ],
      "text/html": [
       "Find logs at: <code>.\\wandb\\run-20250326_184458-oqykz4gc\\logs</code>"
      ]
     },
     "metadata": {},
     "output_type": "display_data"
    },
    {
     "data": {
      "text/plain": [
       "<IPython.core.display.HTML object>"
      ],
      "text/html": [
       "Tracking run with wandb version 0.19.1"
      ]
     },
     "metadata": {},
     "output_type": "display_data"
    },
    {
     "data": {
      "text/plain": [
       "<IPython.core.display.HTML object>"
      ],
      "text/html": [
       "Run data is saved locally in <code>D:\\Users\\kanatcohen\\PycharmProjects\\deep_van_gogh\\wandb\\run-20250326_184556-4rrlmoei</code>"
      ]
     },
     "metadata": {},
     "output_type": "display_data"
    },
    {
     "data": {
      "text/plain": [
       "<IPython.core.display.HTML object>"
      ],
      "text/html": [
       "Syncing run <strong><a href='https://wandb.ai/amitr5-tel-aviv-university/AlexNet-deep_van_gogh-aug-26.3.2025/runs/4rrlmoei' target=\"_blank\">AlexNet_trial_9</a></strong> to <a href='https://wandb.ai/amitr5-tel-aviv-university/AlexNet-deep_van_gogh-aug-26.3.2025' target=\"_blank\">Weights & Biases</a> (<a href='https://wandb.me/developer-guide' target=\"_blank\">docs</a>)<br>"
      ]
     },
     "metadata": {},
     "output_type": "display_data"
    },
    {
     "data": {
      "text/plain": [
       "<IPython.core.display.HTML object>"
      ],
      "text/html": [
       " View project at <a href='https://wandb.ai/amitr5-tel-aviv-university/AlexNet-deep_van_gogh-aug-26.3.2025' target=\"_blank\">https://wandb.ai/amitr5-tel-aviv-university/AlexNet-deep_van_gogh-aug-26.3.2025</a>"
      ]
     },
     "metadata": {},
     "output_type": "display_data"
    },
    {
     "data": {
      "text/plain": [
       "<IPython.core.display.HTML object>"
      ],
      "text/html": [
       " View run at <a href='https://wandb.ai/amitr5-tel-aviv-university/AlexNet-deep_van_gogh-aug-26.3.2025/runs/4rrlmoei' target=\"_blank\">https://wandb.ai/amitr5-tel-aviv-university/AlexNet-deep_van_gogh-aug-26.3.2025/runs/4rrlmoei</a>"
      ]
     },
     "metadata": {},
     "output_type": "display_data"
    },
    {
     "data": {
      "text/plain": [
       "<IPython.core.display.HTML object>"
      ],
      "text/html": []
     },
     "metadata": {},
     "output_type": "display_data"
    },
    {
     "data": {
      "text/plain": [
       "<IPython.core.display.HTML object>"
      ],
      "text/html": [
       "<br>    <style><br>        .wandb-row {<br>            display: flex;<br>            flex-direction: row;<br>            flex-wrap: wrap;<br>            justify-content: flex-start;<br>            width: 100%;<br>        }<br>        .wandb-col {<br>            display: flex;<br>            flex-direction: column;<br>            flex-basis: 100%;<br>            flex: 1;<br>            padding: 10px;<br>        }<br>    </style><br><div class=\"wandb-row\"><div class=\"wandb-col\"><h3>Run history:</h3><br/><table class=\"wandb\"><tr><td>Mean AUC</td><td>▁</td></tr><tr><td>Trial</td><td>▁</td></tr></table><br/></div><div class=\"wandb-col\"><h3>Run summary:</h3><br/><table class=\"wandb\"><tr><td>Mean AUC</td><td>1</td></tr><tr><td>Trial</td><td>9</td></tr></table><br/></div></div>"
      ]
     },
     "metadata": {},
     "output_type": "display_data"
    },
    {
     "data": {
      "text/plain": [
       "<IPython.core.display.HTML object>"
      ],
      "text/html": [
       " View run <strong style=\"color:#cdcd00\">AlexNet_trial_9</strong> at: <a href='https://wandb.ai/amitr5-tel-aviv-university/AlexNet-deep_van_gogh-aug-26.3.2025/runs/4rrlmoei' target=\"_blank\">https://wandb.ai/amitr5-tel-aviv-university/AlexNet-deep_van_gogh-aug-26.3.2025/runs/4rrlmoei</a><br> View project at: <a href='https://wandb.ai/amitr5-tel-aviv-university/AlexNet-deep_van_gogh-aug-26.3.2025' target=\"_blank\">https://wandb.ai/amitr5-tel-aviv-university/AlexNet-deep_van_gogh-aug-26.3.2025</a><br>Synced 5 W&B file(s), 0 media file(s), 0 artifact file(s) and 0 other file(s)"
      ]
     },
     "metadata": {},
     "output_type": "display_data"
    },
    {
     "data": {
      "text/plain": [
       "<IPython.core.display.HTML object>"
      ],
      "text/html": [
       "Find logs at: <code>.\\wandb\\run-20250326_184556-4rrlmoei\\logs</code>"
      ]
     },
     "metadata": {},
     "output_type": "display_data"
    },
    {
     "name": "stderr",
     "output_type": "stream",
     "text": [
      "[I 2025-03-26 18:45:59,864] Trial 8 finished with value: 1.0 and parameters: {'learning_rate': 0.00022466126061147822, 'weight_decay': 1.1141597396884931e-05, 'epochs': 19, 'num_layers_finetune': 1}. Best is trial 2 with value: 1.0.\n"
     ]
    },
    {
     "data": {
      "text/plain": [
       "<IPython.core.display.HTML object>"
      ],
      "text/html": [
       "Tracking run with wandb version 0.19.1"
      ]
     },
     "metadata": {},
     "output_type": "display_data"
    },
    {
     "data": {
      "text/plain": [
       "<IPython.core.display.HTML object>"
      ],
      "text/html": [
       "Run data is saved locally in <code>D:\\Users\\kanatcohen\\PycharmProjects\\deep_van_gogh\\wandb\\run-20250326_184559-8ahe5zdz</code>"
      ]
     },
     "metadata": {},
     "output_type": "display_data"
    },
    {
     "data": {
      "text/plain": [
       "<IPython.core.display.HTML object>"
      ],
      "text/html": [
       "Syncing run <strong><a href='https://wandb.ai/amitr5-tel-aviv-university/AlexNet-deep_van_gogh-aug-26.3.2025/runs/8ahe5zdz' target=\"_blank\">AlexNet_trial_10_fold_0</a></strong> to <a href='https://wandb.ai/amitr5-tel-aviv-university/AlexNet-deep_van_gogh-aug-26.3.2025' target=\"_blank\">Weights & Biases</a> (<a href='https://wandb.me/developer-guide' target=\"_blank\">docs</a>)<br>"
      ]
     },
     "metadata": {},
     "output_type": "display_data"
    },
    {
     "data": {
      "text/plain": [
       "<IPython.core.display.HTML object>"
      ],
      "text/html": [
       " View project at <a href='https://wandb.ai/amitr5-tel-aviv-university/AlexNet-deep_van_gogh-aug-26.3.2025' target=\"_blank\">https://wandb.ai/amitr5-tel-aviv-university/AlexNet-deep_van_gogh-aug-26.3.2025</a>"
      ]
     },
     "metadata": {},
     "output_type": "display_data"
    },
    {
     "data": {
      "text/plain": [
       "<IPython.core.display.HTML object>"
      ],
      "text/html": [
       " View run at <a href='https://wandb.ai/amitr5-tel-aviv-university/AlexNet-deep_van_gogh-aug-26.3.2025/runs/8ahe5zdz' target=\"_blank\">https://wandb.ai/amitr5-tel-aviv-university/AlexNet-deep_van_gogh-aug-26.3.2025/runs/8ahe5zdz</a>"
      ]
     },
     "metadata": {},
     "output_type": "display_data"
    },
    {
     "data": {
      "text/plain": [
       "<IPython.core.display.HTML object>"
      ],
      "text/html": []
     },
     "metadata": {},
     "output_type": "display_data"
    },
    {
     "data": {
      "text/plain": [
       "<IPython.core.display.HTML object>"
      ],
      "text/html": [
       "<br>    <style><br>        .wandb-row {<br>            display: flex;<br>            flex-direction: row;<br>            flex-wrap: wrap;<br>            justify-content: flex-start;<br>            width: 100%;<br>        }<br>        .wandb-col {<br>            display: flex;<br>            flex-direction: column;<br>            flex-basis: 100%;<br>            flex: 1;<br>            padding: 10px;<br>        }<br>    </style><br><div class=\"wandb-row\"><div class=\"wandb-col\"><h3>Run history:</h3><br/><table class=\"wandb\"><tr><td>AUC</td><td>▁</td></tr><tr><td>Epoch</td><td>▁▂▃▃▄▅▆▆▇█</td></tr><tr><td>Fold</td><td>▁</td></tr><tr><td>Train Accuracy</td><td>▁█████████</td></tr><tr><td>Train Loss</td><td>█▁▁▁▁▁▁▁▁▁</td></tr><tr><td>Validation AUC</td><td>▁▁▁▁▁▁▁▁▁▁</td></tr><tr><td>Validation Accuracy</td><td>▁▁▁▁▁▁▁▁▁▁</td></tr><tr><td>Validation F1</td><td>▁▁▁▁▁▁▁▁▁▁</td></tr><tr><td>Validation Loss</td><td>▁▁█▁▁▁▁▁▁▁</td></tr><tr><td>Validation Precision</td><td>▁▁▁▁▁▁▁▁▁▁</td></tr><tr><td>Validation Recall</td><td>▁▁▁▁▁▁▁▁▁▁</td></tr><tr><td>Validation Specificity</td><td>▁▁▁▁▁▁▁▁▁▁</td></tr></table><br/></div><div class=\"wandb-col\"><h3>Run summary:</h3><br/><table class=\"wandb\"><tr><td>AUC</td><td>1</td></tr><tr><td>Epoch</td><td>10</td></tr><tr><td>Fold</td><td>0</td></tr><tr><td>Train Accuracy</td><td>1</td></tr><tr><td>Train Loss</td><td>0.0</td></tr><tr><td>Validation AUC</td><td>1</td></tr><tr><td>Validation Accuracy</td><td>1</td></tr><tr><td>Validation F1</td><td>1</td></tr><tr><td>Validation Loss</td><td>0.0</td></tr><tr><td>Validation Precision</td><td>1</td></tr><tr><td>Validation Recall</td><td>1</td></tr><tr><td>Validation Specificity</td><td>1</td></tr></table><br/></div></div>"
      ]
     },
     "metadata": {},
     "output_type": "display_data"
    },
    {
     "data": {
      "text/plain": [
       "<IPython.core.display.HTML object>"
      ],
      "text/html": [
       " View run <strong style=\"color:#cdcd00\">AlexNet_trial_10_fold_0</strong> at: <a href='https://wandb.ai/amitr5-tel-aviv-university/AlexNet-deep_van_gogh-aug-26.3.2025/runs/8ahe5zdz' target=\"_blank\">https://wandb.ai/amitr5-tel-aviv-university/AlexNet-deep_van_gogh-aug-26.3.2025/runs/8ahe5zdz</a><br> View project at: <a href='https://wandb.ai/amitr5-tel-aviv-university/AlexNet-deep_van_gogh-aug-26.3.2025' target=\"_blank\">https://wandb.ai/amitr5-tel-aviv-university/AlexNet-deep_van_gogh-aug-26.3.2025</a><br>Synced 5 W&B file(s), 0 media file(s), 0 artifact file(s) and 0 other file(s)"
      ]
     },
     "metadata": {},
     "output_type": "display_data"
    },
    {
     "data": {
      "text/plain": [
       "<IPython.core.display.HTML object>"
      ],
      "text/html": [
       "Find logs at: <code>.\\wandb\\run-20250326_184559-8ahe5zdz\\logs</code>"
      ]
     },
     "metadata": {},
     "output_type": "display_data"
    },
    {
     "data": {
      "text/plain": [
       "<IPython.core.display.HTML object>"
      ],
      "text/html": [
       "Tracking run with wandb version 0.19.1"
      ]
     },
     "metadata": {},
     "output_type": "display_data"
    },
    {
     "data": {
      "text/plain": [
       "<IPython.core.display.HTML object>"
      ],
      "text/html": [
       "Run data is saved locally in <code>D:\\Users\\kanatcohen\\PycharmProjects\\deep_van_gogh\\wandb\\run-20250326_184655-ycuufkg0</code>"
      ]
     },
     "metadata": {},
     "output_type": "display_data"
    },
    {
     "data": {
      "text/plain": [
       "<IPython.core.display.HTML object>"
      ],
      "text/html": [
       "Syncing run <strong><a href='https://wandb.ai/amitr5-tel-aviv-university/AlexNet-deep_van_gogh-aug-26.3.2025/runs/ycuufkg0' target=\"_blank\">AlexNet_trial_10_fold_1</a></strong> to <a href='https://wandb.ai/amitr5-tel-aviv-university/AlexNet-deep_van_gogh-aug-26.3.2025' target=\"_blank\">Weights & Biases</a> (<a href='https://wandb.me/developer-guide' target=\"_blank\">docs</a>)<br>"
      ]
     },
     "metadata": {},
     "output_type": "display_data"
    },
    {
     "data": {
      "text/plain": [
       "<IPython.core.display.HTML object>"
      ],
      "text/html": [
       " View project at <a href='https://wandb.ai/amitr5-tel-aviv-university/AlexNet-deep_van_gogh-aug-26.3.2025' target=\"_blank\">https://wandb.ai/amitr5-tel-aviv-university/AlexNet-deep_van_gogh-aug-26.3.2025</a>"
      ]
     },
     "metadata": {},
     "output_type": "display_data"
    },
    {
     "data": {
      "text/plain": [
       "<IPython.core.display.HTML object>"
      ],
      "text/html": [
       " View run at <a href='https://wandb.ai/amitr5-tel-aviv-university/AlexNet-deep_van_gogh-aug-26.3.2025/runs/ycuufkg0' target=\"_blank\">https://wandb.ai/amitr5-tel-aviv-university/AlexNet-deep_van_gogh-aug-26.3.2025/runs/ycuufkg0</a>"
      ]
     },
     "metadata": {},
     "output_type": "display_data"
    },
    {
     "data": {
      "text/plain": [
       "<IPython.core.display.HTML object>"
      ],
      "text/html": []
     },
     "metadata": {},
     "output_type": "display_data"
    },
    {
     "data": {
      "text/plain": [
       "<IPython.core.display.HTML object>"
      ],
      "text/html": [
       "<br>    <style><br>        .wandb-row {<br>            display: flex;<br>            flex-direction: row;<br>            flex-wrap: wrap;<br>            justify-content: flex-start;<br>            width: 100%;<br>        }<br>        .wandb-col {<br>            display: flex;<br>            flex-direction: column;<br>            flex-basis: 100%;<br>            flex: 1;<br>            padding: 10px;<br>        }<br>    </style><br><div class=\"wandb-row\"><div class=\"wandb-col\"><h3>Run history:</h3><br/><table class=\"wandb\"><tr><td>AUC</td><td>▁</td></tr><tr><td>Epoch</td><td>▁▂▃▃▄▅▆▆▇█</td></tr><tr><td>Fold</td><td>▁</td></tr><tr><td>Train Accuracy</td><td>▁█████████</td></tr><tr><td>Train Loss</td><td>█▁▁▁▁▁▁▁▁▁</td></tr><tr><td>Validation AUC</td><td>▁▁▁▁▁▁▁▁▁▁</td></tr><tr><td>Validation Accuracy</td><td>▁▁▁▁▁▁▁▁▁▁</td></tr><tr><td>Validation F1</td><td>▁▁▁▁▁▁▁▁▁▁</td></tr><tr><td>Validation Loss</td><td>▁▁▁▂▂██▅▁▃</td></tr><tr><td>Validation Precision</td><td>▁▁▁▁▁▁▁▁▁▁</td></tr><tr><td>Validation Recall</td><td>▁▁▁▁▁▁▁▁▁▁</td></tr><tr><td>Validation Specificity</td><td>▁▁▁▁▁▁▁▁▁▁</td></tr></table><br/></div><div class=\"wandb-col\"><h3>Run summary:</h3><br/><table class=\"wandb\"><tr><td>AUC</td><td>1</td></tr><tr><td>Epoch</td><td>10</td></tr><tr><td>Fold</td><td>1</td></tr><tr><td>Train Accuracy</td><td>1</td></tr><tr><td>Train Loss</td><td>0.0</td></tr><tr><td>Validation AUC</td><td>1</td></tr><tr><td>Validation Accuracy</td><td>1</td></tr><tr><td>Validation F1</td><td>1</td></tr><tr><td>Validation Loss</td><td>0.0</td></tr><tr><td>Validation Precision</td><td>1</td></tr><tr><td>Validation Recall</td><td>1</td></tr><tr><td>Validation Specificity</td><td>1</td></tr></table><br/></div></div>"
      ]
     },
     "metadata": {},
     "output_type": "display_data"
    },
    {
     "data": {
      "text/plain": [
       "<IPython.core.display.HTML object>"
      ],
      "text/html": [
       " View run <strong style=\"color:#cdcd00\">AlexNet_trial_10_fold_1</strong> at: <a href='https://wandb.ai/amitr5-tel-aviv-university/AlexNet-deep_van_gogh-aug-26.3.2025/runs/ycuufkg0' target=\"_blank\">https://wandb.ai/amitr5-tel-aviv-university/AlexNet-deep_van_gogh-aug-26.3.2025/runs/ycuufkg0</a><br> View project at: <a href='https://wandb.ai/amitr5-tel-aviv-university/AlexNet-deep_van_gogh-aug-26.3.2025' target=\"_blank\">https://wandb.ai/amitr5-tel-aviv-university/AlexNet-deep_van_gogh-aug-26.3.2025</a><br>Synced 5 W&B file(s), 0 media file(s), 0 artifact file(s) and 0 other file(s)"
      ]
     },
     "metadata": {},
     "output_type": "display_data"
    },
    {
     "data": {
      "text/plain": [
       "<IPython.core.display.HTML object>"
      ],
      "text/html": [
       "Find logs at: <code>.\\wandb\\run-20250326_184655-ycuufkg0\\logs</code>"
      ]
     },
     "metadata": {},
     "output_type": "display_data"
    },
    {
     "data": {
      "text/plain": [
       "<IPython.core.display.HTML object>"
      ],
      "text/html": [
       "Tracking run with wandb version 0.19.1"
      ]
     },
     "metadata": {},
     "output_type": "display_data"
    },
    {
     "data": {
      "text/plain": [
       "<IPython.core.display.HTML object>"
      ],
      "text/html": [
       "Run data is saved locally in <code>D:\\Users\\kanatcohen\\PycharmProjects\\deep_van_gogh\\wandb\\run-20250326_184750-qearzngf</code>"
      ]
     },
     "metadata": {},
     "output_type": "display_data"
    },
    {
     "data": {
      "text/plain": [
       "<IPython.core.display.HTML object>"
      ],
      "text/html": [
       "Syncing run <strong><a href='https://wandb.ai/amitr5-tel-aviv-university/AlexNet-deep_van_gogh-aug-26.3.2025/runs/qearzngf' target=\"_blank\">AlexNet_trial_10_fold_2</a></strong> to <a href='https://wandb.ai/amitr5-tel-aviv-university/AlexNet-deep_van_gogh-aug-26.3.2025' target=\"_blank\">Weights & Biases</a> (<a href='https://wandb.me/developer-guide' target=\"_blank\">docs</a>)<br>"
      ]
     },
     "metadata": {},
     "output_type": "display_data"
    },
    {
     "data": {
      "text/plain": [
       "<IPython.core.display.HTML object>"
      ],
      "text/html": [
       " View project at <a href='https://wandb.ai/amitr5-tel-aviv-university/AlexNet-deep_van_gogh-aug-26.3.2025' target=\"_blank\">https://wandb.ai/amitr5-tel-aviv-university/AlexNet-deep_van_gogh-aug-26.3.2025</a>"
      ]
     },
     "metadata": {},
     "output_type": "display_data"
    },
    {
     "data": {
      "text/plain": [
       "<IPython.core.display.HTML object>"
      ],
      "text/html": [
       " View run at <a href='https://wandb.ai/amitr5-tel-aviv-university/AlexNet-deep_van_gogh-aug-26.3.2025/runs/qearzngf' target=\"_blank\">https://wandb.ai/amitr5-tel-aviv-university/AlexNet-deep_van_gogh-aug-26.3.2025/runs/qearzngf</a>"
      ]
     },
     "metadata": {},
     "output_type": "display_data"
    },
    {
     "data": {
      "text/plain": [
       "<IPython.core.display.HTML object>"
      ],
      "text/html": []
     },
     "metadata": {},
     "output_type": "display_data"
    },
    {
     "data": {
      "text/plain": [
       "<IPython.core.display.HTML object>"
      ],
      "text/html": [
       "<br>    <style><br>        .wandb-row {<br>            display: flex;<br>            flex-direction: row;<br>            flex-wrap: wrap;<br>            justify-content: flex-start;<br>            width: 100%;<br>        }<br>        .wandb-col {<br>            display: flex;<br>            flex-direction: column;<br>            flex-basis: 100%;<br>            flex: 1;<br>            padding: 10px;<br>        }<br>    </style><br><div class=\"wandb-row\"><div class=\"wandb-col\"><h3>Run history:</h3><br/><table class=\"wandb\"><tr><td>AUC</td><td>▁</td></tr><tr><td>Epoch</td><td>▁▂▃▃▄▅▆▆▇█</td></tr><tr><td>Fold</td><td>▁</td></tr><tr><td>Train Accuracy</td><td>▁█████████</td></tr><tr><td>Train Loss</td><td>█▁▁▁▁▁▁▁▁▁</td></tr><tr><td>Validation AUC</td><td>▁▁▁▁▁▁▁▁▁▁</td></tr><tr><td>Validation Accuracy</td><td>▁▁▁▁▁▁▁▁▁▁</td></tr><tr><td>Validation F1</td><td>▁▁▁▁▁▁▁▁▁▁</td></tr><tr><td>Validation Loss</td><td>█▂▁▂▁▁▁▁▁▆</td></tr><tr><td>Validation Precision</td><td>▁▁▁▁▁▁▁▁▁▁</td></tr><tr><td>Validation Recall</td><td>▁▁▁▁▁▁▁▁▁▁</td></tr><tr><td>Validation Specificity</td><td>▁▁▁▁▁▁▁▁▁▁</td></tr></table><br/></div><div class=\"wandb-col\"><h3>Run summary:</h3><br/><table class=\"wandb\"><tr><td>AUC</td><td>1</td></tr><tr><td>Epoch</td><td>10</td></tr><tr><td>Fold</td><td>2</td></tr><tr><td>Train Accuracy</td><td>1</td></tr><tr><td>Train Loss</td><td>8e-05</td></tr><tr><td>Validation AUC</td><td>1</td></tr><tr><td>Validation Accuracy</td><td>1</td></tr><tr><td>Validation F1</td><td>1</td></tr><tr><td>Validation Loss</td><td>0.0</td></tr><tr><td>Validation Precision</td><td>1</td></tr><tr><td>Validation Recall</td><td>1</td></tr><tr><td>Validation Specificity</td><td>1</td></tr></table><br/></div></div>"
      ]
     },
     "metadata": {},
     "output_type": "display_data"
    },
    {
     "data": {
      "text/plain": [
       "<IPython.core.display.HTML object>"
      ],
      "text/html": [
       " View run <strong style=\"color:#cdcd00\">AlexNet_trial_10_fold_2</strong> at: <a href='https://wandb.ai/amitr5-tel-aviv-university/AlexNet-deep_van_gogh-aug-26.3.2025/runs/qearzngf' target=\"_blank\">https://wandb.ai/amitr5-tel-aviv-university/AlexNet-deep_van_gogh-aug-26.3.2025/runs/qearzngf</a><br> View project at: <a href='https://wandb.ai/amitr5-tel-aviv-university/AlexNet-deep_van_gogh-aug-26.3.2025' target=\"_blank\">https://wandb.ai/amitr5-tel-aviv-university/AlexNet-deep_van_gogh-aug-26.3.2025</a><br>Synced 5 W&B file(s), 0 media file(s), 0 artifact file(s) and 0 other file(s)"
      ]
     },
     "metadata": {},
     "output_type": "display_data"
    },
    {
     "data": {
      "text/plain": [
       "<IPython.core.display.HTML object>"
      ],
      "text/html": [
       "Find logs at: <code>.\\wandb\\run-20250326_184750-qearzngf\\logs</code>"
      ]
     },
     "metadata": {},
     "output_type": "display_data"
    },
    {
     "data": {
      "text/plain": [
       "<IPython.core.display.HTML object>"
      ],
      "text/html": [
       "Tracking run with wandb version 0.19.1"
      ]
     },
     "metadata": {},
     "output_type": "display_data"
    },
    {
     "data": {
      "text/plain": [
       "<IPython.core.display.HTML object>"
      ],
      "text/html": [
       "Run data is saved locally in <code>D:\\Users\\kanatcohen\\PycharmProjects\\deep_van_gogh\\wandb\\run-20250326_184846-oere8ryq</code>"
      ]
     },
     "metadata": {},
     "output_type": "display_data"
    },
    {
     "data": {
      "text/plain": [
       "<IPython.core.display.HTML object>"
      ],
      "text/html": [
       "Syncing run <strong><a href='https://wandb.ai/amitr5-tel-aviv-university/AlexNet-deep_van_gogh-aug-26.3.2025/runs/oere8ryq' target=\"_blank\">AlexNet_trial_10_fold_3</a></strong> to <a href='https://wandb.ai/amitr5-tel-aviv-university/AlexNet-deep_van_gogh-aug-26.3.2025' target=\"_blank\">Weights & Biases</a> (<a href='https://wandb.me/developer-guide' target=\"_blank\">docs</a>)<br>"
      ]
     },
     "metadata": {},
     "output_type": "display_data"
    },
    {
     "data": {
      "text/plain": [
       "<IPython.core.display.HTML object>"
      ],
      "text/html": [
       " View project at <a href='https://wandb.ai/amitr5-tel-aviv-university/AlexNet-deep_van_gogh-aug-26.3.2025' target=\"_blank\">https://wandb.ai/amitr5-tel-aviv-university/AlexNet-deep_van_gogh-aug-26.3.2025</a>"
      ]
     },
     "metadata": {},
     "output_type": "display_data"
    },
    {
     "data": {
      "text/plain": [
       "<IPython.core.display.HTML object>"
      ],
      "text/html": [
       " View run at <a href='https://wandb.ai/amitr5-tel-aviv-university/AlexNet-deep_van_gogh-aug-26.3.2025/runs/oere8ryq' target=\"_blank\">https://wandb.ai/amitr5-tel-aviv-university/AlexNet-deep_van_gogh-aug-26.3.2025/runs/oere8ryq</a>"
      ]
     },
     "metadata": {},
     "output_type": "display_data"
    },
    {
     "data": {
      "text/plain": [
       "<IPython.core.display.HTML object>"
      ],
      "text/html": []
     },
     "metadata": {},
     "output_type": "display_data"
    },
    {
     "data": {
      "text/plain": [
       "<IPython.core.display.HTML object>"
      ],
      "text/html": [
       "<br>    <style><br>        .wandb-row {<br>            display: flex;<br>            flex-direction: row;<br>            flex-wrap: wrap;<br>            justify-content: flex-start;<br>            width: 100%;<br>        }<br>        .wandb-col {<br>            display: flex;<br>            flex-direction: column;<br>            flex-basis: 100%;<br>            flex: 1;<br>            padding: 10px;<br>        }<br>    </style><br><div class=\"wandb-row\"><div class=\"wandb-col\"><h3>Run history:</h3><br/><table class=\"wandb\"><tr><td>AUC</td><td>▁</td></tr><tr><td>Epoch</td><td>▁▂▃▃▄▅▆▆▇█</td></tr><tr><td>Fold</td><td>▁</td></tr><tr><td>Train Accuracy</td><td>▁█████████</td></tr><tr><td>Train Loss</td><td>█▁▁▁▁▁▁▁▁▁</td></tr><tr><td>Validation AUC</td><td>▁▁▁▁▁▁▁▁▁▁</td></tr><tr><td>Validation Accuracy</td><td>▁▁▁▁▁▁▁▁▁▁</td></tr><tr><td>Validation F1</td><td>▁▁▁▁▁▁▁▁▁▁</td></tr><tr><td>Validation Loss</td><td>▇▆█▂▂▂▅▁▁▁</td></tr><tr><td>Validation Precision</td><td>▁▁▁▁▁▁▁▁▁▁</td></tr><tr><td>Validation Recall</td><td>▁▁▁▁▁▁▁▁▁▁</td></tr><tr><td>Validation Specificity</td><td>▁▁▁▁▁▁▁▁▁▁</td></tr></table><br/></div><div class=\"wandb-col\"><h3>Run summary:</h3><br/><table class=\"wandb\"><tr><td>AUC</td><td>1</td></tr><tr><td>Epoch</td><td>10</td></tr><tr><td>Fold</td><td>3</td></tr><tr><td>Train Accuracy</td><td>1</td></tr><tr><td>Train Loss</td><td>0.0</td></tr><tr><td>Validation AUC</td><td>1</td></tr><tr><td>Validation Accuracy</td><td>1</td></tr><tr><td>Validation F1</td><td>1</td></tr><tr><td>Validation Loss</td><td>0.0</td></tr><tr><td>Validation Precision</td><td>1</td></tr><tr><td>Validation Recall</td><td>1</td></tr><tr><td>Validation Specificity</td><td>1</td></tr></table><br/></div></div>"
      ]
     },
     "metadata": {},
     "output_type": "display_data"
    },
    {
     "data": {
      "text/plain": [
       "<IPython.core.display.HTML object>"
      ],
      "text/html": [
       " View run <strong style=\"color:#cdcd00\">AlexNet_trial_10_fold_3</strong> at: <a href='https://wandb.ai/amitr5-tel-aviv-university/AlexNet-deep_van_gogh-aug-26.3.2025/runs/oere8ryq' target=\"_blank\">https://wandb.ai/amitr5-tel-aviv-university/AlexNet-deep_van_gogh-aug-26.3.2025/runs/oere8ryq</a><br> View project at: <a href='https://wandb.ai/amitr5-tel-aviv-university/AlexNet-deep_van_gogh-aug-26.3.2025' target=\"_blank\">https://wandb.ai/amitr5-tel-aviv-university/AlexNet-deep_van_gogh-aug-26.3.2025</a><br>Synced 5 W&B file(s), 0 media file(s), 0 artifact file(s) and 0 other file(s)"
      ]
     },
     "metadata": {},
     "output_type": "display_data"
    },
    {
     "data": {
      "text/plain": [
       "<IPython.core.display.HTML object>"
      ],
      "text/html": [
       "Find logs at: <code>.\\wandb\\run-20250326_184846-oere8ryq\\logs</code>"
      ]
     },
     "metadata": {},
     "output_type": "display_data"
    },
    {
     "data": {
      "text/plain": [
       "<IPython.core.display.HTML object>"
      ],
      "text/html": [
       "Tracking run with wandb version 0.19.1"
      ]
     },
     "metadata": {},
     "output_type": "display_data"
    },
    {
     "data": {
      "text/plain": [
       "<IPython.core.display.HTML object>"
      ],
      "text/html": [
       "Run data is saved locally in <code>D:\\Users\\kanatcohen\\PycharmProjects\\deep_van_gogh\\wandb\\run-20250326_184942-ybjm4zeo</code>"
      ]
     },
     "metadata": {},
     "output_type": "display_data"
    },
    {
     "data": {
      "text/plain": [
       "<IPython.core.display.HTML object>"
      ],
      "text/html": [
       "Syncing run <strong><a href='https://wandb.ai/amitr5-tel-aviv-university/AlexNet-deep_van_gogh-aug-26.3.2025/runs/ybjm4zeo' target=\"_blank\">AlexNet_trial_10</a></strong> to <a href='https://wandb.ai/amitr5-tel-aviv-university/AlexNet-deep_van_gogh-aug-26.3.2025' target=\"_blank\">Weights & Biases</a> (<a href='https://wandb.me/developer-guide' target=\"_blank\">docs</a>)<br>"
      ]
     },
     "metadata": {},
     "output_type": "display_data"
    },
    {
     "data": {
      "text/plain": [
       "<IPython.core.display.HTML object>"
      ],
      "text/html": [
       " View project at <a href='https://wandb.ai/amitr5-tel-aviv-university/AlexNet-deep_van_gogh-aug-26.3.2025' target=\"_blank\">https://wandb.ai/amitr5-tel-aviv-university/AlexNet-deep_van_gogh-aug-26.3.2025</a>"
      ]
     },
     "metadata": {},
     "output_type": "display_data"
    },
    {
     "data": {
      "text/plain": [
       "<IPython.core.display.HTML object>"
      ],
      "text/html": [
       " View run at <a href='https://wandb.ai/amitr5-tel-aviv-university/AlexNet-deep_van_gogh-aug-26.3.2025/runs/ybjm4zeo' target=\"_blank\">https://wandb.ai/amitr5-tel-aviv-university/AlexNet-deep_van_gogh-aug-26.3.2025/runs/ybjm4zeo</a>"
      ]
     },
     "metadata": {},
     "output_type": "display_data"
    },
    {
     "data": {
      "text/plain": [
       "<IPython.core.display.HTML object>"
      ],
      "text/html": []
     },
     "metadata": {},
     "output_type": "display_data"
    },
    {
     "data": {
      "text/plain": [
       "<IPython.core.display.HTML object>"
      ],
      "text/html": [
       "<br>    <style><br>        .wandb-row {<br>            display: flex;<br>            flex-direction: row;<br>            flex-wrap: wrap;<br>            justify-content: flex-start;<br>            width: 100%;<br>        }<br>        .wandb-col {<br>            display: flex;<br>            flex-direction: column;<br>            flex-basis: 100%;<br>            flex: 1;<br>            padding: 10px;<br>        }<br>    </style><br><div class=\"wandb-row\"><div class=\"wandb-col\"><h3>Run history:</h3><br/><table class=\"wandb\"><tr><td>Mean AUC</td><td>▁</td></tr><tr><td>Trial</td><td>▁</td></tr></table><br/></div><div class=\"wandb-col\"><h3>Run summary:</h3><br/><table class=\"wandb\"><tr><td>Mean AUC</td><td>1</td></tr><tr><td>Trial</td><td>10</td></tr></table><br/></div></div>"
      ]
     },
     "metadata": {},
     "output_type": "display_data"
    },
    {
     "data": {
      "text/plain": [
       "<IPython.core.display.HTML object>"
      ],
      "text/html": [
       " View run <strong style=\"color:#cdcd00\">AlexNet_trial_10</strong> at: <a href='https://wandb.ai/amitr5-tel-aviv-university/AlexNet-deep_van_gogh-aug-26.3.2025/runs/ybjm4zeo' target=\"_blank\">https://wandb.ai/amitr5-tel-aviv-university/AlexNet-deep_van_gogh-aug-26.3.2025/runs/ybjm4zeo</a><br> View project at: <a href='https://wandb.ai/amitr5-tel-aviv-university/AlexNet-deep_van_gogh-aug-26.3.2025' target=\"_blank\">https://wandb.ai/amitr5-tel-aviv-university/AlexNet-deep_van_gogh-aug-26.3.2025</a><br>Synced 5 W&B file(s), 0 media file(s), 0 artifact file(s) and 0 other file(s)"
      ]
     },
     "metadata": {},
     "output_type": "display_data"
    },
    {
     "data": {
      "text/plain": [
       "<IPython.core.display.HTML object>"
      ],
      "text/html": [
       "Find logs at: <code>.\\wandb\\run-20250326_184942-ybjm4zeo\\logs</code>"
      ]
     },
     "metadata": {},
     "output_type": "display_data"
    },
    {
     "name": "stderr",
     "output_type": "stream",
     "text": [
      "[I 2025-03-26 18:49:45,808] Trial 9 finished with value: 1.0 and parameters: {'learning_rate': 4.932588139567231e-05, 'weight_decay': 2.769429874847114e-06, 'epochs': 21, 'num_layers_finetune': 1}. Best is trial 2 with value: 1.0.\n"
     ]
    },
    {
     "data": {
      "text/plain": [
       "<IPython.core.display.HTML object>"
      ],
      "text/html": [
       "Tracking run with wandb version 0.19.1"
      ]
     },
     "metadata": {},
     "output_type": "display_data"
    },
    {
     "data": {
      "text/plain": [
       "<IPython.core.display.HTML object>"
      ],
      "text/html": [
       "Run data is saved locally in <code>D:\\Users\\kanatcohen\\PycharmProjects\\deep_van_gogh\\wandb\\run-20250326_184945-opu0mvxd</code>"
      ]
     },
     "metadata": {},
     "output_type": "display_data"
    },
    {
     "data": {
      "text/plain": [
       "<IPython.core.display.HTML object>"
      ],
      "text/html": [
       "Syncing run <strong><a href='https://wandb.ai/amitr5-tel-aviv-university/AlexNet-deep_van_gogh-aug-26.3.2025/runs/opu0mvxd' target=\"_blank\">AlexNet_trial_11_fold_0</a></strong> to <a href='https://wandb.ai/amitr5-tel-aviv-university/AlexNet-deep_van_gogh-aug-26.3.2025' target=\"_blank\">Weights & Biases</a> (<a href='https://wandb.me/developer-guide' target=\"_blank\">docs</a>)<br>"
      ]
     },
     "metadata": {},
     "output_type": "display_data"
    },
    {
     "data": {
      "text/plain": [
       "<IPython.core.display.HTML object>"
      ],
      "text/html": [
       " View project at <a href='https://wandb.ai/amitr5-tel-aviv-university/AlexNet-deep_van_gogh-aug-26.3.2025' target=\"_blank\">https://wandb.ai/amitr5-tel-aviv-university/AlexNet-deep_van_gogh-aug-26.3.2025</a>"
      ]
     },
     "metadata": {},
     "output_type": "display_data"
    },
    {
     "data": {
      "text/plain": [
       "<IPython.core.display.HTML object>"
      ],
      "text/html": [
       " View run at <a href='https://wandb.ai/amitr5-tel-aviv-university/AlexNet-deep_van_gogh-aug-26.3.2025/runs/opu0mvxd' target=\"_blank\">https://wandb.ai/amitr5-tel-aviv-university/AlexNet-deep_van_gogh-aug-26.3.2025/runs/opu0mvxd</a>"
      ]
     },
     "metadata": {},
     "output_type": "display_data"
    },
    {
     "data": {
      "text/plain": [
       "<IPython.core.display.HTML object>"
      ],
      "text/html": []
     },
     "metadata": {},
     "output_type": "display_data"
    },
    {
     "data": {
      "text/plain": [
       "<IPython.core.display.HTML object>"
      ],
      "text/html": [
       "<br>    <style><br>        .wandb-row {<br>            display: flex;<br>            flex-direction: row;<br>            flex-wrap: wrap;<br>            justify-content: flex-start;<br>            width: 100%;<br>        }<br>        .wandb-col {<br>            display: flex;<br>            flex-direction: column;<br>            flex-basis: 100%;<br>            flex: 1;<br>            padding: 10px;<br>        }<br>    </style><br><div class=\"wandb-row\"><div class=\"wandb-col\"><h3>Run history:</h3><br/><table class=\"wandb\"><tr><td>AUC</td><td>▁</td></tr><tr><td>Epoch</td><td>▁▂▃▃▄▅▆▆▇█</td></tr><tr><td>Fold</td><td>▁</td></tr><tr><td>Train Accuracy</td><td>▁▄▅▆▅▆█▇▇█</td></tr><tr><td>Train Loss</td><td>█▄▄▃▄▃▂▂▃▁</td></tr><tr><td>Validation AUC</td><td>▇▇▇█▆██▆▁▆</td></tr><tr><td>Validation Accuracy</td><td>█▂▃▅▁▅▇▆▁▃</td></tr><tr><td>Validation F1</td><td>█▂▃▅▁▅▇▆▁▄</td></tr><tr><td>Validation Loss</td><td>▂▄▂▁▃▂▁▅█▃</td></tr><tr><td>Validation Precision</td><td>█▂▄▅▁▅▇▆▁▃</td></tr><tr><td>Validation Recall</td><td>█▂▃▅▁▅▇▆▁▃</td></tr><tr><td>Validation Specificity</td><td>▁▇█▁█▇▆▄▆▄</td></tr></table><br/></div><div class=\"wandb-col\"><h3>Run summary:</h3><br/><table class=\"wandb\"><tr><td>AUC</td><td>0.99349</td></tr><tr><td>Epoch</td><td>10</td></tr><tr><td>Fold</td><td>0</td></tr><tr><td>Train Accuracy</td><td>0.99197</td></tr><tr><td>Train Loss</td><td>0.02368</td></tr><tr><td>Validation AUC</td><td>0.98617</td></tr><tr><td>Validation Accuracy</td><td>0.97182</td></tr><tr><td>Validation F1</td><td>0.96922</td></tr><tr><td>Validation Loss</td><td>0.09176</td></tr><tr><td>Validation Precision</td><td>0.97034</td></tr><tr><td>Validation Recall</td><td>0.97182</td></tr><tr><td>Validation Specificity</td><td>0.99563</td></tr></table><br/></div></div>"
      ]
     },
     "metadata": {},
     "output_type": "display_data"
    },
    {
     "data": {
      "text/plain": [
       "<IPython.core.display.HTML object>"
      ],
      "text/html": [
       " View run <strong style=\"color:#cdcd00\">AlexNet_trial_11_fold_0</strong> at: <a href='https://wandb.ai/amitr5-tel-aviv-university/AlexNet-deep_van_gogh-aug-26.3.2025/runs/opu0mvxd' target=\"_blank\">https://wandb.ai/amitr5-tel-aviv-university/AlexNet-deep_van_gogh-aug-26.3.2025/runs/opu0mvxd</a><br> View project at: <a href='https://wandb.ai/amitr5-tel-aviv-university/AlexNet-deep_van_gogh-aug-26.3.2025' target=\"_blank\">https://wandb.ai/amitr5-tel-aviv-university/AlexNet-deep_van_gogh-aug-26.3.2025</a><br>Synced 5 W&B file(s), 0 media file(s), 0 artifact file(s) and 0 other file(s)"
      ]
     },
     "metadata": {},
     "output_type": "display_data"
    },
    {
     "data": {
      "text/plain": [
       "<IPython.core.display.HTML object>"
      ],
      "text/html": [
       "Find logs at: <code>.\\wandb\\run-20250326_184945-opu0mvxd\\logs</code>"
      ]
     },
     "metadata": {},
     "output_type": "display_data"
    },
    {
     "data": {
      "text/plain": [
       "<IPython.core.display.HTML object>"
      ],
      "text/html": [
       "Tracking run with wandb version 0.19.1"
      ]
     },
     "metadata": {},
     "output_type": "display_data"
    },
    {
     "data": {
      "text/plain": [
       "<IPython.core.display.HTML object>"
      ],
      "text/html": [
       "Run data is saved locally in <code>D:\\Users\\kanatcohen\\PycharmProjects\\deep_van_gogh\\wandb\\run-20250326_185057-5zgeayds</code>"
      ]
     },
     "metadata": {},
     "output_type": "display_data"
    },
    {
     "data": {
      "text/plain": [
       "<IPython.core.display.HTML object>"
      ],
      "text/html": [
       "Syncing run <strong><a href='https://wandb.ai/amitr5-tel-aviv-university/AlexNet-deep_van_gogh-aug-26.3.2025/runs/5zgeayds' target=\"_blank\">AlexNet_trial_11_fold_1</a></strong> to <a href='https://wandb.ai/amitr5-tel-aviv-university/AlexNet-deep_van_gogh-aug-26.3.2025' target=\"_blank\">Weights & Biases</a> (<a href='https://wandb.me/developer-guide' target=\"_blank\">docs</a>)<br>"
      ]
     },
     "metadata": {},
     "output_type": "display_data"
    },
    {
     "data": {
      "text/plain": [
       "<IPython.core.display.HTML object>"
      ],
      "text/html": [
       " View project at <a href='https://wandb.ai/amitr5-tel-aviv-university/AlexNet-deep_van_gogh-aug-26.3.2025' target=\"_blank\">https://wandb.ai/amitr5-tel-aviv-university/AlexNet-deep_van_gogh-aug-26.3.2025</a>"
      ]
     },
     "metadata": {},
     "output_type": "display_data"
    },
    {
     "data": {
      "text/plain": [
       "<IPython.core.display.HTML object>"
      ],
      "text/html": [
       " View run at <a href='https://wandb.ai/amitr5-tel-aviv-university/AlexNet-deep_van_gogh-aug-26.3.2025/runs/5zgeayds' target=\"_blank\">https://wandb.ai/amitr5-tel-aviv-university/AlexNet-deep_van_gogh-aug-26.3.2025/runs/5zgeayds</a>"
      ]
     },
     "metadata": {},
     "output_type": "display_data"
    },
    {
     "data": {
      "text/plain": [
       "<IPython.core.display.HTML object>"
      ],
      "text/html": []
     },
     "metadata": {},
     "output_type": "display_data"
    },
    {
     "data": {
      "text/plain": [
       "<IPython.core.display.HTML object>"
      ],
      "text/html": [
       "<br>    <style><br>        .wandb-row {<br>            display: flex;<br>            flex-direction: row;<br>            flex-wrap: wrap;<br>            justify-content: flex-start;<br>            width: 100%;<br>        }<br>        .wandb-col {<br>            display: flex;<br>            flex-direction: column;<br>            flex-basis: 100%;<br>            flex: 1;<br>            padding: 10px;<br>        }<br>    </style><br><div class=\"wandb-row\"><div class=\"wandb-col\"><h3>Run history:</h3><br/><table class=\"wandb\"><tr><td>AUC</td><td>▁</td></tr><tr><td>Epoch</td><td>▁▂▃▃▄▅▆▆▇█</td></tr><tr><td>Fold</td><td>▁</td></tr><tr><td>Train Accuracy</td><td>▁▅▇▃▇▇▆▇██</td></tr><tr><td>Train Loss</td><td>█▃▂▄▃▁▃▂▁▂</td></tr><tr><td>Validation AUC</td><td>█▇▇▇▆▇▄█▆▁</td></tr><tr><td>Validation Accuracy</td><td>▅█▂▅▆▆▄▇▆▁</td></tr><tr><td>Validation F1</td><td>▅█▁▅▆▇▃▇▆▁</td></tr><tr><td>Validation Loss</td><td>▃▁█▅▃▃▆▁▃▇</td></tr><tr><td>Validation Precision</td><td>▅█▂▅▆▇▃▇▆▁</td></tr><tr><td>Validation Recall</td><td>▅█▂▅▆▆▄▇▆▁</td></tr><tr><td>Validation Specificity</td><td>█▇██▆▄▇██▁</td></tr></table><br/></div><div class=\"wandb-col\"><h3>Run summary:</h3><br/><table class=\"wandb\"><tr><td>AUC</td><td>0.99915</td></tr><tr><td>Epoch</td><td>10</td></tr><tr><td>Fold</td><td>1</td></tr><tr><td>Train Accuracy</td><td>0.99243</td></tr><tr><td>Train Loss</td><td>0.02772</td></tr><tr><td>Validation AUC</td><td>0.98988</td></tr><tr><td>Validation Accuracy</td><td>0.9751</td></tr><tr><td>Validation F1</td><td>0.97598</td></tr><tr><td>Validation Loss</td><td>0.06028</td></tr><tr><td>Validation Precision</td><td>0.9775</td></tr><tr><td>Validation Recall</td><td>0.9751</td></tr><tr><td>Validation Specificity</td><td>0.98135</td></tr></table><br/></div></div>"
      ]
     },
     "metadata": {},
     "output_type": "display_data"
    },
    {
     "data": {
      "text/plain": [
       "<IPython.core.display.HTML object>"
      ],
      "text/html": [
       " View run <strong style=\"color:#cdcd00\">AlexNet_trial_11_fold_1</strong> at: <a href='https://wandb.ai/amitr5-tel-aviv-university/AlexNet-deep_van_gogh-aug-26.3.2025/runs/5zgeayds' target=\"_blank\">https://wandb.ai/amitr5-tel-aviv-university/AlexNet-deep_van_gogh-aug-26.3.2025/runs/5zgeayds</a><br> View project at: <a href='https://wandb.ai/amitr5-tel-aviv-university/AlexNet-deep_van_gogh-aug-26.3.2025' target=\"_blank\">https://wandb.ai/amitr5-tel-aviv-university/AlexNet-deep_van_gogh-aug-26.3.2025</a><br>Synced 5 W&B file(s), 0 media file(s), 0 artifact file(s) and 0 other file(s)"
      ]
     },
     "metadata": {},
     "output_type": "display_data"
    },
    {
     "data": {
      "text/plain": [
       "<IPython.core.display.HTML object>"
      ],
      "text/html": [
       "Find logs at: <code>.\\wandb\\run-20250326_185057-5zgeayds\\logs</code>"
      ]
     },
     "metadata": {},
     "output_type": "display_data"
    },
    {
     "data": {
      "text/plain": [
       "<IPython.core.display.HTML object>"
      ],
      "text/html": [
       "Tracking run with wandb version 0.19.1"
      ]
     },
     "metadata": {},
     "output_type": "display_data"
    },
    {
     "data": {
      "text/plain": [
       "<IPython.core.display.HTML object>"
      ],
      "text/html": [
       "Run data is saved locally in <code>D:\\Users\\kanatcohen\\PycharmProjects\\deep_van_gogh\\wandb\\run-20250326_185208-jfq0e77e</code>"
      ]
     },
     "metadata": {},
     "output_type": "display_data"
    },
    {
     "data": {
      "text/plain": [
       "<IPython.core.display.HTML object>"
      ],
      "text/html": [
       "Syncing run <strong><a href='https://wandb.ai/amitr5-tel-aviv-university/AlexNet-deep_van_gogh-aug-26.3.2025/runs/jfq0e77e' target=\"_blank\">AlexNet_trial_11_fold_2</a></strong> to <a href='https://wandb.ai/amitr5-tel-aviv-university/AlexNet-deep_van_gogh-aug-26.3.2025' target=\"_blank\">Weights & Biases</a> (<a href='https://wandb.me/developer-guide' target=\"_blank\">docs</a>)<br>"
      ]
     },
     "metadata": {},
     "output_type": "display_data"
    },
    {
     "data": {
      "text/plain": [
       "<IPython.core.display.HTML object>"
      ],
      "text/html": [
       " View project at <a href='https://wandb.ai/amitr5-tel-aviv-university/AlexNet-deep_van_gogh-aug-26.3.2025' target=\"_blank\">https://wandb.ai/amitr5-tel-aviv-university/AlexNet-deep_van_gogh-aug-26.3.2025</a>"
      ]
     },
     "metadata": {},
     "output_type": "display_data"
    },
    {
     "data": {
      "text/plain": [
       "<IPython.core.display.HTML object>"
      ],
      "text/html": [
       " View run at <a href='https://wandb.ai/amitr5-tel-aviv-university/AlexNet-deep_van_gogh-aug-26.3.2025/runs/jfq0e77e' target=\"_blank\">https://wandb.ai/amitr5-tel-aviv-university/AlexNet-deep_van_gogh-aug-26.3.2025/runs/jfq0e77e</a>"
      ]
     },
     "metadata": {},
     "output_type": "display_data"
    },
    {
     "data": {
      "text/plain": [
       "<IPython.core.display.HTML object>"
      ],
      "text/html": []
     },
     "metadata": {},
     "output_type": "display_data"
    },
    {
     "data": {
      "text/plain": [
       "<IPython.core.display.HTML object>"
      ],
      "text/html": [
       "<br>    <style><br>        .wandb-row {<br>            display: flex;<br>            flex-direction: row;<br>            flex-wrap: wrap;<br>            justify-content: flex-start;<br>            width: 100%;<br>        }<br>        .wandb-col {<br>            display: flex;<br>            flex-direction: column;<br>            flex-basis: 100%;<br>            flex: 1;<br>            padding: 10px;<br>        }<br>    </style><br><div class=\"wandb-row\"><div class=\"wandb-col\"><h3>Run history:</h3><br/><table class=\"wandb\"><tr><td>AUC</td><td>▁</td></tr><tr><td>Epoch</td><td>▁▂▃▃▄▅▆▆▇█</td></tr><tr><td>Fold</td><td>▁</td></tr><tr><td>Train Accuracy</td><td>▁▃▅▇▇█▂▅▇▇</td></tr><tr><td>Train Loss</td><td>█▇▃▂▁▁▇▄▃▂</td></tr><tr><td>Validation AUC</td><td>█▅████▁▅▆▁</td></tr><tr><td>Validation Accuracy</td><td>█▃▇▇▇▇▂▆▅▁</td></tr><tr><td>Validation F1</td><td>█▂▇▇█▆▂▆▄▁</td></tr><tr><td>Validation Loss</td><td>▁▄▁▂▁▂▅▂▃█</td></tr><tr><td>Validation Precision</td><td>█▃▇▇█▇▁▅▅▁</td></tr><tr><td>Validation Recall</td><td>█▃▇▇▇▇▂▆▅▁</td></tr><tr><td>Validation Specificity</td><td>▅██▄▅█▃▄▇▁</td></tr></table><br/></div><div class=\"wandb-col\"><h3>Run summary:</h3><br/><table class=\"wandb\"><tr><td>AUC</td><td>0.99867</td></tr><tr><td>Epoch</td><td>10</td></tr><tr><td>Fold</td><td>2</td></tr><tr><td>Train Accuracy</td><td>0.99216</td></tr><tr><td>Train Loss</td><td>0.02345</td></tr><tr><td>Validation AUC</td><td>0.98334</td></tr><tr><td>Validation Accuracy</td><td>0.97018</td></tr><tr><td>Validation F1</td><td>0.97021</td></tr><tr><td>Validation Loss</td><td>0.13847</td></tr><tr><td>Validation Precision</td><td>0.97024</td></tr><tr><td>Validation Recall</td><td>0.97018</td></tr><tr><td>Validation Specificity</td><td>0.98397</td></tr></table><br/></div></div>"
      ]
     },
     "metadata": {},
     "output_type": "display_data"
    },
    {
     "data": {
      "text/plain": [
       "<IPython.core.display.HTML object>"
      ],
      "text/html": [
       " View run <strong style=\"color:#cdcd00\">AlexNet_trial_11_fold_2</strong> at: <a href='https://wandb.ai/amitr5-tel-aviv-university/AlexNet-deep_van_gogh-aug-26.3.2025/runs/jfq0e77e' target=\"_blank\">https://wandb.ai/amitr5-tel-aviv-university/AlexNet-deep_van_gogh-aug-26.3.2025/runs/jfq0e77e</a><br> View project at: <a href='https://wandb.ai/amitr5-tel-aviv-university/AlexNet-deep_van_gogh-aug-26.3.2025' target=\"_blank\">https://wandb.ai/amitr5-tel-aviv-university/AlexNet-deep_van_gogh-aug-26.3.2025</a><br>Synced 5 W&B file(s), 0 media file(s), 0 artifact file(s) and 0 other file(s)"
      ]
     },
     "metadata": {},
     "output_type": "display_data"
    },
    {
     "data": {
      "text/plain": [
       "<IPython.core.display.HTML object>"
      ],
      "text/html": [
       "Find logs at: <code>.\\wandb\\run-20250326_185208-jfq0e77e\\logs</code>"
      ]
     },
     "metadata": {},
     "output_type": "display_data"
    },
    {
     "data": {
      "text/plain": [
       "<IPython.core.display.HTML object>"
      ],
      "text/html": [
       "Tracking run with wandb version 0.19.1"
      ]
     },
     "metadata": {},
     "output_type": "display_data"
    },
    {
     "data": {
      "text/plain": [
       "<IPython.core.display.HTML object>"
      ],
      "text/html": [
       "Run data is saved locally in <code>D:\\Users\\kanatcohen\\PycharmProjects\\deep_van_gogh\\wandb\\run-20250326_185320-cx09g501</code>"
      ]
     },
     "metadata": {},
     "output_type": "display_data"
    },
    {
     "data": {
      "text/plain": [
       "<IPython.core.display.HTML object>"
      ],
      "text/html": [
       "Syncing run <strong><a href='https://wandb.ai/amitr5-tel-aviv-university/AlexNet-deep_van_gogh-aug-26.3.2025/runs/cx09g501' target=\"_blank\">AlexNet_trial_11_fold_3</a></strong> to <a href='https://wandb.ai/amitr5-tel-aviv-university/AlexNet-deep_van_gogh-aug-26.3.2025' target=\"_blank\">Weights & Biases</a> (<a href='https://wandb.me/developer-guide' target=\"_blank\">docs</a>)<br>"
      ]
     },
     "metadata": {},
     "output_type": "display_data"
    },
    {
     "data": {
      "text/plain": [
       "<IPython.core.display.HTML object>"
      ],
      "text/html": [
       " View project at <a href='https://wandb.ai/amitr5-tel-aviv-university/AlexNet-deep_van_gogh-aug-26.3.2025' target=\"_blank\">https://wandb.ai/amitr5-tel-aviv-university/AlexNet-deep_van_gogh-aug-26.3.2025</a>"
      ]
     },
     "metadata": {},
     "output_type": "display_data"
    },
    {
     "data": {
      "text/plain": [
       "<IPython.core.display.HTML object>"
      ],
      "text/html": [
       " View run at <a href='https://wandb.ai/amitr5-tel-aviv-university/AlexNet-deep_van_gogh-aug-26.3.2025/runs/cx09g501' target=\"_blank\">https://wandb.ai/amitr5-tel-aviv-university/AlexNet-deep_van_gogh-aug-26.3.2025/runs/cx09g501</a>"
      ]
     },
     "metadata": {},
     "output_type": "display_data"
    },
    {
     "data": {
      "text/plain": [
       "<IPython.core.display.HTML object>"
      ],
      "text/html": []
     },
     "metadata": {},
     "output_type": "display_data"
    },
    {
     "data": {
      "text/plain": [
       "<IPython.core.display.HTML object>"
      ],
      "text/html": [
       "<br>    <style><br>        .wandb-row {<br>            display: flex;<br>            flex-direction: row;<br>            flex-wrap: wrap;<br>            justify-content: flex-start;<br>            width: 100%;<br>        }<br>        .wandb-col {<br>            display: flex;<br>            flex-direction: column;<br>            flex-basis: 100%;<br>            flex: 1;<br>            padding: 10px;<br>        }<br>    </style><br><div class=\"wandb-row\"><div class=\"wandb-col\"><h3>Run history:</h3><br/><table class=\"wandb\"><tr><td>AUC</td><td>▁</td></tr><tr><td>Epoch</td><td>▁▂▃▃▄▅▆▆▇█</td></tr><tr><td>Fold</td><td>▁</td></tr><tr><td>Train Accuracy</td><td>▁▇▆▇▇▇██▇█</td></tr><tr><td>Train Loss</td><td>█▂▂▂▂▁▂▂▁▁</td></tr><tr><td>Validation AUC</td><td>▇▇▁▅▇▄▃█▆▃</td></tr><tr><td>Validation Accuracy</td><td>▇█▄▅▅█▁█▇▃</td></tr><tr><td>Validation F1</td><td>▇█▄▆▅█▁█▇▃</td></tr><tr><td>Validation Loss</td><td>▂▁▅▄▄▂▅▁▂█</td></tr><tr><td>Validation Precision</td><td>▇█▄▆▅█▁█▇▃</td></tr><tr><td>Validation Recall</td><td>▇█▄▅▅█▁█▇▃</td></tr><tr><td>Validation Specificity</td><td>▆█▆▂▁██▆▇█</td></tr></table><br/></div><div class=\"wandb-col\"><h3>Run summary:</h3><br/><table class=\"wandb\"><tr><td>AUC</td><td>0.99972</td></tr><tr><td>Epoch</td><td>10</td></tr><tr><td>Fold</td><td>3</td></tr><tr><td>Train Accuracy</td><td>0.99453</td></tr><tr><td>Train Loss</td><td>0.01747</td></tr><tr><td>Validation AUC</td><td>0.99644</td></tr><tr><td>Validation Accuracy</td><td>0.9814</td></tr><tr><td>Validation F1</td><td>0.97993</td></tr><tr><td>Validation Loss</td><td>0.08457</td></tr><tr><td>Validation Precision</td><td>0.98151</td></tr><tr><td>Validation Recall</td><td>0.9814</td></tr><tr><td>Validation Specificity</td><td>0.99942</td></tr></table><br/></div></div>"
      ]
     },
     "metadata": {},
     "output_type": "display_data"
    },
    {
     "data": {
      "text/plain": [
       "<IPython.core.display.HTML object>"
      ],
      "text/html": [
       " View run <strong style=\"color:#cdcd00\">AlexNet_trial_11_fold_3</strong> at: <a href='https://wandb.ai/amitr5-tel-aviv-university/AlexNet-deep_van_gogh-aug-26.3.2025/runs/cx09g501' target=\"_blank\">https://wandb.ai/amitr5-tel-aviv-university/AlexNet-deep_van_gogh-aug-26.3.2025/runs/cx09g501</a><br> View project at: <a href='https://wandb.ai/amitr5-tel-aviv-university/AlexNet-deep_van_gogh-aug-26.3.2025' target=\"_blank\">https://wandb.ai/amitr5-tel-aviv-university/AlexNet-deep_van_gogh-aug-26.3.2025</a><br>Synced 5 W&B file(s), 0 media file(s), 0 artifact file(s) and 0 other file(s)"
      ]
     },
     "metadata": {},
     "output_type": "display_data"
    },
    {
     "data": {
      "text/plain": [
       "<IPython.core.display.HTML object>"
      ],
      "text/html": [
       "Find logs at: <code>.\\wandb\\run-20250326_185320-cx09g501\\logs</code>"
      ]
     },
     "metadata": {},
     "output_type": "display_data"
    },
    {
     "data": {
      "text/plain": [
       "<IPython.core.display.HTML object>"
      ],
      "text/html": [
       "Tracking run with wandb version 0.19.1"
      ]
     },
     "metadata": {},
     "output_type": "display_data"
    },
    {
     "data": {
      "text/plain": [
       "<IPython.core.display.HTML object>"
      ],
      "text/html": [
       "Run data is saved locally in <code>D:\\Users\\kanatcohen\\PycharmProjects\\deep_van_gogh\\wandb\\run-20250326_185431-bwwic0d8</code>"
      ]
     },
     "metadata": {},
     "output_type": "display_data"
    },
    {
     "data": {
      "text/plain": [
       "<IPython.core.display.HTML object>"
      ],
      "text/html": [
       "Syncing run <strong><a href='https://wandb.ai/amitr5-tel-aviv-university/AlexNet-deep_van_gogh-aug-26.3.2025/runs/bwwic0d8' target=\"_blank\">AlexNet_trial_11</a></strong> to <a href='https://wandb.ai/amitr5-tel-aviv-university/AlexNet-deep_van_gogh-aug-26.3.2025' target=\"_blank\">Weights & Biases</a> (<a href='https://wandb.me/developer-guide' target=\"_blank\">docs</a>)<br>"
      ]
     },
     "metadata": {},
     "output_type": "display_data"
    },
    {
     "data": {
      "text/plain": [
       "<IPython.core.display.HTML object>"
      ],
      "text/html": [
       " View project at <a href='https://wandb.ai/amitr5-tel-aviv-university/AlexNet-deep_van_gogh-aug-26.3.2025' target=\"_blank\">https://wandb.ai/amitr5-tel-aviv-university/AlexNet-deep_van_gogh-aug-26.3.2025</a>"
      ]
     },
     "metadata": {},
     "output_type": "display_data"
    },
    {
     "data": {
      "text/plain": [
       "<IPython.core.display.HTML object>"
      ],
      "text/html": [
       " View run at <a href='https://wandb.ai/amitr5-tel-aviv-university/AlexNet-deep_van_gogh-aug-26.3.2025/runs/bwwic0d8' target=\"_blank\">https://wandb.ai/amitr5-tel-aviv-university/AlexNet-deep_van_gogh-aug-26.3.2025/runs/bwwic0d8</a>"
      ]
     },
     "metadata": {},
     "output_type": "display_data"
    },
    {
     "data": {
      "text/plain": [
       "<IPython.core.display.HTML object>"
      ],
      "text/html": []
     },
     "metadata": {},
     "output_type": "display_data"
    },
    {
     "data": {
      "text/plain": [
       "<IPython.core.display.HTML object>"
      ],
      "text/html": [
       "<br>    <style><br>        .wandb-row {<br>            display: flex;<br>            flex-direction: row;<br>            flex-wrap: wrap;<br>            justify-content: flex-start;<br>            width: 100%;<br>        }<br>        .wandb-col {<br>            display: flex;<br>            flex-direction: column;<br>            flex-basis: 100%;<br>            flex: 1;<br>            padding: 10px;<br>        }<br>    </style><br><div class=\"wandb-row\"><div class=\"wandb-col\"><h3>Run history:</h3><br/><table class=\"wandb\"><tr><td>Mean AUC</td><td>▁</td></tr><tr><td>Trial</td><td>▁</td></tr></table><br/></div><div class=\"wandb-col\"><h3>Run summary:</h3><br/><table class=\"wandb\"><tr><td>Mean AUC</td><td>0.99775</td></tr><tr><td>Trial</td><td>11</td></tr></table><br/></div></div>"
      ]
     },
     "metadata": {},
     "output_type": "display_data"
    },
    {
     "data": {
      "text/plain": [
       "<IPython.core.display.HTML object>"
      ],
      "text/html": [
       " View run <strong style=\"color:#cdcd00\">AlexNet_trial_11</strong> at: <a href='https://wandb.ai/amitr5-tel-aviv-university/AlexNet-deep_van_gogh-aug-26.3.2025/runs/bwwic0d8' target=\"_blank\">https://wandb.ai/amitr5-tel-aviv-university/AlexNet-deep_van_gogh-aug-26.3.2025/runs/bwwic0d8</a><br> View project at: <a href='https://wandb.ai/amitr5-tel-aviv-university/AlexNet-deep_van_gogh-aug-26.3.2025' target=\"_blank\">https://wandb.ai/amitr5-tel-aviv-university/AlexNet-deep_van_gogh-aug-26.3.2025</a><br>Synced 5 W&B file(s), 0 media file(s), 0 artifact file(s) and 0 other file(s)"
      ]
     },
     "metadata": {},
     "output_type": "display_data"
    },
    {
     "data": {
      "text/plain": [
       "<IPython.core.display.HTML object>"
      ],
      "text/html": [
       "Find logs at: <code>.\\wandb\\run-20250326_185431-bwwic0d8\\logs</code>"
      ]
     },
     "metadata": {},
     "output_type": "display_data"
    },
    {
     "name": "stderr",
     "output_type": "stream",
     "text": [
      "[I 2025-03-26 18:54:35,062] Trial 10 finished with value: 0.9977545202356665 and parameters: {'learning_rate': 0.0007381888062545458, 'weight_decay': 1.2504536384138131e-05, 'epochs': 10, 'num_layers_finetune': 0}. Best is trial 2 with value: 1.0.\n"
     ]
    },
    {
     "data": {
      "text/plain": [
       "<IPython.core.display.HTML object>"
      ],
      "text/html": [
       "Tracking run with wandb version 0.19.1"
      ]
     },
     "metadata": {},
     "output_type": "display_data"
    },
    {
     "data": {
      "text/plain": [
       "<IPython.core.display.HTML object>"
      ],
      "text/html": [
       "Run data is saved locally in <code>D:\\Users\\kanatcohen\\PycharmProjects\\deep_van_gogh\\wandb\\run-20250326_185435-mm947a8k</code>"
      ]
     },
     "metadata": {},
     "output_type": "display_data"
    },
    {
     "data": {
      "text/plain": [
       "<IPython.core.display.HTML object>"
      ],
      "text/html": [
       "Syncing run <strong><a href='https://wandb.ai/amitr5-tel-aviv-university/AlexNet-deep_van_gogh-aug-26.3.2025/runs/mm947a8k' target=\"_blank\">AlexNet_trial_12_fold_0</a></strong> to <a href='https://wandb.ai/amitr5-tel-aviv-university/AlexNet-deep_van_gogh-aug-26.3.2025' target=\"_blank\">Weights & Biases</a> (<a href='https://wandb.me/developer-guide' target=\"_blank\">docs</a>)<br>"
      ]
     },
     "metadata": {},
     "output_type": "display_data"
    },
    {
     "data": {
      "text/plain": [
       "<IPython.core.display.HTML object>"
      ],
      "text/html": [
       " View project at <a href='https://wandb.ai/amitr5-tel-aviv-university/AlexNet-deep_van_gogh-aug-26.3.2025' target=\"_blank\">https://wandb.ai/amitr5-tel-aviv-university/AlexNet-deep_van_gogh-aug-26.3.2025</a>"
      ]
     },
     "metadata": {},
     "output_type": "display_data"
    },
    {
     "data": {
      "text/plain": [
       "<IPython.core.display.HTML object>"
      ],
      "text/html": [
       " View run at <a href='https://wandb.ai/amitr5-tel-aviv-university/AlexNet-deep_van_gogh-aug-26.3.2025/runs/mm947a8k' target=\"_blank\">https://wandb.ai/amitr5-tel-aviv-university/AlexNet-deep_van_gogh-aug-26.3.2025/runs/mm947a8k</a>"
      ]
     },
     "metadata": {},
     "output_type": "display_data"
    },
    {
     "data": {
      "text/plain": [
       "<IPython.core.display.HTML object>"
      ],
      "text/html": []
     },
     "metadata": {},
     "output_type": "display_data"
    },
    {
     "data": {
      "text/plain": [
       "<IPython.core.display.HTML object>"
      ],
      "text/html": [
       "<br>    <style><br>        .wandb-row {<br>            display: flex;<br>            flex-direction: row;<br>            flex-wrap: wrap;<br>            justify-content: flex-start;<br>            width: 100%;<br>        }<br>        .wandb-col {<br>            display: flex;<br>            flex-direction: column;<br>            flex-basis: 100%;<br>            flex: 1;<br>            padding: 10px;<br>        }<br>    </style><br><div class=\"wandb-row\"><div class=\"wandb-col\"><h3>Run history:</h3><br/><table class=\"wandb\"><tr><td>AUC</td><td>▁</td></tr><tr><td>Epoch</td><td>▁▁▂▃▃▃▄▅▅▅▆▇▇▇█</td></tr><tr><td>Fold</td><td>▁</td></tr><tr><td>Train Accuracy</td><td>▁██████████████</td></tr><tr><td>Train Loss</td><td>█▁▁▁▁▁▁▁▁▁▁▁▁▁▁</td></tr><tr><td>Validation AUC</td><td>▁█▇████████████</td></tr><tr><td>Validation Accuracy</td><td>▁▇▇█▇▇▇███████▇</td></tr><tr><td>Validation F1</td><td>▁▇▇█▇▇▇███████▇</td></tr><tr><td>Validation Loss</td><td>█▃▄▂▃▄▃▂▃▂▂▂▁▁▃</td></tr><tr><td>Validation Precision</td><td>▁▇▇█▇▇▇███████▇</td></tr><tr><td>Validation Recall</td><td>▁▇▇█▇▇▇███████▇</td></tr><tr><td>Validation Specificity</td><td>▁▇▇█▇▇▆███████▇</td></tr></table><br/></div><div class=\"wandb-col\"><h3>Run summary:</h3><br/><table class=\"wandb\"><tr><td>AUC</td><td>1</td></tr><tr><td>Epoch</td><td>15</td></tr><tr><td>Fold</td><td>0</td></tr><tr><td>Train Accuracy</td><td>1</td></tr><tr><td>Train Loss</td><td>4e-05</td></tr><tr><td>Validation AUC</td><td>1</td></tr><tr><td>Validation Accuracy</td><td>0.99945</td></tr><tr><td>Validation F1</td><td>0.99945</td></tr><tr><td>Validation Loss</td><td>0.00214</td></tr><tr><td>Validation Precision</td><td>0.99946</td></tr><tr><td>Validation Recall</td><td>0.99945</td></tr><tr><td>Validation Specificity</td><td>0.99942</td></tr></table><br/></div></div>"
      ]
     },
     "metadata": {},
     "output_type": "display_data"
    },
    {
     "data": {
      "text/plain": [
       "<IPython.core.display.HTML object>"
      ],
      "text/html": [
       " View run <strong style=\"color:#cdcd00\">AlexNet_trial_12_fold_0</strong> at: <a href='https://wandb.ai/amitr5-tel-aviv-university/AlexNet-deep_van_gogh-aug-26.3.2025/runs/mm947a8k' target=\"_blank\">https://wandb.ai/amitr5-tel-aviv-university/AlexNet-deep_van_gogh-aug-26.3.2025/runs/mm947a8k</a><br> View project at: <a href='https://wandb.ai/amitr5-tel-aviv-university/AlexNet-deep_van_gogh-aug-26.3.2025' target=\"_blank\">https://wandb.ai/amitr5-tel-aviv-university/AlexNet-deep_van_gogh-aug-26.3.2025</a><br>Synced 5 W&B file(s), 0 media file(s), 0 artifact file(s) and 0 other file(s)"
      ]
     },
     "metadata": {},
     "output_type": "display_data"
    },
    {
     "data": {
      "text/plain": [
       "<IPython.core.display.HTML object>"
      ],
      "text/html": [
       "Find logs at: <code>.\\wandb\\run-20250326_185435-mm947a8k\\logs</code>"
      ]
     },
     "metadata": {},
     "output_type": "display_data"
    },
    {
     "data": {
      "text/plain": [
       "<IPython.core.display.HTML object>"
      ],
      "text/html": [
       "Tracking run with wandb version 0.19.1"
      ]
     },
     "metadata": {},
     "output_type": "display_data"
    },
    {
     "data": {
      "text/plain": [
       "<IPython.core.display.HTML object>"
      ],
      "text/html": [
       "Run data is saved locally in <code>D:\\Users\\kanatcohen\\PycharmProjects\\deep_van_gogh\\wandb\\run-20250326_185624-1hvuf26h</code>"
      ]
     },
     "metadata": {},
     "output_type": "display_data"
    },
    {
     "data": {
      "text/plain": [
       "<IPython.core.display.HTML object>"
      ],
      "text/html": [
       "Syncing run <strong><a href='https://wandb.ai/amitr5-tel-aviv-university/AlexNet-deep_van_gogh-aug-26.3.2025/runs/1hvuf26h' target=\"_blank\">AlexNet_trial_12_fold_1</a></strong> to <a href='https://wandb.ai/amitr5-tel-aviv-university/AlexNet-deep_van_gogh-aug-26.3.2025' target=\"_blank\">Weights & Biases</a> (<a href='https://wandb.me/developer-guide' target=\"_blank\">docs</a>)<br>"
      ]
     },
     "metadata": {},
     "output_type": "display_data"
    },
    {
     "data": {
      "text/plain": [
       "<IPython.core.display.HTML object>"
      ],
      "text/html": [
       " View project at <a href='https://wandb.ai/amitr5-tel-aviv-university/AlexNet-deep_van_gogh-aug-26.3.2025' target=\"_blank\">https://wandb.ai/amitr5-tel-aviv-university/AlexNet-deep_van_gogh-aug-26.3.2025</a>"
      ]
     },
     "metadata": {},
     "output_type": "display_data"
    },
    {
     "data": {
      "text/plain": [
       "<IPython.core.display.HTML object>"
      ],
      "text/html": [
       " View run at <a href='https://wandb.ai/amitr5-tel-aviv-university/AlexNet-deep_van_gogh-aug-26.3.2025/runs/1hvuf26h' target=\"_blank\">https://wandb.ai/amitr5-tel-aviv-university/AlexNet-deep_van_gogh-aug-26.3.2025/runs/1hvuf26h</a>"
      ]
     },
     "metadata": {},
     "output_type": "display_data"
    },
    {
     "data": {
      "text/plain": [
       "<IPython.core.display.HTML object>"
      ],
      "text/html": []
     },
     "metadata": {},
     "output_type": "display_data"
    },
    {
     "data": {
      "text/plain": [
       "<IPython.core.display.HTML object>"
      ],
      "text/html": [
       "<br>    <style><br>        .wandb-row {<br>            display: flex;<br>            flex-direction: row;<br>            flex-wrap: wrap;<br>            justify-content: flex-start;<br>            width: 100%;<br>        }<br>        .wandb-col {<br>            display: flex;<br>            flex-direction: column;<br>            flex-basis: 100%;<br>            flex: 1;<br>            padding: 10px;<br>        }<br>    </style><br><div class=\"wandb-row\"><div class=\"wandb-col\"><h3>Run history:</h3><br/><table class=\"wandb\"><tr><td>AUC</td><td>▁</td></tr><tr><td>Epoch</td><td>▁▂▃▃▄▅▆▆▇█</td></tr><tr><td>Fold</td><td>▁</td></tr><tr><td>Train Accuracy</td><td>▁█▇███████</td></tr><tr><td>Train Loss</td><td>█▁▁▁▁▁▁▁▁▁</td></tr><tr><td>Validation AUC</td><td>▁▁▁▁▁▁▁▁▁▁</td></tr><tr><td>Validation Accuracy</td><td>▁▁▁▁▁▁▁▁▁▁</td></tr><tr><td>Validation F1</td><td>▁▁▁▁▁▁▁▁▁▁</td></tr><tr><td>Validation Loss</td><td>▃▂▃▂▁▃▁▁▁█</td></tr><tr><td>Validation Precision</td><td>▁▁▁▁▁▁▁▁▁▁</td></tr><tr><td>Validation Recall</td><td>▁▁▁▁▁▁▁▁▁▁</td></tr><tr><td>Validation Specificity</td><td>▁▁▁▁▁▁▁▁▁▁</td></tr></table><br/></div><div class=\"wandb-col\"><h3>Run summary:</h3><br/><table class=\"wandb\"><tr><td>AUC</td><td>1</td></tr><tr><td>Epoch</td><td>10</td></tr><tr><td>Fold</td><td>1</td></tr><tr><td>Train Accuracy</td><td>0.99964</td></tr><tr><td>Train Loss</td><td>0.00164</td></tr><tr><td>Validation AUC</td><td>1</td></tr><tr><td>Validation Accuracy</td><td>1</td></tr><tr><td>Validation F1</td><td>1</td></tr><tr><td>Validation Loss</td><td>0.00033</td></tr><tr><td>Validation Precision</td><td>1</td></tr><tr><td>Validation Recall</td><td>1</td></tr><tr><td>Validation Specificity</td><td>1</td></tr></table><br/></div></div>"
      ]
     },
     "metadata": {},
     "output_type": "display_data"
    },
    {
     "data": {
      "text/plain": [
       "<IPython.core.display.HTML object>"
      ],
      "text/html": [
       " View run <strong style=\"color:#cdcd00\">AlexNet_trial_12_fold_1</strong> at: <a href='https://wandb.ai/amitr5-tel-aviv-university/AlexNet-deep_van_gogh-aug-26.3.2025/runs/1hvuf26h' target=\"_blank\">https://wandb.ai/amitr5-tel-aviv-university/AlexNet-deep_van_gogh-aug-26.3.2025/runs/1hvuf26h</a><br> View project at: <a href='https://wandb.ai/amitr5-tel-aviv-university/AlexNet-deep_van_gogh-aug-26.3.2025' target=\"_blank\">https://wandb.ai/amitr5-tel-aviv-university/AlexNet-deep_van_gogh-aug-26.3.2025</a><br>Synced 5 W&B file(s), 0 media file(s), 0 artifact file(s) and 0 other file(s)"
      ]
     },
     "metadata": {},
     "output_type": "display_data"
    },
    {
     "data": {
      "text/plain": [
       "<IPython.core.display.HTML object>"
      ],
      "text/html": [
       "Find logs at: <code>.\\wandb\\run-20250326_185624-1hvuf26h\\logs</code>"
      ]
     },
     "metadata": {},
     "output_type": "display_data"
    },
    {
     "data": {
      "text/plain": [
       "<IPython.core.display.HTML object>"
      ],
      "text/html": [
       "Tracking run with wandb version 0.19.1"
      ]
     },
     "metadata": {},
     "output_type": "display_data"
    },
    {
     "data": {
      "text/plain": [
       "<IPython.core.display.HTML object>"
      ],
      "text/html": [
       "Run data is saved locally in <code>D:\\Users\\kanatcohen\\PycharmProjects\\deep_van_gogh\\wandb\\run-20250326_185738-tpoc7f1k</code>"
      ]
     },
     "metadata": {},
     "output_type": "display_data"
    },
    {
     "data": {
      "text/plain": [
       "<IPython.core.display.HTML object>"
      ],
      "text/html": [
       "Syncing run <strong><a href='https://wandb.ai/amitr5-tel-aviv-university/AlexNet-deep_van_gogh-aug-26.3.2025/runs/tpoc7f1k' target=\"_blank\">AlexNet_trial_12_fold_2</a></strong> to <a href='https://wandb.ai/amitr5-tel-aviv-university/AlexNet-deep_van_gogh-aug-26.3.2025' target=\"_blank\">Weights & Biases</a> (<a href='https://wandb.me/developer-guide' target=\"_blank\">docs</a>)<br>"
      ]
     },
     "metadata": {},
     "output_type": "display_data"
    },
    {
     "data": {
      "text/plain": [
       "<IPython.core.display.HTML object>"
      ],
      "text/html": [
       " View project at <a href='https://wandb.ai/amitr5-tel-aviv-university/AlexNet-deep_van_gogh-aug-26.3.2025' target=\"_blank\">https://wandb.ai/amitr5-tel-aviv-university/AlexNet-deep_van_gogh-aug-26.3.2025</a>"
      ]
     },
     "metadata": {},
     "output_type": "display_data"
    },
    {
     "data": {
      "text/plain": [
       "<IPython.core.display.HTML object>"
      ],
      "text/html": [
       " View run at <a href='https://wandb.ai/amitr5-tel-aviv-university/AlexNet-deep_van_gogh-aug-26.3.2025/runs/tpoc7f1k' target=\"_blank\">https://wandb.ai/amitr5-tel-aviv-university/AlexNet-deep_van_gogh-aug-26.3.2025/runs/tpoc7f1k</a>"
      ]
     },
     "metadata": {},
     "output_type": "display_data"
    },
    {
     "data": {
      "text/plain": [
       "<IPython.core.display.HTML object>"
      ],
      "text/html": []
     },
     "metadata": {},
     "output_type": "display_data"
    },
    {
     "data": {
      "text/plain": [
       "<IPython.core.display.HTML object>"
      ],
      "text/html": [
       "<br>    <style><br>        .wandb-row {<br>            display: flex;<br>            flex-direction: row;<br>            flex-wrap: wrap;<br>            justify-content: flex-start;<br>            width: 100%;<br>        }<br>        .wandb-col {<br>            display: flex;<br>            flex-direction: column;<br>            flex-basis: 100%;<br>            flex: 1;<br>            padding: 10px;<br>        }<br>    </style><br><div class=\"wandb-row\"><div class=\"wandb-col\"><h3>Run history:</h3><br/><table class=\"wandb\"><tr><td>AUC</td><td>▁</td></tr><tr><td>Epoch</td><td>▁▂▃▃▄▅▆▆▇█</td></tr><tr><td>Fold</td><td>▁</td></tr><tr><td>Train Accuracy</td><td>▁█████████</td></tr><tr><td>Train Loss</td><td>█▁▁▂▁▁▁▁▂▂</td></tr><tr><td>Validation AUC</td><td>▁▁▁▁▁▁▁▁▁▁</td></tr><tr><td>Validation Accuracy</td><td>█████▄██▁█</td></tr><tr><td>Validation F1</td><td>█████▄██▁█</td></tr><tr><td>Validation Loss</td><td>▁▁▁▁▁▆▁▁█▂</td></tr><tr><td>Validation Precision</td><td>█████▄██▁█</td></tr><tr><td>Validation Recall</td><td>█████▄██▁█</td></tr><tr><td>Validation Specificity</td><td>████████▁█</td></tr></table><br/></div><div class=\"wandb-col\"><h3>Run summary:</h3><br/><table class=\"wandb\"><tr><td>AUC</td><td>1</td></tr><tr><td>Epoch</td><td>10</td></tr><tr><td>Fold</td><td>2</td></tr><tr><td>Train Accuracy</td><td>0.99945</td></tr><tr><td>Train Loss</td><td>0.00152</td></tr><tr><td>Validation AUC</td><td>1</td></tr><tr><td>Validation Accuracy</td><td>1</td></tr><tr><td>Validation F1</td><td>1</td></tr><tr><td>Validation Loss</td><td>0.0006</td></tr><tr><td>Validation Precision</td><td>1</td></tr><tr><td>Validation Recall</td><td>1</td></tr><tr><td>Validation Specificity</td><td>1</td></tr></table><br/></div></div>"
      ]
     },
     "metadata": {},
     "output_type": "display_data"
    },
    {
     "data": {
      "text/plain": [
       "<IPython.core.display.HTML object>"
      ],
      "text/html": [
       " View run <strong style=\"color:#cdcd00\">AlexNet_trial_12_fold_2</strong> at: <a href='https://wandb.ai/amitr5-tel-aviv-university/AlexNet-deep_van_gogh-aug-26.3.2025/runs/tpoc7f1k' target=\"_blank\">https://wandb.ai/amitr5-tel-aviv-university/AlexNet-deep_van_gogh-aug-26.3.2025/runs/tpoc7f1k</a><br> View project at: <a href='https://wandb.ai/amitr5-tel-aviv-university/AlexNet-deep_van_gogh-aug-26.3.2025' target=\"_blank\">https://wandb.ai/amitr5-tel-aviv-university/AlexNet-deep_van_gogh-aug-26.3.2025</a><br>Synced 5 W&B file(s), 0 media file(s), 0 artifact file(s) and 0 other file(s)"
      ]
     },
     "metadata": {},
     "output_type": "display_data"
    },
    {
     "data": {
      "text/plain": [
       "<IPython.core.display.HTML object>"
      ],
      "text/html": [
       "Find logs at: <code>.\\wandb\\run-20250326_185738-tpoc7f1k\\logs</code>"
      ]
     },
     "metadata": {},
     "output_type": "display_data"
    },
    {
     "data": {
      "text/plain": [
       "<IPython.core.display.HTML object>"
      ],
      "text/html": [
       "Tracking run with wandb version 0.19.1"
      ]
     },
     "metadata": {},
     "output_type": "display_data"
    },
    {
     "data": {
      "text/plain": [
       "<IPython.core.display.HTML object>"
      ],
      "text/html": [
       "Run data is saved locally in <code>D:\\Users\\kanatcohen\\PycharmProjects\\deep_van_gogh\\wandb\\run-20250326_185851-9ri5ifcm</code>"
      ]
     },
     "metadata": {},
     "output_type": "display_data"
    },
    {
     "data": {
      "text/plain": [
       "<IPython.core.display.HTML object>"
      ],
      "text/html": [
       "Syncing run <strong><a href='https://wandb.ai/amitr5-tel-aviv-university/AlexNet-deep_van_gogh-aug-26.3.2025/runs/9ri5ifcm' target=\"_blank\">AlexNet_trial_12_fold_3</a></strong> to <a href='https://wandb.ai/amitr5-tel-aviv-university/AlexNet-deep_van_gogh-aug-26.3.2025' target=\"_blank\">Weights & Biases</a> (<a href='https://wandb.me/developer-guide' target=\"_blank\">docs</a>)<br>"
      ]
     },
     "metadata": {},
     "output_type": "display_data"
    },
    {
     "data": {
      "text/plain": [
       "<IPython.core.display.HTML object>"
      ],
      "text/html": [
       " View project at <a href='https://wandb.ai/amitr5-tel-aviv-university/AlexNet-deep_van_gogh-aug-26.3.2025' target=\"_blank\">https://wandb.ai/amitr5-tel-aviv-university/AlexNet-deep_van_gogh-aug-26.3.2025</a>"
      ]
     },
     "metadata": {},
     "output_type": "display_data"
    },
    {
     "data": {
      "text/plain": [
       "<IPython.core.display.HTML object>"
      ],
      "text/html": [
       " View run at <a href='https://wandb.ai/amitr5-tel-aviv-university/AlexNet-deep_van_gogh-aug-26.3.2025/runs/9ri5ifcm' target=\"_blank\">https://wandb.ai/amitr5-tel-aviv-university/AlexNet-deep_van_gogh-aug-26.3.2025/runs/9ri5ifcm</a>"
      ]
     },
     "metadata": {},
     "output_type": "display_data"
    },
    {
     "data": {
      "text/plain": [
       "<IPython.core.display.HTML object>"
      ],
      "text/html": []
     },
     "metadata": {},
     "output_type": "display_data"
    },
    {
     "data": {
      "text/plain": [
       "<IPython.core.display.HTML object>"
      ],
      "text/html": [
       "<br>    <style><br>        .wandb-row {<br>            display: flex;<br>            flex-direction: row;<br>            flex-wrap: wrap;<br>            justify-content: flex-start;<br>            width: 100%;<br>        }<br>        .wandb-col {<br>            display: flex;<br>            flex-direction: column;<br>            flex-basis: 100%;<br>            flex: 1;<br>            padding: 10px;<br>        }<br>    </style><br><div class=\"wandb-row\"><div class=\"wandb-col\"><h3>Run history:</h3><br/><table class=\"wandb\"><tr><td>AUC</td><td>▁</td></tr><tr><td>Epoch</td><td>▁▂▃▃▄▅▆▆▇█</td></tr><tr><td>Fold</td><td>▁</td></tr><tr><td>Train Accuracy</td><td>▁█████████</td></tr><tr><td>Train Loss</td><td>█▁▁▁▁▁▁▁▂▁</td></tr><tr><td>Validation AUC</td><td>▁▁▁▁▁▁▁▁▁▁</td></tr><tr><td>Validation Accuracy</td><td>███████▁██</td></tr><tr><td>Validation F1</td><td>███████▁██</td></tr><tr><td>Validation Loss</td><td>▁▁▁▂▁▂▁█▂▂</td></tr><tr><td>Validation Precision</td><td>███████▁██</td></tr><tr><td>Validation Recall</td><td>███████▁██</td></tr><tr><td>Validation Specificity</td><td>███████▁██</td></tr></table><br/></div><div class=\"wandb-col\"><h3>Run summary:</h3><br/><table class=\"wandb\"><tr><td>AUC</td><td>1</td></tr><tr><td>Epoch</td><td>10</td></tr><tr><td>Fold</td><td>3</td></tr><tr><td>Train Accuracy</td><td>1</td></tr><tr><td>Train Loss</td><td>3e-05</td></tr><tr><td>Validation AUC</td><td>1</td></tr><tr><td>Validation Accuracy</td><td>1</td></tr><tr><td>Validation F1</td><td>1</td></tr><tr><td>Validation Loss</td><td>9e-05</td></tr><tr><td>Validation Precision</td><td>1</td></tr><tr><td>Validation Recall</td><td>1</td></tr><tr><td>Validation Specificity</td><td>1</td></tr></table><br/></div></div>"
      ]
     },
     "metadata": {},
     "output_type": "display_data"
    },
    {
     "data": {
      "text/plain": [
       "<IPython.core.display.HTML object>"
      ],
      "text/html": [
       " View run <strong style=\"color:#cdcd00\">AlexNet_trial_12_fold_3</strong> at: <a href='https://wandb.ai/amitr5-tel-aviv-university/AlexNet-deep_van_gogh-aug-26.3.2025/runs/9ri5ifcm' target=\"_blank\">https://wandb.ai/amitr5-tel-aviv-university/AlexNet-deep_van_gogh-aug-26.3.2025/runs/9ri5ifcm</a><br> View project at: <a href='https://wandb.ai/amitr5-tel-aviv-university/AlexNet-deep_van_gogh-aug-26.3.2025' target=\"_blank\">https://wandb.ai/amitr5-tel-aviv-university/AlexNet-deep_van_gogh-aug-26.3.2025</a><br>Synced 5 W&B file(s), 0 media file(s), 0 artifact file(s) and 0 other file(s)"
      ]
     },
     "metadata": {},
     "output_type": "display_data"
    },
    {
     "data": {
      "text/plain": [
       "<IPython.core.display.HTML object>"
      ],
      "text/html": [
       "Find logs at: <code>.\\wandb\\run-20250326_185851-9ri5ifcm\\logs</code>"
      ]
     },
     "metadata": {},
     "output_type": "display_data"
    },
    {
     "data": {
      "text/plain": [
       "<IPython.core.display.HTML object>"
      ],
      "text/html": [
       "Tracking run with wandb version 0.19.1"
      ]
     },
     "metadata": {},
     "output_type": "display_data"
    },
    {
     "data": {
      "text/plain": [
       "<IPython.core.display.HTML object>"
      ],
      "text/html": [
       "Run data is saved locally in <code>D:\\Users\\kanatcohen\\PycharmProjects\\deep_van_gogh\\wandb\\run-20250326_190002-euzeyj6c</code>"
      ]
     },
     "metadata": {},
     "output_type": "display_data"
    },
    {
     "data": {
      "text/plain": [
       "<IPython.core.display.HTML object>"
      ],
      "text/html": [
       "Syncing run <strong><a href='https://wandb.ai/amitr5-tel-aviv-university/AlexNet-deep_van_gogh-aug-26.3.2025/runs/euzeyj6c' target=\"_blank\">AlexNet_trial_12</a></strong> to <a href='https://wandb.ai/amitr5-tel-aviv-university/AlexNet-deep_van_gogh-aug-26.3.2025' target=\"_blank\">Weights & Biases</a> (<a href='https://wandb.me/developer-guide' target=\"_blank\">docs</a>)<br>"
      ]
     },
     "metadata": {},
     "output_type": "display_data"
    },
    {
     "data": {
      "text/plain": [
       "<IPython.core.display.HTML object>"
      ],
      "text/html": [
       " View project at <a href='https://wandb.ai/amitr5-tel-aviv-university/AlexNet-deep_van_gogh-aug-26.3.2025' target=\"_blank\">https://wandb.ai/amitr5-tel-aviv-university/AlexNet-deep_van_gogh-aug-26.3.2025</a>"
      ]
     },
     "metadata": {},
     "output_type": "display_data"
    },
    {
     "data": {
      "text/plain": [
       "<IPython.core.display.HTML object>"
      ],
      "text/html": [
       " View run at <a href='https://wandb.ai/amitr5-tel-aviv-university/AlexNet-deep_van_gogh-aug-26.3.2025/runs/euzeyj6c' target=\"_blank\">https://wandb.ai/amitr5-tel-aviv-university/AlexNet-deep_van_gogh-aug-26.3.2025/runs/euzeyj6c</a>"
      ]
     },
     "metadata": {},
     "output_type": "display_data"
    },
    {
     "data": {
      "text/plain": [
       "<IPython.core.display.HTML object>"
      ],
      "text/html": []
     },
     "metadata": {},
     "output_type": "display_data"
    },
    {
     "data": {
      "text/plain": [
       "<IPython.core.display.HTML object>"
      ],
      "text/html": [
       "<br>    <style><br>        .wandb-row {<br>            display: flex;<br>            flex-direction: row;<br>            flex-wrap: wrap;<br>            justify-content: flex-start;<br>            width: 100%;<br>        }<br>        .wandb-col {<br>            display: flex;<br>            flex-direction: column;<br>            flex-basis: 100%;<br>            flex: 1;<br>            padding: 10px;<br>        }<br>    </style><br><div class=\"wandb-row\"><div class=\"wandb-col\"><h3>Run history:</h3><br/><table class=\"wandb\"><tr><td>Mean AUC</td><td>▁</td></tr><tr><td>Trial</td><td>▁</td></tr></table><br/></div><div class=\"wandb-col\"><h3>Run summary:</h3><br/><table class=\"wandb\"><tr><td>Mean AUC</td><td>1</td></tr><tr><td>Trial</td><td>12</td></tr></table><br/></div></div>"
      ]
     },
     "metadata": {},
     "output_type": "display_data"
    },
    {
     "data": {
      "text/plain": [
       "<IPython.core.display.HTML object>"
      ],
      "text/html": [
       " View run <strong style=\"color:#cdcd00\">AlexNet_trial_12</strong> at: <a href='https://wandb.ai/amitr5-tel-aviv-university/AlexNet-deep_van_gogh-aug-26.3.2025/runs/euzeyj6c' target=\"_blank\">https://wandb.ai/amitr5-tel-aviv-university/AlexNet-deep_van_gogh-aug-26.3.2025/runs/euzeyj6c</a><br> View project at: <a href='https://wandb.ai/amitr5-tel-aviv-university/AlexNet-deep_van_gogh-aug-26.3.2025' target=\"_blank\">https://wandb.ai/amitr5-tel-aviv-university/AlexNet-deep_van_gogh-aug-26.3.2025</a><br>Synced 5 W&B file(s), 0 media file(s), 0 artifact file(s) and 0 other file(s)"
      ]
     },
     "metadata": {},
     "output_type": "display_data"
    },
    {
     "data": {
      "text/plain": [
       "<IPython.core.display.HTML object>"
      ],
      "text/html": [
       "Find logs at: <code>.\\wandb\\run-20250326_190002-euzeyj6c\\logs</code>"
      ]
     },
     "metadata": {},
     "output_type": "display_data"
    },
    {
     "name": "stderr",
     "output_type": "stream",
     "text": [
      "[I 2025-03-26 19:00:06,491] Trial 11 finished with value: 1.0 and parameters: {'learning_rate': 6.079940473796466e-05, 'weight_decay': 9.611966217991384e-05, 'epochs': 15, 'num_layers_finetune': 0}. Best is trial 2 with value: 1.0.\n"
     ]
    },
    {
     "data": {
      "text/plain": [
       "<IPython.core.display.HTML object>"
      ],
      "text/html": [
       "Tracking run with wandb version 0.19.1"
      ]
     },
     "metadata": {},
     "output_type": "display_data"
    },
    {
     "data": {
      "text/plain": [
       "<IPython.core.display.HTML object>"
      ],
      "text/html": [
       "Run data is saved locally in <code>D:\\Users\\kanatcohen\\PycharmProjects\\deep_van_gogh\\wandb\\run-20250326_190006-ysctwy8y</code>"
      ]
     },
     "metadata": {},
     "output_type": "display_data"
    },
    {
     "data": {
      "text/plain": [
       "<IPython.core.display.HTML object>"
      ],
      "text/html": [
       "Syncing run <strong><a href='https://wandb.ai/amitr5-tel-aviv-university/AlexNet-deep_van_gogh-aug-26.3.2025/runs/ysctwy8y' target=\"_blank\">AlexNet_trial_13_fold_0</a></strong> to <a href='https://wandb.ai/amitr5-tel-aviv-university/AlexNet-deep_van_gogh-aug-26.3.2025' target=\"_blank\">Weights & Biases</a> (<a href='https://wandb.me/developer-guide' target=\"_blank\">docs</a>)<br>"
      ]
     },
     "metadata": {},
     "output_type": "display_data"
    },
    {
     "data": {
      "text/plain": [
       "<IPython.core.display.HTML object>"
      ],
      "text/html": [
       " View project at <a href='https://wandb.ai/amitr5-tel-aviv-university/AlexNet-deep_van_gogh-aug-26.3.2025' target=\"_blank\">https://wandb.ai/amitr5-tel-aviv-university/AlexNet-deep_van_gogh-aug-26.3.2025</a>"
      ]
     },
     "metadata": {},
     "output_type": "display_data"
    },
    {
     "data": {
      "text/plain": [
       "<IPython.core.display.HTML object>"
      ],
      "text/html": [
       " View run at <a href='https://wandb.ai/amitr5-tel-aviv-university/AlexNet-deep_van_gogh-aug-26.3.2025/runs/ysctwy8y' target=\"_blank\">https://wandb.ai/amitr5-tel-aviv-university/AlexNet-deep_van_gogh-aug-26.3.2025/runs/ysctwy8y</a>"
      ]
     },
     "metadata": {},
     "output_type": "display_data"
    },
    {
     "data": {
      "text/plain": [
       "<IPython.core.display.HTML object>"
      ],
      "text/html": []
     },
     "metadata": {},
     "output_type": "display_data"
    },
    {
     "data": {
      "text/plain": [
       "<IPython.core.display.HTML object>"
      ],
      "text/html": [
       "<br>    <style><br>        .wandb-row {<br>            display: flex;<br>            flex-direction: row;<br>            flex-wrap: wrap;<br>            justify-content: flex-start;<br>            width: 100%;<br>        }<br>        .wandb-col {<br>            display: flex;<br>            flex-direction: column;<br>            flex-basis: 100%;<br>            flex: 1;<br>            padding: 10px;<br>        }<br>    </style><br><div class=\"wandb-row\"><div class=\"wandb-col\"><h3>Run history:</h3><br/><table class=\"wandb\"><tr><td>AUC</td><td>▁</td></tr><tr><td>Epoch</td><td>▁▂▃▃▄▅▆▆▇█</td></tr><tr><td>Fold</td><td>▁</td></tr><tr><td>Train Accuracy</td><td>▁█████████</td></tr><tr><td>Train Loss</td><td>█▁▁▁▁▁▁▁▁▁</td></tr><tr><td>Validation AUC</td><td>▁▁▁▁▁▁▁▁▁▁</td></tr><tr><td>Validation Accuracy</td><td>▁▁▁▁▁▁▁▁▁▁</td></tr><tr><td>Validation F1</td><td>▁▁▁▁▁▁▁▁▁▁</td></tr><tr><td>Validation Loss</td><td>█▃▃▅▁▂▁▁▁▁</td></tr><tr><td>Validation Precision</td><td>▁▁▁▁▁▁▁▁▁▁</td></tr><tr><td>Validation Recall</td><td>▁▁▁▁▁▁▁▁▁▁</td></tr><tr><td>Validation Specificity</td><td>▁▁▁▁▁▁▁▁▁▁</td></tr></table><br/></div><div class=\"wandb-col\"><h3>Run summary:</h3><br/><table class=\"wandb\"><tr><td>AUC</td><td>1</td></tr><tr><td>Epoch</td><td>10</td></tr><tr><td>Fold</td><td>0</td></tr><tr><td>Train Accuracy</td><td>1</td></tr><tr><td>Train Loss</td><td>1e-05</td></tr><tr><td>Validation AUC</td><td>1</td></tr><tr><td>Validation Accuracy</td><td>1</td></tr><tr><td>Validation F1</td><td>1</td></tr><tr><td>Validation Loss</td><td>0.0</td></tr><tr><td>Validation Precision</td><td>1</td></tr><tr><td>Validation Recall</td><td>1</td></tr><tr><td>Validation Specificity</td><td>1</td></tr></table><br/></div></div>"
      ]
     },
     "metadata": {},
     "output_type": "display_data"
    },
    {
     "data": {
      "text/plain": [
       "<IPython.core.display.HTML object>"
      ],
      "text/html": [
       " View run <strong style=\"color:#cdcd00\">AlexNet_trial_13_fold_0</strong> at: <a href='https://wandb.ai/amitr5-tel-aviv-university/AlexNet-deep_van_gogh-aug-26.3.2025/runs/ysctwy8y' target=\"_blank\">https://wandb.ai/amitr5-tel-aviv-university/AlexNet-deep_van_gogh-aug-26.3.2025/runs/ysctwy8y</a><br> View project at: <a href='https://wandb.ai/amitr5-tel-aviv-university/AlexNet-deep_van_gogh-aug-26.3.2025' target=\"_blank\">https://wandb.ai/amitr5-tel-aviv-university/AlexNet-deep_van_gogh-aug-26.3.2025</a><br>Synced 5 W&B file(s), 0 media file(s), 0 artifact file(s) and 0 other file(s)"
      ]
     },
     "metadata": {},
     "output_type": "display_data"
    },
    {
     "data": {
      "text/plain": [
       "<IPython.core.display.HTML object>"
      ],
      "text/html": [
       "Find logs at: <code>.\\wandb\\run-20250326_190006-ysctwy8y\\logs</code>"
      ]
     },
     "metadata": {},
     "output_type": "display_data"
    },
    {
     "data": {
      "text/plain": [
       "<IPython.core.display.HTML object>"
      ],
      "text/html": [
       "Tracking run with wandb version 0.19.1"
      ]
     },
     "metadata": {},
     "output_type": "display_data"
    },
    {
     "data": {
      "text/plain": [
       "<IPython.core.display.HTML object>"
      ],
      "text/html": [
       "Run data is saved locally in <code>D:\\Users\\kanatcohen\\PycharmProjects\\deep_van_gogh\\wandb\\run-20250326_190102-wqdnckr0</code>"
      ]
     },
     "metadata": {},
     "output_type": "display_data"
    },
    {
     "data": {
      "text/plain": [
       "<IPython.core.display.HTML object>"
      ],
      "text/html": [
       "Syncing run <strong><a href='https://wandb.ai/amitr5-tel-aviv-university/AlexNet-deep_van_gogh-aug-26.3.2025/runs/wqdnckr0' target=\"_blank\">AlexNet_trial_13_fold_1</a></strong> to <a href='https://wandb.ai/amitr5-tel-aviv-university/AlexNet-deep_van_gogh-aug-26.3.2025' target=\"_blank\">Weights & Biases</a> (<a href='https://wandb.me/developer-guide' target=\"_blank\">docs</a>)<br>"
      ]
     },
     "metadata": {},
     "output_type": "display_data"
    },
    {
     "data": {
      "text/plain": [
       "<IPython.core.display.HTML object>"
      ],
      "text/html": [
       " View project at <a href='https://wandb.ai/amitr5-tel-aviv-university/AlexNet-deep_van_gogh-aug-26.3.2025' target=\"_blank\">https://wandb.ai/amitr5-tel-aviv-university/AlexNet-deep_van_gogh-aug-26.3.2025</a>"
      ]
     },
     "metadata": {},
     "output_type": "display_data"
    },
    {
     "data": {
      "text/plain": [
       "<IPython.core.display.HTML object>"
      ],
      "text/html": [
       " View run at <a href='https://wandb.ai/amitr5-tel-aviv-university/AlexNet-deep_van_gogh-aug-26.3.2025/runs/wqdnckr0' target=\"_blank\">https://wandb.ai/amitr5-tel-aviv-university/AlexNet-deep_van_gogh-aug-26.3.2025/runs/wqdnckr0</a>"
      ]
     },
     "metadata": {},
     "output_type": "display_data"
    },
    {
     "data": {
      "text/plain": [
       "<IPython.core.display.HTML object>"
      ],
      "text/html": []
     },
     "metadata": {},
     "output_type": "display_data"
    },
    {
     "data": {
      "text/plain": [
       "<IPython.core.display.HTML object>"
      ],
      "text/html": [
       "<br>    <style><br>        .wandb-row {<br>            display: flex;<br>            flex-direction: row;<br>            flex-wrap: wrap;<br>            justify-content: flex-start;<br>            width: 100%;<br>        }<br>        .wandb-col {<br>            display: flex;<br>            flex-direction: column;<br>            flex-basis: 100%;<br>            flex: 1;<br>            padding: 10px;<br>        }<br>    </style><br><div class=\"wandb-row\"><div class=\"wandb-col\"><h3>Run history:</h3><br/><table class=\"wandb\"><tr><td>AUC</td><td>▁</td></tr><tr><td>Epoch</td><td>▁▂▃▃▄▅▆▆▇█</td></tr><tr><td>Fold</td><td>▁</td></tr><tr><td>Train Accuracy</td><td>▁█████████</td></tr><tr><td>Train Loss</td><td>█▁▁▁▁▁▁▁▁▁</td></tr><tr><td>Validation AUC</td><td>▁▁▁▁▁▁▁▁▁▁</td></tr><tr><td>Validation Accuracy</td><td>▁▁▁▁▁▁▁▁▁▁</td></tr><tr><td>Validation F1</td><td>▁▁▁▁▁▁▁▁▁▁</td></tr><tr><td>Validation Loss</td><td>█▄▃▁▁▃▃▁▁▁</td></tr><tr><td>Validation Precision</td><td>▁▁▁▁▁▁▁▁▁▁</td></tr><tr><td>Validation Recall</td><td>▁▁▁▁▁▁▁▁▁▁</td></tr><tr><td>Validation Specificity</td><td>▁▁▁▁▁▁▁▁▁▁</td></tr></table><br/></div><div class=\"wandb-col\"><h3>Run summary:</h3><br/><table class=\"wandb\"><tr><td>AUC</td><td>1</td></tr><tr><td>Epoch</td><td>10</td></tr><tr><td>Fold</td><td>1</td></tr><tr><td>Train Accuracy</td><td>1</td></tr><tr><td>Train Loss</td><td>4e-05</td></tr><tr><td>Validation AUC</td><td>1</td></tr><tr><td>Validation Accuracy</td><td>1</td></tr><tr><td>Validation F1</td><td>1</td></tr><tr><td>Validation Loss</td><td>0.0</td></tr><tr><td>Validation Precision</td><td>1</td></tr><tr><td>Validation Recall</td><td>1</td></tr><tr><td>Validation Specificity</td><td>1</td></tr></table><br/></div></div>"
      ]
     },
     "metadata": {},
     "output_type": "display_data"
    },
    {
     "data": {
      "text/plain": [
       "<IPython.core.display.HTML object>"
      ],
      "text/html": [
       " View run <strong style=\"color:#cdcd00\">AlexNet_trial_13_fold_1</strong> at: <a href='https://wandb.ai/amitr5-tel-aviv-university/AlexNet-deep_van_gogh-aug-26.3.2025/runs/wqdnckr0' target=\"_blank\">https://wandb.ai/amitr5-tel-aviv-university/AlexNet-deep_van_gogh-aug-26.3.2025/runs/wqdnckr0</a><br> View project at: <a href='https://wandb.ai/amitr5-tel-aviv-university/AlexNet-deep_van_gogh-aug-26.3.2025' target=\"_blank\">https://wandb.ai/amitr5-tel-aviv-university/AlexNet-deep_van_gogh-aug-26.3.2025</a><br>Synced 5 W&B file(s), 0 media file(s), 0 artifact file(s) and 0 other file(s)"
      ]
     },
     "metadata": {},
     "output_type": "display_data"
    },
    {
     "data": {
      "text/plain": [
       "<IPython.core.display.HTML object>"
      ],
      "text/html": [
       "Find logs at: <code>.\\wandb\\run-20250326_190102-wqdnckr0\\logs</code>"
      ]
     },
     "metadata": {},
     "output_type": "display_data"
    },
    {
     "data": {
      "text/plain": [
       "<IPython.core.display.HTML object>"
      ],
      "text/html": [
       "Tracking run with wandb version 0.19.1"
      ]
     },
     "metadata": {},
     "output_type": "display_data"
    },
    {
     "data": {
      "text/plain": [
       "<IPython.core.display.HTML object>"
      ],
      "text/html": [
       "Run data is saved locally in <code>D:\\Users\\kanatcohen\\PycharmProjects\\deep_van_gogh\\wandb\\run-20250326_190158-37mctw4u</code>"
      ]
     },
     "metadata": {},
     "output_type": "display_data"
    },
    {
     "data": {
      "text/plain": [
       "<IPython.core.display.HTML object>"
      ],
      "text/html": [
       "Syncing run <strong><a href='https://wandb.ai/amitr5-tel-aviv-university/AlexNet-deep_van_gogh-aug-26.3.2025/runs/37mctw4u' target=\"_blank\">AlexNet_trial_13_fold_2</a></strong> to <a href='https://wandb.ai/amitr5-tel-aviv-university/AlexNet-deep_van_gogh-aug-26.3.2025' target=\"_blank\">Weights & Biases</a> (<a href='https://wandb.me/developer-guide' target=\"_blank\">docs</a>)<br>"
      ]
     },
     "metadata": {},
     "output_type": "display_data"
    },
    {
     "data": {
      "text/plain": [
       "<IPython.core.display.HTML object>"
      ],
      "text/html": [
       " View project at <a href='https://wandb.ai/amitr5-tel-aviv-university/AlexNet-deep_van_gogh-aug-26.3.2025' target=\"_blank\">https://wandb.ai/amitr5-tel-aviv-university/AlexNet-deep_van_gogh-aug-26.3.2025</a>"
      ]
     },
     "metadata": {},
     "output_type": "display_data"
    },
    {
     "data": {
      "text/plain": [
       "<IPython.core.display.HTML object>"
      ],
      "text/html": [
       " View run at <a href='https://wandb.ai/amitr5-tel-aviv-university/AlexNet-deep_van_gogh-aug-26.3.2025/runs/37mctw4u' target=\"_blank\">https://wandb.ai/amitr5-tel-aviv-university/AlexNet-deep_van_gogh-aug-26.3.2025/runs/37mctw4u</a>"
      ]
     },
     "metadata": {},
     "output_type": "display_data"
    },
    {
     "data": {
      "text/plain": [
       "<IPython.core.display.HTML object>"
      ],
      "text/html": []
     },
     "metadata": {},
     "output_type": "display_data"
    },
    {
     "data": {
      "text/plain": [
       "<IPython.core.display.HTML object>"
      ],
      "text/html": [
       "<br>    <style><br>        .wandb-row {<br>            display: flex;<br>            flex-direction: row;<br>            flex-wrap: wrap;<br>            justify-content: flex-start;<br>            width: 100%;<br>        }<br>        .wandb-col {<br>            display: flex;<br>            flex-direction: column;<br>            flex-basis: 100%;<br>            flex: 1;<br>            padding: 10px;<br>        }<br>    </style><br><div class=\"wandb-row\"><div class=\"wandb-col\"><h3>Run history:</h3><br/><table class=\"wandb\"><tr><td>AUC</td><td>▁</td></tr><tr><td>Epoch</td><td>▁▂▃▃▄▅▆▆▇█</td></tr><tr><td>Fold</td><td>▁</td></tr><tr><td>Train Accuracy</td><td>▁█████████</td></tr><tr><td>Train Loss</td><td>█▁▁▁▁▁▁▁▁▁</td></tr><tr><td>Validation AUC</td><td>▁▁▁▁▁▁▁▁▁▁</td></tr><tr><td>Validation Accuracy</td><td>▁▁▁▁▁▁▁▁▁▁</td></tr><tr><td>Validation F1</td><td>▁▁▁▁▁▁▁▁▁▁</td></tr><tr><td>Validation Loss</td><td>▆▃▂▁▂▁▁▂█▂</td></tr><tr><td>Validation Precision</td><td>▁▁▁▁▁▁▁▁▁▁</td></tr><tr><td>Validation Recall</td><td>▁▁▁▁▁▁▁▁▁▁</td></tr><tr><td>Validation Specificity</td><td>▁▁▁▁▁▁▁▁▁▁</td></tr></table><br/></div><div class=\"wandb-col\"><h3>Run summary:</h3><br/><table class=\"wandb\"><tr><td>AUC</td><td>1</td></tr><tr><td>Epoch</td><td>10</td></tr><tr><td>Fold</td><td>2</td></tr><tr><td>Train Accuracy</td><td>1</td></tr><tr><td>Train Loss</td><td>7e-05</td></tr><tr><td>Validation AUC</td><td>1</td></tr><tr><td>Validation Accuracy</td><td>1</td></tr><tr><td>Validation F1</td><td>1</td></tr><tr><td>Validation Loss</td><td>2e-05</td></tr><tr><td>Validation Precision</td><td>1</td></tr><tr><td>Validation Recall</td><td>1</td></tr><tr><td>Validation Specificity</td><td>1</td></tr></table><br/></div></div>"
      ]
     },
     "metadata": {},
     "output_type": "display_data"
    },
    {
     "data": {
      "text/plain": [
       "<IPython.core.display.HTML object>"
      ],
      "text/html": [
       " View run <strong style=\"color:#cdcd00\">AlexNet_trial_13_fold_2</strong> at: <a href='https://wandb.ai/amitr5-tel-aviv-university/AlexNet-deep_van_gogh-aug-26.3.2025/runs/37mctw4u' target=\"_blank\">https://wandb.ai/amitr5-tel-aviv-university/AlexNet-deep_van_gogh-aug-26.3.2025/runs/37mctw4u</a><br> View project at: <a href='https://wandb.ai/amitr5-tel-aviv-university/AlexNet-deep_van_gogh-aug-26.3.2025' target=\"_blank\">https://wandb.ai/amitr5-tel-aviv-university/AlexNet-deep_van_gogh-aug-26.3.2025</a><br>Synced 5 W&B file(s), 0 media file(s), 0 artifact file(s) and 0 other file(s)"
      ]
     },
     "metadata": {},
     "output_type": "display_data"
    },
    {
     "data": {
      "text/plain": [
       "<IPython.core.display.HTML object>"
      ],
      "text/html": [
       "Find logs at: <code>.\\wandb\\run-20250326_190158-37mctw4u\\logs</code>"
      ]
     },
     "metadata": {},
     "output_type": "display_data"
    },
    {
     "data": {
      "text/plain": [
       "<IPython.core.display.HTML object>"
      ],
      "text/html": [
       "Tracking run with wandb version 0.19.1"
      ]
     },
     "metadata": {},
     "output_type": "display_data"
    },
    {
     "data": {
      "text/plain": [
       "<IPython.core.display.HTML object>"
      ],
      "text/html": [
       "Run data is saved locally in <code>D:\\Users\\kanatcohen\\PycharmProjects\\deep_van_gogh\\wandb\\run-20250326_190255-azxjegwq</code>"
      ]
     },
     "metadata": {},
     "output_type": "display_data"
    },
    {
     "data": {
      "text/plain": [
       "<IPython.core.display.HTML object>"
      ],
      "text/html": [
       "Syncing run <strong><a href='https://wandb.ai/amitr5-tel-aviv-university/AlexNet-deep_van_gogh-aug-26.3.2025/runs/azxjegwq' target=\"_blank\">AlexNet_trial_13_fold_3</a></strong> to <a href='https://wandb.ai/amitr5-tel-aviv-university/AlexNet-deep_van_gogh-aug-26.3.2025' target=\"_blank\">Weights & Biases</a> (<a href='https://wandb.me/developer-guide' target=\"_blank\">docs</a>)<br>"
      ]
     },
     "metadata": {},
     "output_type": "display_data"
    },
    {
     "data": {
      "text/plain": [
       "<IPython.core.display.HTML object>"
      ],
      "text/html": [
       " View project at <a href='https://wandb.ai/amitr5-tel-aviv-university/AlexNet-deep_van_gogh-aug-26.3.2025' target=\"_blank\">https://wandb.ai/amitr5-tel-aviv-university/AlexNet-deep_van_gogh-aug-26.3.2025</a>"
      ]
     },
     "metadata": {},
     "output_type": "display_data"
    },
    {
     "data": {
      "text/plain": [
       "<IPython.core.display.HTML object>"
      ],
      "text/html": [
       " View run at <a href='https://wandb.ai/amitr5-tel-aviv-university/AlexNet-deep_van_gogh-aug-26.3.2025/runs/azxjegwq' target=\"_blank\">https://wandb.ai/amitr5-tel-aviv-university/AlexNet-deep_van_gogh-aug-26.3.2025/runs/azxjegwq</a>"
      ]
     },
     "metadata": {},
     "output_type": "display_data"
    },
    {
     "data": {
      "text/plain": [
       "<IPython.core.display.HTML object>"
      ],
      "text/html": []
     },
     "metadata": {},
     "output_type": "display_data"
    },
    {
     "data": {
      "text/plain": [
       "<IPython.core.display.HTML object>"
      ],
      "text/html": [
       "<br>    <style><br>        .wandb-row {<br>            display: flex;<br>            flex-direction: row;<br>            flex-wrap: wrap;<br>            justify-content: flex-start;<br>            width: 100%;<br>        }<br>        .wandb-col {<br>            display: flex;<br>            flex-direction: column;<br>            flex-basis: 100%;<br>            flex: 1;<br>            padding: 10px;<br>        }<br>    </style><br><div class=\"wandb-row\"><div class=\"wandb-col\"><h3>Run history:</h3><br/><table class=\"wandb\"><tr><td>AUC</td><td>▁</td></tr><tr><td>Epoch</td><td>▁▂▃▃▄▅▆▆▇█</td></tr><tr><td>Fold</td><td>▁</td></tr><tr><td>Train Accuracy</td><td>▁█████████</td></tr><tr><td>Train Loss</td><td>█▁▁▁▁▁▁▁▁▁</td></tr><tr><td>Validation AUC</td><td>▁▁▁▁▁▁▁▁▁▁</td></tr><tr><td>Validation Accuracy</td><td>▁▁▁▁▁▁▁▁▁▁</td></tr><tr><td>Validation F1</td><td>▁▁▁▁▁▁▁▁▁▁</td></tr><tr><td>Validation Loss</td><td>█▆▂▂▃▁▁▁▃▁</td></tr><tr><td>Validation Precision</td><td>▁▁▁▁▁▁▁▁▁▁</td></tr><tr><td>Validation Recall</td><td>▁▁▁▁▁▁▁▁▁▁</td></tr><tr><td>Validation Specificity</td><td>▁▁▁▁▁▁▁▁▁▁</td></tr></table><br/></div><div class=\"wandb-col\"><h3>Run summary:</h3><br/><table class=\"wandb\"><tr><td>AUC</td><td>1</td></tr><tr><td>Epoch</td><td>10</td></tr><tr><td>Fold</td><td>3</td></tr><tr><td>Train Accuracy</td><td>1</td></tr><tr><td>Train Loss</td><td>2e-05</td></tr><tr><td>Validation AUC</td><td>1</td></tr><tr><td>Validation Accuracy</td><td>1</td></tr><tr><td>Validation F1</td><td>1</td></tr><tr><td>Validation Loss</td><td>2e-05</td></tr><tr><td>Validation Precision</td><td>1</td></tr><tr><td>Validation Recall</td><td>1</td></tr><tr><td>Validation Specificity</td><td>1</td></tr></table><br/></div></div>"
      ]
     },
     "metadata": {},
     "output_type": "display_data"
    },
    {
     "data": {
      "text/plain": [
       "<IPython.core.display.HTML object>"
      ],
      "text/html": [
       " View run <strong style=\"color:#cdcd00\">AlexNet_trial_13_fold_3</strong> at: <a href='https://wandb.ai/amitr5-tel-aviv-university/AlexNet-deep_van_gogh-aug-26.3.2025/runs/azxjegwq' target=\"_blank\">https://wandb.ai/amitr5-tel-aviv-university/AlexNet-deep_van_gogh-aug-26.3.2025/runs/azxjegwq</a><br> View project at: <a href='https://wandb.ai/amitr5-tel-aviv-university/AlexNet-deep_van_gogh-aug-26.3.2025' target=\"_blank\">https://wandb.ai/amitr5-tel-aviv-university/AlexNet-deep_van_gogh-aug-26.3.2025</a><br>Synced 5 W&B file(s), 0 media file(s), 0 artifact file(s) and 0 other file(s)"
      ]
     },
     "metadata": {},
     "output_type": "display_data"
    },
    {
     "data": {
      "text/plain": [
       "<IPython.core.display.HTML object>"
      ],
      "text/html": [
       "Find logs at: <code>.\\wandb\\run-20250326_190255-azxjegwq\\logs</code>"
      ]
     },
     "metadata": {},
     "output_type": "display_data"
    },
    {
     "data": {
      "text/plain": [
       "<IPython.core.display.HTML object>"
      ],
      "text/html": [
       "Tracking run with wandb version 0.19.1"
      ]
     },
     "metadata": {},
     "output_type": "display_data"
    },
    {
     "data": {
      "text/plain": [
       "<IPython.core.display.HTML object>"
      ],
      "text/html": [
       "Run data is saved locally in <code>D:\\Users\\kanatcohen\\PycharmProjects\\deep_van_gogh\\wandb\\run-20250326_190349-fkpljj8a</code>"
      ]
     },
     "metadata": {},
     "output_type": "display_data"
    },
    {
     "data": {
      "text/plain": [
       "<IPython.core.display.HTML object>"
      ],
      "text/html": [
       "Syncing run <strong><a href='https://wandb.ai/amitr5-tel-aviv-university/AlexNet-deep_van_gogh-aug-26.3.2025/runs/fkpljj8a' target=\"_blank\">AlexNet_trial_13</a></strong> to <a href='https://wandb.ai/amitr5-tel-aviv-university/AlexNet-deep_van_gogh-aug-26.3.2025' target=\"_blank\">Weights & Biases</a> (<a href='https://wandb.me/developer-guide' target=\"_blank\">docs</a>)<br>"
      ]
     },
     "metadata": {},
     "output_type": "display_data"
    },
    {
     "data": {
      "text/plain": [
       "<IPython.core.display.HTML object>"
      ],
      "text/html": [
       " View project at <a href='https://wandb.ai/amitr5-tel-aviv-university/AlexNet-deep_van_gogh-aug-26.3.2025' target=\"_blank\">https://wandb.ai/amitr5-tel-aviv-university/AlexNet-deep_van_gogh-aug-26.3.2025</a>"
      ]
     },
     "metadata": {},
     "output_type": "display_data"
    },
    {
     "data": {
      "text/plain": [
       "<IPython.core.display.HTML object>"
      ],
      "text/html": [
       " View run at <a href='https://wandb.ai/amitr5-tel-aviv-university/AlexNet-deep_van_gogh-aug-26.3.2025/runs/fkpljj8a' target=\"_blank\">https://wandb.ai/amitr5-tel-aviv-university/AlexNet-deep_van_gogh-aug-26.3.2025/runs/fkpljj8a</a>"
      ]
     },
     "metadata": {},
     "output_type": "display_data"
    },
    {
     "data": {
      "text/plain": [
       "<IPython.core.display.HTML object>"
      ],
      "text/html": []
     },
     "metadata": {},
     "output_type": "display_data"
    },
    {
     "data": {
      "text/plain": [
       "<IPython.core.display.HTML object>"
      ],
      "text/html": [
       "<br>    <style><br>        .wandb-row {<br>            display: flex;<br>            flex-direction: row;<br>            flex-wrap: wrap;<br>            justify-content: flex-start;<br>            width: 100%;<br>        }<br>        .wandb-col {<br>            display: flex;<br>            flex-direction: column;<br>            flex-basis: 100%;<br>            flex: 1;<br>            padding: 10px;<br>        }<br>    </style><br><div class=\"wandb-row\"><div class=\"wandb-col\"><h3>Run history:</h3><br/><table class=\"wandb\"><tr><td>Mean AUC</td><td>▁</td></tr><tr><td>Trial</td><td>▁</td></tr></table><br/></div><div class=\"wandb-col\"><h3>Run summary:</h3><br/><table class=\"wandb\"><tr><td>Mean AUC</td><td>1</td></tr><tr><td>Trial</td><td>13</td></tr></table><br/></div></div>"
      ]
     },
     "metadata": {},
     "output_type": "display_data"
    },
    {
     "data": {
      "text/plain": [
       "<IPython.core.display.HTML object>"
      ],
      "text/html": [
       " View run <strong style=\"color:#cdcd00\">AlexNet_trial_13</strong> at: <a href='https://wandb.ai/amitr5-tel-aviv-university/AlexNet-deep_van_gogh-aug-26.3.2025/runs/fkpljj8a' target=\"_blank\">https://wandb.ai/amitr5-tel-aviv-university/AlexNet-deep_van_gogh-aug-26.3.2025/runs/fkpljj8a</a><br> View project at: <a href='https://wandb.ai/amitr5-tel-aviv-university/AlexNet-deep_van_gogh-aug-26.3.2025' target=\"_blank\">https://wandb.ai/amitr5-tel-aviv-university/AlexNet-deep_van_gogh-aug-26.3.2025</a><br>Synced 5 W&B file(s), 0 media file(s), 0 artifact file(s) and 0 other file(s)"
      ]
     },
     "metadata": {},
     "output_type": "display_data"
    },
    {
     "data": {
      "text/plain": [
       "<IPython.core.display.HTML object>"
      ],
      "text/html": [
       "Find logs at: <code>.\\wandb\\run-20250326_190349-fkpljj8a\\logs</code>"
      ]
     },
     "metadata": {},
     "output_type": "display_data"
    },
    {
     "name": "stderr",
     "output_type": "stream",
     "text": [
      "[I 2025-03-26 19:03:52,987] Trial 12 finished with value: 1.0 and parameters: {'learning_rate': 3.3187168189620094e-05, 'weight_decay': 2.501638913232249e-05, 'epochs': 23, 'num_layers_finetune': 1}. Best is trial 2 with value: 1.0.\n"
     ]
    },
    {
     "data": {
      "text/plain": [
       "<IPython.core.display.HTML object>"
      ],
      "text/html": [
       "Tracking run with wandb version 0.19.1"
      ]
     },
     "metadata": {},
     "output_type": "display_data"
    },
    {
     "data": {
      "text/plain": [
       "<IPython.core.display.HTML object>"
      ],
      "text/html": [
       "Run data is saved locally in <code>D:\\Users\\kanatcohen\\PycharmProjects\\deep_van_gogh\\wandb\\run-20250326_190353-wmdw4bed</code>"
      ]
     },
     "metadata": {},
     "output_type": "display_data"
    },
    {
     "data": {
      "text/plain": [
       "<IPython.core.display.HTML object>"
      ],
      "text/html": [
       "Syncing run <strong><a href='https://wandb.ai/amitr5-tel-aviv-university/AlexNet-deep_van_gogh-aug-26.3.2025/runs/wmdw4bed' target=\"_blank\">AlexNet_trial_14_fold_0</a></strong> to <a href='https://wandb.ai/amitr5-tel-aviv-university/AlexNet-deep_van_gogh-aug-26.3.2025' target=\"_blank\">Weights & Biases</a> (<a href='https://wandb.me/developer-guide' target=\"_blank\">docs</a>)<br>"
      ]
     },
     "metadata": {},
     "output_type": "display_data"
    },
    {
     "data": {
      "text/plain": [
       "<IPython.core.display.HTML object>"
      ],
      "text/html": [
       " View project at <a href='https://wandb.ai/amitr5-tel-aviv-university/AlexNet-deep_van_gogh-aug-26.3.2025' target=\"_blank\">https://wandb.ai/amitr5-tel-aviv-university/AlexNet-deep_van_gogh-aug-26.3.2025</a>"
      ]
     },
     "metadata": {},
     "output_type": "display_data"
    },
    {
     "data": {
      "text/plain": [
       "<IPython.core.display.HTML object>"
      ],
      "text/html": [
       " View run at <a href='https://wandb.ai/amitr5-tel-aviv-university/AlexNet-deep_van_gogh-aug-26.3.2025/runs/wmdw4bed' target=\"_blank\">https://wandb.ai/amitr5-tel-aviv-university/AlexNet-deep_van_gogh-aug-26.3.2025/runs/wmdw4bed</a>"
      ]
     },
     "metadata": {},
     "output_type": "display_data"
    },
    {
     "data": {
      "text/plain": [
       "<IPython.core.display.HTML object>"
      ],
      "text/html": []
     },
     "metadata": {},
     "output_type": "display_data"
    },
    {
     "data": {
      "text/plain": [
       "<IPython.core.display.HTML object>"
      ],
      "text/html": [
       "<br>    <style><br>        .wandb-row {<br>            display: flex;<br>            flex-direction: row;<br>            flex-wrap: wrap;<br>            justify-content: flex-start;<br>            width: 100%;<br>        }<br>        .wandb-col {<br>            display: flex;<br>            flex-direction: column;<br>            flex-basis: 100%;<br>            flex: 1;<br>            padding: 10px;<br>        }<br>    </style><br><div class=\"wandb-row\"><div class=\"wandb-col\"><h3>Run history:</h3><br/><table class=\"wandb\"><tr><td>AUC</td><td>▁</td></tr><tr><td>Epoch</td><td>▁▂▃▃▄▅▆▆▇█</td></tr><tr><td>Fold</td><td>▁</td></tr><tr><td>Train Accuracy</td><td>▁████████▇</td></tr><tr><td>Train Loss</td><td>█▁▁▁▁▁▁▁▁▂</td></tr><tr><td>Validation AUC</td><td>▁▁▁▁▁▁▁▁▁▁</td></tr><tr><td>Validation Accuracy</td><td>████████▁█</td></tr><tr><td>Validation F1</td><td>████████▁█</td></tr><tr><td>Validation Loss</td><td>▁▁▁▁▁▂▁▁█▂</td></tr><tr><td>Validation Precision</td><td>████████▁█</td></tr><tr><td>Validation Recall</td><td>████████▁█</td></tr><tr><td>Validation Specificity</td><td>████████▁█</td></tr></table><br/></div><div class=\"wandb-col\"><h3>Run summary:</h3><br/><table class=\"wandb\"><tr><td>AUC</td><td>1</td></tr><tr><td>Epoch</td><td>10</td></tr><tr><td>Fold</td><td>0</td></tr><tr><td>Train Accuracy</td><td>0.99891</td></tr><tr><td>Train Loss</td><td>0.00572</td></tr><tr><td>Validation AUC</td><td>1</td></tr><tr><td>Validation Accuracy</td><td>1</td></tr><tr><td>Validation F1</td><td>1</td></tr><tr><td>Validation Loss</td><td>0.00019</td></tr><tr><td>Validation Precision</td><td>1</td></tr><tr><td>Validation Recall</td><td>1</td></tr><tr><td>Validation Specificity</td><td>1</td></tr></table><br/></div></div>"
      ]
     },
     "metadata": {},
     "output_type": "display_data"
    },
    {
     "data": {
      "text/plain": [
       "<IPython.core.display.HTML object>"
      ],
      "text/html": [
       " View run <strong style=\"color:#cdcd00\">AlexNet_trial_14_fold_0</strong> at: <a href='https://wandb.ai/amitr5-tel-aviv-university/AlexNet-deep_van_gogh-aug-26.3.2025/runs/wmdw4bed' target=\"_blank\">https://wandb.ai/amitr5-tel-aviv-university/AlexNet-deep_van_gogh-aug-26.3.2025/runs/wmdw4bed</a><br> View project at: <a href='https://wandb.ai/amitr5-tel-aviv-university/AlexNet-deep_van_gogh-aug-26.3.2025' target=\"_blank\">https://wandb.ai/amitr5-tel-aviv-university/AlexNet-deep_van_gogh-aug-26.3.2025</a><br>Synced 5 W&B file(s), 0 media file(s), 0 artifact file(s) and 0 other file(s)"
      ]
     },
     "metadata": {},
     "output_type": "display_data"
    },
    {
     "data": {
      "text/plain": [
       "<IPython.core.display.HTML object>"
      ],
      "text/html": [
       "Find logs at: <code>.\\wandb\\run-20250326_190353-wmdw4bed\\logs</code>"
      ]
     },
     "metadata": {},
     "output_type": "display_data"
    },
    {
     "data": {
      "text/plain": [
       "<IPython.core.display.HTML object>"
      ],
      "text/html": [
       "Tracking run with wandb version 0.19.1"
      ]
     },
     "metadata": {},
     "output_type": "display_data"
    },
    {
     "data": {
      "text/plain": [
       "<IPython.core.display.HTML object>"
      ],
      "text/html": [
       "Run data is saved locally in <code>D:\\Users\\kanatcohen\\PycharmProjects\\deep_van_gogh\\wandb\\run-20250326_190504-asncae3b</code>"
      ]
     },
     "metadata": {},
     "output_type": "display_data"
    },
    {
     "data": {
      "text/plain": [
       "<IPython.core.display.HTML object>"
      ],
      "text/html": [
       "Syncing run <strong><a href='https://wandb.ai/amitr5-tel-aviv-university/AlexNet-deep_van_gogh-aug-26.3.2025/runs/asncae3b' target=\"_blank\">AlexNet_trial_14_fold_1</a></strong> to <a href='https://wandb.ai/amitr5-tel-aviv-university/AlexNet-deep_van_gogh-aug-26.3.2025' target=\"_blank\">Weights & Biases</a> (<a href='https://wandb.me/developer-guide' target=\"_blank\">docs</a>)<br>"
      ]
     },
     "metadata": {},
     "output_type": "display_data"
    },
    {
     "data": {
      "text/plain": [
       "<IPython.core.display.HTML object>"
      ],
      "text/html": [
       " View project at <a href='https://wandb.ai/amitr5-tel-aviv-university/AlexNet-deep_van_gogh-aug-26.3.2025' target=\"_blank\">https://wandb.ai/amitr5-tel-aviv-university/AlexNet-deep_van_gogh-aug-26.3.2025</a>"
      ]
     },
     "metadata": {},
     "output_type": "display_data"
    },
    {
     "data": {
      "text/plain": [
       "<IPython.core.display.HTML object>"
      ],
      "text/html": [
       " View run at <a href='https://wandb.ai/amitr5-tel-aviv-university/AlexNet-deep_van_gogh-aug-26.3.2025/runs/asncae3b' target=\"_blank\">https://wandb.ai/amitr5-tel-aviv-university/AlexNet-deep_van_gogh-aug-26.3.2025/runs/asncae3b</a>"
      ]
     },
     "metadata": {},
     "output_type": "display_data"
    },
    {
     "data": {
      "text/plain": [
       "<IPython.core.display.HTML object>"
      ],
      "text/html": []
     },
     "metadata": {},
     "output_type": "display_data"
    },
    {
     "data": {
      "text/plain": [
       "<IPython.core.display.HTML object>"
      ],
      "text/html": [
       "<br>    <style><br>        .wandb-row {<br>            display: flex;<br>            flex-direction: row;<br>            flex-wrap: wrap;<br>            justify-content: flex-start;<br>            width: 100%;<br>        }<br>        .wandb-col {<br>            display: flex;<br>            flex-direction: column;<br>            flex-basis: 100%;<br>            flex: 1;<br>            padding: 10px;<br>        }<br>    </style><br><div class=\"wandb-row\"><div class=\"wandb-col\"><h3>Run history:</h3><br/><table class=\"wandb\"><tr><td>AUC</td><td>▁</td></tr><tr><td>Epoch</td><td>▁▂▃▃▄▅▆▆▇█</td></tr><tr><td>Fold</td><td>▁</td></tr><tr><td>Train Accuracy</td><td>▁█████████</td></tr><tr><td>Train Loss</td><td>█▁▁▁▁▁▁▁▁▁</td></tr><tr><td>Validation AUC</td><td>▁▁▁▁▁▁▁▁▁▁</td></tr><tr><td>Validation Accuracy</td><td>██▁███▁▁▁█</td></tr><tr><td>Validation F1</td><td>██▁███▁▁▁█</td></tr><tr><td>Validation Loss</td><td>▁▁▂▁▁▁▃▇█▁</td></tr><tr><td>Validation Precision</td><td>██▁███▁▁▁█</td></tr><tr><td>Validation Recall</td><td>██▁███▁▁▁█</td></tr><tr><td>Validation Specificity</td><td>██▁███▁███</td></tr></table><br/></div><div class=\"wandb-col\"><h3>Run summary:</h3><br/><table class=\"wandb\"><tr><td>AUC</td><td>1</td></tr><tr><td>Epoch</td><td>10</td></tr><tr><td>Fold</td><td>1</td></tr><tr><td>Train Accuracy</td><td>0.99954</td></tr><tr><td>Train Loss</td><td>0.00154</td></tr><tr><td>Validation AUC</td><td>1</td></tr><tr><td>Validation Accuracy</td><td>1</td></tr><tr><td>Validation F1</td><td>1</td></tr><tr><td>Validation Loss</td><td>8e-05</td></tr><tr><td>Validation Precision</td><td>1</td></tr><tr><td>Validation Recall</td><td>1</td></tr><tr><td>Validation Specificity</td><td>1</td></tr></table><br/></div></div>"
      ]
     },
     "metadata": {},
     "output_type": "display_data"
    },
    {
     "data": {
      "text/plain": [
       "<IPython.core.display.HTML object>"
      ],
      "text/html": [
       " View run <strong style=\"color:#cdcd00\">AlexNet_trial_14_fold_1</strong> at: <a href='https://wandb.ai/amitr5-tel-aviv-university/AlexNet-deep_van_gogh-aug-26.3.2025/runs/asncae3b' target=\"_blank\">https://wandb.ai/amitr5-tel-aviv-university/AlexNet-deep_van_gogh-aug-26.3.2025/runs/asncae3b</a><br> View project at: <a href='https://wandb.ai/amitr5-tel-aviv-university/AlexNet-deep_van_gogh-aug-26.3.2025' target=\"_blank\">https://wandb.ai/amitr5-tel-aviv-university/AlexNet-deep_van_gogh-aug-26.3.2025</a><br>Synced 5 W&B file(s), 0 media file(s), 0 artifact file(s) and 0 other file(s)"
      ]
     },
     "metadata": {},
     "output_type": "display_data"
    },
    {
     "data": {
      "text/plain": [
       "<IPython.core.display.HTML object>"
      ],
      "text/html": [
       "Find logs at: <code>.\\wandb\\run-20250326_190504-asncae3b\\logs</code>"
      ]
     },
     "metadata": {},
     "output_type": "display_data"
    },
    {
     "data": {
      "text/plain": [
       "<IPython.core.display.HTML object>"
      ],
      "text/html": [
       "Tracking run with wandb version 0.19.1"
      ]
     },
     "metadata": {},
     "output_type": "display_data"
    },
    {
     "data": {
      "text/plain": [
       "<IPython.core.display.HTML object>"
      ],
      "text/html": [
       "Run data is saved locally in <code>D:\\Users\\kanatcohen\\PycharmProjects\\deep_van_gogh\\wandb\\run-20250326_190615-t9xve15z</code>"
      ]
     },
     "metadata": {},
     "output_type": "display_data"
    },
    {
     "data": {
      "text/plain": [
       "<IPython.core.display.HTML object>"
      ],
      "text/html": [
       "Syncing run <strong><a href='https://wandb.ai/amitr5-tel-aviv-university/AlexNet-deep_van_gogh-aug-26.3.2025/runs/t9xve15z' target=\"_blank\">AlexNet_trial_14_fold_2</a></strong> to <a href='https://wandb.ai/amitr5-tel-aviv-university/AlexNet-deep_van_gogh-aug-26.3.2025' target=\"_blank\">Weights & Biases</a> (<a href='https://wandb.me/developer-guide' target=\"_blank\">docs</a>)<br>"
      ]
     },
     "metadata": {},
     "output_type": "display_data"
    },
    {
     "data": {
      "text/plain": [
       "<IPython.core.display.HTML object>"
      ],
      "text/html": [
       " View project at <a href='https://wandb.ai/amitr5-tel-aviv-university/AlexNet-deep_van_gogh-aug-26.3.2025' target=\"_blank\">https://wandb.ai/amitr5-tel-aviv-university/AlexNet-deep_van_gogh-aug-26.3.2025</a>"
      ]
     },
     "metadata": {},
     "output_type": "display_data"
    },
    {
     "data": {
      "text/plain": [
       "<IPython.core.display.HTML object>"
      ],
      "text/html": [
       " View run at <a href='https://wandb.ai/amitr5-tel-aviv-university/AlexNet-deep_van_gogh-aug-26.3.2025/runs/t9xve15z' target=\"_blank\">https://wandb.ai/amitr5-tel-aviv-university/AlexNet-deep_van_gogh-aug-26.3.2025/runs/t9xve15z</a>"
      ]
     },
     "metadata": {},
     "output_type": "display_data"
    },
    {
     "data": {
      "text/plain": [
       "<IPython.core.display.HTML object>"
      ],
      "text/html": []
     },
     "metadata": {},
     "output_type": "display_data"
    },
    {
     "data": {
      "text/plain": [
       "<IPython.core.display.HTML object>"
      ],
      "text/html": [
       "<br>    <style><br>        .wandb-row {<br>            display: flex;<br>            flex-direction: row;<br>            flex-wrap: wrap;<br>            justify-content: flex-start;<br>            width: 100%;<br>        }<br>        .wandb-col {<br>            display: flex;<br>            flex-direction: column;<br>            flex-basis: 100%;<br>            flex: 1;<br>            padding: 10px;<br>        }<br>    </style><br><div class=\"wandb-row\"><div class=\"wandb-col\"><h3>Run history:</h3><br/><table class=\"wandb\"><tr><td>AUC</td><td>▁</td></tr><tr><td>Epoch</td><td>▁▂▃▃▄▅▆▆▇█</td></tr><tr><td>Fold</td><td>▁</td></tr><tr><td>Train Accuracy</td><td>▁▆████████</td></tr><tr><td>Train Loss</td><td>█▃▁▁▁▁▁▁▁▁</td></tr><tr><td>Validation AUC</td><td>▁▁▁▁▁▁▁▁▁▁</td></tr><tr><td>Validation Accuracy</td><td>█▁████████</td></tr><tr><td>Validation F1</td><td>█▁████████</td></tr><tr><td>Validation Loss</td><td>▁█▁▁▁▁▁▁▁▁</td></tr><tr><td>Validation Precision</td><td>█▁████████</td></tr><tr><td>Validation Recall</td><td>█▁████████</td></tr><tr><td>Validation Specificity</td><td>█▁████████</td></tr></table><br/></div><div class=\"wandb-col\"><h3>Run summary:</h3><br/><table class=\"wandb\"><tr><td>AUC</td><td>1</td></tr><tr><td>Epoch</td><td>10</td></tr><tr><td>Fold</td><td>2</td></tr><tr><td>Train Accuracy</td><td>1</td></tr><tr><td>Train Loss</td><td>1e-05</td></tr><tr><td>Validation AUC</td><td>1</td></tr><tr><td>Validation Accuracy</td><td>1</td></tr><tr><td>Validation F1</td><td>1</td></tr><tr><td>Validation Loss</td><td>1e-05</td></tr><tr><td>Validation Precision</td><td>1</td></tr><tr><td>Validation Recall</td><td>1</td></tr><tr><td>Validation Specificity</td><td>1</td></tr></table><br/></div></div>"
      ]
     },
     "metadata": {},
     "output_type": "display_data"
    },
    {
     "data": {
      "text/plain": [
       "<IPython.core.display.HTML object>"
      ],
      "text/html": [
       " View run <strong style=\"color:#cdcd00\">AlexNet_trial_14_fold_2</strong> at: <a href='https://wandb.ai/amitr5-tel-aviv-university/AlexNet-deep_van_gogh-aug-26.3.2025/runs/t9xve15z' target=\"_blank\">https://wandb.ai/amitr5-tel-aviv-university/AlexNet-deep_van_gogh-aug-26.3.2025/runs/t9xve15z</a><br> View project at: <a href='https://wandb.ai/amitr5-tel-aviv-university/AlexNet-deep_van_gogh-aug-26.3.2025' target=\"_blank\">https://wandb.ai/amitr5-tel-aviv-university/AlexNet-deep_van_gogh-aug-26.3.2025</a><br>Synced 5 W&B file(s), 0 media file(s), 0 artifact file(s) and 0 other file(s)"
      ]
     },
     "metadata": {},
     "output_type": "display_data"
    },
    {
     "data": {
      "text/plain": [
       "<IPython.core.display.HTML object>"
      ],
      "text/html": [
       "Find logs at: <code>.\\wandb\\run-20250326_190615-t9xve15z\\logs</code>"
      ]
     },
     "metadata": {},
     "output_type": "display_data"
    },
    {
     "data": {
      "text/plain": [
       "<IPython.core.display.HTML object>"
      ],
      "text/html": [
       "Tracking run with wandb version 0.19.1"
      ]
     },
     "metadata": {},
     "output_type": "display_data"
    },
    {
     "data": {
      "text/plain": [
       "<IPython.core.display.HTML object>"
      ],
      "text/html": [
       "Run data is saved locally in <code>D:\\Users\\kanatcohen\\PycharmProjects\\deep_van_gogh\\wandb\\run-20250326_190727-mdeyuf0o</code>"
      ]
     },
     "metadata": {},
     "output_type": "display_data"
    },
    {
     "data": {
      "text/plain": [
       "<IPython.core.display.HTML object>"
      ],
      "text/html": [
       "Syncing run <strong><a href='https://wandb.ai/amitr5-tel-aviv-university/AlexNet-deep_van_gogh-aug-26.3.2025/runs/mdeyuf0o' target=\"_blank\">AlexNet_trial_14_fold_3</a></strong> to <a href='https://wandb.ai/amitr5-tel-aviv-university/AlexNet-deep_van_gogh-aug-26.3.2025' target=\"_blank\">Weights & Biases</a> (<a href='https://wandb.me/developer-guide' target=\"_blank\">docs</a>)<br>"
      ]
     },
     "metadata": {},
     "output_type": "display_data"
    },
    {
     "data": {
      "text/plain": [
       "<IPython.core.display.HTML object>"
      ],
      "text/html": [
       " View project at <a href='https://wandb.ai/amitr5-tel-aviv-university/AlexNet-deep_van_gogh-aug-26.3.2025' target=\"_blank\">https://wandb.ai/amitr5-tel-aviv-university/AlexNet-deep_van_gogh-aug-26.3.2025</a>"
      ]
     },
     "metadata": {},
     "output_type": "display_data"
    },
    {
     "data": {
      "text/plain": [
       "<IPython.core.display.HTML object>"
      ],
      "text/html": [
       " View run at <a href='https://wandb.ai/amitr5-tel-aviv-university/AlexNet-deep_van_gogh-aug-26.3.2025/runs/mdeyuf0o' target=\"_blank\">https://wandb.ai/amitr5-tel-aviv-university/AlexNet-deep_van_gogh-aug-26.3.2025/runs/mdeyuf0o</a>"
      ]
     },
     "metadata": {},
     "output_type": "display_data"
    },
    {
     "data": {
      "text/plain": [
       "<IPython.core.display.HTML object>"
      ],
      "text/html": []
     },
     "metadata": {},
     "output_type": "display_data"
    },
    {
     "data": {
      "text/plain": [
       "<IPython.core.display.HTML object>"
      ],
      "text/html": [
       "<br>    <style><br>        .wandb-row {<br>            display: flex;<br>            flex-direction: row;<br>            flex-wrap: wrap;<br>            justify-content: flex-start;<br>            width: 100%;<br>        }<br>        .wandb-col {<br>            display: flex;<br>            flex-direction: column;<br>            flex-basis: 100%;<br>            flex: 1;<br>            padding: 10px;<br>        }<br>    </style><br><div class=\"wandb-row\"><div class=\"wandb-col\"><h3>Run history:</h3><br/><table class=\"wandb\"><tr><td>AUC</td><td>▁</td></tr><tr><td>Epoch</td><td>▁▂▂▃▄▅▅▆▇▇█</td></tr><tr><td>Fold</td><td>▁</td></tr><tr><td>Train Accuracy</td><td>▁▇█████████</td></tr><tr><td>Train Loss</td><td>█▂▁▁▁▁▁▁▁▁▁</td></tr><tr><td>Validation AUC</td><td>▁██████████</td></tr><tr><td>Validation Accuracy</td><td>▅█▆█████▁██</td></tr><tr><td>Validation F1</td><td>▅█▆█████▁██</td></tr><tr><td>Validation Loss</td><td>▅▁▁▁▁▁▁▁█▁▁</td></tr><tr><td>Validation Precision</td><td>▅█▆█████▁██</td></tr><tr><td>Validation Recall</td><td>▅█▆█████▁██</td></tr><tr><td>Validation Specificity</td><td>▁█▅████████</td></tr></table><br/></div><div class=\"wandb-col\"><h3>Run summary:</h3><br/><table class=\"wandb\"><tr><td>AUC</td><td>1</td></tr><tr><td>Epoch</td><td>11</td></tr><tr><td>Fold</td><td>3</td></tr><tr><td>Train Accuracy</td><td>1</td></tr><tr><td>Train Loss</td><td>0.00019</td></tr><tr><td>Validation AUC</td><td>1</td></tr><tr><td>Validation Accuracy</td><td>1</td></tr><tr><td>Validation F1</td><td>1</td></tr><tr><td>Validation Loss</td><td>0.00018</td></tr><tr><td>Validation Precision</td><td>1</td></tr><tr><td>Validation Recall</td><td>1</td></tr><tr><td>Validation Specificity</td><td>1</td></tr></table><br/></div></div>"
      ]
     },
     "metadata": {},
     "output_type": "display_data"
    },
    {
     "data": {
      "text/plain": [
       "<IPython.core.display.HTML object>"
      ],
      "text/html": [
       " View run <strong style=\"color:#cdcd00\">AlexNet_trial_14_fold_3</strong> at: <a href='https://wandb.ai/amitr5-tel-aviv-university/AlexNet-deep_van_gogh-aug-26.3.2025/runs/mdeyuf0o' target=\"_blank\">https://wandb.ai/amitr5-tel-aviv-university/AlexNet-deep_van_gogh-aug-26.3.2025/runs/mdeyuf0o</a><br> View project at: <a href='https://wandb.ai/amitr5-tel-aviv-university/AlexNet-deep_van_gogh-aug-26.3.2025' target=\"_blank\">https://wandb.ai/amitr5-tel-aviv-university/AlexNet-deep_van_gogh-aug-26.3.2025</a><br>Synced 5 W&B file(s), 0 media file(s), 0 artifact file(s) and 0 other file(s)"
      ]
     },
     "metadata": {},
     "output_type": "display_data"
    },
    {
     "data": {
      "text/plain": [
       "<IPython.core.display.HTML object>"
      ],
      "text/html": [
       "Find logs at: <code>.\\wandb\\run-20250326_190727-mdeyuf0o\\logs</code>"
      ]
     },
     "metadata": {},
     "output_type": "display_data"
    },
    {
     "data": {
      "text/plain": [
       "<IPython.core.display.HTML object>"
      ],
      "text/html": [
       "Tracking run with wandb version 0.19.1"
      ]
     },
     "metadata": {},
     "output_type": "display_data"
    },
    {
     "data": {
      "text/plain": [
       "<IPython.core.display.HTML object>"
      ],
      "text/html": [
       "Run data is saved locally in <code>D:\\Users\\kanatcohen\\PycharmProjects\\deep_van_gogh\\wandb\\run-20250326_190847-it957cq1</code>"
      ]
     },
     "metadata": {},
     "output_type": "display_data"
    },
    {
     "data": {
      "text/plain": [
       "<IPython.core.display.HTML object>"
      ],
      "text/html": [
       "Syncing run <strong><a href='https://wandb.ai/amitr5-tel-aviv-university/AlexNet-deep_van_gogh-aug-26.3.2025/runs/it957cq1' target=\"_blank\">AlexNet_trial_14</a></strong> to <a href='https://wandb.ai/amitr5-tel-aviv-university/AlexNet-deep_van_gogh-aug-26.3.2025' target=\"_blank\">Weights & Biases</a> (<a href='https://wandb.me/developer-guide' target=\"_blank\">docs</a>)<br>"
      ]
     },
     "metadata": {},
     "output_type": "display_data"
    },
    {
     "data": {
      "text/plain": [
       "<IPython.core.display.HTML object>"
      ],
      "text/html": [
       " View project at <a href='https://wandb.ai/amitr5-tel-aviv-university/AlexNet-deep_van_gogh-aug-26.3.2025' target=\"_blank\">https://wandb.ai/amitr5-tel-aviv-university/AlexNet-deep_van_gogh-aug-26.3.2025</a>"
      ]
     },
     "metadata": {},
     "output_type": "display_data"
    },
    {
     "data": {
      "text/plain": [
       "<IPython.core.display.HTML object>"
      ],
      "text/html": [
       " View run at <a href='https://wandb.ai/amitr5-tel-aviv-university/AlexNet-deep_van_gogh-aug-26.3.2025/runs/it957cq1' target=\"_blank\">https://wandb.ai/amitr5-tel-aviv-university/AlexNet-deep_van_gogh-aug-26.3.2025/runs/it957cq1</a>"
      ]
     },
     "metadata": {},
     "output_type": "display_data"
    },
    {
     "data": {
      "text/plain": [
       "<IPython.core.display.HTML object>"
      ],
      "text/html": []
     },
     "metadata": {},
     "output_type": "display_data"
    },
    {
     "data": {
      "text/plain": [
       "<IPython.core.display.HTML object>"
      ],
      "text/html": [
       "<br>    <style><br>        .wandb-row {<br>            display: flex;<br>            flex-direction: row;<br>            flex-wrap: wrap;<br>            justify-content: flex-start;<br>            width: 100%;<br>        }<br>        .wandb-col {<br>            display: flex;<br>            flex-direction: column;<br>            flex-basis: 100%;<br>            flex: 1;<br>            padding: 10px;<br>        }<br>    </style><br><div class=\"wandb-row\"><div class=\"wandb-col\"><h3>Run history:</h3><br/><table class=\"wandb\"><tr><td>Mean AUC</td><td>▁</td></tr><tr><td>Trial</td><td>▁</td></tr></table><br/></div><div class=\"wandb-col\"><h3>Run summary:</h3><br/><table class=\"wandb\"><tr><td>Mean AUC</td><td>1</td></tr><tr><td>Trial</td><td>14</td></tr></table><br/></div></div>"
      ]
     },
     "metadata": {},
     "output_type": "display_data"
    },
    {
     "data": {
      "text/plain": [
       "<IPython.core.display.HTML object>"
      ],
      "text/html": [
       " View run <strong style=\"color:#cdcd00\">AlexNet_trial_14</strong> at: <a href='https://wandb.ai/amitr5-tel-aviv-university/AlexNet-deep_van_gogh-aug-26.3.2025/runs/it957cq1' target=\"_blank\">https://wandb.ai/amitr5-tel-aviv-university/AlexNet-deep_van_gogh-aug-26.3.2025/runs/it957cq1</a><br> View project at: <a href='https://wandb.ai/amitr5-tel-aviv-university/AlexNet-deep_van_gogh-aug-26.3.2025' target=\"_blank\">https://wandb.ai/amitr5-tel-aviv-university/AlexNet-deep_van_gogh-aug-26.3.2025</a><br>Synced 5 W&B file(s), 0 media file(s), 0 artifact file(s) and 0 other file(s)"
      ]
     },
     "metadata": {},
     "output_type": "display_data"
    },
    {
     "data": {
      "text/plain": [
       "<IPython.core.display.HTML object>"
      ],
      "text/html": [
       "Find logs at: <code>.\\wandb\\run-20250326_190847-it957cq1\\logs</code>"
      ]
     },
     "metadata": {},
     "output_type": "display_data"
    },
    {
     "name": "stderr",
     "output_type": "stream",
     "text": [
      "[I 2025-03-26 19:08:51,326] Trial 13 finished with value: 1.0 and parameters: {'learning_rate': 9.842918237962895e-05, 'weight_decay': 3.089941214743033e-05, 'epochs': 25, 'num_layers_finetune': 2}. Best is trial 2 with value: 1.0.\n"
     ]
    },
    {
     "data": {
      "text/plain": [
       "<IPython.core.display.HTML object>"
      ],
      "text/html": [
       "Tracking run with wandb version 0.19.1"
      ]
     },
     "metadata": {},
     "output_type": "display_data"
    },
    {
     "data": {
      "text/plain": [
       "<IPython.core.display.HTML object>"
      ],
      "text/html": [
       "Run data is saved locally in <code>D:\\Users\\kanatcohen\\PycharmProjects\\deep_van_gogh\\wandb\\run-20250326_190851-j2gdd35e</code>"
      ]
     },
     "metadata": {},
     "output_type": "display_data"
    },
    {
     "data": {
      "text/plain": [
       "<IPython.core.display.HTML object>"
      ],
      "text/html": [
       "Syncing run <strong><a href='https://wandb.ai/amitr5-tel-aviv-university/AlexNet-deep_van_gogh-aug-26.3.2025/runs/j2gdd35e' target=\"_blank\">AlexNet_trial_15_fold_0</a></strong> to <a href='https://wandb.ai/amitr5-tel-aviv-university/AlexNet-deep_van_gogh-aug-26.3.2025' target=\"_blank\">Weights & Biases</a> (<a href='https://wandb.me/developer-guide' target=\"_blank\">docs</a>)<br>"
      ]
     },
     "metadata": {},
     "output_type": "display_data"
    },
    {
     "data": {
      "text/plain": [
       "<IPython.core.display.HTML object>"
      ],
      "text/html": [
       " View project at <a href='https://wandb.ai/amitr5-tel-aviv-university/AlexNet-deep_van_gogh-aug-26.3.2025' target=\"_blank\">https://wandb.ai/amitr5-tel-aviv-university/AlexNet-deep_van_gogh-aug-26.3.2025</a>"
      ]
     },
     "metadata": {},
     "output_type": "display_data"
    },
    {
     "data": {
      "text/plain": [
       "<IPython.core.display.HTML object>"
      ],
      "text/html": [
       " View run at <a href='https://wandb.ai/amitr5-tel-aviv-university/AlexNet-deep_van_gogh-aug-26.3.2025/runs/j2gdd35e' target=\"_blank\">https://wandb.ai/amitr5-tel-aviv-university/AlexNet-deep_van_gogh-aug-26.3.2025/runs/j2gdd35e</a>"
      ]
     },
     "metadata": {},
     "output_type": "display_data"
    },
    {
     "data": {
      "text/plain": [
       "<IPython.core.display.HTML object>"
      ],
      "text/html": []
     },
     "metadata": {},
     "output_type": "display_data"
    },
    {
     "data": {
      "text/plain": [
       "<IPython.core.display.HTML object>"
      ],
      "text/html": [
       "<br>    <style><br>        .wandb-row {<br>            display: flex;<br>            flex-direction: row;<br>            flex-wrap: wrap;<br>            justify-content: flex-start;<br>            width: 100%;<br>        }<br>        .wandb-col {<br>            display: flex;<br>            flex-direction: column;<br>            flex-basis: 100%;<br>            flex: 1;<br>            padding: 10px;<br>        }<br>    </style><br><div class=\"wandb-row\"><div class=\"wandb-col\"><h3>Run history:</h3><br/><table class=\"wandb\"><tr><td>AUC</td><td>▁</td></tr><tr><td>Epoch</td><td>▁▂▃▃▄▅▆▆▇█</td></tr><tr><td>Fold</td><td>▁</td></tr><tr><td>Train Accuracy</td><td>▁███▇█▇███</td></tr><tr><td>Train Loss</td><td>█▂▃▂▂▁▃▁▂▁</td></tr><tr><td>Validation AUC</td><td>▁▁▁▁▁▁▁▁▁▁</td></tr><tr><td>Validation Accuracy</td><td>██████▁█▅█</td></tr><tr><td>Validation F1</td><td>██████▁█▄█</td></tr><tr><td>Validation Loss</td><td>▁▁▁▁▂▁█▂▇▁</td></tr><tr><td>Validation Precision</td><td>██████▁█▄█</td></tr><tr><td>Validation Recall</td><td>██████▁█▅█</td></tr><tr><td>Validation Specificity</td><td>██████▁███</td></tr></table><br/></div><div class=\"wandb-col\"><h3>Run summary:</h3><br/><table class=\"wandb\"><tr><td>AUC</td><td>1</td></tr><tr><td>Epoch</td><td>10</td></tr><tr><td>Fold</td><td>0</td></tr><tr><td>Train Accuracy</td><td>0.99982</td></tr><tr><td>Train Loss</td><td>0.00041</td></tr><tr><td>Validation AUC</td><td>1</td></tr><tr><td>Validation Accuracy</td><td>1</td></tr><tr><td>Validation F1</td><td>1</td></tr><tr><td>Validation Loss</td><td>2e-05</td></tr><tr><td>Validation Precision</td><td>1</td></tr><tr><td>Validation Recall</td><td>1</td></tr><tr><td>Validation Specificity</td><td>1</td></tr></table><br/></div></div>"
      ]
     },
     "metadata": {},
     "output_type": "display_data"
    },
    {
     "data": {
      "text/plain": [
       "<IPython.core.display.HTML object>"
      ],
      "text/html": [
       " View run <strong style=\"color:#cdcd00\">AlexNet_trial_15_fold_0</strong> at: <a href='https://wandb.ai/amitr5-tel-aviv-university/AlexNet-deep_van_gogh-aug-26.3.2025/runs/j2gdd35e' target=\"_blank\">https://wandb.ai/amitr5-tel-aviv-university/AlexNet-deep_van_gogh-aug-26.3.2025/runs/j2gdd35e</a><br> View project at: <a href='https://wandb.ai/amitr5-tel-aviv-university/AlexNet-deep_van_gogh-aug-26.3.2025' target=\"_blank\">https://wandb.ai/amitr5-tel-aviv-university/AlexNet-deep_van_gogh-aug-26.3.2025</a><br>Synced 5 W&B file(s), 0 media file(s), 0 artifact file(s) and 0 other file(s)"
      ]
     },
     "metadata": {},
     "output_type": "display_data"
    },
    {
     "data": {
      "text/plain": [
       "<IPython.core.display.HTML object>"
      ],
      "text/html": [
       "Find logs at: <code>.\\wandb\\run-20250326_190851-j2gdd35e\\logs</code>"
      ]
     },
     "metadata": {},
     "output_type": "display_data"
    },
    {
     "data": {
      "text/plain": [
       "<IPython.core.display.HTML object>"
      ],
      "text/html": [
       "Tracking run with wandb version 0.19.1"
      ]
     },
     "metadata": {},
     "output_type": "display_data"
    },
    {
     "data": {
      "text/plain": [
       "<IPython.core.display.HTML object>"
      ],
      "text/html": [
       "Run data is saved locally in <code>D:\\Users\\kanatcohen\\PycharmProjects\\deep_van_gogh\\wandb\\run-20250326_191004-a9b43sne</code>"
      ]
     },
     "metadata": {},
     "output_type": "display_data"
    },
    {
     "data": {
      "text/plain": [
       "<IPython.core.display.HTML object>"
      ],
      "text/html": [
       "Syncing run <strong><a href='https://wandb.ai/amitr5-tel-aviv-university/AlexNet-deep_van_gogh-aug-26.3.2025/runs/a9b43sne' target=\"_blank\">AlexNet_trial_15_fold_1</a></strong> to <a href='https://wandb.ai/amitr5-tel-aviv-university/AlexNet-deep_van_gogh-aug-26.3.2025' target=\"_blank\">Weights & Biases</a> (<a href='https://wandb.me/developer-guide' target=\"_blank\">docs</a>)<br>"
      ]
     },
     "metadata": {},
     "output_type": "display_data"
    },
    {
     "data": {
      "text/plain": [
       "<IPython.core.display.HTML object>"
      ],
      "text/html": [
       " View project at <a href='https://wandb.ai/amitr5-tel-aviv-university/AlexNet-deep_van_gogh-aug-26.3.2025' target=\"_blank\">https://wandb.ai/amitr5-tel-aviv-university/AlexNet-deep_van_gogh-aug-26.3.2025</a>"
      ]
     },
     "metadata": {},
     "output_type": "display_data"
    },
    {
     "data": {
      "text/plain": [
       "<IPython.core.display.HTML object>"
      ],
      "text/html": [
       " View run at <a href='https://wandb.ai/amitr5-tel-aviv-university/AlexNet-deep_van_gogh-aug-26.3.2025/runs/a9b43sne' target=\"_blank\">https://wandb.ai/amitr5-tel-aviv-university/AlexNet-deep_van_gogh-aug-26.3.2025/runs/a9b43sne</a>"
      ]
     },
     "metadata": {},
     "output_type": "display_data"
    },
    {
     "data": {
      "text/plain": [
       "<IPython.core.display.HTML object>"
      ],
      "text/html": []
     },
     "metadata": {},
     "output_type": "display_data"
    },
    {
     "data": {
      "text/plain": [
       "<IPython.core.display.HTML object>"
      ],
      "text/html": [
       "<br>    <style><br>        .wandb-row {<br>            display: flex;<br>            flex-direction: row;<br>            flex-wrap: wrap;<br>            justify-content: flex-start;<br>            width: 100%;<br>        }<br>        .wandb-col {<br>            display: flex;<br>            flex-direction: column;<br>            flex-basis: 100%;<br>            flex: 1;<br>            padding: 10px;<br>        }<br>    </style><br><div class=\"wandb-row\"><div class=\"wandb-col\"><h3>Run history:</h3><br/><table class=\"wandb\"><tr><td>AUC</td><td>▁</td></tr><tr><td>Epoch</td><td>▁▂▃▃▄▅▆▆▇█</td></tr><tr><td>Fold</td><td>▁</td></tr><tr><td>Train Accuracy</td><td>▁█▇▇██████</td></tr><tr><td>Train Loss</td><td>█▁▄▃▁▂▂▁▁▂</td></tr><tr><td>Validation AUC</td><td>██▇██████▁</td></tr><tr><td>Validation Accuracy</td><td>██▁████▆█▃</td></tr><tr><td>Validation F1</td><td>██▁████▆█▃</td></tr><tr><td>Validation Loss</td><td>▁▁█▁▁▁▁▂▁▅</td></tr><tr><td>Validation Precision</td><td>██▁████▆█▃</td></tr><tr><td>Validation Recall</td><td>██▁████▆█▃</td></tr><tr><td>Validation Specificity</td><td>██▁██████▅</td></tr></table><br/></div><div class=\"wandb-col\"><h3>Run summary:</h3><br/><table class=\"wandb\"><tr><td>AUC</td><td>1</td></tr><tr><td>Epoch</td><td>10</td></tr><tr><td>Fold</td><td>1</td></tr><tr><td>Train Accuracy</td><td>0.99927</td></tr><tr><td>Train Loss</td><td>0.00247</td></tr><tr><td>Validation AUC</td><td>0.99999</td></tr><tr><td>Validation Accuracy</td><td>0.99918</td></tr><tr><td>Validation F1</td><td>0.99918</td></tr><tr><td>Validation Loss</td><td>0.00157</td></tr><tr><td>Validation Precision</td><td>0.99918</td></tr><tr><td>Validation Recall</td><td>0.99918</td></tr><tr><td>Validation Specificity</td><td>0.99942</td></tr></table><br/></div></div>"
      ]
     },
     "metadata": {},
     "output_type": "display_data"
    },
    {
     "data": {
      "text/plain": [
       "<IPython.core.display.HTML object>"
      ],
      "text/html": [
       " View run <strong style=\"color:#cdcd00\">AlexNet_trial_15_fold_1</strong> at: <a href='https://wandb.ai/amitr5-tel-aviv-university/AlexNet-deep_van_gogh-aug-26.3.2025/runs/a9b43sne' target=\"_blank\">https://wandb.ai/amitr5-tel-aviv-university/AlexNet-deep_van_gogh-aug-26.3.2025/runs/a9b43sne</a><br> View project at: <a href='https://wandb.ai/amitr5-tel-aviv-university/AlexNet-deep_van_gogh-aug-26.3.2025' target=\"_blank\">https://wandb.ai/amitr5-tel-aviv-university/AlexNet-deep_van_gogh-aug-26.3.2025</a><br>Synced 5 W&B file(s), 0 media file(s), 0 artifact file(s) and 0 other file(s)"
      ]
     },
     "metadata": {},
     "output_type": "display_data"
    },
    {
     "data": {
      "text/plain": [
       "<IPython.core.display.HTML object>"
      ],
      "text/html": [
       "Find logs at: <code>.\\wandb\\run-20250326_191004-a9b43sne\\logs</code>"
      ]
     },
     "metadata": {},
     "output_type": "display_data"
    },
    {
     "data": {
      "text/plain": [
       "<IPython.core.display.HTML object>"
      ],
      "text/html": [
       "Tracking run with wandb version 0.19.1"
      ]
     },
     "metadata": {},
     "output_type": "display_data"
    },
    {
     "data": {
      "text/plain": [
       "<IPython.core.display.HTML object>"
      ],
      "text/html": [
       "Run data is saved locally in <code>D:\\Users\\kanatcohen\\PycharmProjects\\deep_van_gogh\\wandb\\run-20250326_191117-zidlgnc7</code>"
      ]
     },
     "metadata": {},
     "output_type": "display_data"
    },
    {
     "data": {
      "text/plain": [
       "<IPython.core.display.HTML object>"
      ],
      "text/html": [
       "Syncing run <strong><a href='https://wandb.ai/amitr5-tel-aviv-university/AlexNet-deep_van_gogh-aug-26.3.2025/runs/zidlgnc7' target=\"_blank\">AlexNet_trial_15_fold_2</a></strong> to <a href='https://wandb.ai/amitr5-tel-aviv-university/AlexNet-deep_van_gogh-aug-26.3.2025' target=\"_blank\">Weights & Biases</a> (<a href='https://wandb.me/developer-guide' target=\"_blank\">docs</a>)<br>"
      ]
     },
     "metadata": {},
     "output_type": "display_data"
    },
    {
     "data": {
      "text/plain": [
       "<IPython.core.display.HTML object>"
      ],
      "text/html": [
       " View project at <a href='https://wandb.ai/amitr5-tel-aviv-university/AlexNet-deep_van_gogh-aug-26.3.2025' target=\"_blank\">https://wandb.ai/amitr5-tel-aviv-university/AlexNet-deep_van_gogh-aug-26.3.2025</a>"
      ]
     },
     "metadata": {},
     "output_type": "display_data"
    },
    {
     "data": {
      "text/plain": [
       "<IPython.core.display.HTML object>"
      ],
      "text/html": [
       " View run at <a href='https://wandb.ai/amitr5-tel-aviv-university/AlexNet-deep_van_gogh-aug-26.3.2025/runs/zidlgnc7' target=\"_blank\">https://wandb.ai/amitr5-tel-aviv-university/AlexNet-deep_van_gogh-aug-26.3.2025/runs/zidlgnc7</a>"
      ]
     },
     "metadata": {},
     "output_type": "display_data"
    },
    {
     "data": {
      "text/plain": [
       "<IPython.core.display.HTML object>"
      ],
      "text/html": []
     },
     "metadata": {},
     "output_type": "display_data"
    },
    {
     "data": {
      "text/plain": [
       "<IPython.core.display.HTML object>"
      ],
      "text/html": [
       "<br>    <style><br>        .wandb-row {<br>            display: flex;<br>            flex-direction: row;<br>            flex-wrap: wrap;<br>            justify-content: flex-start;<br>            width: 100%;<br>        }<br>        .wandb-col {<br>            display: flex;<br>            flex-direction: column;<br>            flex-basis: 100%;<br>            flex: 1;<br>            padding: 10px;<br>        }<br>    </style><br><div class=\"wandb-row\"><div class=\"wandb-col\"><h3>Run history:</h3><br/><table class=\"wandb\"><tr><td>AUC</td><td>▁</td></tr><tr><td>Epoch</td><td>▁▂▃▃▄▅▆▆▇█</td></tr><tr><td>Fold</td><td>▁</td></tr><tr><td>Train Accuracy</td><td>▁████▇████</td></tr><tr><td>Train Loss</td><td>█▁▁▁▂▃▂▂▂▁</td></tr><tr><td>Validation AUC</td><td>████████▁█</td></tr><tr><td>Validation Accuracy</td><td>████▅█▅█▁▅</td></tr><tr><td>Validation F1</td><td>████▄█▄█▁▄</td></tr><tr><td>Validation Loss</td><td>▁▁▁▁▃▁▂▂█▂</td></tr><tr><td>Validation Precision</td><td>████▄█▄█▁▄</td></tr><tr><td>Validation Recall</td><td>████▅█▅█▁▅</td></tr><tr><td>Validation Specificity</td><td>████████▁▅</td></tr></table><br/></div><div class=\"wandb-col\"><h3>Run summary:</h3><br/><table class=\"wandb\"><tr><td>AUC</td><td>1</td></tr><tr><td>Epoch</td><td>10</td></tr><tr><td>Fold</td><td>2</td></tr><tr><td>Train Accuracy</td><td>1</td></tr><tr><td>Train Loss</td><td>0.00036</td></tr><tr><td>Validation AUC</td><td>1</td></tr><tr><td>Validation Accuracy</td><td>0.99973</td></tr><tr><td>Validation F1</td><td>0.99973</td></tr><tr><td>Validation Loss</td><td>0.00053</td></tr><tr><td>Validation Precision</td><td>0.99973</td></tr><tr><td>Validation Recall</td><td>0.99973</td></tr><tr><td>Validation Specificity</td><td>0.99971</td></tr></table><br/></div></div>"
      ]
     },
     "metadata": {},
     "output_type": "display_data"
    },
    {
     "data": {
      "text/plain": [
       "<IPython.core.display.HTML object>"
      ],
      "text/html": [
       " View run <strong style=\"color:#cdcd00\">AlexNet_trial_15_fold_2</strong> at: <a href='https://wandb.ai/amitr5-tel-aviv-university/AlexNet-deep_van_gogh-aug-26.3.2025/runs/zidlgnc7' target=\"_blank\">https://wandb.ai/amitr5-tel-aviv-university/AlexNet-deep_van_gogh-aug-26.3.2025/runs/zidlgnc7</a><br> View project at: <a href='https://wandb.ai/amitr5-tel-aviv-university/AlexNet-deep_van_gogh-aug-26.3.2025' target=\"_blank\">https://wandb.ai/amitr5-tel-aviv-university/AlexNet-deep_van_gogh-aug-26.3.2025</a><br>Synced 5 W&B file(s), 0 media file(s), 0 artifact file(s) and 0 other file(s)"
      ]
     },
     "metadata": {},
     "output_type": "display_data"
    },
    {
     "data": {
      "text/plain": [
       "<IPython.core.display.HTML object>"
      ],
      "text/html": [
       "Find logs at: <code>.\\wandb\\run-20250326_191117-zidlgnc7\\logs</code>"
      ]
     },
     "metadata": {},
     "output_type": "display_data"
    },
    {
     "data": {
      "text/plain": [
       "<IPython.core.display.HTML object>"
      ],
      "text/html": [
       "Tracking run with wandb version 0.19.1"
      ]
     },
     "metadata": {},
     "output_type": "display_data"
    },
    {
     "data": {
      "text/plain": [
       "<IPython.core.display.HTML object>"
      ],
      "text/html": [
       "Run data is saved locally in <code>D:\\Users\\kanatcohen\\PycharmProjects\\deep_van_gogh\\wandb\\run-20250326_191230-vl0tj8al</code>"
      ]
     },
     "metadata": {},
     "output_type": "display_data"
    },
    {
     "data": {
      "text/plain": [
       "<IPython.core.display.HTML object>"
      ],
      "text/html": [
       "Syncing run <strong><a href='https://wandb.ai/amitr5-tel-aviv-university/AlexNet-deep_van_gogh-aug-26.3.2025/runs/vl0tj8al' target=\"_blank\">AlexNet_trial_15_fold_3</a></strong> to <a href='https://wandb.ai/amitr5-tel-aviv-university/AlexNet-deep_van_gogh-aug-26.3.2025' target=\"_blank\">Weights & Biases</a> (<a href='https://wandb.me/developer-guide' target=\"_blank\">docs</a>)<br>"
      ]
     },
     "metadata": {},
     "output_type": "display_data"
    },
    {
     "data": {
      "text/plain": [
       "<IPython.core.display.HTML object>"
      ],
      "text/html": [
       " View project at <a href='https://wandb.ai/amitr5-tel-aviv-university/AlexNet-deep_van_gogh-aug-26.3.2025' target=\"_blank\">https://wandb.ai/amitr5-tel-aviv-university/AlexNet-deep_van_gogh-aug-26.3.2025</a>"
      ]
     },
     "metadata": {},
     "output_type": "display_data"
    },
    {
     "data": {
      "text/plain": [
       "<IPython.core.display.HTML object>"
      ],
      "text/html": [
       " View run at <a href='https://wandb.ai/amitr5-tel-aviv-university/AlexNet-deep_van_gogh-aug-26.3.2025/runs/vl0tj8al' target=\"_blank\">https://wandb.ai/amitr5-tel-aviv-university/AlexNet-deep_van_gogh-aug-26.3.2025/runs/vl0tj8al</a>"
      ]
     },
     "metadata": {},
     "output_type": "display_data"
    },
    {
     "data": {
      "text/plain": [
       "<IPython.core.display.HTML object>"
      ],
      "text/html": []
     },
     "metadata": {},
     "output_type": "display_data"
    },
    {
     "data": {
      "text/plain": [
       "<IPython.core.display.HTML object>"
      ],
      "text/html": [
       "<br>    <style><br>        .wandb-row {<br>            display: flex;<br>            flex-direction: row;<br>            flex-wrap: wrap;<br>            justify-content: flex-start;<br>            width: 100%;<br>        }<br>        .wandb-col {<br>            display: flex;<br>            flex-direction: column;<br>            flex-basis: 100%;<br>            flex: 1;<br>            padding: 10px;<br>        }<br>    </style><br><div class=\"wandb-row\"><div class=\"wandb-col\"><h3>Run history:</h3><br/><table class=\"wandb\"><tr><td>AUC</td><td>▁</td></tr><tr><td>Epoch</td><td>▁▂▃▃▄▅▆▆▇█</td></tr><tr><td>Fold</td><td>▁</td></tr><tr><td>Train Accuracy</td><td>▁█▄▇▇▆██▇▆</td></tr><tr><td>Train Loss</td><td>█▂█▂▂▃▁▁▂▃</td></tr><tr><td>Validation AUC</td><td>▁▁▁▁▁▁▁▁▁▁</td></tr><tr><td>Validation Accuracy</td><td>██▁█▆█▆██▆</td></tr><tr><td>Validation F1</td><td>██▁█▆█▆██▆</td></tr><tr><td>Validation Loss</td><td>▁▁█▁▃▁▃▁▁▆</td></tr><tr><td>Validation Precision</td><td>██▁█▆█▆██▆</td></tr><tr><td>Validation Recall</td><td>██▁█▆█▆██▆</td></tr><tr><td>Validation Specificity</td><td>████▁█▁██▁</td></tr></table><br/></div><div class=\"wandb-col\"><h3>Run summary:</h3><br/><table class=\"wandb\"><tr><td>AUC</td><td>1</td></tr><tr><td>Epoch</td><td>10</td></tr><tr><td>Fold</td><td>3</td></tr><tr><td>Train Accuracy</td><td>0.99945</td></tr><tr><td>Train Loss</td><td>0.0024</td></tr><tr><td>Validation AUC</td><td>1</td></tr><tr><td>Validation Accuracy</td><td>0.99973</td></tr><tr><td>Validation F1</td><td>0.99973</td></tr><tr><td>Validation Loss</td><td>0.00144</td></tr><tr><td>Validation Precision</td><td>0.99973</td></tr><tr><td>Validation Recall</td><td>0.99973</td></tr><tr><td>Validation Specificity</td><td>0.99971</td></tr></table><br/></div></div>"
      ]
     },
     "metadata": {},
     "output_type": "display_data"
    },
    {
     "data": {
      "text/plain": [
       "<IPython.core.display.HTML object>"
      ],
      "text/html": [
       " View run <strong style=\"color:#cdcd00\">AlexNet_trial_15_fold_3</strong> at: <a href='https://wandb.ai/amitr5-tel-aviv-university/AlexNet-deep_van_gogh-aug-26.3.2025/runs/vl0tj8al' target=\"_blank\">https://wandb.ai/amitr5-tel-aviv-university/AlexNet-deep_van_gogh-aug-26.3.2025/runs/vl0tj8al</a><br> View project at: <a href='https://wandb.ai/amitr5-tel-aviv-university/AlexNet-deep_van_gogh-aug-26.3.2025' target=\"_blank\">https://wandb.ai/amitr5-tel-aviv-university/AlexNet-deep_van_gogh-aug-26.3.2025</a><br>Synced 5 W&B file(s), 0 media file(s), 0 artifact file(s) and 0 other file(s)"
      ]
     },
     "metadata": {},
     "output_type": "display_data"
    },
    {
     "data": {
      "text/plain": [
       "<IPython.core.display.HTML object>"
      ],
      "text/html": [
       "Find logs at: <code>.\\wandb\\run-20250326_191230-vl0tj8al\\logs</code>"
      ]
     },
     "metadata": {},
     "output_type": "display_data"
    },
    {
     "data": {
      "text/plain": [
       "<IPython.core.display.HTML object>"
      ],
      "text/html": [
       "Tracking run with wandb version 0.19.1"
      ]
     },
     "metadata": {},
     "output_type": "display_data"
    },
    {
     "data": {
      "text/plain": [
       "<IPython.core.display.HTML object>"
      ],
      "text/html": [
       "Run data is saved locally in <code>D:\\Users\\kanatcohen\\PycharmProjects\\deep_van_gogh\\wandb\\run-20250326_191343-sf6tcyr3</code>"
      ]
     },
     "metadata": {},
     "output_type": "display_data"
    },
    {
     "data": {
      "text/plain": [
       "<IPython.core.display.HTML object>"
      ],
      "text/html": [
       "Syncing run <strong><a href='https://wandb.ai/amitr5-tel-aviv-university/AlexNet-deep_van_gogh-aug-26.3.2025/runs/sf6tcyr3' target=\"_blank\">AlexNet_trial_15</a></strong> to <a href='https://wandb.ai/amitr5-tel-aviv-university/AlexNet-deep_van_gogh-aug-26.3.2025' target=\"_blank\">Weights & Biases</a> (<a href='https://wandb.me/developer-guide' target=\"_blank\">docs</a>)<br>"
      ]
     },
     "metadata": {},
     "output_type": "display_data"
    },
    {
     "data": {
      "text/plain": [
       "<IPython.core.display.HTML object>"
      ],
      "text/html": [
       " View project at <a href='https://wandb.ai/amitr5-tel-aviv-university/AlexNet-deep_van_gogh-aug-26.3.2025' target=\"_blank\">https://wandb.ai/amitr5-tel-aviv-university/AlexNet-deep_van_gogh-aug-26.3.2025</a>"
      ]
     },
     "metadata": {},
     "output_type": "display_data"
    },
    {
     "data": {
      "text/plain": [
       "<IPython.core.display.HTML object>"
      ],
      "text/html": [
       " View run at <a href='https://wandb.ai/amitr5-tel-aviv-university/AlexNet-deep_van_gogh-aug-26.3.2025/runs/sf6tcyr3' target=\"_blank\">https://wandb.ai/amitr5-tel-aviv-university/AlexNet-deep_van_gogh-aug-26.3.2025/runs/sf6tcyr3</a>"
      ]
     },
     "metadata": {},
     "output_type": "display_data"
    },
    {
     "data": {
      "text/plain": [
       "<IPython.core.display.HTML object>"
      ],
      "text/html": []
     },
     "metadata": {},
     "output_type": "display_data"
    },
    {
     "data": {
      "text/plain": [
       "<IPython.core.display.HTML object>"
      ],
      "text/html": [
       "<br>    <style><br>        .wandb-row {<br>            display: flex;<br>            flex-direction: row;<br>            flex-wrap: wrap;<br>            justify-content: flex-start;<br>            width: 100%;<br>        }<br>        .wandb-col {<br>            display: flex;<br>            flex-direction: column;<br>            flex-basis: 100%;<br>            flex: 1;<br>            padding: 10px;<br>        }<br>    </style><br><div class=\"wandb-row\"><div class=\"wandb-col\"><h3>Run history:</h3><br/><table class=\"wandb\"><tr><td>Mean AUC</td><td>▁</td></tr><tr><td>Trial</td><td>▁</td></tr></table><br/></div><div class=\"wandb-col\"><h3>Run summary:</h3><br/><table class=\"wandb\"><tr><td>Mean AUC</td><td>1</td></tr><tr><td>Trial</td><td>15</td></tr></table><br/></div></div>"
      ]
     },
     "metadata": {},
     "output_type": "display_data"
    },
    {
     "data": {
      "text/plain": [
       "<IPython.core.display.HTML object>"
      ],
      "text/html": [
       " View run <strong style=\"color:#cdcd00\">AlexNet_trial_15</strong> at: <a href='https://wandb.ai/amitr5-tel-aviv-university/AlexNet-deep_van_gogh-aug-26.3.2025/runs/sf6tcyr3' target=\"_blank\">https://wandb.ai/amitr5-tel-aviv-university/AlexNet-deep_van_gogh-aug-26.3.2025/runs/sf6tcyr3</a><br> View project at: <a href='https://wandb.ai/amitr5-tel-aviv-university/AlexNet-deep_van_gogh-aug-26.3.2025' target=\"_blank\">https://wandb.ai/amitr5-tel-aviv-university/AlexNet-deep_van_gogh-aug-26.3.2025</a><br>Synced 5 W&B file(s), 0 media file(s), 0 artifact file(s) and 0 other file(s)"
      ]
     },
     "metadata": {},
     "output_type": "display_data"
    },
    {
     "data": {
      "text/plain": [
       "<IPython.core.display.HTML object>"
      ],
      "text/html": [
       "Find logs at: <code>.\\wandb\\run-20250326_191343-sf6tcyr3\\logs</code>"
      ]
     },
     "metadata": {},
     "output_type": "display_data"
    },
    {
     "name": "stderr",
     "output_type": "stream",
     "text": [
      "[I 2025-03-26 19:13:46,839] Trial 14 finished with value: 1.0 and parameters: {'learning_rate': 0.00010742902378676586, 'weight_decay': 4.899016816973517e-06, 'epochs': 15, 'num_layers_finetune': 0}. Best is trial 2 with value: 1.0.\n"
     ]
    }
   ],
   "execution_count": 35
  },
  {
   "cell_type": "markdown",
   "metadata": {},
   "source": [
    "analysing results"
   ]
  },
  {
   "cell_type": "code",
   "metadata": {},
   "source": "",
   "outputs": [],
   "execution_count": null
  },
  {
   "cell_type": "code",
   "metadata": {},
   "source": [],
   "outputs": [],
   "execution_count": null
  },
  {
   "cell_type": "code",
   "metadata": {},
   "source": [],
   "outputs": [],
   "execution_count": null
  },
  {
   "cell_type": "markdown",
   "metadata": {
    "id": "ZMIPaYdChtVL"
   },
   "source": [
    "# Style transfer function"
   ]
  },
  {
   "cell_type": "code",
   "metadata": {},
   "source": [
    "import tqdm\n",
    "\n",
    "from matplotlib import pyplot as plt\n",
    "from PIL import Image\n",
    "#define a function to load an image and pre-process it\n",
    "def load_image(img_path, shape=(224,224)):\n",
    "    image = Image.open(img_path).convert('RGB')\n",
    "    # Define transformation to resize, normalize, and convert to tensor\n",
    "    in_transform = transforms.Compose([\n",
    "        transforms.Resize(shape),\n",
    "        transforms.ToTensor(),\n",
    "        transforms.Normalize((0.485, 0.456, 0.406), (0.229, 0.224, 0.225))\n",
    "    ])\n",
    "    # Apply transformations, remove alpha channel, and add batch dimension\n",
    "    image = in_transform(image)[:3, :, :].unsqueeze(0)\n",
    "    return image.to(device)\n",
    "#define a function to extract features from the network\n",
    "def get_features(image, model, layers):\n",
    "    features = {}\n",
    "    x = image\n",
    "    for name, layer in model._modules.items():\n",
    "        x = layer(x)\n",
    "        if name in layers:\n",
    "            features[layers[name]] = x\n",
    "    return features\n",
    "def gram_matrix(tensor):\n",
    "    _, d, h, w = tensor.size()\n",
    "    tensor = tensor.view(d, h * w)\n",
    "    gram = torch.mm(tensor, tensor.t())\n",
    "    return gram\n",
    "\n",
    "# Deprocess the image by reversing the normalization\n",
    "def deprocess(tensor):\n",
    "    tensor = tensor.cpu().clone().detach()\n",
    "    tensor = tensor.squeeze(0)\n",
    "    tensor = tensor * torch.tensor([0.229, 0.224, 0.225]).view(3, 1, 1) + torch.tensor([0.485, 0.456, 0.406]).view(3, 1, 1)\n",
    "    tensor = torch.clamp(tensor, 0, 1)\n",
    "    return to_pil_image(tensor)\n"
   ],
   "outputs": [],
   "execution_count": null
  },
  {
   "metadata": {},
   "cell_type": "code",
   "source": [
    "\n",
    "def style_transfer(model, style_img_path, content_img_path, content_weight=1, style_weight=1e3, num_steps=5001, model_name='vgg19_pretrained'):\n",
    "    model = model.features #Gives us access to the layers of features\n",
    "\n",
    "    layers = {\n",
    "         '0': 'conv1_1', '5': 'conv2_1', '10': 'conv3_1', '19': 'conv4_1',\n",
    "         '21': 'conv4_2'\n",
    "    }\n",
    "\n",
    "    style_weights = {\n",
    "        'conv1_1': 0.5, 'conv2_1': 0.5, 'conv3_1': 0.5, 'conv4_1': 0.3\n",
    "    }\n",
    "\n",
    "    content_layer = 'conv4_2'\n",
    "    # Prepare model for evaluation, disabling gradient computation\n",
    "    model.to(device).eval()\n",
    "    for param in model.parameters():\n",
    "         param.requires_grad_(False)\n",
    "    # Load and preprocess the content and style images\n",
    "    content = load_image(content_img_path).to(device)\n",
    "    style = load_image(style_img_path).to(device)\n",
    "    # Extract features from content and style images\n",
    "    content_features = get_features(content, model, layers)\n",
    "    style_features = get_features(style, model, layers)\n",
    "    target = content.clone().requires_grad_(True).to(device)\n",
    "\n",
    "    style_grams = {layer: gram_matrix(style_features[layer]) for layer in style_features}\n",
    "    optimizer = optim.Adam([target], lr=0.003)\n",
    "\n",
    "    # Initialize list to track losses\n",
    "    losses = []\n",
    "    # Style transfer loop\n",
    "    for ii in tqdm.tqdm(range(1, num_steps + 1), desc=\"Style Transfer Progress\"):\n",
    "        # Extract features from target image\n",
    "        target_features = get_features(target, model, layers)\n",
    "\n",
    "        # Compute content loss\n",
    "        content_loss = torch.mean((target_features[content_layer] - content_features[content_layer])**2)\n",
    "\n",
    "        # Compute style loss by comparing Gram matrices for each layer\n",
    "        style_loss = 0\n",
    "        for layer in style_weights:\n",
    "            target_feature = target_features[layer]\n",
    "            target_gram = gram_matrix(target_feature)\n",
    "            _, d, h, w = target_feature.shape\n",
    "            style_gram = style_grams[layer]\n",
    "            layer_style_loss = style_weights[layer] * torch.mean((target_gram - style_gram)**2)\n",
    "            style_loss += layer_style_loss / (d * h * w)\n",
    "        # Calculate total loss and update target image\n",
    "        total_loss = content_weight * content_loss + style_weight * style_loss\n",
    "        optimizer.zero_grad()\n",
    "        total_loss.backward()\n",
    "        optimizer.step()\n",
    "        # Track the loss\n",
    "        if ii % 1000 == 0:\n",
    "            losses.append(total_loss.item())\n",
    "            print(f\"Step {ii}, Total loss: {total_loss.item()}\")\n",
    "\n",
    "    # Plot the loss\n",
    "    #plt.plot(range(0, len(losses) * 100, 100), losses)\n",
    "    #plt.xlabel('Step')\n",
    "    #plt.ylabel('Total Loss')\n",
    "    #plt.title('Loss during Style Transfer')\n",
    "    #plt.show()\n",
    "\n",
    "    return target\n",
    "\n",
    "\n",
    "\n",
    "def style_transfer2(model, style_img_path, content_img_path, layers, style_weights, content_layer, content_weight=1, style_weight=1e3, num_steps=5001,shape=(224,224)):\n",
    "    model = model.features  # Gives us access to the layers of features\n",
    "\n",
    "    # Prepare model for evaluation, disabling gradient computation\n",
    "    model.to(device).eval()\n",
    "    for param in model.parameters():\n",
    "        param.requires_grad_(False)\n",
    "    # Load and preprocess the content and style images\n",
    "    content = load_image(content_img_path,shape).to(device)\n",
    "    style = load_image(style_img_path,shape).to(device)\n",
    "    # Extract features from content and style images\n",
    "    content_features = get_features(content, model, layers)\n",
    "    style_features = get_features(style, model, layers)\n",
    "    target = content.clone().requires_grad_(True).to(device)\n",
    "\n",
    "    style_grams = {layer: gram_matrix(style_features[layer]) for layer in style_features}\n",
    "    optimizer = optim.Adam([target], lr=0.003)\n",
    "\n",
    "    # Initialize list to track losses\n",
    "    losses = []\n",
    "    # Style transfer loop\n",
    "    for ii in tqdm.tqdm(range(1, num_steps + 1), desc=\"Style Transfer Progress\"):\n",
    "        # Extract features from target image\n",
    "        target_features = get_features(target, model, layers)\n",
    "\n",
    "        # Compute content loss\n",
    "        content_loss = torch.mean((target_features[content_layer] - content_features[content_layer])**2)\n",
    "\n",
    "        # Compute style loss by comparing Gram matrices for each layer\n",
    "        style_loss = 0\n",
    "        for layer in style_weights:\n",
    "            target_feature = target_features[layer]\n",
    "            target_gram = gram_matrix(target_feature)\n",
    "            _, d, h, w = target_feature.shape\n",
    "            style_gram = style_grams[layer]\n",
    "            layer_style_loss = style_weights[layer] * torch.mean((target_gram - style_gram)**2)\n",
    "            style_loss += layer_style_loss / (d * h * w)\n",
    "        # Calculate total loss and update target image\n",
    "        total_loss = content_weight * content_loss + style_weight * style_loss\n",
    "        optimizer.zero_grad()\n",
    "        total_loss.backward()\n",
    "        optimizer.step()\n",
    "        # Track the loss\n",
    "        if ii % 1000 == 0:\n",
    "            losses.append(total_loss.item())\n",
    "            print(f\"Step {ii}, Total loss: {total_loss.item()}\")\n",
    "\n",
    "    return target\n",
    "\n",
    "\n",
    "def style_transfer_multi_style(model, style_img_paths, style_weights, content_img_path, layers, style_layer_weights, content_layer, content_weight=1, style_weight=1e3, num_steps=5001, shape=(224,224)):\n",
    "    model = model.features  # Gives us access to the layers of features\n",
    "\n",
    "    # Prepare model for evaluation, disabling gradient computation\n",
    "    model.to(device).eval()\n",
    "    for param in model.parameters():\n",
    "        param.requires_grad_(False)\n",
    "\n",
    "    # Load and preprocess the content image\n",
    "    content = load_image(content_img_path, shape).to(device)\n",
    "    content_features = get_features(content, model, layers)\n",
    "\n",
    "    # Load and preprocess the style images\n",
    "    style_features_list = []\n",
    "    for style_img_path in style_img_paths:\n",
    "        style = load_image(style_img_path, shape).to(device)\n",
    "        style_features = get_features(style, model, layers)\n",
    "        style_features_list.append(style_features)\n",
    "\n",
    "    # Combine style features by weighted averaging\n",
    "    combined_style_features = {}\n",
    "    for layer in layers.values():\n",
    "        combined_style_features[layer] = torch.zeros_like(style_features_list[0][layer])\n",
    "        for i, style_features in enumerate(style_features_list):\n",
    "            combined_style_features[layer] += style_weights[i] * style_features[layer]\n",
    "        combined_style_features[layer] /= sum(style_weights)\n",
    "\n",
    "    target = content.clone().requires_grad_(True).to(device)\n",
    "    style_grams = {layer: gram_matrix(combined_style_features[layer]) for layer in combined_style_features}\n",
    "    optimizer = optim.Adam([target], lr=0.003)\n",
    "\n",
    "    # Initialize list to track losses\n",
    "    losses = []\n",
    "    # Style transfer loop\n",
    "    for ii in tqdm.tqdm(range(1, num_steps + 1), desc=\"Style Transfer Progress\"):\n",
    "        # Extract features from target image\n",
    "        target_features = get_features(target, model, layers)\n",
    "\n",
    "        # Compute content loss\n",
    "        content_loss = torch.mean((target_features[content_layer] - content_features[content_layer])**2)\n",
    "\n",
    "        # Compute style loss by comparing Gram matrices for each layer\n",
    "        style_loss = 0\n",
    "        for layer in style_layer_weights:\n",
    "            target_feature = target_features[layer]\n",
    "            target_gram = gram_matrix(target_feature)\n",
    "            _, d, h, w = target_feature.shape\n",
    "            style_gram = style_grams[layer]\n",
    "            layer_style_loss = style_layer_weights[layer] * torch.mean((target_gram - style_gram)**2)\n",
    "            style_loss += layer_style_loss / (d * h * w)\n",
    "\n",
    "        # Calculate total loss and update target image\n",
    "        total_loss = content_weight * content_loss + style_weight * style_loss\n",
    "        optimizer.zero_grad()\n",
    "        total_loss.backward()\n",
    "        optimizer.step()\n",
    "\n",
    "        # Track the loss\n",
    "        if ii % 1000 == 0:\n",
    "            losses.append(total_loss.item())\n",
    "            print(f\"Step {ii}, Total loss: {total_loss.item()}\")\n",
    "\n",
    "            # Deprocess and display the intermediate result\n",
    "            intermediate_result = deprocess(target)\n",
    "            plt.imshow(intermediate_result)\n",
    "            plt.title(f\"Step {ii}\")\n",
    "            plt.axis('off')\n",
    "            plt.show()\n",
    "\n",
    "    return target"
   ],
   "outputs": [],
   "execution_count": null
  },
  {
   "metadata": {
    "colab": {
     "base_uri": "https://localhost:8080/",
     "height": 1000
    },
    "id": "gy8lmbPmhj9H",
    "outputId": "330638de-9f78-4d50-c423-bbab448afc37"
   },
   "cell_type": "code",
   "source": [
    "# Load the style and content images\n",
    "style_img_paths = [r'D:\\Users\\ghefter\\PycharmProjects\\deep_van_gogh\\data\\dataset\\Post_Impressionism\\vincent-van-gogh_canal(1).jpg']\n",
    "\n",
    "content_img_path = r'D:\\Users\\ghefter\\PycharmProjects\\deep_van_gogh\\data\\dataset\\Post_Impressionism\\vincent-van-gogh_garden-with-flowers-1888-1(1).jpg'\n",
    "style_weights=[1]\n",
    "# define the model\n",
    "model = vgg19\n",
    "#define style layers and weights\n",
    "layers = {\n",
    "         '0': 'conv1_1', '5': 'conv2_1', '10': 'conv3_1', '19': 'conv4_1',\n",
    "         '21': 'conv4_2'\n",
    "    }\n",
    "\n",
    "style_layer_weights = {\n",
    "        'conv1_1': 10, 'conv2_1': 5, 'conv3_1': 1, 'conv4_1': 0.3\n",
    "    }\n",
    "\n",
    "content_layer = 'conv4_2'\n",
    "# Perform style transfer\n",
    "stylized_image = style_transfer_multi_style(model, style_img_paths=style_img_paths,style_weights=style_weights, content_img_path=content_img_path,style_weight=1e8, content_weight=0,num_steps=5001,layers=layers,style_layer_weights=style_layer_weights,content_layer=content_layer,shape=(800,800))\n",
    "\n",
    "# Deprocess and display the image\n",
    "stylized_image = deprocess(stylized_image)\n",
    "\n",
    "# Load the original content image to get its resolution\n",
    "#original_content_image = Image.open(content_img_path)\n",
    "#original_resolution = original_content_image.size\n",
    "\n",
    "# Resize the stylized image to the original resolution\n",
    "#stylized_image = stylized_image.resize(original_resolution, Image.LANCZOS)\n",
    "\n",
    "# Display the upscaled image\n",
    "stylized_image.show()\n",
    "output_path = r'D:\\Users\\ghefter\\PycharmProjects\\deep_van_gogh\\data\\stylized images\\output2.jpg'\n",
    "stylized_image.save(output_path)\n",
    "\n"
   ],
   "outputs": [],
   "execution_count": null
  },
  {
   "cell_type": "code",
   "metadata": {
    "colab": {
     "base_uri": "https://localhost:8080/",
     "height": 196
    },
    "id": "2cMigqU0CGg5",
    "outputId": "afdc3a89-f2ad-457b-eeb7-b4aabcf214ca"
   },
   "source": [
    "import os\n",
    "\n",
    "# Set the working directory\n",
    "desired_path = r'D:\\Users\\ghefter\\PycharmProjects\\deep_van_gogh'\n",
    "os.chdir(desired_path)\n",
    "\n",
    "# Verify the current working directory\n",
    "print(f\"Current working directory: {os.getcwd()}\")"
   ],
   "outputs": [],
   "execution_count": null
  },
  {
   "cell_type": "code",
   "metadata": {
    "colab": {
     "base_uri": "https://localhost:8080/",
     "height": 1000
    },
    "id": "2UNqmGA2DXDj",
    "outputId": "18e5c745-d27d-4f23-97cf-717b194bd3c3"
   },
   "source": [
    "import os\n",
    "\n",
    "# Correct file path using raw strings\n",
    "file_path = r'D:\\Users\\ghefter\\PycharmProjects\\deep_van_gogh\\data\\dataset\\Post_Impressionism\\edouard-cortes_theatre-du-chatelet-1.jpg'\n",
    "\n",
    "# Ensure the path is correct\n",
    "if not os.path.exists(file_path):\n",
    "    print(f\"File not found: {file_path}\")\n",
    "else:\n",
    "    print(f\"File found: {file_path}\")\n",
    "    # Open the file\n",
    "    with open(file_path, \"rb\") as fp:\n",
    "        content = fp.read()\n",
    "        print(\"File opened successfully\")"
   ],
   "outputs": [],
   "execution_count": null
  },
  {
   "cell_type": "code",
   "metadata": {
    "colab": {
     "base_uri": "https://localhost:8080/"
    },
    "id": "-dC9MS7V6WZF",
    "outputId": "80757501-0728-4fe1-96b7-a15122faad92"
   },
   "source": [],
   "outputs": [],
   "execution_count": null
  },
  {
   "cell_type": "code",
   "metadata": {
    "colab": {
     "base_uri": "https://localhost:8080/"
    },
    "id": "w93PNhRgHVue",
    "outputId": "704e1556-8d2f-4c90-af0e-bc26aa7a072e"
   },
   "source": [],
   "outputs": [],
   "execution_count": null
  },
  {
   "cell_type": "code",
   "metadata": {
    "id": "24UKrxg-H25c"
   },
   "source": [],
   "outputs": [],
   "execution_count": null
  }
 ],
 "metadata": {
  "accelerator": "GPU",
  "colab": {
   "gpuType": "L4",
   "provenance": []
  },
  "kernelspec": {
   "display_name": "Python 3 (ipykernel)",
   "name": "python3",
   "language": "python"
  },
  "language_info": {
   "name": "python"
  }
 },
 "nbformat": 4,
 "nbformat_minor": 0
}
