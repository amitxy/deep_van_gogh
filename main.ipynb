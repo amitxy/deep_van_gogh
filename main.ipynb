{
 "cells": [
  {
   "cell_type": "code",
   "metadata": {
    "ExecuteTime": {
     "end_time": "2025-01-12T08:33:47.790366Z",
     "start_time": "2025-01-12T08:33:42.782323Z"
    }
   },
   "source": [
    "import os\n",
    "import random\n",
    "\n",
    "import numpy as np\n",
    "import pandas as pd\n",
    "from PIL import Image\n",
    "import matplotlib.pyplot as plt\n",
    "from sklearn.model_selection import train_test_split\n",
    "from torchvision import transforms, models\n",
    "from torch.utils.data import Dataset, DataLoader, Subset\n",
    "\n",
    "import torch\n",
    "import torch.nn as nn\n",
    "import torch.optim as optim\n",
    "from torchvision.models import VGG19_Weights\n",
    "\n",
    "# Project utilities\n",
    "import utils\n",
    "import preprocessing\n",
    "\n",
    "# Set seed\n",
    "SEED = 42\n",
    "torch.manual_seed(SEED)\n",
    "torch.cuda.manual_seed(SEED)\n",
    "np.random.seed(SEED)\n",
    "\n",
    "##############\n",
    "# torch.manual_seed(20220215)\n",
    "# torch.cuda.manual_seed(20220215)\n",
    "# torch.backends.cudnn.deterministic = True\n",
    "# torch.use_deterministic_algorithms = True\n",
    "##########\n",
    "\n",
    "ROOT = './data'\n",
    "DATASET_DIR = './data/Post_Impressionism'\n",
    "CSV_FILE = './data/classes.csv'\n",
    "\n",
    "if not (os.path.exists(DATASET_DIR) and os.path.exists(CSV_FILE)):\n",
    "    raise FileExistsError(\"File doesn't exist, we expect a data folder with the labels and the images folder as in the lab\")\n",
    "\n",
    "device = torch.device(\"cuda\" if torch.cuda.is_available() else \"cpu\")"
   ],
   "outputs": [],
   "execution_count": 1
  },
  {
   "metadata": {
    "ExecuteTime": {
     "end_time": "2025-01-12T08:33:50.938599Z",
     "start_time": "2025-01-12T08:33:50.924569Z"
    }
   },
   "cell_type": "code",
   "source": [
    "transform = transforms.Compose([\n",
    "    transforms.Resize((224, 224)),\n",
    "    transforms.ToTensor(), # Convert the image to a PyTorch tensor\n",
    "    transforms.Normalize(mean=[0.485, 0.456, 0.406], std=[0.229,0.224, 0.225])]) # Normalize the pixel values based on ImageNet statistics, to a range that VGG expects\n",
    "\n",
    "dataset = preprocessing.ImageFolderForBinaryClassification(root=ROOT, target='is_van_gogh', transform=transform)\n",
    "pics_in_csv = [i for i in range(len(dataset)) if dataset.samples[i][1] >= 0]\n",
    "dataset = Subset(dataset, pics_in_csv)"
   ],
   "outputs": [],
   "execution_count": 2
  },
  {
   "metadata": {
    "ExecuteTime": {
     "end_time": "2025-01-12T08:58:59.135340Z",
     "start_time": "2025-01-12T08:58:58.700778Z"
    }
   },
   "cell_type": "code",
   "source": [
    "\n",
    "\n",
    "classes = pd.read_csv(CSV_FILE)\n",
    "train_classes = classes[classes['subset'] == 'train']\n",
    "test_classes = classes[classes['subset'] == 'test']\n",
    "\n",
    "train_indices, valid_indices = train_test_split(train_classes.index.to_list(), test_size=0.2, random_state=SEED)\n",
    "train_dataset = Subset(dataset, train_indices)\n",
    "valid_dataset = Subset(dataset, valid_indices)"
   ],
   "outputs": [],
   "execution_count": 22
  },
  {
   "metadata": {
    "ExecuteTime": {
     "end_time": "2025-01-12T09:09:42.766291Z",
     "start_time": "2025-01-12T09:09:42.753291Z"
    }
   },
   "cell_type": "code",
   "source": "",
   "outputs": [],
   "execution_count": 39
  },
  {
   "metadata": {
    "ExecuteTime": {
     "end_time": "2025-01-12T08:55:19.278113Z",
     "start_time": "2025-01-12T08:55:19.252114Z"
    }
   },
   "cell_type": "code",
   "source": [
    "hist = dict()\n",
    "hist['debug'] = []\n",
    "for path, label in dataset.samples:\n",
    "    if label not in hist:\n",
    "        hist[label] = 0\n",
    "    hist[label] += 1\n",
    "    if label == -1:\n",
    "        hist['debug'].append(path)\n",
    "\n",
    "hist"
   ],
   "outputs": [
    {
     "data": {
      "text/plain": [
       "{'debug': [], 0: 3547, 1: 1004}"
      ]
     },
     "execution_count": 20,
     "metadata": {},
     "output_type": "execute_result"
    }
   ],
   "execution_count": 20
  },
  {
   "metadata": {
    "ExecuteTime": {
     "end_time": "2025-01-09T21:21:56.257097Z",
     "start_time": "2025-01-09T21:21:56.212126Z"
    }
   },
   "cell_type": "code",
   "source": [
    "from torchvision.transforms.functional import to_pil_image\n",
    "to_pil_image(image_tensor.squeeze()).show()"
   ],
   "outputs": [],
   "execution_count": 8
  },
  {
   "cell_type": "markdown",
   "metadata": {
    "id": "jFD4XwIchub9"
   },
   "source": [
    "# Fine tuning VGG19"
   ]
  },
  {
   "cell_type": "code",
   "metadata": {
    "colab": {
     "base_uri": "https://localhost:8080/",
     "height": 1000
    },
    "id": "Ug6-1DB33fkH",
    "outputId": "03123ea9-33d7-447f-ad37-ed54df78747e",
    "ExecuteTime": {
     "end_time": "2025-01-09T21:26:53.687503Z",
     "start_time": "2025-01-09T21:26:50.036068Z"
    }
   },
   "source": [
    "# Load pre-trained VGG19 model\n",
    "# vgg19 = models.vgg19(pretrained=True)\n",
    "vgg19 = models.vgg19(weights=models.VGG19_Weights.DEFAULT)\n"
   ],
   "outputs": [],
   "execution_count": 11
  },
  {
   "cell_type": "code",
   "metadata": {
    "ExecuteTime": {
     "end_time": "2025-01-09T21:28:17.108682Z",
     "start_time": "2025-01-09T21:28:17.097671Z"
    }
   },
   "source": "models.VGG19_Weights.DEFAULT",
   "outputs": [
    {
     "data": {
      "text/plain": [
       "VGG19_Weights.IMAGENET1K_V1"
      ]
     },
     "execution_count": 16,
     "metadata": {},
     "output_type": "execute_result"
    }
   ],
   "execution_count": 16
  },
  {
   "cell_type": "code",
   "execution_count": null,
   "metadata": {},
   "outputs": [],
   "source": []
  },
  {
   "cell_type": "markdown",
   "metadata": {
    "id": "vIb8Ud6FiGuu"
   },
   "source": [
    "# Fine tuning AlexNet"
   ]
  },
  {
   "cell_type": "code",
   "execution_count": null,
   "metadata": {
    "colab": {
     "base_uri": "https://localhost:8080/",
     "height": 1000
    },
    "id": "gaSN21pPiGdy",
    "outputId": "8101799f-ef2c-4ada-8a3d-7dc594b2385e"
   },
   "outputs": [],
   "source": [
    "# Load the AlexNet model \n",
    "alexnet = models.alexnet(pretrained=True)\n"
   ]
  },
  {
   "cell_type": "code",
   "execution_count": null,
   "metadata": {},
   "outputs": [],
   "source": []
  },
  {
   "cell_type": "code",
   "execution_count": null,
   "metadata": {},
   "outputs": [],
   "source": []
  },
  {
   "cell_type": "markdown",
   "metadata": {},
   "source": [
    "analysing results"
   ]
  },
  {
   "cell_type": "code",
   "execution_count": null,
   "metadata": {},
   "outputs": [],
   "source": []
  },
  {
   "cell_type": "code",
   "execution_count": null,
   "metadata": {},
   "outputs": [],
   "source": []
  },
  {
   "cell_type": "code",
   "execution_count": null,
   "metadata": {},
   "outputs": [],
   "source": []
  },
  {
   "cell_type": "markdown",
   "metadata": {
    "id": "ZMIPaYdChtVL"
   },
   "source": [
    "# Style transfer function"
   ]
  },
  {
   "cell_type": "code",
   "execution_count": 4,
   "metadata": {
    "id": "LRQUj_gU93MT"
   },
   "outputs": [],
   "source": []
  },
  {
   "cell_type": "code",
   "execution_count": null,
   "metadata": {
    "colab": {
     "base_uri": "https://localhost:8080/",
     "height": 1000
    },
    "collapsed": true,
    "id": "yhlrhEFw4Vm6",
    "outputId": "278d8206-40e6-4266-a1f8-38c87411a3f7"
   },
   "outputs": [],
   "source": []
  },
  {
   "cell_type": "code",
   "execution_count": null,
   "metadata": {
    "colab": {
     "base_uri": "https://localhost:8080/",
     "height": 1000
    },
    "id": "gy8lmbPmhj9H",
    "outputId": "330638de-9f78-4d50-c423-bbab448afc37"
   },
   "outputs": [],
   "source": []
  },
  {
   "cell_type": "code",
   "execution_count": null,
   "metadata": {
    "colab": {
     "base_uri": "https://localhost:8080/",
     "height": 196
    },
    "id": "2cMigqU0CGg5",
    "outputId": "afdc3a89-f2ad-457b-eeb7-b4aabcf214ca"
   },
   "outputs": [],
   "source": []
  },
  {
   "cell_type": "code",
   "execution_count": null,
   "metadata": {
    "colab": {
     "base_uri": "https://localhost:8080/",
     "height": 1000
    },
    "id": "2UNqmGA2DXDj",
    "outputId": "18e5c745-d27d-4f23-97cf-717b194bd3c3"
   },
   "outputs": [],
   "source": []
  },
  {
   "cell_type": "code",
   "execution_count": null,
   "metadata": {
    "colab": {
     "base_uri": "https://localhost:8080/"
    },
    "id": "-dC9MS7V6WZF",
    "outputId": "80757501-0728-4fe1-96b7-a15122faad92"
   },
   "outputs": [],
   "source": []
  },
  {
   "cell_type": "code",
   "execution_count": null,
   "metadata": {
    "colab": {
     "base_uri": "https://localhost:8080/"
    },
    "id": "w93PNhRgHVue",
    "outputId": "704e1556-8d2f-4c90-af0e-bc26aa7a072e"
   },
   "outputs": [],
   "source": []
  },
  {
   "cell_type": "code",
   "execution_count": null,
   "metadata": {
    "id": "24UKrxg-H25c"
   },
   "outputs": [],
   "source": []
  }
 ],
 "metadata": {
  "accelerator": "GPU",
  "colab": {
   "gpuType": "L4",
   "provenance": []
  },
  "kernelspec": {
   "display_name": "Python 3 (ipykernel)",
   "name": "python3",
   "language": "python"
  },
  "language_info": {
   "name": "python"
  }
 },
 "nbformat": 4,
 "nbformat_minor": 0
}
