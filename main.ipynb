{
 "cells": [
  {
   "cell_type": "code",
   "metadata": {
    "ExecuteTime": {
     "end_time": "2025-03-30T08:21:34.800709Z",
     "start_time": "2025-03-30T08:21:24.133236Z"
    }
   },
   "source": [
    "import os\n",
    "import random\n",
    "\n",
    "\n",
    "import numpy as np\n",
    "import pandas as pd\n",
    "\n",
    "from sklearn.model_selection import train_test_split, KFold, StratifiedKFold\n",
    "from sympy.physics.units import length\n",
    "from torchvision import transforms, models\n",
    "from torchvision.transforms.functional import to_pil_image\n",
    "\n",
    "from collections import defaultdict\n",
    "from optuna import trial\n",
    "\n",
    "import torch\n",
    "import torch.nn as nn\n",
    "import torch.optim as optim\n",
    "from torch.utils.data import Dataset, DataLoader, Subset, ConcatDataset\n",
    "import optuna\n",
    "import wandb\n",
    "# Project utilities\n",
    "import utils\n",
    "import importlib\n",
    "import train\n",
    "importlib.reload(train)\n",
    "importlib.reload(utils)\n",
    "from train import train_model_with_hyperparams\n",
    "\n",
    "VGG19 = 'VGG19'\n",
    "ALEXNET = 'AlexNet'\n",
    "\n",
    "# Set seed\n",
    "SEED = utils.SEED\n",
    "torch.manual_seed(SEED)\n",
    "torch.cuda.manual_seed(SEED)\n",
    "np.random.seed(SEED)\n",
    "random.seed(SEED)\n"
   ],
   "outputs": [],
   "execution_count": 1
  },
  {
   "metadata": {
    "ExecuteTime": {
     "end_time": "2025-03-30T08:21:34.878072Z",
     "start_time": "2025-03-30T08:21:34.806682Z"
    }
   },
   "cell_type": "code",
   "source": [
    "device = torch.device(\"cuda\" if torch.cuda.is_available() else \"cpu\")\n",
    "\n",
    "# Check if you're working locally or not\n",
    "if not (os.path.exists(utils.CSV_PATH) and os.path.exists(utils.OPTIMIZED_DIR)):\n",
    "    print(f\"[!] You are NOT on the project's directory [!]\\n\"\n",
    "          f\"Please run the following command (in either CMD or anaconda prompt): \\n\"\n",
    "          f\"jupyter notebook --notebook-dir PROJECT_DIR\\n\"\n",
    "          r\"Where PROJECT_DIR is the project's directory in your computer e.g: C:\\Users\\amitr5\\PycharmProjects\\deep_van_gogh\")"
   ],
   "outputs": [],
   "execution_count": 2
  },
  {
   "metadata": {},
   "cell_type": "markdown",
   "source": [
    "### Loading our data\n",
    "We will load the optimized datasets from our custom dataset object\n"
   ]
  },
  {
   "metadata": {
    "ExecuteTime": {
     "end_time": "2025-03-30T08:21:43.867714Z",
     "start_time": "2025-03-30T08:21:35.004812Z"
    }
   },
   "cell_type": "code",
   "source": [
    "class NumPyDataset(Dataset):\n",
    "    def __init__(self, file_path):\n",
    "        data = np.load(file_path)\n",
    "        self.images = data[\"images\"]\n",
    "        self.labels = data[\"labels\"]\n",
    "\n",
    "    def __len__(self):\n",
    "        return len(self.images)\n",
    "\n",
    "    def __getitem__(self, idx):\n",
    "        x = torch.tensor(self.images[idx], dtype=torch.float32)\n",
    "        y = torch.tensor(self.labels[idx], dtype=torch.long)\n",
    "        return x, y\n",
    "\n",
    "dataset = NumPyDataset(os.path.join(utils.OPTIMIZED_DIR, 'dataset.npz'))"
   ],
   "outputs": [],
   "execution_count": 3
  },
  {
   "metadata": {},
   "cell_type": "markdown",
   "source": [
    "You can find the optimized dataset files <a href=\"https://drive.google.com/drive/folders/16vIyBwzvGgC-bJObJZT-RgZJmh3fj4Vt?usp=drive_link\">HERE inside the data folder</a>. Note that you must have the data folder in the project directory<br/>\n",
    "Loading the train and test datasets:"
   ]
  },
  {
   "metadata": {
    "ExecuteTime": {
     "end_time": "2025-03-30T08:21:43.944885Z",
     "start_time": "2025-03-30T08:21:43.901095Z"
    }
   },
   "cell_type": "code",
   "source": [
    "classes = pd.read_csv(utils.CSV_PATH)\n",
    "train_rows = classes[classes['subset'] == 'train']\n",
    "train_indices, val_indices = train_test_split(train_rows.index.to_list(), test_size=0.2, random_state=utils.SEED, stratify=train_rows['is_van_gogh'])\n",
    "train_dataset = Subset(dataset, train_indices)\n",
    "val_dataset = Subset(dataset, val_indices)\n",
    "test_dataset = Subset(dataset, classes[classes['subset'] == 'test'].index.tolist()).dataset"
   ],
   "outputs": [],
   "execution_count": 4
  },
  {
   "metadata": {
    "ExecuteTime": {
     "end_time": "2025-03-30T08:21:52.996282Z",
     "start_time": "2025-03-30T08:21:43.978899Z"
    }
   },
   "cell_type": "code",
   "source": [
    "def get_opt_dataset(dataset_name, train_idx=None, val_idx=None):\n",
    "    data = NumPyDataset(os.path.join(utils.OPTIMIZED_DIR, f'{dataset_name}.npz'))\n",
    "    if train_idx and val_idx:\n",
    "        return Subset(data, train_idx), Subset(data, val_idx)\n",
    "\n",
    "    return Subset(data, train_idx if train_idx else val_idx).dataset\n",
    "\n",
    "flip_dataset = get_opt_dataset('flip', train_indices)\n",
    "dropout_dataset = get_opt_dataset('dropout',train_indices)\n",
    "affine_dataset = get_opt_dataset('affine', train_indices)\n",
    "blur_dataset = get_opt_dataset('blur', train_indices)\n",
    "augmented_train_dataset = ConcatDataset([train_dataset, flip_dataset, dropout_dataset, affine_dataset, blur_dataset])"
   ],
   "outputs": [],
   "execution_count": 5
  },
  {
   "metadata": {},
   "cell_type": "markdown",
   "source": "### Data Augmentation"
  },
  {
   "metadata": {},
   "cell_type": "markdown",
   "source": "For a detailed explanation about our data augmentation, please check augmentation_demo.ipynb"
  },
  {
   "metadata": {
    "id": "jFD4XwIchub9"
   },
   "cell_type": "markdown",
   "source": "# Fine tuning VGG19"
  },
  {
   "metadata": {
    "ExecuteTime": {
     "end_time": "2025-03-30T08:21:53.043285Z",
     "start_time": "2025-03-30T08:21:53.031284Z"
    }
   },
   "cell_type": "code",
   "source": [
    "class FinedTunedModel(nn.Module):\n",
    "    def __init__(self, base_model, architecture:str):\n",
    "        super(FinedTunedModel, self).__init__()\n",
    "        self._architecture = architecture  # Save the base model architecture\n",
    "        base_children_list = list(base_model.children())\n",
    "        self.features_extractor = nn.Sequential(*base_children_list[:-1]).to(device)\n",
    "        for param in self.features_extractor.parameters():\n",
    "            param.requires_grad = False\n",
    "\n",
    "        # Modify the classifier to fit to our problem (2 classes)\n",
    "        self.classifier = nn.Sequential(*base_children_list[-1])\n",
    "        self.classifier[-1] = nn.Linear(4096, 2).to(device)  # Replaces the final layer of the base model's classifier with a new fully connected layer\n",
    "\n",
    "    def forward(self, x):\n",
    "        base_model_output = self.features_extractor(x)\n",
    "        return self.classifier(torch.flatten(base_model_output, start_dim=1))\n",
    "    @property\n",
    "    def architecture(self):\n",
    "        return self._architecture"
   ],
   "outputs": [],
   "execution_count": 6
  },
  {
   "metadata": {
    "ExecuteTime": {
     "end_time": "2025-03-30T08:21:56.129516Z",
     "start_time": "2025-03-30T08:21:53.061282Z"
    }
   },
   "cell_type": "code",
   "source": [
    "# Load pre-trained models\n",
    "vgg19 = models.vgg19(weights=models.VGG19_Weights.DEFAULT).to(device)\n",
    "alexnet = models.alexnet(weights=models.AlexNet_Weights.DEFAULT).to(device)"
   ],
   "outputs": [],
   "execution_count": 7
  },
  {
   "metadata": {
    "ExecuteTime": {
     "end_time": "2025-03-30T08:21:56.191512Z",
     "start_time": "2025-03-30T08:21:56.163517Z"
    }
   },
   "cell_type": "code",
   "source": [
    "def cross_validation(learning_rate,\n",
    "                     weight_decay,\n",
    "                     num_layers_finetune,\n",
    "                     criterion,\n",
    "                     epochs,\n",
    "                     patience,\n",
    "                     device,\n",
    "                     architecture,\n",
    "                     batch_size=128, trial=None, project='project'):\n",
    "    k_folds = 4\n",
    "    kfold = StratifiedKFold(n_splits=k_folds, shuffle=True, random_state=42)\n",
    "\n",
    "    labels = []\n",
    "    for dataset in augmented_train_dataset.datasets:\n",
    "        labels.extend([label for _, label in dataset])\n",
    "\n",
    "    labels = np.array(labels)\n",
    "\n",
    "    # Track performance for each model\n",
    "    base_model = vgg19 if architecture == VGG19 else alexnet\n",
    "    best_values = []\n",
    "\n",
    "    for fold, (train_idx, val_idx) in enumerate(kfold.split(np.zeros(len(labels)), labels)):\n",
    "        wandb.init(project = project,\n",
    "                       config={ \"learning_rate\": learning_rate,\n",
    "                                \"weight_decay\": weight_decay,\n",
    "                                \"patience\": patience,\n",
    "                                \"batch_size\": batch_size,\n",
    "                                \"epochs\": epochs,\n",
    "                                \"num_layers_finetune\": num_layers_finetune,\n",
    "                                \"fold\": fold,\n",
    "                                \"architecture\": architecture,\n",
    "                                \"dataset\": \"Post_Impressionism\",\n",
    "                                }, name=f\"{architecture}_trial_{trial.number + 1 if trial else -1}_fold_{fold}\")\n",
    "\n",
    "        train_subset = Subset(augmented_train_dataset, train_idx)\n",
    "        val_subset = Subset(augmented_train_dataset, val_idx)\n",
    "\n",
    "        # Create data loaders\n",
    "        train_loader = DataLoader(train_subset, batch_size=batch_size, shuffle=True)\n",
    "        val_loader = DataLoader(val_subset, batch_size=batch_size, shuffle=False)\n",
    "        model = FinedTunedModel(base_model, architecture).to(device)\n",
    "        if num_layers_finetune:\n",
    "            for param in model.features_extractor[-num_layers_finetune:].parameters():\n",
    "                param.requires_grad = True\n",
    "\n",
    "        optimizer = optim.Adam(model.parameters(), lr=learning_rate, weight_decay=weight_decay)\n",
    "        # Train the model\n",
    "        best_metrics = train_model_with_hyperparams(model,\n",
    "                                                train_loader,\n",
    "                                                val_loader,\n",
    "                                                optimizer,\n",
    "                                                criterion,\n",
    "                                                epochs=epochs,\n",
    "                                                patience=patience,\n",
    "                                                device=device,\n",
    "                                                trial=trial,\n",
    "                                                architecture=architecture, fold=fold + 1)\n",
    "        best_values.append(best_metrics)\n",
    "        # Finish the Weights & Biases run\n",
    "        wandb.finish()\n",
    "    mean_dict = utils.mean_dict(best_values)\n",
    "    return mean_dict\n"
   ],
   "outputs": [],
   "execution_count": 8
  },
  {
   "cell_type": "code",
   "metadata": {
    "ExecuteTime": {
     "end_time": "2025-03-30T08:21:56.221512Z",
     "start_time": "2025-03-30T08:21:56.208514Z"
    }
   },
   "source": [
    "def objective(trial, architecture, config: dict) -> float:\n",
    "    \"\"\"\n",
    "    Generic Optuna objective function.\n",
    "    :param trial: Optuna trial object.\n",
    "    :param model: The neural network model to train\n",
    "    :param config: A dictionary with configurable values such as learning rate ranges, batch size ranges, etc.\n",
    "    :return:  best_val_loss: The best validation loss achieved during training.\n",
    "    \"\"\"\n",
    "    # Hyperparameter suggestions based on config\n",
    "    learning_rate = trial.suggest_float(\"learning_rate\",\n",
    "                                        config.get(\"lr_min\", 1e-5),\n",
    "                                        config.get(\"lr_max\", 1e-3),\n",
    "                                        log=True)\n",
    "    weight_decay = trial.suggest_float(\"weight_decay\",\n",
    "                                       config.get(\"wd_min\", 1e-6),\n",
    "                                       config.get(\"wd_max\", 1e-4),\n",
    "                                       log=True)\n",
    "    # Including the option not to perform fine-tuning, or only a small num of layers within the feature extractor.\n",
    "    num_layers_finetune = trial.suggest_int(\"num_layers_finetune\", 0, 3)\n",
    "    # batch_size = trial.suggest_int(\"batch_size\",\n",
    "    #                                config.get(\"batch_size_min\", 32),\n",
    "    #                                config.get(\"batch_size_max\", 128),\n",
    "    #                                step=config.get(\"batch_size_step\", 16))\n",
    "    batch_size = 128\n",
    "    # epochs = trial.suggest_int(\"epochs\", config.get(\"epochs_min\", 10), config.get(\"epochs_max\",30))\n",
    "    epochs = trial.suggest_int(\"epochs\", config.get(\"epochs_min\", 3), config.get(\"epochs_max\",4))\n",
    "    patience = config.get(\"patience\", 8)\n",
    "\n",
    "    # Define optimizer and loss function\n",
    "    criterion = config.get(\"criterion\", nn.CrossEntropyLoss()) # Classification.\n",
    "\n",
    "    project = config.get(\"project\", 'deep_van_gogh_default')\n",
    "    # Train the model and get the best mean val_auc\n",
    "    mean_dict = cross_validation(learning_rate, weight_decay, num_layers_finetune, criterion, epochs, patience, device, architecture, batch_size, trial, project=project)\n",
    "    # Log the mean values\n",
    "    wandb.init(project = project,\n",
    "                       config={ \"learning_rate\": learning_rate,\n",
    "                                \"weight_decay\": weight_decay,\n",
    "                                \"patience\": patience,\n",
    "                                \"batch_size\": batch_size,\n",
    "                                \"epochs\": epochs,\n",
    "                                \"num_layers_finetune\": num_layers_finetune,\n",
    "                                \"architecture\": architecture,\n",
    "                                \"dataset\": \"Post_Impressionism\",\n",
    "                                }, name=f\"{architecture}_trial_{trial.number + 1 if trial else -1}\")\n",
    "\n",
    "    wandb.log(mean_dict)\n",
    "    # Return best validation loss as the objective to minimize\n",
    "    return mean_dict['Validation AUC']\n"
   ],
   "outputs": [],
   "execution_count": 9
  },
  {
   "metadata": {},
   "cell_type": "markdown",
   "source": "## Cross-Validation"
  },
  {
   "metadata": {
    "ExecuteTime": {
     "end_time": "2025-03-30T08:21:56.251512Z",
     "start_time": "2025-03-30T08:21:56.238514Z"
    }
   },
   "cell_type": "code",
   "source": [
    "train_loader = DataLoader(augmented_train_dataset, batch_size=128, shuffle=True)\n",
    "val_loader = DataLoader(val_dataset, batch_size=128, shuffle=False)\n",
    "test_loader = DataLoader(test_dataset, batch_size=128, shuffle=False)"
   ],
   "outputs": [],
   "execution_count": 10
  },
  {
   "metadata": {},
   "cell_type": "code",
   "outputs": [],
   "execution_count": null,
   "source": [
    "n_trials = 10\n",
    "study = optuna.create_study(study_name=VGG19, direction='maximize')\n",
    "study.optimize(lambda trial: objective(trial, VGG19, config={'project': 'deep_van_gogh_cross'}), n_trials=n_trials)"
   ]
  },
  {
   "metadata": {
    "ExecuteTime": {
     "end_time": "2025-03-30T07:24:21.854530Z",
     "start_time": "2025-03-30T07:24:18.294058Z"
    }
   },
   "cell_type": "code",
   "source": [
    "# Training the model - !\n",
    "base_model = vgg19\n",
    "model = FinedTunedModel(base_model.to(device), ALEXNET).to(device)\n",
    "weight_decay=0.0000961196621799138\n",
    "lr=0.0000607994047379646\n",
    "optimizer = optim.Adam(model.parameters(), lr=0.0000607994047379646, weight_decay=0.0000961196621799138)\n",
    "criterion = nn.CrossEntropyLoss()\n",
    "batch_size=128\n",
    "epochs=5\n",
    "\n",
    "wandb.init(project='deep_van_gogh-best=kaki2!',\n",
    "                       config={ \"learning_rate\": lr,\n",
    "                                \"weight_decay\": weight_decay,\n",
    "                                \"patience\": 8,\n",
    "                                \"batch_size\": batch_size,\n",
    "                                \"epochs\": epochs,\n",
    "                                \"architecture\": VGG19,\n",
    "                                \"dataset\": \"Post_Impressionism\",\n",
    "                                }, name=f\"{VGG19}-best\")\n",
    "\n",
    "train_model_with_hyperparams(model, train_loader, val_loader, optimizer, criterion, epochs=epochs, patience=8,device=device, trial=None, architecture=VGG19, fold=0, save_model=True, log=True)\n",
    "\n",
    "best_values = train.validation(model, criterion, test_loader, device)\n",
    "wandb.log(best_values)\n",
    "wandb.finish()"
   ],
   "outputs": [
    {
     "name": "stderr",
     "output_type": "stream",
     "text": [
      "\n",
      "KeyboardInterrupt\n",
      "\n"
     ]
    }
   ],
   "execution_count": 25
  },
  {
   "cell_type": "markdown",
   "metadata": {
    "id": "vIb8Ud6FiGuu"
   },
   "source": [
    "# Fine tuning AlexNet"
   ]
  },
  {
   "cell_type": "code",
   "metadata": {
    "ExecuteTime": {
     "end_time": "2025-03-30T07:41:35.372884Z",
     "start_time": "2025-03-30T07:36:59.245745Z"
    }
   },
   "source": [
    "n_trials = 3\n",
    "study = optuna.create_study(study_name=ALEXNET, direction='maximize')\n",
    "study.optimize(lambda trial: objective(trial, ALEXNET, config={'project':'AlexLoveVal2'}), n_trials=n_trials)"
   ],
   "outputs": [
    {
     "name": "stderr",
     "output_type": "stream",
     "text": [
      "[I 2025-03-30 10:36:59,295] A new study created in memory with name: AlexNet\n"
     ]
    },
    {
     "data": {
      "text/plain": [
       "<IPython.core.display.HTML object>"
      ],
      "text/html": []
     },
     "metadata": {},
     "output_type": "display_data"
    },
    {
     "data": {
      "text/plain": [
       "<IPython.core.display.HTML object>"
      ],
      "text/html": [
       "<br>    <style><br>        .wandb-row {<br>            display: flex;<br>            flex-direction: row;<br>            flex-wrap: wrap;<br>            justify-content: flex-start;<br>            width: 100%;<br>        }<br>        .wandb-col {<br>            display: flex;<br>            flex-direction: column;<br>            flex-basis: 100%;<br>            flex: 1;<br>            padding: 10px;<br>        }<br>    </style><br><div class=\"wandb-row\"><div class=\"wandb-col\"><h3>Run history:</h3><br/><table class=\"wandb\"><tr><td>Epoch</td><td>▁▅█▁▅█</td></tr><tr><td>Train Accuracy</td><td>▃▆█▁▇█</td></tr><tr><td>Train Loss</td><td>█▃▁▇▂▁</td></tr><tr><td>Validation AUC</td><td>▁▆▇▄██</td></tr><tr><td>Validation Accuracy</td><td>▁▆█▃▇▆</td></tr><tr><td>Validation F1</td><td>▁▆█▄▇▇</td></tr><tr><td>Validation Loss</td><td>█▂▂▅▁▃</td></tr><tr><td>Validation Precision</td><td>▁▆█▃▇▆</td></tr><tr><td>Validation Recall</td><td>▁▆█▃▇▆</td></tr><tr><td>Validation Specificity</td><td>▇█▇▅▄▁</td></tr></table><br/></div><div class=\"wandb-col\"><h3>Run summary:</h3><br/><table class=\"wandb\"><tr><td>Epoch</td><td>3</td></tr><tr><td>Train Accuracy</td><td>0.98906</td></tr><tr><td>Train Loss</td><td>0.03215</td></tr><tr><td>Validation AUC</td><td>0.94465</td></tr><tr><td>Validation Accuracy</td><td>0.9699</td></tr><tr><td>Validation F1</td><td>0.96891</td></tr><tr><td>Validation Loss</td><td>0.10842</td></tr><tr><td>Validation Precision</td><td>0.9683</td></tr><tr><td>Validation Recall</td><td>0.9699</td></tr><tr><td>Validation Specificity</td><td>0.98773</td></tr></table><br/></div></div>"
      ]
     },
     "metadata": {},
     "output_type": "display_data"
    },
    {
     "data": {
      "text/plain": [
       "<IPython.core.display.HTML object>"
      ],
      "text/html": [
       " View run <strong style=\"color:#cdcd00\">AlexNet_trial_3</strong> at: <a href='https://wandb.ai/amitr5-tel-aviv-university/AlexLoveVal/runs/bgq5kbyd' target=\"_blank\">https://wandb.ai/amitr5-tel-aviv-university/AlexLoveVal/runs/bgq5kbyd</a><br> View project at: <a href='https://wandb.ai/amitr5-tel-aviv-university/AlexLoveVal' target=\"_blank\">https://wandb.ai/amitr5-tel-aviv-university/AlexLoveVal</a><br>Synced 5 W&B file(s), 0 media file(s), 12 artifact file(s) and 6 other file(s)"
      ]
     },
     "metadata": {},
     "output_type": "display_data"
    },
    {
     "data": {
      "text/plain": [
       "<IPython.core.display.HTML object>"
      ],
      "text/html": [
       "Find logs at: <code>.\\wandb\\run-20250330_101603-bgq5kbyd\\logs</code>"
      ]
     },
     "metadata": {},
     "output_type": "display_data"
    },
    {
     "data": {
      "text/plain": [
       "<IPython.core.display.HTML object>"
      ],
      "text/html": [
       "Tracking run with wandb version 0.19.1"
      ]
     },
     "metadata": {},
     "output_type": "display_data"
    },
    {
     "data": {
      "text/plain": [
       "<IPython.core.display.HTML object>"
      ],
      "text/html": [
       "Run data is saved locally in <code>C:\\Projects\\deep_van_gogh\\wandb\\run-20250330_103805-jv4vh4ci</code>"
      ]
     },
     "metadata": {},
     "output_type": "display_data"
    },
    {
     "data": {
      "text/plain": [
       "<IPython.core.display.HTML object>"
      ],
      "text/html": [
       "Syncing run <strong><a href='https://wandb.ai/amitr5-tel-aviv-university/AlexLoveVal2/runs/jv4vh4ci' target=\"_blank\">AlexNet_trial_1_fold_1</a></strong> to <a href='https://wandb.ai/amitr5-tel-aviv-university/AlexLoveVal2' target=\"_blank\">Weights & Biases</a> (<a href='https://wandb.me/developer-guide' target=\"_blank\">docs</a>)<br>"
      ]
     },
     "metadata": {},
     "output_type": "display_data"
    },
    {
     "data": {
      "text/plain": [
       "<IPython.core.display.HTML object>"
      ],
      "text/html": [
       " View project at <a href='https://wandb.ai/amitr5-tel-aviv-university/AlexLoveVal2' target=\"_blank\">https://wandb.ai/amitr5-tel-aviv-university/AlexLoveVal2</a>"
      ]
     },
     "metadata": {},
     "output_type": "display_data"
    },
    {
     "data": {
      "text/plain": [
       "<IPython.core.display.HTML object>"
      ],
      "text/html": [
       " View run at <a href='https://wandb.ai/amitr5-tel-aviv-university/AlexLoveVal2/runs/jv4vh4ci' target=\"_blank\">https://wandb.ai/amitr5-tel-aviv-university/AlexLoveVal2/runs/jv4vh4ci</a>"
      ]
     },
     "metadata": {},
     "output_type": "display_data"
    },
    {
     "data": {
      "text/plain": [
       "<IPython.core.display.HTML object>"
      ],
      "text/html": []
     },
     "metadata": {},
     "output_type": "display_data"
    },
    {
     "data": {
      "text/plain": [
       "<IPython.core.display.HTML object>"
      ],
      "text/html": [
       "<br>    <style><br>        .wandb-row {<br>            display: flex;<br>            flex-direction: row;<br>            flex-wrap: wrap;<br>            justify-content: flex-start;<br>            width: 100%;<br>        }<br>        .wandb-col {<br>            display: flex;<br>            flex-direction: column;<br>            flex-basis: 100%;<br>            flex: 1;<br>            padding: 10px;<br>        }<br>    </style><br><div class=\"wandb-row\"><div class=\"wandb-col\"><h3>Run history:</h3><br/><table class=\"wandb\"><tr><td>Epoch</td><td>▁▅█</td></tr><tr><td>Train Accuracy</td><td>▁▇█</td></tr><tr><td>Train Loss</td><td>█▂▁</td></tr><tr><td>Validation AUC</td><td>▁▇█</td></tr><tr><td>Validation Accuracy</td><td>▁▇█</td></tr><tr><td>Validation F1</td><td>▁▆█</td></tr><tr><td>Validation Loss</td><td>█▂▁</td></tr><tr><td>Validation Precision</td><td>▁▇█</td></tr><tr><td>Validation Recall</td><td>▁▇█</td></tr><tr><td>Validation Specificity</td><td>▁█▅</td></tr></table><br/></div><div class=\"wandb-col\"><h3>Run summary:</h3><br/><table class=\"wandb\"><tr><td>Epoch</td><td>3</td></tr><tr><td>Train Accuracy</td><td>0.98541</td></tr><tr><td>Train Loss</td><td>0.04312</td></tr><tr><td>Validation AUC</td><td>0.99443</td></tr><tr><td>Validation Accuracy</td><td>0.98564</td></tr><tr><td>Validation F1</td><td>0.98559</td></tr><tr><td>Validation Loss</td><td>0.04044</td></tr><tr><td>Validation Precision</td><td>0.98555</td></tr><tr><td>Validation Recall</td><td>0.98564</td></tr><tr><td>Validation Specificity</td><td>0.99278</td></tr></table><br/></div></div>"
      ]
     },
     "metadata": {},
     "output_type": "display_data"
    },
    {
     "data": {
      "text/plain": [
       "<IPython.core.display.HTML object>"
      ],
      "text/html": [
       " View run <strong style=\"color:#cdcd00\">AlexNet_trial_1_fold_1</strong> at: <a href='https://wandb.ai/amitr5-tel-aviv-university/AlexLoveVal2/runs/jv4vh4ci' target=\"_blank\">https://wandb.ai/amitr5-tel-aviv-university/AlexLoveVal2/runs/jv4vh4ci</a><br> View project at: <a href='https://wandb.ai/amitr5-tel-aviv-university/AlexLoveVal2' target=\"_blank\">https://wandb.ai/amitr5-tel-aviv-university/AlexLoveVal2</a><br>Synced 5 W&B file(s), 0 media file(s), 6 artifact file(s) and 3 other file(s)"
      ]
     },
     "metadata": {},
     "output_type": "display_data"
    },
    {
     "data": {
      "text/plain": [
       "<IPython.core.display.HTML object>"
      ],
      "text/html": [
       "Find logs at: <code>.\\wandb\\run-20250330_103805-jv4vh4ci\\logs</code>"
      ]
     },
     "metadata": {},
     "output_type": "display_data"
    },
    {
     "data": {
      "text/plain": [
       "<IPython.core.display.HTML object>"
      ],
      "text/html": [
       "Tracking run with wandb version 0.19.1"
      ]
     },
     "metadata": {},
     "output_type": "display_data"
    },
    {
     "data": {
      "text/plain": [
       "<IPython.core.display.HTML object>"
      ],
      "text/html": [
       "Run data is saved locally in <code>C:\\Projects\\deep_van_gogh\\wandb\\run-20250330_103827-tpbl1zo8</code>"
      ]
     },
     "metadata": {},
     "output_type": "display_data"
    },
    {
     "data": {
      "text/plain": [
       "<IPython.core.display.HTML object>"
      ],
      "text/html": [
       "Syncing run <strong><a href='https://wandb.ai/amitr5-tel-aviv-university/AlexLoveVal2/runs/tpbl1zo8' target=\"_blank\">AlexNet_trial_1_fold_2</a></strong> to <a href='https://wandb.ai/amitr5-tel-aviv-university/AlexLoveVal2' target=\"_blank\">Weights & Biases</a> (<a href='https://wandb.me/developer-guide' target=\"_blank\">docs</a>)<br>"
      ]
     },
     "metadata": {},
     "output_type": "display_data"
    },
    {
     "data": {
      "text/plain": [
       "<IPython.core.display.HTML object>"
      ],
      "text/html": [
       " View project at <a href='https://wandb.ai/amitr5-tel-aviv-university/AlexLoveVal2' target=\"_blank\">https://wandb.ai/amitr5-tel-aviv-university/AlexLoveVal2</a>"
      ]
     },
     "metadata": {},
     "output_type": "display_data"
    },
    {
     "data": {
      "text/plain": [
       "<IPython.core.display.HTML object>"
      ],
      "text/html": [
       " View run at <a href='https://wandb.ai/amitr5-tel-aviv-university/AlexLoveVal2/runs/tpbl1zo8' target=\"_blank\">https://wandb.ai/amitr5-tel-aviv-university/AlexLoveVal2/runs/tpbl1zo8</a>"
      ]
     },
     "metadata": {},
     "output_type": "display_data"
    },
    {
     "data": {
      "text/plain": [
       "<IPython.core.display.HTML object>"
      ],
      "text/html": []
     },
     "metadata": {},
     "output_type": "display_data"
    },
    {
     "data": {
      "text/plain": [
       "<IPython.core.display.HTML object>"
      ],
      "text/html": [
       "<br>    <style><br>        .wandb-row {<br>            display: flex;<br>            flex-direction: row;<br>            flex-wrap: wrap;<br>            justify-content: flex-start;<br>            width: 100%;<br>        }<br>        .wandb-col {<br>            display: flex;<br>            flex-direction: column;<br>            flex-basis: 100%;<br>            flex: 1;<br>            padding: 10px;<br>        }<br>    </style><br><div class=\"wandb-row\"><div class=\"wandb-col\"><h3>Run history:</h3><br/><table class=\"wandb\"><tr><td>Epoch</td><td>▁▅█</td></tr><tr><td>Train Accuracy</td><td>▁▇█</td></tr><tr><td>Train Loss</td><td>█▂▁</td></tr><tr><td>Validation AUC</td><td>▁█▇</td></tr><tr><td>Validation Accuracy</td><td>▁▆█</td></tr><tr><td>Validation F1</td><td>▁▆█</td></tr><tr><td>Validation Loss</td><td>█▂▁</td></tr><tr><td>Validation Precision</td><td>▁▆█</td></tr><tr><td>Validation Recall</td><td>▁▆█</td></tr><tr><td>Validation Specificity</td><td>▁█▁</td></tr></table><br/></div><div class=\"wandb-col\"><h3>Run summary:</h3><br/><table class=\"wandb\"><tr><td>Epoch</td><td>3</td></tr><tr><td>Train Accuracy</td><td>0.99111</td></tr><tr><td>Train Loss</td><td>0.02617</td></tr><tr><td>Validation AUC</td><td>0.9965</td></tr><tr><td>Validation Accuracy</td><td>0.98837</td></tr><tr><td>Validation F1</td><td>0.98841</td></tr><tr><td>Validation Loss</td><td>0.03033</td></tr><tr><td>Validation Precision</td><td>0.98845</td></tr><tr><td>Validation Recall</td><td>0.98837</td></tr><tr><td>Validation Specificity</td><td>0.9935</td></tr></table><br/></div></div>"
      ]
     },
     "metadata": {},
     "output_type": "display_data"
    },
    {
     "data": {
      "text/plain": [
       "<IPython.core.display.HTML object>"
      ],
      "text/html": [
       " View run <strong style=\"color:#cdcd00\">AlexNet_trial_1_fold_2</strong> at: <a href='https://wandb.ai/amitr5-tel-aviv-university/AlexLoveVal2/runs/tpbl1zo8' target=\"_blank\">https://wandb.ai/amitr5-tel-aviv-university/AlexLoveVal2/runs/tpbl1zo8</a><br> View project at: <a href='https://wandb.ai/amitr5-tel-aviv-university/AlexLoveVal2' target=\"_blank\">https://wandb.ai/amitr5-tel-aviv-university/AlexLoveVal2</a><br>Synced 5 W&B file(s), 0 media file(s), 6 artifact file(s) and 3 other file(s)"
      ]
     },
     "metadata": {},
     "output_type": "display_data"
    },
    {
     "data": {
      "text/plain": [
       "<IPython.core.display.HTML object>"
      ],
      "text/html": [
       "Find logs at: <code>.\\wandb\\run-20250330_103827-tpbl1zo8\\logs</code>"
      ]
     },
     "metadata": {},
     "output_type": "display_data"
    },
    {
     "data": {
      "text/plain": [
       "<IPython.core.display.HTML object>"
      ],
      "text/html": [
       "Tracking run with wandb version 0.19.1"
      ]
     },
     "metadata": {},
     "output_type": "display_data"
    },
    {
     "data": {
      "text/plain": [
       "<IPython.core.display.HTML object>"
      ],
      "text/html": [
       "Run data is saved locally in <code>C:\\Projects\\deep_van_gogh\\wandb\\run-20250330_103845-37lgfv45</code>"
      ]
     },
     "metadata": {},
     "output_type": "display_data"
    },
    {
     "data": {
      "text/plain": [
       "<IPython.core.display.HTML object>"
      ],
      "text/html": [
       "Syncing run <strong><a href='https://wandb.ai/amitr5-tel-aviv-university/AlexLoveVal2/runs/37lgfv45' target=\"_blank\">AlexNet_trial_1_fold_3</a></strong> to <a href='https://wandb.ai/amitr5-tel-aviv-university/AlexLoveVal2' target=\"_blank\">Weights & Biases</a> (<a href='https://wandb.me/developer-guide' target=\"_blank\">docs</a>)<br>"
      ]
     },
     "metadata": {},
     "output_type": "display_data"
    },
    {
     "data": {
      "text/plain": [
       "<IPython.core.display.HTML object>"
      ],
      "text/html": [
       " View project at <a href='https://wandb.ai/amitr5-tel-aviv-university/AlexLoveVal2' target=\"_blank\">https://wandb.ai/amitr5-tel-aviv-university/AlexLoveVal2</a>"
      ]
     },
     "metadata": {},
     "output_type": "display_data"
    },
    {
     "data": {
      "text/plain": [
       "<IPython.core.display.HTML object>"
      ],
      "text/html": [
       " View run at <a href='https://wandb.ai/amitr5-tel-aviv-university/AlexLoveVal2/runs/37lgfv45' target=\"_blank\">https://wandb.ai/amitr5-tel-aviv-university/AlexLoveVal2/runs/37lgfv45</a>"
      ]
     },
     "metadata": {},
     "output_type": "display_data"
    },
    {
     "data": {
      "text/plain": [
       "<IPython.core.display.HTML object>"
      ],
      "text/html": []
     },
     "metadata": {},
     "output_type": "display_data"
    },
    {
     "data": {
      "text/plain": [
       "<IPython.core.display.HTML object>"
      ],
      "text/html": [
       "<br>    <style><br>        .wandb-row {<br>            display: flex;<br>            flex-direction: row;<br>            flex-wrap: wrap;<br>            justify-content: flex-start;<br>            width: 100%;<br>        }<br>        .wandb-col {<br>            display: flex;<br>            flex-direction: column;<br>            flex-basis: 100%;<br>            flex: 1;<br>            padding: 10px;<br>        }<br>    </style><br><div class=\"wandb-row\"><div class=\"wandb-col\"><h3>Run history:</h3><br/><table class=\"wandb\"><tr><td>Epoch</td><td>▁▅█</td></tr><tr><td>Train Accuracy</td><td>▁▇█</td></tr><tr><td>Train Loss</td><td>█▂▁</td></tr><tr><td>Validation AUC</td><td>▁█▇</td></tr><tr><td>Validation Accuracy</td><td>▅█▁</td></tr><tr><td>Validation F1</td><td>▄█▁</td></tr><tr><td>Validation Loss</td><td>█▁▄</td></tr><tr><td>Validation Precision</td><td>▄█▁</td></tr><tr><td>Validation Recall</td><td>▅█▁</td></tr><tr><td>Validation Specificity</td><td>▅█▁</td></tr></table><br/></div><div class=\"wandb-col\"><h3>Run summary:</h3><br/><table class=\"wandb\"><tr><td>Epoch</td><td>3</td></tr><tr><td>Train Accuracy</td><td>0.99635</td></tr><tr><td>Train Loss</td><td>0.01183</td></tr><tr><td>Validation AUC</td><td>0.99962</td></tr><tr><td>Validation Accuracy</td><td>0.99248</td></tr><tr><td>Validation F1</td><td>0.99267</td></tr><tr><td>Validation Loss</td><td>0.01782</td></tr><tr><td>Validation Precision</td><td>0.99319</td></tr><tr><td>Validation Recall</td><td>0.99248</td></tr><tr><td>Validation Specificity</td><td>0.99278</td></tr></table><br/></div></div>"
      ]
     },
     "metadata": {},
     "output_type": "display_data"
    },
    {
     "data": {
      "text/plain": [
       "<IPython.core.display.HTML object>"
      ],
      "text/html": [
       " View run <strong style=\"color:#cdcd00\">AlexNet_trial_1_fold_3</strong> at: <a href='https://wandb.ai/amitr5-tel-aviv-university/AlexLoveVal2/runs/37lgfv45' target=\"_blank\">https://wandb.ai/amitr5-tel-aviv-university/AlexLoveVal2/runs/37lgfv45</a><br> View project at: <a href='https://wandb.ai/amitr5-tel-aviv-university/AlexLoveVal2' target=\"_blank\">https://wandb.ai/amitr5-tel-aviv-university/AlexLoveVal2</a><br>Synced 5 W&B file(s), 0 media file(s), 6 artifact file(s) and 3 other file(s)"
      ]
     },
     "metadata": {},
     "output_type": "display_data"
    },
    {
     "data": {
      "text/plain": [
       "<IPython.core.display.HTML object>"
      ],
      "text/html": [
       "Find logs at: <code>.\\wandb\\run-20250330_103845-37lgfv45\\logs</code>"
      ]
     },
     "metadata": {},
     "output_type": "display_data"
    },
    {
     "data": {
      "text/plain": [
       "<IPython.core.display.HTML object>"
      ],
      "text/html": [
       "Tracking run with wandb version 0.19.1"
      ]
     },
     "metadata": {},
     "output_type": "display_data"
    },
    {
     "data": {
      "text/plain": [
       "<IPython.core.display.HTML object>"
      ],
      "text/html": [
       "Run data is saved locally in <code>C:\\Projects\\deep_van_gogh\\wandb\\run-20250330_103904-t65u9r0t</code>"
      ]
     },
     "metadata": {},
     "output_type": "display_data"
    },
    {
     "data": {
      "text/plain": [
       "<IPython.core.display.HTML object>"
      ],
      "text/html": [
       "Syncing run <strong><a href='https://wandb.ai/amitr5-tel-aviv-university/AlexLoveVal2/runs/t65u9r0t' target=\"_blank\">AlexNet_trial_1</a></strong> to <a href='https://wandb.ai/amitr5-tel-aviv-university/AlexLoveVal2' target=\"_blank\">Weights & Biases</a> (<a href='https://wandb.me/developer-guide' target=\"_blank\">docs</a>)<br>"
      ]
     },
     "metadata": {},
     "output_type": "display_data"
    },
    {
     "data": {
      "text/plain": [
       "<IPython.core.display.HTML object>"
      ],
      "text/html": [
       " View project at <a href='https://wandb.ai/amitr5-tel-aviv-university/AlexLoveVal2' target=\"_blank\">https://wandb.ai/amitr5-tel-aviv-university/AlexLoveVal2</a>"
      ]
     },
     "metadata": {},
     "output_type": "display_data"
    },
    {
     "data": {
      "text/plain": [
       "<IPython.core.display.HTML object>"
      ],
      "text/html": [
       " View run at <a href='https://wandb.ai/amitr5-tel-aviv-university/AlexLoveVal2/runs/t65u9r0t' target=\"_blank\">https://wandb.ai/amitr5-tel-aviv-university/AlexLoveVal2/runs/t65u9r0t</a>"
      ]
     },
     "metadata": {},
     "output_type": "display_data"
    },
    {
     "name": "stderr",
     "output_type": "stream",
     "text": [
      "[I 2025-03-30 10:39:04,910] Trial 0 finished with value: 0.9839912794786442 and parameters: {'learning_rate': 5.403809233198194e-05, 'weight_decay': 4.026654702077519e-06, 'num_layers_finetune': 3, 'epochs': 3}. Best is trial 0 with value: 0.9839912794786442.\n"
     ]
    },
    {
     "data": {
      "text/plain": [
       "<IPython.core.display.HTML object>"
      ],
      "text/html": []
     },
     "metadata": {},
     "output_type": "display_data"
    },
    {
     "data": {
      "text/plain": [
       "<IPython.core.display.HTML object>"
      ],
      "text/html": [
       "<br>    <style><br>        .wandb-row {<br>            display: flex;<br>            flex-direction: row;<br>            flex-wrap: wrap;<br>            justify-content: flex-start;<br>            width: 100%;<br>        }<br>        .wandb-col {<br>            display: flex;<br>            flex-direction: column;<br>            flex-basis: 100%;<br>            flex: 1;<br>            padding: 10px;<br>        }<br>    </style><br><div class=\"wandb-row\"><div class=\"wandb-col\"><h3>Run history:</h3><br/><table class=\"wandb\"><tr><td>Epoch</td><td>▁▅█</td></tr><tr><td>Train Accuracy</td><td>▁██</td></tr><tr><td>Train Loss</td><td>█▁▁</td></tr><tr><td>Validation AUC</td><td>▁███</td></tr><tr><td>Validation Accuracy</td><td>▁███</td></tr><tr><td>Validation F1</td><td>▁███</td></tr><tr><td>Validation Loss</td><td>█▂▁▁</td></tr><tr><td>Validation Precision</td><td>▁███</td></tr><tr><td>Validation Recall</td><td>▁███</td></tr><tr><td>Validation Specificity</td><td>▁███</td></tr></table><br/></div><div class=\"wandb-col\"><h3>Run summary:</h3><br/><table class=\"wandb\"><tr><td>Epoch</td><td>3</td></tr><tr><td>Train Accuracy</td><td>0.9984</td></tr><tr><td>Train Loss</td><td>0.0061</td></tr><tr><td>Validation AUC</td><td>1</td></tr><tr><td>Validation Accuracy</td><td>0.99863</td></tr><tr><td>Validation F1</td><td>0.99864</td></tr><tr><td>Validation Loss</td><td>0.00319</td></tr><tr><td>Validation Precision</td><td>0.99867</td></tr><tr><td>Validation Recall</td><td>0.99863</td></tr><tr><td>Validation Specificity</td><td>0.99856</td></tr></table><br/></div></div>"
      ]
     },
     "metadata": {},
     "output_type": "display_data"
    },
    {
     "data": {
      "text/plain": [
       "<IPython.core.display.HTML object>"
      ],
      "text/html": [
       " View run <strong style=\"color:#cdcd00\">AlexNet_trial_1</strong> at: <a href='https://wandb.ai/amitr5-tel-aviv-university/AlexLoveVal2/runs/t65u9r0t' target=\"_blank\">https://wandb.ai/amitr5-tel-aviv-university/AlexLoveVal2/runs/t65u9r0t</a><br> View project at: <a href='https://wandb.ai/amitr5-tel-aviv-university/AlexLoveVal2' target=\"_blank\">https://wandb.ai/amitr5-tel-aviv-university/AlexLoveVal2</a><br>Synced 5 W&B file(s), 0 media file(s), 2 artifact file(s) and 3 other file(s)"
      ]
     },
     "metadata": {},
     "output_type": "display_data"
    },
    {
     "data": {
      "text/plain": [
       "<IPython.core.display.HTML object>"
      ],
      "text/html": [
       "Find logs at: <code>.\\wandb\\run-20250330_103904-t65u9r0t\\logs</code>"
      ]
     },
     "metadata": {},
     "output_type": "display_data"
    },
    {
     "data": {
      "text/plain": [
       "<IPython.core.display.HTML object>"
      ],
      "text/html": [
       "Tracking run with wandb version 0.19.1"
      ]
     },
     "metadata": {},
     "output_type": "display_data"
    },
    {
     "data": {
      "text/plain": [
       "<IPython.core.display.HTML object>"
      ],
      "text/html": [
       "Run data is saved locally in <code>C:\\Projects\\deep_van_gogh\\wandb\\run-20250330_103918-1uw4ywua</code>"
      ]
     },
     "metadata": {},
     "output_type": "display_data"
    },
    {
     "data": {
      "text/plain": [
       "<IPython.core.display.HTML object>"
      ],
      "text/html": [
       "Syncing run <strong><a href='https://wandb.ai/amitr5-tel-aviv-university/AlexLoveVal2/runs/1uw4ywua' target=\"_blank\">AlexNet_trial_2_fold_1</a></strong> to <a href='https://wandb.ai/amitr5-tel-aviv-university/AlexLoveVal2' target=\"_blank\">Weights & Biases</a> (<a href='https://wandb.me/developer-guide' target=\"_blank\">docs</a>)<br>"
      ]
     },
     "metadata": {},
     "output_type": "display_data"
    },
    {
     "data": {
      "text/plain": [
       "<IPython.core.display.HTML object>"
      ],
      "text/html": [
       " View project at <a href='https://wandb.ai/amitr5-tel-aviv-university/AlexLoveVal2' target=\"_blank\">https://wandb.ai/amitr5-tel-aviv-university/AlexLoveVal2</a>"
      ]
     },
     "metadata": {},
     "output_type": "display_data"
    },
    {
     "data": {
      "text/plain": [
       "<IPython.core.display.HTML object>"
      ],
      "text/html": [
       " View run at <a href='https://wandb.ai/amitr5-tel-aviv-university/AlexLoveVal2/runs/1uw4ywua' target=\"_blank\">https://wandb.ai/amitr5-tel-aviv-university/AlexLoveVal2/runs/1uw4ywua</a>"
      ]
     },
     "metadata": {},
     "output_type": "display_data"
    },
    {
     "data": {
      "text/plain": [
       "<IPython.core.display.HTML object>"
      ],
      "text/html": []
     },
     "metadata": {},
     "output_type": "display_data"
    },
    {
     "data": {
      "text/plain": [
       "<IPython.core.display.HTML object>"
      ],
      "text/html": [
       "<br>    <style><br>        .wandb-row {<br>            display: flex;<br>            flex-direction: row;<br>            flex-wrap: wrap;<br>            justify-content: flex-start;<br>            width: 100%;<br>        }<br>        .wandb-col {<br>            display: flex;<br>            flex-direction: column;<br>            flex-basis: 100%;<br>            flex: 1;<br>            padding: 10px;<br>        }<br>    </style><br><div class=\"wandb-row\"><div class=\"wandb-col\"><h3>Run history:</h3><br/><table class=\"wandb\"><tr><td>Epoch</td><td>▁▅█</td></tr><tr><td>Train Accuracy</td><td>▁██</td></tr><tr><td>Train Loss</td><td>█▁▁</td></tr><tr><td>Validation AUC</td><td>▁▁▁</td></tr><tr><td>Validation Accuracy</td><td>█▁▁</td></tr><tr><td>Validation F1</td><td>█▁▁</td></tr><tr><td>Validation Loss</td><td>▁█▅</td></tr><tr><td>Validation Precision</td><td>█▁▁</td></tr><tr><td>Validation Recall</td><td>█▁▁</td></tr><tr><td>Validation Specificity</td><td>█▁▁</td></tr></table><br/></div><div class=\"wandb-col\"><h3>Run summary:</h3><br/><table class=\"wandb\"><tr><td>Epoch</td><td>3</td></tr><tr><td>Train Accuracy</td><td>0.99886</td></tr><tr><td>Train Loss</td><td>0.0035</td></tr><tr><td>Validation AUC</td><td>1</td></tr><tr><td>Validation Accuracy</td><td>0.99932</td></tr><tr><td>Validation F1</td><td>0.99932</td></tr><tr><td>Validation Loss</td><td>0.00223</td></tr><tr><td>Validation Precision</td><td>0.99932</td></tr><tr><td>Validation Recall</td><td>0.99932</td></tr><tr><td>Validation Specificity</td><td>0.99928</td></tr></table><br/></div></div>"
      ]
     },
     "metadata": {},
     "output_type": "display_data"
    },
    {
     "data": {
      "text/plain": [
       "<IPython.core.display.HTML object>"
      ],
      "text/html": [
       " View run <strong style=\"color:#cdcd00\">AlexNet_trial_2_fold_1</strong> at: <a href='https://wandb.ai/amitr5-tel-aviv-university/AlexLoveVal2/runs/1uw4ywua' target=\"_blank\">https://wandb.ai/amitr5-tel-aviv-university/AlexLoveVal2/runs/1uw4ywua</a><br> View project at: <a href='https://wandb.ai/amitr5-tel-aviv-university/AlexLoveVal2' target=\"_blank\">https://wandb.ai/amitr5-tel-aviv-university/AlexLoveVal2</a><br>Synced 5 W&B file(s), 0 media file(s), 4 artifact file(s) and 3 other file(s)"
      ]
     },
     "metadata": {},
     "output_type": "display_data"
    },
    {
     "data": {
      "text/plain": [
       "<IPython.core.display.HTML object>"
      ],
      "text/html": [
       "Find logs at: <code>.\\wandb\\run-20250330_103918-1uw4ywua\\logs</code>"
      ]
     },
     "metadata": {},
     "output_type": "display_data"
    },
    {
     "data": {
      "text/plain": [
       "<IPython.core.display.HTML object>"
      ],
      "text/html": [
       "Tracking run with wandb version 0.19.1"
      ]
     },
     "metadata": {},
     "output_type": "display_data"
    },
    {
     "data": {
      "text/plain": [
       "<IPython.core.display.HTML object>"
      ],
      "text/html": [
       "Run data is saved locally in <code>C:\\Projects\\deep_van_gogh\\wandb\\run-20250330_103933-ghim2bmk</code>"
      ]
     },
     "metadata": {},
     "output_type": "display_data"
    },
    {
     "data": {
      "text/plain": [
       "<IPython.core.display.HTML object>"
      ],
      "text/html": [
       "Syncing run <strong><a href='https://wandb.ai/amitr5-tel-aviv-university/AlexLoveVal2/runs/ghim2bmk' target=\"_blank\">AlexNet_trial_2_fold_2</a></strong> to <a href='https://wandb.ai/amitr5-tel-aviv-university/AlexLoveVal2' target=\"_blank\">Weights & Biases</a> (<a href='https://wandb.me/developer-guide' target=\"_blank\">docs</a>)<br>"
      ]
     },
     "metadata": {},
     "output_type": "display_data"
    },
    {
     "data": {
      "text/plain": [
       "<IPython.core.display.HTML object>"
      ],
      "text/html": [
       " View project at <a href='https://wandb.ai/amitr5-tel-aviv-university/AlexLoveVal2' target=\"_blank\">https://wandb.ai/amitr5-tel-aviv-university/AlexLoveVal2</a>"
      ]
     },
     "metadata": {},
     "output_type": "display_data"
    },
    {
     "data": {
      "text/plain": [
       "<IPython.core.display.HTML object>"
      ],
      "text/html": [
       " View run at <a href='https://wandb.ai/amitr5-tel-aviv-university/AlexLoveVal2/runs/ghim2bmk' target=\"_blank\">https://wandb.ai/amitr5-tel-aviv-university/AlexLoveVal2/runs/ghim2bmk</a>"
      ]
     },
     "metadata": {},
     "output_type": "display_data"
    },
    {
     "data": {
      "text/plain": [
       "<IPython.core.display.HTML object>"
      ],
      "text/html": []
     },
     "metadata": {},
     "output_type": "display_data"
    },
    {
     "data": {
      "text/plain": [
       "<IPython.core.display.HTML object>"
      ],
      "text/html": [
       "<br>    <style><br>        .wandb-row {<br>            display: flex;<br>            flex-direction: row;<br>            flex-wrap: wrap;<br>            justify-content: flex-start;<br>            width: 100%;<br>        }<br>        .wandb-col {<br>            display: flex;<br>            flex-direction: column;<br>            flex-basis: 100%;<br>            flex: 1;<br>            padding: 10px;<br>        }<br>    </style><br><div class=\"wandb-row\"><div class=\"wandb-col\"><h3>Run history:</h3><br/><table class=\"wandb\"><tr><td>Epoch</td><td>▁▅█</td></tr><tr><td>Train Accuracy</td><td>▁██</td></tr><tr><td>Train Loss</td><td>█▁▁</td></tr><tr><td>Validation AUC</td><td>▁▁▁</td></tr><tr><td>Validation Accuracy</td><td>▁██</td></tr><tr><td>Validation F1</td><td>▁██</td></tr><tr><td>Validation Loss</td><td>█▄▁</td></tr><tr><td>Validation Precision</td><td>▁██</td></tr><tr><td>Validation Recall</td><td>▁██</td></tr><tr><td>Validation Specificity</td><td>▁██</td></tr></table><br/></div><div class=\"wandb-col\"><h3>Run summary:</h3><br/><table class=\"wandb\"><tr><td>Epoch</td><td>3</td></tr><tr><td>Train Accuracy</td><td>1</td></tr><tr><td>Train Loss</td><td>0.00217</td></tr><tr><td>Validation AUC</td><td>1</td></tr><tr><td>Validation Accuracy</td><td>1</td></tr><tr><td>Validation F1</td><td>1</td></tr><tr><td>Validation Loss</td><td>0.00088</td></tr><tr><td>Validation Precision</td><td>1</td></tr><tr><td>Validation Recall</td><td>1</td></tr><tr><td>Validation Specificity</td><td>1</td></tr></table><br/></div></div>"
      ]
     },
     "metadata": {},
     "output_type": "display_data"
    },
    {
     "data": {
      "text/plain": [
       "<IPython.core.display.HTML object>"
      ],
      "text/html": [
       " View run <strong style=\"color:#cdcd00\">AlexNet_trial_2_fold_2</strong> at: <a href='https://wandb.ai/amitr5-tel-aviv-university/AlexLoveVal2/runs/ghim2bmk' target=\"_blank\">https://wandb.ai/amitr5-tel-aviv-university/AlexLoveVal2/runs/ghim2bmk</a><br> View project at: <a href='https://wandb.ai/amitr5-tel-aviv-university/AlexLoveVal2' target=\"_blank\">https://wandb.ai/amitr5-tel-aviv-university/AlexLoveVal2</a><br>Synced 5 W&B file(s), 0 media file(s), 4 artifact file(s) and 3 other file(s)"
      ]
     },
     "metadata": {},
     "output_type": "display_data"
    },
    {
     "data": {
      "text/plain": [
       "<IPython.core.display.HTML object>"
      ],
      "text/html": [
       "Find logs at: <code>.\\wandb\\run-20250330_103933-ghim2bmk\\logs</code>"
      ]
     },
     "metadata": {},
     "output_type": "display_data"
    },
    {
     "data": {
      "text/plain": [
       "<IPython.core.display.HTML object>"
      ],
      "text/html": [
       "Tracking run with wandb version 0.19.1"
      ]
     },
     "metadata": {},
     "output_type": "display_data"
    },
    {
     "data": {
      "text/plain": [
       "<IPython.core.display.HTML object>"
      ],
      "text/html": [
       "Run data is saved locally in <code>C:\\Projects\\deep_van_gogh\\wandb\\run-20250330_103952-qvq1pamg</code>"
      ]
     },
     "metadata": {},
     "output_type": "display_data"
    },
    {
     "data": {
      "text/plain": [
       "<IPython.core.display.HTML object>"
      ],
      "text/html": [
       "Syncing run <strong><a href='https://wandb.ai/amitr5-tel-aviv-university/AlexLoveVal2/runs/qvq1pamg' target=\"_blank\">AlexNet_trial_2_fold_3</a></strong> to <a href='https://wandb.ai/amitr5-tel-aviv-university/AlexLoveVal2' target=\"_blank\">Weights & Biases</a> (<a href='https://wandb.me/developer-guide' target=\"_blank\">docs</a>)<br>"
      ]
     },
     "metadata": {},
     "output_type": "display_data"
    },
    {
     "data": {
      "text/plain": [
       "<IPython.core.display.HTML object>"
      ],
      "text/html": [
       " View project at <a href='https://wandb.ai/amitr5-tel-aviv-university/AlexLoveVal2' target=\"_blank\">https://wandb.ai/amitr5-tel-aviv-university/AlexLoveVal2</a>"
      ]
     },
     "metadata": {},
     "output_type": "display_data"
    },
    {
     "data": {
      "text/plain": [
       "<IPython.core.display.HTML object>"
      ],
      "text/html": [
       " View run at <a href='https://wandb.ai/amitr5-tel-aviv-university/AlexLoveVal2/runs/qvq1pamg' target=\"_blank\">https://wandb.ai/amitr5-tel-aviv-university/AlexLoveVal2/runs/qvq1pamg</a>"
      ]
     },
     "metadata": {},
     "output_type": "display_data"
    },
    {
     "data": {
      "text/plain": [
       "<IPython.core.display.HTML object>"
      ],
      "text/html": []
     },
     "metadata": {},
     "output_type": "display_data"
    },
    {
     "data": {
      "text/plain": [
       "<IPython.core.display.HTML object>"
      ],
      "text/html": [
       "<br>    <style><br>        .wandb-row {<br>            display: flex;<br>            flex-direction: row;<br>            flex-wrap: wrap;<br>            justify-content: flex-start;<br>            width: 100%;<br>        }<br>        .wandb-col {<br>            display: flex;<br>            flex-direction: column;<br>            flex-basis: 100%;<br>            flex: 1;<br>            padding: 10px;<br>        }<br>    </style><br><div class=\"wandb-row\"><div class=\"wandb-col\"><h3>Run history:</h3><br/><table class=\"wandb\"><tr><td>Epoch</td><td>▁▅█</td></tr><tr><td>Train Accuracy</td><td>▁██</td></tr><tr><td>Train Loss</td><td>█▁▁</td></tr><tr><td>Validation AUC</td><td>█▁▁</td></tr><tr><td>Validation Accuracy</td><td>██▁</td></tr><tr><td>Validation F1</td><td>██▁</td></tr><tr><td>Validation Loss</td><td>▅▁█</td></tr><tr><td>Validation Precision</td><td>██▁</td></tr><tr><td>Validation Recall</td><td>██▁</td></tr><tr><td>Validation Specificity</td><td>██▁</td></tr></table><br/></div><div class=\"wandb-col\"><h3>Run summary:</h3><br/><table class=\"wandb\"><tr><td>Epoch</td><td>3</td></tr><tr><td>Train Accuracy</td><td>0.99932</td></tr><tr><td>Train Loss</td><td>0.00209</td></tr><tr><td>Validation AUC</td><td>0.99999</td></tr><tr><td>Validation Accuracy</td><td>0.99726</td></tr><tr><td>Validation F1</td><td>0.9973</td></tr><tr><td>Validation Loss</td><td>0.00725</td></tr><tr><td>Validation Precision</td><td>0.9974</td></tr><tr><td>Validation Recall</td><td>0.99726</td></tr><tr><td>Validation Specificity</td><td>0.99711</td></tr></table><br/></div></div>"
      ]
     },
     "metadata": {},
     "output_type": "display_data"
    },
    {
     "data": {
      "text/plain": [
       "<IPython.core.display.HTML object>"
      ],
      "text/html": [
       " View run <strong style=\"color:#cdcd00\">AlexNet_trial_2_fold_3</strong> at: <a href='https://wandb.ai/amitr5-tel-aviv-university/AlexLoveVal2/runs/qvq1pamg' target=\"_blank\">https://wandb.ai/amitr5-tel-aviv-university/AlexLoveVal2/runs/qvq1pamg</a><br> View project at: <a href='https://wandb.ai/amitr5-tel-aviv-university/AlexLoveVal2' target=\"_blank\">https://wandb.ai/amitr5-tel-aviv-university/AlexLoveVal2</a><br>Synced 5 W&B file(s), 0 media file(s), 4 artifact file(s) and 3 other file(s)"
      ]
     },
     "metadata": {},
     "output_type": "display_data"
    },
    {
     "data": {
      "text/plain": [
       "<IPython.core.display.HTML object>"
      ],
      "text/html": [
       "Find logs at: <code>.\\wandb\\run-20250330_103952-qvq1pamg\\logs</code>"
      ]
     },
     "metadata": {},
     "output_type": "display_data"
    },
    {
     "data": {
      "text/plain": [
       "<IPython.core.display.HTML object>"
      ],
      "text/html": [
       "Tracking run with wandb version 0.19.1"
      ]
     },
     "metadata": {},
     "output_type": "display_data"
    },
    {
     "data": {
      "text/plain": [
       "<IPython.core.display.HTML object>"
      ],
      "text/html": [
       "Run data is saved locally in <code>C:\\Projects\\deep_van_gogh\\wandb\\run-20250330_104016-x6huwttx</code>"
      ]
     },
     "metadata": {},
     "output_type": "display_data"
    },
    {
     "data": {
      "text/plain": [
       "<IPython.core.display.HTML object>"
      ],
      "text/html": [
       "Syncing run <strong><a href='https://wandb.ai/amitr5-tel-aviv-university/AlexLoveVal2/runs/x6huwttx' target=\"_blank\">AlexNet_trial_2</a></strong> to <a href='https://wandb.ai/amitr5-tel-aviv-university/AlexLoveVal2' target=\"_blank\">Weights & Biases</a> (<a href='https://wandb.me/developer-guide' target=\"_blank\">docs</a>)<br>"
      ]
     },
     "metadata": {},
     "output_type": "display_data"
    },
    {
     "data": {
      "text/plain": [
       "<IPython.core.display.HTML object>"
      ],
      "text/html": [
       " View project at <a href='https://wandb.ai/amitr5-tel-aviv-university/AlexLoveVal2' target=\"_blank\">https://wandb.ai/amitr5-tel-aviv-university/AlexLoveVal2</a>"
      ]
     },
     "metadata": {},
     "output_type": "display_data"
    },
    {
     "data": {
      "text/plain": [
       "<IPython.core.display.HTML object>"
      ],
      "text/html": [
       " View run at <a href='https://wandb.ai/amitr5-tel-aviv-university/AlexLoveVal2/runs/x6huwttx' target=\"_blank\">https://wandb.ai/amitr5-tel-aviv-university/AlexLoveVal2/runs/x6huwttx</a>"
      ]
     },
     "metadata": {},
     "output_type": "display_data"
    },
    {
     "name": "stderr",
     "output_type": "stream",
     "text": [
      "[I 2025-03-30 10:40:17,728] Trial 1 finished with value: 1.0 and parameters: {'learning_rate': 6.757712065298122e-05, 'weight_decay': 1.0503081594794764e-05, 'num_layers_finetune': 1, 'epochs': 3}. Best is trial 1 with value: 1.0.\n"
     ]
    },
    {
     "data": {
      "text/plain": [
       "<IPython.core.display.HTML object>"
      ],
      "text/html": []
     },
     "metadata": {},
     "output_type": "display_data"
    },
    {
     "data": {
      "text/plain": [
       "<IPython.core.display.HTML object>"
      ],
      "text/html": [
       "<br>    <style><br>        .wandb-row {<br>            display: flex;<br>            flex-direction: row;<br>            flex-wrap: wrap;<br>            justify-content: flex-start;<br>            width: 100%;<br>        }<br>        .wandb-col {<br>            display: flex;<br>            flex-direction: column;<br>            flex-basis: 100%;<br>            flex: 1;<br>            padding: 10px;<br>        }<br>    </style><br><div class=\"wandb-row\"><div class=\"wandb-col\"><h3>Run history:</h3><br/><table class=\"wandb\"><tr><td>Epoch</td><td>▁▅█</td></tr><tr><td>Train Accuracy</td><td>▁██</td></tr><tr><td>Train Loss</td><td>█▁▁</td></tr><tr><td>Validation AUC</td><td>▁▁▁▁</td></tr><tr><td>Validation Accuracy</td><td>▁▂██</td></tr><tr><td>Validation F1</td><td>▁▂██</td></tr><tr><td>Validation Loss</td><td>█▅▁▂</td></tr><tr><td>Validation Precision</td><td>▁▂██</td></tr><tr><td>Validation Recall</td><td>▁▂██</td></tr><tr><td>Validation Specificity</td><td>▁███</td></tr></table><br/></div><div class=\"wandb-col\"><h3>Run summary:</h3><br/><table class=\"wandb\"><tr><td>Epoch</td><td>3</td></tr><tr><td>Train Accuracy</td><td>0.99681</td></tr><tr><td>Train Loss</td><td>0.00907</td></tr><tr><td>Validation AUC</td><td>1</td></tr><tr><td>Validation Accuracy</td><td>1</td></tr><tr><td>Validation F1</td><td>1</td></tr><tr><td>Validation Loss</td><td>0.00147</td></tr><tr><td>Validation Precision</td><td>1</td></tr><tr><td>Validation Recall</td><td>1</td></tr><tr><td>Validation Specificity</td><td>1</td></tr></table><br/></div></div>"
      ]
     },
     "metadata": {},
     "output_type": "display_data"
    },
    {
     "data": {
      "text/plain": [
       "<IPython.core.display.HTML object>"
      ],
      "text/html": [
       " View run <strong style=\"color:#cdcd00\">AlexNet_trial_2</strong> at: <a href='https://wandb.ai/amitr5-tel-aviv-university/AlexLoveVal2/runs/x6huwttx' target=\"_blank\">https://wandb.ai/amitr5-tel-aviv-university/AlexLoveVal2/runs/x6huwttx</a><br> View project at: <a href='https://wandb.ai/amitr5-tel-aviv-university/AlexLoveVal2' target=\"_blank\">https://wandb.ai/amitr5-tel-aviv-university/AlexLoveVal2</a><br>Synced 5 W&B file(s), 0 media file(s), 4 artifact file(s) and 3 other file(s)"
      ]
     },
     "metadata": {},
     "output_type": "display_data"
    },
    {
     "data": {
      "text/plain": [
       "<IPython.core.display.HTML object>"
      ],
      "text/html": [
       "Find logs at: <code>.\\wandb\\run-20250330_104016-x6huwttx\\logs</code>"
      ]
     },
     "metadata": {},
     "output_type": "display_data"
    },
    {
     "data": {
      "text/plain": [
       "<IPython.core.display.HTML object>"
      ],
      "text/html": [
       "Tracking run with wandb version 0.19.1"
      ]
     },
     "metadata": {},
     "output_type": "display_data"
    },
    {
     "data": {
      "text/plain": [
       "<IPython.core.display.HTML object>"
      ],
      "text/html": [
       "Run data is saved locally in <code>C:\\Projects\\deep_van_gogh\\wandb\\run-20250330_104036-hsbzccdz</code>"
      ]
     },
     "metadata": {},
     "output_type": "display_data"
    },
    {
     "data": {
      "text/plain": [
       "<IPython.core.display.HTML object>"
      ],
      "text/html": [
       "Syncing run <strong><a href='https://wandb.ai/amitr5-tel-aviv-university/AlexLoveVal2/runs/hsbzccdz' target=\"_blank\">AlexNet_trial_3_fold_1</a></strong> to <a href='https://wandb.ai/amitr5-tel-aviv-university/AlexLoveVal2' target=\"_blank\">Weights & Biases</a> (<a href='https://wandb.me/developer-guide' target=\"_blank\">docs</a>)<br>"
      ]
     },
     "metadata": {},
     "output_type": "display_data"
    },
    {
     "data": {
      "text/plain": [
       "<IPython.core.display.HTML object>"
      ],
      "text/html": [
       " View project at <a href='https://wandb.ai/amitr5-tel-aviv-university/AlexLoveVal2' target=\"_blank\">https://wandb.ai/amitr5-tel-aviv-university/AlexLoveVal2</a>"
      ]
     },
     "metadata": {},
     "output_type": "display_data"
    },
    {
     "data": {
      "text/plain": [
       "<IPython.core.display.HTML object>"
      ],
      "text/html": [
       " View run at <a href='https://wandb.ai/amitr5-tel-aviv-university/AlexLoveVal2/runs/hsbzccdz' target=\"_blank\">https://wandb.ai/amitr5-tel-aviv-university/AlexLoveVal2/runs/hsbzccdz</a>"
      ]
     },
     "metadata": {},
     "output_type": "display_data"
    },
    {
     "data": {
      "text/plain": [
       "<IPython.core.display.HTML object>"
      ],
      "text/html": []
     },
     "metadata": {},
     "output_type": "display_data"
    },
    {
     "data": {
      "text/plain": [
       "<IPython.core.display.HTML object>"
      ],
      "text/html": [
       "<br>    <style><br>        .wandb-row {<br>            display: flex;<br>            flex-direction: row;<br>            flex-wrap: wrap;<br>            justify-content: flex-start;<br>            width: 100%;<br>        }<br>        .wandb-col {<br>            display: flex;<br>            flex-direction: column;<br>            flex-basis: 100%;<br>            flex: 1;<br>            padding: 10px;<br>        }<br>    </style><br><div class=\"wandb-row\"><div class=\"wandb-col\"><h3>Run history:</h3><br/><table class=\"wandb\"><tr><td>Epoch</td><td>▁▅█</td></tr><tr><td>Train Accuracy</td><td>▁██</td></tr><tr><td>Train Loss</td><td>█▁▁</td></tr><tr><td>Validation AUC</td><td>▁▁▁</td></tr><tr><td>Validation Accuracy</td><td>█▁█</td></tr><tr><td>Validation F1</td><td>█▁█</td></tr><tr><td>Validation Loss</td><td>▂█▁</td></tr><tr><td>Validation Precision</td><td>█▁█</td></tr><tr><td>Validation Recall</td><td>█▁█</td></tr><tr><td>Validation Specificity</td><td>█▁█</td></tr></table><br/></div><div class=\"wandb-col\"><h3>Run summary:</h3><br/><table class=\"wandb\"><tr><td>Epoch</td><td>3</td></tr><tr><td>Train Accuracy</td><td>0.99954</td></tr><tr><td>Train Loss</td><td>0.004</td></tr><tr><td>Validation AUC</td><td>1</td></tr><tr><td>Validation Accuracy</td><td>0.99932</td></tr><tr><td>Validation F1</td><td>0.99932</td></tr><tr><td>Validation Loss</td><td>0.00134</td></tr><tr><td>Validation Precision</td><td>0.99932</td></tr><tr><td>Validation Recall</td><td>0.99932</td></tr><tr><td>Validation Specificity</td><td>0.99928</td></tr></table><br/></div></div>"
      ]
     },
     "metadata": {},
     "output_type": "display_data"
    },
    {
     "data": {
      "text/plain": [
       "<IPython.core.display.HTML object>"
      ],
      "text/html": [
       " View run <strong style=\"color:#cdcd00\">AlexNet_trial_3_fold_1</strong> at: <a href='https://wandb.ai/amitr5-tel-aviv-university/AlexLoveVal2/runs/hsbzccdz' target=\"_blank\">https://wandb.ai/amitr5-tel-aviv-university/AlexLoveVal2/runs/hsbzccdz</a><br> View project at: <a href='https://wandb.ai/amitr5-tel-aviv-university/AlexLoveVal2' target=\"_blank\">https://wandb.ai/amitr5-tel-aviv-university/AlexLoveVal2</a><br>Synced 5 W&B file(s), 0 media file(s), 4 artifact file(s) and 3 other file(s)"
      ]
     },
     "metadata": {},
     "output_type": "display_data"
    },
    {
     "data": {
      "text/plain": [
       "<IPython.core.display.HTML object>"
      ],
      "text/html": [
       "Find logs at: <code>.\\wandb\\run-20250330_104036-hsbzccdz\\logs</code>"
      ]
     },
     "metadata": {},
     "output_type": "display_data"
    },
    {
     "data": {
      "text/plain": [
       "<IPython.core.display.HTML object>"
      ],
      "text/html": [
       "Tracking run with wandb version 0.19.1"
      ]
     },
     "metadata": {},
     "output_type": "display_data"
    },
    {
     "data": {
      "text/plain": [
       "<IPython.core.display.HTML object>"
      ],
      "text/html": [
       "Run data is saved locally in <code>C:\\Projects\\deep_van_gogh\\wandb\\run-20250330_104054-dh903rvx</code>"
      ]
     },
     "metadata": {},
     "output_type": "display_data"
    },
    {
     "data": {
      "text/plain": [
       "<IPython.core.display.HTML object>"
      ],
      "text/html": [
       "Syncing run <strong><a href='https://wandb.ai/amitr5-tel-aviv-university/AlexLoveVal2/runs/dh903rvx' target=\"_blank\">AlexNet_trial_3_fold_2</a></strong> to <a href='https://wandb.ai/amitr5-tel-aviv-university/AlexLoveVal2' target=\"_blank\">Weights & Biases</a> (<a href='https://wandb.me/developer-guide' target=\"_blank\">docs</a>)<br>"
      ]
     },
     "metadata": {},
     "output_type": "display_data"
    },
    {
     "data": {
      "text/plain": [
       "<IPython.core.display.HTML object>"
      ],
      "text/html": [
       " View project at <a href='https://wandb.ai/amitr5-tel-aviv-university/AlexLoveVal2' target=\"_blank\">https://wandb.ai/amitr5-tel-aviv-university/AlexLoveVal2</a>"
      ]
     },
     "metadata": {},
     "output_type": "display_data"
    },
    {
     "data": {
      "text/plain": [
       "<IPython.core.display.HTML object>"
      ],
      "text/html": [
       " View run at <a href='https://wandb.ai/amitr5-tel-aviv-university/AlexLoveVal2/runs/dh903rvx' target=\"_blank\">https://wandb.ai/amitr5-tel-aviv-university/AlexLoveVal2/runs/dh903rvx</a>"
      ]
     },
     "metadata": {},
     "output_type": "display_data"
    },
    {
     "data": {
      "text/plain": [
       "<IPython.core.display.HTML object>"
      ],
      "text/html": []
     },
     "metadata": {},
     "output_type": "display_data"
    },
    {
     "data": {
      "text/plain": [
       "<IPython.core.display.HTML object>"
      ],
      "text/html": [
       "<br>    <style><br>        .wandb-row {<br>            display: flex;<br>            flex-direction: row;<br>            flex-wrap: wrap;<br>            justify-content: flex-start;<br>            width: 100%;<br>        }<br>        .wandb-col {<br>            display: flex;<br>            flex-direction: column;<br>            flex-basis: 100%;<br>            flex: 1;<br>            padding: 10px;<br>        }<br>    </style><br><div class=\"wandb-row\"><div class=\"wandb-col\"><h3>Run history:</h3><br/><table class=\"wandb\"><tr><td>Epoch</td><td>▁▅█</td></tr><tr><td>Train Accuracy</td><td>▁██</td></tr><tr><td>Train Loss</td><td>█▁▂</td></tr><tr><td>Validation AUC</td><td>▁▁▁</td></tr><tr><td>Validation Accuracy</td><td>█▁▅</td></tr><tr><td>Validation F1</td><td>█▁▅</td></tr><tr><td>Validation Loss</td><td>▁█▃</td></tr><tr><td>Validation Precision</td><td>█▁▅</td></tr><tr><td>Validation Recall</td><td>█▁▅</td></tr><tr><td>Validation Specificity</td><td>█▁▅</td></tr></table><br/></div><div class=\"wandb-col\"><h3>Run summary:</h3><br/><table class=\"wandb\"><tr><td>Epoch</td><td>3</td></tr><tr><td>Train Accuracy</td><td>0.9984</td></tr><tr><td>Train Loss</td><td>0.00461</td></tr><tr><td>Validation AUC</td><td>1</td></tr><tr><td>Validation Accuracy</td><td>0.99726</td></tr><tr><td>Validation F1</td><td>0.9973</td></tr><tr><td>Validation Loss</td><td>0.00785</td></tr><tr><td>Validation Precision</td><td>0.9974</td></tr><tr><td>Validation Recall</td><td>0.99726</td></tr><tr><td>Validation Specificity</td><td>0.99711</td></tr></table><br/></div></div>"
      ]
     },
     "metadata": {},
     "output_type": "display_data"
    },
    {
     "data": {
      "text/plain": [
       "<IPython.core.display.HTML object>"
      ],
      "text/html": [
       " View run <strong style=\"color:#cdcd00\">AlexNet_trial_3_fold_2</strong> at: <a href='https://wandb.ai/amitr5-tel-aviv-university/AlexLoveVal2/runs/dh903rvx' target=\"_blank\">https://wandb.ai/amitr5-tel-aviv-university/AlexLoveVal2/runs/dh903rvx</a><br> View project at: <a href='https://wandb.ai/amitr5-tel-aviv-university/AlexLoveVal2' target=\"_blank\">https://wandb.ai/amitr5-tel-aviv-university/AlexLoveVal2</a><br>Synced 5 W&B file(s), 0 media file(s), 6 artifact file(s) and 3 other file(s)"
      ]
     },
     "metadata": {},
     "output_type": "display_data"
    },
    {
     "data": {
      "text/plain": [
       "<IPython.core.display.HTML object>"
      ],
      "text/html": [
       "Find logs at: <code>.\\wandb\\run-20250330_104054-dh903rvx\\logs</code>"
      ]
     },
     "metadata": {},
     "output_type": "display_data"
    },
    {
     "data": {
      "text/plain": [
       "<IPython.core.display.HTML object>"
      ],
      "text/html": [
       "Tracking run with wandb version 0.19.1"
      ]
     },
     "metadata": {},
     "output_type": "display_data"
    },
    {
     "data": {
      "text/plain": [
       "<IPython.core.display.HTML object>"
      ],
      "text/html": [
       "Run data is saved locally in <code>C:\\Projects\\deep_van_gogh\\wandb\\run-20250330_104114-gexztkqn</code>"
      ]
     },
     "metadata": {},
     "output_type": "display_data"
    },
    {
     "data": {
      "text/plain": [
       "<IPython.core.display.HTML object>"
      ],
      "text/html": [
       "Syncing run <strong><a href='https://wandb.ai/amitr5-tel-aviv-university/AlexLoveVal2/runs/gexztkqn' target=\"_blank\">AlexNet_trial_3_fold_3</a></strong> to <a href='https://wandb.ai/amitr5-tel-aviv-university/AlexLoveVal2' target=\"_blank\">Weights & Biases</a> (<a href='https://wandb.me/developer-guide' target=\"_blank\">docs</a>)<br>"
      ]
     },
     "metadata": {},
     "output_type": "display_data"
    },
    {
     "data": {
      "text/plain": [
       "<IPython.core.display.HTML object>"
      ],
      "text/html": [
       " View project at <a href='https://wandb.ai/amitr5-tel-aviv-university/AlexLoveVal2' target=\"_blank\">https://wandb.ai/amitr5-tel-aviv-university/AlexLoveVal2</a>"
      ]
     },
     "metadata": {},
     "output_type": "display_data"
    },
    {
     "data": {
      "text/plain": [
       "<IPython.core.display.HTML object>"
      ],
      "text/html": [
       " View run at <a href='https://wandb.ai/amitr5-tel-aviv-university/AlexLoveVal2/runs/gexztkqn' target=\"_blank\">https://wandb.ai/amitr5-tel-aviv-university/AlexLoveVal2/runs/gexztkqn</a>"
      ]
     },
     "metadata": {},
     "output_type": "display_data"
    },
    {
     "data": {
      "text/plain": [
       "<IPython.core.display.HTML object>"
      ],
      "text/html": []
     },
     "metadata": {},
     "output_type": "display_data"
    },
    {
     "data": {
      "text/plain": [
       "<IPython.core.display.HTML object>"
      ],
      "text/html": [
       "<br>    <style><br>        .wandb-row {<br>            display: flex;<br>            flex-direction: row;<br>            flex-wrap: wrap;<br>            justify-content: flex-start;<br>            width: 100%;<br>        }<br>        .wandb-col {<br>            display: flex;<br>            flex-direction: column;<br>            flex-basis: 100%;<br>            flex: 1;<br>            padding: 10px;<br>        }<br>    </style><br><div class=\"wandb-row\"><div class=\"wandb-col\"><h3>Run history:</h3><br/><table class=\"wandb\"><tr><td>Epoch</td><td>▁▅█</td></tr><tr><td>Train Accuracy</td><td>▁██</td></tr><tr><td>Train Loss</td><td>█▁▁</td></tr><tr><td>Validation AUC</td><td>▁▁▁</td></tr><tr><td>Validation Accuracy</td><td>▁██</td></tr><tr><td>Validation F1</td><td>▁██</td></tr><tr><td>Validation Loss</td><td>█▁▂</td></tr><tr><td>Validation Precision</td><td>▁██</td></tr><tr><td>Validation Recall</td><td>▁██</td></tr><tr><td>Validation Specificity</td><td>▁██</td></tr></table><br/></div><div class=\"wandb-col\"><h3>Run summary:</h3><br/><table class=\"wandb\"><tr><td>Epoch</td><td>3</td></tr><tr><td>Train Accuracy</td><td>1</td></tr><tr><td>Train Loss</td><td>0.00045</td></tr><tr><td>Validation AUC</td><td>1</td></tr><tr><td>Validation Accuracy</td><td>1</td></tr><tr><td>Validation F1</td><td>1</td></tr><tr><td>Validation Loss</td><td>0.00084</td></tr><tr><td>Validation Precision</td><td>1</td></tr><tr><td>Validation Recall</td><td>1</td></tr><tr><td>Validation Specificity</td><td>1</td></tr></table><br/></div></div>"
      ]
     },
     "metadata": {},
     "output_type": "display_data"
    },
    {
     "data": {
      "text/plain": [
       "<IPython.core.display.HTML object>"
      ],
      "text/html": [
       " View run <strong style=\"color:#cdcd00\">AlexNet_trial_3_fold_3</strong> at: <a href='https://wandb.ai/amitr5-tel-aviv-university/AlexLoveVal2/runs/gexztkqn' target=\"_blank\">https://wandb.ai/amitr5-tel-aviv-university/AlexLoveVal2/runs/gexztkqn</a><br> View project at: <a href='https://wandb.ai/amitr5-tel-aviv-university/AlexLoveVal2' target=\"_blank\">https://wandb.ai/amitr5-tel-aviv-university/AlexLoveVal2</a><br>Synced 5 W&B file(s), 0 media file(s), 4 artifact file(s) and 3 other file(s)"
      ]
     },
     "metadata": {},
     "output_type": "display_data"
    },
    {
     "data": {
      "text/plain": [
       "<IPython.core.display.HTML object>"
      ],
      "text/html": [
       "Find logs at: <code>.\\wandb\\run-20250330_104114-gexztkqn\\logs</code>"
      ]
     },
     "metadata": {},
     "output_type": "display_data"
    },
    {
     "data": {
      "text/plain": [
       "<IPython.core.display.HTML object>"
      ],
      "text/html": [
       "Tracking run with wandb version 0.19.1"
      ]
     },
     "metadata": {},
     "output_type": "display_data"
    },
    {
     "data": {
      "text/plain": [
       "<IPython.core.display.HTML object>"
      ],
      "text/html": [
       "Run data is saved locally in <code>C:\\Projects\\deep_van_gogh\\wandb\\run-20250330_104134-k9a40n2g</code>"
      ]
     },
     "metadata": {},
     "output_type": "display_data"
    },
    {
     "data": {
      "text/plain": [
       "<IPython.core.display.HTML object>"
      ],
      "text/html": [
       "Syncing run <strong><a href='https://wandb.ai/amitr5-tel-aviv-university/AlexLoveVal2/runs/k9a40n2g' target=\"_blank\">AlexNet_trial_3</a></strong> to <a href='https://wandb.ai/amitr5-tel-aviv-university/AlexLoveVal2' target=\"_blank\">Weights & Biases</a> (<a href='https://wandb.me/developer-guide' target=\"_blank\">docs</a>)<br>"
      ]
     },
     "metadata": {},
     "output_type": "display_data"
    },
    {
     "data": {
      "text/plain": [
       "<IPython.core.display.HTML object>"
      ],
      "text/html": [
       " View project at <a href='https://wandb.ai/amitr5-tel-aviv-university/AlexLoveVal2' target=\"_blank\">https://wandb.ai/amitr5-tel-aviv-university/AlexLoveVal2</a>"
      ]
     },
     "metadata": {},
     "output_type": "display_data"
    },
    {
     "data": {
      "text/plain": [
       "<IPython.core.display.HTML object>"
      ],
      "text/html": [
       " View run at <a href='https://wandb.ai/amitr5-tel-aviv-university/AlexLoveVal2/runs/k9a40n2g' target=\"_blank\">https://wandb.ai/amitr5-tel-aviv-university/AlexLoveVal2/runs/k9a40n2g</a>"
      ]
     },
     "metadata": {},
     "output_type": "display_data"
    },
    {
     "name": "stderr",
     "output_type": "stream",
     "text": [
      "[I 2025-03-30 10:41:35,360] Trial 2 finished with value: 1.0 and parameters: {'learning_rate': 4.089636520392612e-05, 'weight_decay': 2.317331450472253e-06, 'num_layers_finetune': 3, 'epochs': 3}. Best is trial 1 with value: 1.0.\n"
     ]
    }
   ],
   "execution_count": 53
  },
  {
   "metadata": {
    "ExecuteTime": {
     "end_time": "2025-03-30T08:22:38.881978Z",
     "start_time": "2025-03-30T08:22:07.185209Z"
    }
   },
   "cell_type": "code",
   "source": [
    "# Training the model - ALEXNET\n",
    "base_model = alexnet\n",
    "model = FinedTunedModel(base_model.to(device), ALEXNET).to(device)\n",
    "weight_decay=0.0000961196621799138\n",
    "lr=0.0000607994047379646\n",
    "optimizer = optim.Adam(model.parameters(), lr=0.0000607994047379646, weight_decay=0.0000961196621799138)\n",
    "criterion = nn.CrossEntropyLoss()\n",
    "batch_size=128\n",
    "epochs=5\n",
    "wandb.init(project='AlexLoveVal2',\n",
    "                       config={ \"learning_rate\": lr,\n",
    "                                \"weight_decay\": weight_decay,\n",
    "                                \"patience\": 8,\n",
    "                                \"batch_size\": batch_size,\n",
    "                                \"epochs\": epochs,\n",
    "                                \"architecture\": ALEXNET,\n",
    "                                \"dataset\": \"Post_Impressionism\",\n",
    "                                }, name=f\"{ALEXNET}-best\")\n",
    "        ################\n",
    "train_model_with_hyperparams(model, train_loader, val_loader, optimizer, criterion, epochs=epochs, patience=8,device=device, trial=None, architecture=ALEXNET, fold=0, save_model=True, log=True)\n",
    "\n",
    "best_values = train.validation(model, criterion, test_loader, device, is_test=True)\n",
    "wandb.log(best_values)\n",
    "wandb.finish()\n"
   ],
   "outputs": [
    {
     "name": "stderr",
     "output_type": "stream",
     "text": [
      "wandb: Using wandb-core as the SDK backend.  Please refer to https://wandb.me/wandb-core for more information.\n",
      "wandb: Currently logged in as: amitr5 (amitr5-tel-aviv-university). Use `wandb login --relogin` to force relogin\n"
     ]
    },
    {
     "data": {
      "text/plain": [
       "<IPython.core.display.HTML object>"
      ],
      "text/html": [
       "Tracking run with wandb version 0.19.1"
      ]
     },
     "metadata": {},
     "output_type": "display_data"
    },
    {
     "data": {
      "text/plain": [
       "<IPython.core.display.HTML object>"
      ],
      "text/html": [
       "Run data is saved locally in <code>C:\\Projects\\deep_van_gogh\\wandb\\run-20250330_112208-8qttz256</code>"
      ]
     },
     "metadata": {},
     "output_type": "display_data"
    },
    {
     "data": {
      "text/plain": [
       "<IPython.core.display.HTML object>"
      ],
      "text/html": [
       "Syncing run <strong><a href='https://wandb.ai/amitr5-tel-aviv-university/AlexLoveVal2/runs/8qttz256' target=\"_blank\">AlexNet-best</a></strong> to <a href='https://wandb.ai/amitr5-tel-aviv-university/AlexLoveVal2' target=\"_blank\">Weights & Biases</a> (<a href='https://wandb.me/developer-guide' target=\"_blank\">docs</a>)<br>"
      ]
     },
     "metadata": {},
     "output_type": "display_data"
    },
    {
     "data": {
      "text/plain": [
       "<IPython.core.display.HTML object>"
      ],
      "text/html": [
       " View project at <a href='https://wandb.ai/amitr5-tel-aviv-university/AlexLoveVal2' target=\"_blank\">https://wandb.ai/amitr5-tel-aviv-university/AlexLoveVal2</a>"
      ]
     },
     "metadata": {},
     "output_type": "display_data"
    },
    {
     "data": {
      "text/plain": [
       "<IPython.core.display.HTML object>"
      ],
      "text/html": [
       " View run at <a href='https://wandb.ai/amitr5-tel-aviv-university/AlexLoveVal2/runs/8qttz256' target=\"_blank\">https://wandb.ai/amitr5-tel-aviv-university/AlexLoveVal2/runs/8qttz256</a>"
      ]
     },
     "metadata": {},
     "output_type": "display_data"
    },
    {
     "data": {
      "text/plain": [
       "<IPython.core.display.HTML object>"
      ],
      "text/html": []
     },
     "metadata": {},
     "output_type": "display_data"
    },
    {
     "data": {
      "text/plain": [
       "<IPython.core.display.HTML object>"
      ],
      "text/html": [
       "<br>    <style><br>        .wandb-row {<br>            display: flex;<br>            flex-direction: row;<br>            flex-wrap: wrap;<br>            justify-content: flex-start;<br>            width: 100%;<br>        }<br>        .wandb-col {<br>            display: flex;<br>            flex-direction: column;<br>            flex-basis: 100%;<br>            flex: 1;<br>            padding: 10px;<br>        }<br>    </style><br><div class=\"wandb-row\"><div class=\"wandb-col\"><h3>Run history:</h3><br/><table class=\"wandb\"><tr><td>Epoch</td><td>▁▃▅▆█</td></tr><tr><td>Test AUC</td><td>▁</td></tr><tr><td>Test Accuracy</td><td>▁</td></tr><tr><td>Test F1</td><td>▁</td></tr><tr><td>Test Loss</td><td>▁</td></tr><tr><td>Test Precision</td><td>▁</td></tr><tr><td>Test Recall</td><td>▁</td></tr><tr><td>Test Specificity</td><td>▁</td></tr><tr><td>Train Accuracy</td><td>▁▅▆▇█</td></tr><tr><td>Train Loss</td><td>█▄▂▂▁</td></tr><tr><td>Validation AUC</td><td>▁▇▆██</td></tr><tr><td>Validation Accuracy</td><td>▁▅▆█▆</td></tr><tr><td>Validation F1</td><td>▁▅▆██</td></tr><tr><td>Validation Loss</td><td>█▁▃▂▁</td></tr><tr><td>Validation Precision</td><td>▁▅▆██</td></tr><tr><td>Validation Recall</td><td>▁▅▆█▆</td></tr><tr><td>Validation Specificity</td><td>▇█▇█▁</td></tr></table><br/></div><div class=\"wandb-col\"><h3>Run summary:</h3><br/><table class=\"wandb\"><tr><td>Epoch</td><td>5</td></tr><tr><td>Test AUC</td><td>0.92497</td></tr><tr><td>Test Accuracy</td><td>0.9154</td></tr><tr><td>Test F1</td><td>0.90854</td></tr><tr><td>Test Loss</td><td>0.39054</td></tr><tr><td>Test Precision</td><td>0.92036</td></tr><tr><td>Test Recall</td><td>0.9154</td></tr><tr><td>Test Specificity</td><td>0.99464</td></tr><tr><td>Train Accuracy</td><td>0.99419</td></tr><tr><td>Train Loss</td><td>0.01935</td></tr><tr><td>Validation AUC</td><td>0.96154</td></tr><tr><td>Validation Accuracy</td><td>0.96306</td></tr><tr><td>Validation F1</td><td>0.96384</td></tr><tr><td>Validation Loss</td><td>0.10944</td></tr><tr><td>Validation Precision</td><td>0.96487</td></tr><tr><td>Validation Recall</td><td>0.96306</td></tr><tr><td>Validation Specificity</td><td>0.97644</td></tr></table><br/></div></div>"
      ]
     },
     "metadata": {},
     "output_type": "display_data"
    },
    {
     "data": {
      "text/plain": [
       "<IPython.core.display.HTML object>"
      ],
      "text/html": [
       " View run <strong style=\"color:#cdcd00\">AlexNet-best</strong> at: <a href='https://wandb.ai/amitr5-tel-aviv-university/AlexLoveVal2/runs/8qttz256' target=\"_blank\">https://wandb.ai/amitr5-tel-aviv-university/AlexLoveVal2/runs/8qttz256</a><br> View project at: <a href='https://wandb.ai/amitr5-tel-aviv-university/AlexLoveVal2' target=\"_blank\">https://wandb.ai/amitr5-tel-aviv-university/AlexLoveVal2</a><br>Synced 5 W&B file(s), 0 media file(s), 12 artifact file(s) and 6 other file(s)"
      ]
     },
     "metadata": {},
     "output_type": "display_data"
    },
    {
     "data": {
      "text/plain": [
       "<IPython.core.display.HTML object>"
      ],
      "text/html": [
       "Find logs at: <code>.\\wandb\\run-20250330_112208-8qttz256\\logs</code>"
      ]
     },
     "metadata": {},
     "output_type": "display_data"
    }
   ],
   "execution_count": 11
  },
  {
   "cell_type": "markdown",
   "metadata": {},
   "source": [
    "analysing results"
   ]
  },
  {
   "cell_type": "code",
   "metadata": {
    "ExecuteTime": {
     "end_time": "2025-03-29T21:33:08.605919Z",
     "start_time": "2025-03-29T21:33:05.614174Z"
    }
   },
   "source": "",
   "outputs": [
    {
     "data": {
      "text/plain": [
       "<IPython.core.display.HTML object>"
      ],
      "text/html": []
     },
     "metadata": {},
     "output_type": "display_data"
    },
    {
     "data": {
      "text/plain": [
       "<IPython.core.display.HTML object>"
      ],
      "text/html": [
       "<br>    <style><br>        .wandb-row {<br>            display: flex;<br>            flex-direction: row;<br>            flex-wrap: wrap;<br>            justify-content: flex-start;<br>            width: 100%;<br>        }<br>        .wandb-col {<br>            display: flex;<br>            flex-direction: column;<br>            flex-basis: 100%;<br>            flex: 1;<br>            padding: 10px;<br>        }<br>    </style><br><div class=\"wandb-row\"><div class=\"wandb-col\"><h3>Run history:</h3><br/><table class=\"wandb\"><tr><td>Epoch</td><td>▁▂▂▃▄▁▂▂▃▄▅▅▆▇▇█▁▂▂▁▂▁▂▂</td></tr><tr><td>Train Accuracy</td><td>█████▇██████████▄██▁▅▂▆▇</td></tr><tr><td>Train Loss</td><td>▁▁▁▁▁▂▁▁▁▁▁▁▁▁▁▁▅▁▁█▄▇▃▂</td></tr><tr><td>Validation AUC</td><td>▄▄▃▃▃▃▃▃▂▃▃▂▂▂▁▂▂▂▂▁▇▅██</td></tr><tr><td>Validation Accuracy</td><td>▇▆▇▆▆▇▆▇▇▇▆█▇▆▅▅▅▅▄▁▃▂▇▅</td></tr><tr><td>Validation F1</td><td>█▇▇▇▇▇▇▇▇▇▆█▇▆▅▆▆▆▅▁▃▂█▆</td></tr><tr><td>Validation Loss</td><td>▇▇▇▇▇▇▆▆▇▇▇▇▇▇█▇▆▆▆▁▁▁▁▁</td></tr><tr><td>Validation Precision</td><td>█▇▇▇▇▇▇▇▇▇▆█▇▆▅▆▆▆▅▁▃▂█▆</td></tr><tr><td>Validation Recall</td><td>▇▆▇▆▆▇▆▇▇▇▆█▇▆▅▅▅▅▄▁▃▂▇▅</td></tr><tr><td>Validation Specificity</td><td>▃▃▄▂▁▇▃▄▆▃██▅▅▆▃▅▂▁▇▆▇▅▄</td></tr></table><br/></div><div class=\"wandb-col\"><h3>Run summary:</h3><br/><table class=\"wandb\"><tr><td>Epoch</td><td>3</td></tr><tr><td>Train Accuracy</td><td>0.98854</td></tr><tr><td>Train Loss</td><td>0.03451</td></tr><tr><td>Validation AUC</td><td>0.95483</td></tr><tr><td>Validation Accuracy</td><td>0.96306</td></tr><tr><td>Validation F1</td><td>0.9622</td></tr><tr><td>Validation Loss</td><td>0.11404</td></tr><tr><td>Validation Precision</td><td>0.96162</td></tr><tr><td>Validation Recall</td><td>0.96306</td></tr><tr><td>Validation Specificity</td><td>0.9838</td></tr></table><br/></div></div>"
      ]
     },
     "metadata": {},
     "output_type": "display_data"
    },
    {
     "data": {
      "text/plain": [
       "<IPython.core.display.HTML object>"
      ],
      "text/html": [
       " View run <strong style=\"color:#cdcd00\">AlexNet_trial_1</strong> at: <a href='https://wandb.ai/amitr5-tel-aviv-university/deep_van_gogh-112311/runs/huxf7klj' target=\"_blank\">https://wandb.ai/amitr5-tel-aviv-university/deep_van_gogh-112311/runs/huxf7klj</a><br> View project at: <a href='https://wandb.ai/amitr5-tel-aviv-university/deep_van_gogh-112311' target=\"_blank\">https://wandb.ai/amitr5-tel-aviv-university/deep_van_gogh-112311</a><br>Synced 5 W&B file(s), 0 media file(s), 0 artifact file(s) and 0 other file(s)"
      ]
     },
     "metadata": {},
     "output_type": "display_data"
    },
    {
     "data": {
      "text/plain": [
       "<IPython.core.display.HTML object>"
      ],
      "text/html": [
       "Find logs at: <code>.\\wandb\\run-20250329_223217-huxf7klj\\logs</code>"
      ]
     },
     "metadata": {},
     "output_type": "display_data"
    }
   ],
   "execution_count": 41
  },
  {
   "cell_type": "markdown",
   "metadata": {
    "id": "ZMIPaYdChtVL"
   },
   "source": [
    "# Style transfer function"
   ]
  },
  {
   "cell_type": "code",
   "execution_count": null,
   "metadata": {
    "colab": {
     "base_uri": "https://localhost:8080/",
     "height": 1000
    },
    "id": "gy8lmbPmhj9H",
    "outputId": "330638de-9f78-4d50-c423-bbab448afc37"
   },
   "outputs": [],
   "source": []
  },
  {
   "cell_type": "code",
   "execution_count": null,
   "metadata": {
    "colab": {
     "base_uri": "https://localhost:8080/",
     "height": 196
    },
    "id": "2cMigqU0CGg5",
    "outputId": "afdc3a89-f2ad-457b-eeb7-b4aabcf214ca"
   },
   "outputs": [],
   "source": []
  },
  {
   "cell_type": "code",
   "execution_count": null,
   "metadata": {
    "colab": {
     "base_uri": "https://localhost:8080/",
     "height": 1000
    },
    "id": "2UNqmGA2DXDj",
    "outputId": "18e5c745-d27d-4f23-97cf-717b194bd3c3"
   },
   "outputs": [],
   "source": []
  },
  {
   "cell_type": "code",
   "execution_count": null,
   "metadata": {
    "colab": {
     "base_uri": "https://localhost:8080/"
    },
    "id": "-dC9MS7V6WZF",
    "outputId": "80757501-0728-4fe1-96b7-a15122faad92"
   },
   "outputs": [],
   "source": []
  },
  {
   "cell_type": "code",
   "execution_count": null,
   "metadata": {
    "colab": {
     "base_uri": "https://localhost:8080/"
    },
    "id": "w93PNhRgHVue",
    "outputId": "704e1556-8d2f-4c90-af0e-bc26aa7a072e"
   },
   "outputs": [],
   "source": []
  },
  {
   "cell_type": "code",
   "execution_count": null,
   "metadata": {
    "id": "24UKrxg-H25c"
   },
   "outputs": [],
   "source": []
  }
 ],
 "metadata": {
  "accelerator": "GPU",
  "colab": {
   "gpuType": "L4",
   "provenance": []
  },
  "kernelspec": {
   "display_name": "Python 3 (ipykernel)",
   "name": "python3",
   "language": "python"
  },
  "language_info": {
   "name": "python"
  }
 },
 "nbformat": 4,
 "nbformat_minor": 0
}
